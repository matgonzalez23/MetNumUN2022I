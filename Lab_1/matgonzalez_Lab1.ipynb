{
  "nbformat": 4,
  "nbformat_minor": 0,
  "metadata": {
    "colab": {
      "name": "matgonzalez_Lab1.ipynb",
      "provenance": [],
      "collapsed_sections": [
        "3aP9g3KQCOsw",
        "LMKaOGaIC4_q",
        "426tz7DBDYQU",
        "ttLJo2KCEcBs",
        "4Ag4adOaEva3",
        "QH2X8nzTdUiQ",
        "agkCywfEov4j",
        "fncfzjM2pANn",
        "B0GM8D1mqFDd",
        "WnUE8wVkqVRL",
        "2YwpQWH2Acp7",
        "r9l-BA1EC2Jn",
        "Aw0FDDGmDVOG",
        "HrTCX9N8DgWf",
        "_XaZ2mtoDtdL",
        "Pxhjh4Hu_1We",
        "ud5yOLwGAAte",
        "0YtVk2HYAX4m",
        "De58E_H4AhNj"
      ],
      "include_colab_link": true
    },
    "kernelspec": {
      "name": "python3",
      "display_name": "Python 3"
    },
    "language_info": {
      "name": "python"
    }
  },
  "cells": [
    {
      "cell_type": "markdown",
      "metadata": {
        "id": "view-in-github",
        "colab_type": "text"
      },
      "source": [
        "<a href=\"https://colab.research.google.com/github/matgonzalez23/MetNumUN2022I/blob/main/Lab_1/matgonzalez_Lab1.ipynb\" target=\"_parent\"><img src=\"https://colab.research.google.com/assets/colab-badge.svg\" alt=\"Open In Colab\"/></a>"
      ]
    },
    {
      "cell_type": "markdown",
      "source": [
        "# My own example 1"
      ],
      "metadata": {
        "id": "AUf9r8SOd1gK"
      }
    },
    {
      "cell_type": "code",
      "execution_count": null,
      "metadata": {
        "colab": {
          "base_uri": "https://localhost:8080/"
        },
        "id": "TCe5cnhWPsMA",
        "outputId": "80e1e702-9f5e-4497-cfad-6ccbc9ee8e53"
      },
      "outputs": [
        {
          "output_type": "stream",
          "name": "stdout",
          "text": [
            "Welcome to QuantConnect\n"
          ]
        }
      ],
      "source": [
        "my_string1 = 'Welcome to'\n",
        "my_string2 = \"QuantConnect\"\n",
        "print(my_string1 + ' ' + my_string2)\n"
      ]
    },
    {
      "cell_type": "code",
      "source": [
        "my_string1 = 'Good Morning'\n",
        "my_string2 = \"to all my classmates\"\n",
        "print(my_string1 + ' ' + my_string2)\n"
      ],
      "metadata": {
        "colab": {
          "base_uri": "https://localhost:8080/"
        },
        "id": "_Bipdnf5ZQD6",
        "outputId": "deca11f0-e8ba-4b9e-ddc4-a0e081f0868d"
      },
      "execution_count": null,
      "outputs": [
        {
          "output_type": "stream",
          "name": "stdout",
          "text": [
            "Good Morning to all my classmates\n"
          ]
        }
      ]
    },
    {
      "cell_type": "markdown",
      "source": [
        "# My own example 2"
      ],
      "metadata": {
        "id": "qmzWomKad8wI"
      }
    },
    {
      "cell_type": "code",
      "source": [
        "print(\"Addition \", 1+1)\n",
        "print(\"Subtraction \", 5-2)\n",
        "print(\"Multiplication \", 2*3)\n",
        "print(\"Division\", 10/2)\n",
        "print(\"exponent\", 2**3)"
      ],
      "metadata": {
        "colab": {
          "base_uri": "https://localhost:8080/"
        },
        "id": "uRG6_THSb3dV",
        "outputId": "02cb9480-d6b5-4a48-e736-37ff1679ff2b"
      },
      "execution_count": null,
      "outputs": [
        {
          "output_type": "stream",
          "name": "stdout",
          "text": [
            "Addition  2\n",
            "Subtraction  3\n",
            "Multiplication  6\n",
            "Division 5.0\n",
            "exponent 8\n"
          ]
        }
      ]
    },
    {
      "cell_type": "code",
      "source": [
        "print(\"Addition \", 2+3)\n",
        "print(\"Subtraction \", 7-1)\n",
        "print(\"Multiplication \", 9*5)\n",
        "print(\"Division\", 144/12)\n",
        "print(\"Exponent\", 5**5)"
      ],
      "metadata": {
        "colab": {
          "base_uri": "https://localhost:8080/"
        },
        "id": "fFVOwZk6cAz0",
        "outputId": "df9b400d-ef59-4dd6-ca9a-085030b1613c"
      },
      "execution_count": null,
      "outputs": [
        {
          "output_type": "stream",
          "name": "stdout",
          "text": [
            "Addition  5\n",
            "Subtraction  6\n",
            "Multiplication  45\n",
            "Division 12.0\n",
            "Exponent 3125\n"
          ]
        }
      ]
    },
    {
      "cell_type": "markdown",
      "source": [
        "# My own example 3"
      ],
      "metadata": {
        "id": "cn2j5Aa_d-0D"
      }
    },
    {
      "cell_type": "code",
      "source": [
        "my_list = ['Quant', 'Connect', 1,2,3]\n",
        "print(my_list)"
      ],
      "metadata": {
        "colab": {
          "base_uri": "https://localhost:8080/"
        },
        "id": "BaX21AqDcY0e",
        "outputId": "88287f99-cefb-4b8d-d19c-cb8f62f79005"
      },
      "execution_count": null,
      "outputs": [
        {
          "output_type": "stream",
          "name": "stdout",
          "text": [
            "['Quant', 'Connect', 1, 2, 3]\n"
          ]
        }
      ]
    },
    {
      "cell_type": "code",
      "source": [
        "my_list = ['Kobe Bryant', 'Magic Johnson', 'Michael Jordan', 'Shaq', 24,34,23,0]\n",
        "print(my_list)"
      ],
      "metadata": {
        "colab": {
          "base_uri": "https://localhost:8080/"
        },
        "id": "NgN7h2LFcgOI",
        "outputId": "24c5a148-a81c-47f9-dce2-86947f16ca0a"
      },
      "execution_count": null,
      "outputs": [
        {
          "output_type": "stream",
          "name": "stdout",
          "text": [
            "['Kobe Bryant', 'Magic Johnson', 'Michael Jordan', 'Shaq', 24, 34, 23, 0]\n"
          ]
        }
      ]
    },
    {
      "cell_type": "markdown",
      "source": [
        "# My own example 4"
      ],
      "metadata": {
        "id": "ePt3X74NeBN0"
      }
    },
    {
      "cell_type": "code",
      "source": [
        "my_list = ['Quant', 'Connect', 1,2,3]\n",
        "print(len(my_list))\n",
        "print(my_list[0])\n",
        "print(my_list[len(my_list) - 1])"
      ],
      "metadata": {
        "colab": {
          "base_uri": "https://localhost:8080/"
        },
        "id": "FliD9juMcsyJ",
        "outputId": "da26b053-112b-4680-ff2b-a62b651295fb"
      },
      "execution_count": null,
      "outputs": [
        {
          "output_type": "stream",
          "name": "stdout",
          "text": [
            "5\n",
            "Quant\n",
            "3\n"
          ]
        }
      ]
    },
    {
      "cell_type": "code",
      "source": [
        "my_list = ['Kobe Bryant', 'Magic Johnson', 'Michael Jordan', 'Shaq', 24,34,23,0]\n",
        "print(len(my_list))\n",
        "print(my_list[3])\n",
        "print(my_list[len(my_list) - 3])"
      ],
      "metadata": {
        "colab": {
          "base_uri": "https://localhost:8080/"
        },
        "id": "0OeGl1q2dEmq",
        "outputId": "5ea84c2e-f3a9-44b0-8f5c-16b0ccddab0b"
      },
      "execution_count": null,
      "outputs": [
        {
          "output_type": "stream",
          "name": "stdout",
          "text": [
            "8\n",
            "Shaq\n",
            "34\n"
          ]
        }
      ]
    },
    {
      "cell_type": "markdown",
      "source": [
        "# My own example 5"
      ],
      "metadata": {
        "id": "WAqgZDGqen1P"
      }
    },
    {
      "cell_type": "code",
      "source": [
        "my_list = ['Quant','Connect',1,2,3]\n",
        "my_list[2] = 'go'\n",
        "print(my_list)"
      ],
      "metadata": {
        "colab": {
          "base_uri": "https://localhost:8080/"
        },
        "id": "SxECP-rQevLN",
        "outputId": "cf8484cb-92e5-4ba4-cc89-6434383733c4"
      },
      "execution_count": null,
      "outputs": [
        {
          "output_type": "stream",
          "name": "stdout",
          "text": [
            "['Quant', 'Connect', 'go', 2, 3]\n"
          ]
        }
      ]
    },
    {
      "cell_type": "code",
      "source": [
        "my_list = ['Kobe Bryant', 'Magic Johnson', 'Michael Jordan', 'Shaq', 24,34,23,0]\n",
        "my_list[1] = 'Larry Bird'\n",
        "print(my_list)"
      ],
      "metadata": {
        "colab": {
          "base_uri": "https://localhost:8080/"
        },
        "id": "sLjEVaYqe7ye",
        "outputId": "8d80a026-9464-4f3b-e7f5-3fcaabb69aa7"
      },
      "execution_count": null,
      "outputs": [
        {
          "output_type": "stream",
          "name": "stdout",
          "text": [
            "['Kobe Bryant', 'Larry Bird', 'Michael Jordan', 'Shaq', 24, 34, 23, 0]\n"
          ]
        }
      ]
    },
    {
      "cell_type": "markdown",
      "source": [
        "# My own example 6"
      ],
      "metadata": {
        "id": "gCoC-8g8fGNd"
      }
    },
    {
      "cell_type": "code",
      "source": [
        "my_list = ['Quant','Connect',1,2,3]\n",
        "print(my_list[1:3])"
      ],
      "metadata": {
        "colab": {
          "base_uri": "https://localhost:8080/"
        },
        "id": "9bm7j-trfJc-",
        "outputId": "16c26383-8f6b-4db4-b097-f166a6b4b8d0"
      },
      "execution_count": null,
      "outputs": [
        {
          "output_type": "stream",
          "name": "stdout",
          "text": [
            "['Connect', 1]\n"
          ]
        }
      ]
    },
    {
      "cell_type": "code",
      "source": [
        "my_list = ['Kobe Bryant', 'Magic Johnson', 'Michael Jordan', 'Shaq', 24,34,23,0]\n",
        "print(my_list[2:5])"
      ],
      "metadata": {
        "colab": {
          "base_uri": "https://localhost:8080/"
        },
        "id": "rarUD60ZfL-q",
        "outputId": "bf6c0a80-01a8-4fef-caac-f484e0773f47"
      },
      "execution_count": null,
      "outputs": [
        {
          "output_type": "stream",
          "name": "stdout",
          "text": [
            "['Michael Jordan', 'Shaq', 24]\n"
          ]
        }
      ]
    },
    {
      "cell_type": "markdown",
      "source": [
        "# My own example 7"
      ],
      "metadata": {
        "id": "KR5k2imAjo5Y"
      }
    },
    {
      "cell_type": "code",
      "source": [
        "my_list = ['Quant','Connect',1,2,3]\n",
        "print(my_list[1:])"
      ],
      "metadata": {
        "colab": {
          "base_uri": "https://localhost:8080/"
        },
        "id": "S6GtgXG0jrcM",
        "outputId": "62102942-627d-4423-a1bc-5e02ddccb39f"
      },
      "execution_count": null,
      "outputs": [
        {
          "output_type": "stream",
          "name": "stdout",
          "text": [
            "['Connect', 1, 2, 3]\n"
          ]
        }
      ]
    },
    {
      "cell_type": "code",
      "source": [
        "my_list = ['Kobe Bryant', 'Magic Johnson', 'Michael Jordan', 'Shaq', 24,34,23,0]\n",
        "print(my_list[2:])"
      ],
      "metadata": {
        "colab": {
          "base_uri": "https://localhost:8080/"
        },
        "id": "pZhDQr9rjyj9",
        "outputId": "ead12dbf-8995-44ee-92d1-95dc833f212e"
      },
      "execution_count": null,
      "outputs": [
        {
          "output_type": "stream",
          "name": "stdout",
          "text": [
            "['Michael Jordan', 'Shaq', 24, 34, 23, 0]\n"
          ]
        }
      ]
    },
    {
      "cell_type": "markdown",
      "source": [
        "# My own example 8"
      ],
      "metadata": {
        "id": "O8BTC_V5j4X8"
      }
    },
    {
      "cell_type": "code",
      "source": [
        "my_list = ['Quant','Connect',1,2,3]\n",
        "print(my_list[:3])"
      ],
      "metadata": {
        "colab": {
          "base_uri": "https://localhost:8080/"
        },
        "id": "UuGPMjk-j6CV",
        "outputId": "456443b0-11f4-42f7-bae6-028b77c37414"
      },
      "execution_count": null,
      "outputs": [
        {
          "output_type": "stream",
          "name": "stdout",
          "text": [
            "['Quant', 'Connect', 1]\n"
          ]
        }
      ]
    },
    {
      "cell_type": "code",
      "source": [
        "my_list = ['Kobe Bryant', 'Magic Johnson', 'Michael Jordan', 'Shaq', 24,34,23,0]\n",
        "print(my_list[:5])"
      ],
      "metadata": {
        "colab": {
          "base_uri": "https://localhost:8080/"
        },
        "id": "CF44dDMNj_Mc",
        "outputId": "fb963ddb-845d-492e-a1e3-abc7f1c67ed9"
      },
      "execution_count": null,
      "outputs": [
        {
          "output_type": "stream",
          "name": "stdout",
          "text": [
            "['Kobe Bryant', 'Magic Johnson', 'Michael Jordan', 'Shaq', 24]\n"
          ]
        }
      ]
    },
    {
      "cell_type": "markdown",
      "source": [
        "# My own example 9"
      ],
      "metadata": {
        "id": "DImDw3WkkEvf"
      }
    },
    {
      "cell_type": "code",
      "source": [
        "my_list = ['Hello', 'Quant']\n",
        "my_list.append('Hello')\n",
        "print(my_list)\n",
        "my_list.remove('Hello')\n",
        "print(my_list)"
      ],
      "metadata": {
        "colab": {
          "base_uri": "https://localhost:8080/"
        },
        "id": "PuLMw6ogkGlX",
        "outputId": "88043945-881c-4819-cb53-a07dfac68978"
      },
      "execution_count": null,
      "outputs": [
        {
          "output_type": "stream",
          "name": "stdout",
          "text": [
            "['Hello', 'Quant', 'Hello']\n",
            "['Quant', 'Hello']\n"
          ]
        }
      ]
    },
    {
      "cell_type": "code",
      "source": [
        "my_list = ['Kobe Bryant', 'Magic Johnson', 'Michael Jordan', 'Shaq', 24,34,23,0]\n",
        "my_list.append('Kobe Bryant')\n",
        "print(my_list)\n",
        "my_list.remove('Kobe Bryant')\n",
        "print(my_list)"
      ],
      "metadata": {
        "colab": {
          "base_uri": "https://localhost:8080/"
        },
        "id": "rq6QcJA5kP1G",
        "outputId": "3930bf14-69bd-4a73-c7d8-b185c47eec9a"
      },
      "execution_count": null,
      "outputs": [
        {
          "output_type": "stream",
          "name": "stdout",
          "text": [
            "['Kobe Bryant', 'Magic Johnson', 'Michael Jordan', 'Shaq', 24, 34, 23, 0, 'Kobe Bryant']\n",
            "['Magic Johnson', 'Michael Jordan', 'Shaq', 24, 34, 23, 0, 'Kobe Bryant']\n"
          ]
        }
      ]
    },
    {
      "cell_type": "markdown",
      "source": [
        "# My own example 10"
      ],
      "metadata": {
        "id": "pyOXmigNkdf4"
      }
    },
    {
      "cell_type": "code",
      "source": [
        "my_tuple = ('Welcome','to','QuantConnect')\n",
        "print(my_tuple[1:])"
      ],
      "metadata": {
        "colab": {
          "base_uri": "https://localhost:8080/"
        },
        "id": "Qdee_QF8kfp0",
        "outputId": "815e512d-c30f-4707-8d2b-93743fa63c5b"
      },
      "execution_count": null,
      "outputs": [
        {
          "output_type": "stream",
          "name": "stdout",
          "text": [
            "('to', 'QuantConnect')\n"
          ]
        }
      ]
    },
    {
      "cell_type": "code",
      "source": [
        "my_tuple = ('Good', 'Morning','to','my','classmates')\n",
        "print(my_tuple[3:])"
      ],
      "metadata": {
        "colab": {
          "base_uri": "https://localhost:8080/"
        },
        "id": "cVESIQLNkqfU",
        "outputId": "0b117340-e8b4-4829-dd28-371ff6f4141f"
      },
      "execution_count": null,
      "outputs": [
        {
          "output_type": "stream",
          "name": "stdout",
          "text": [
            "('my', 'classmates')\n"
          ]
        }
      ]
    },
    {
      "cell_type": "markdown",
      "source": [
        "# My own example 11"
      ],
      "metadata": {
        "id": "HPo1w9O8lBf9"
      }
    },
    {
      "cell_type": "code",
      "source": [
        "stock_list = ['AAPL','GOOG','IBM','AAPL','IBM','FB','F','GOOG']\n",
        "stock_set = set(stock_list)\n",
        "print(stock_set)"
      ],
      "metadata": {
        "colab": {
          "base_uri": "https://localhost:8080/"
        },
        "id": "jgYGbr3llDpy",
        "outputId": "007d4447-0d7f-43ae-f8ee-de594690e8c6"
      },
      "execution_count": null,
      "outputs": [
        {
          "output_type": "stream",
          "name": "stdout",
          "text": [
            "{'FB', 'IBM', 'F', 'GOOG', 'AAPL'}\n"
          ]
        }
      ]
    },
    {
      "cell_type": "code",
      "source": [
        "team_list = ['Celtics','Knicks','Celtics','Hawks','Lakers','Lakers','Clippers','Bucks','Pelicans','Suns','Suns']\n",
        "team_set = set(team_list)\n",
        "print(team_set)"
      ],
      "metadata": {
        "colab": {
          "base_uri": "https://localhost:8080/"
        },
        "id": "Ev6HeEIxlJna",
        "outputId": "ca402d33-3726-4cad-b77e-8f55ee22d83a"
      },
      "execution_count": null,
      "outputs": [
        {
          "output_type": "stream",
          "name": "stdout",
          "text": [
            "{'Bucks', 'Pelicans', 'Celtics', 'Hawks', 'Clippers', 'Lakers', 'Suns', 'Knicks'}\n"
          ]
        }
      ]
    },
    {
      "cell_type": "markdown",
      "source": [
        "# My own example 12"
      ],
      "metadata": {
        "id": "r8vFD1l2lkZA"
      }
    },
    {
      "cell_type": "code",
      "source": [
        "my_dic = {'AAPL': 'Apple', 'FB': 'FaceBook', 'GOOG': 'Alphabet'}\n",
        "print(my_dic['GOOG'])"
      ],
      "metadata": {
        "colab": {
          "base_uri": "https://localhost:8080/"
        },
        "id": "_XodcE6Dll3s",
        "outputId": "f43366bb-dd70-4d71-9d84-ea3bdc71d66f"
      },
      "execution_count": null,
      "outputs": [
        {
          "output_type": "stream",
          "name": "stdout",
          "text": [
            "Alphabet\n"
          ]
        }
      ]
    },
    {
      "cell_type": "code",
      "source": [
        "my_dic = {'HOU': 'Houston Rockets', 'MIA': 'Miami Heat', 'NYC': 'New York Knicks'}\n",
        "print(my_dic['HOU'])"
      ],
      "metadata": {
        "colab": {
          "base_uri": "https://localhost:8080/"
        },
        "id": "VIkV9YpLm5XZ",
        "outputId": "a9dedd8d-cc2d-4aff-e98d-3e079ffc6de6"
      },
      "execution_count": null,
      "outputs": [
        {
          "output_type": "stream",
          "name": "stdout",
          "text": [
            "Houston Rockets\n"
          ]
        }
      ]
    },
    {
      "cell_type": "markdown",
      "source": [
        "# My own example 13"
      ],
      "metadata": {
        "id": "rWSjZGabnFPU"
      }
    },
    {
      "cell_type": "code",
      "source": [
        "my_dic = {'AAPL': 'Apple', 'FB': 'FaceBook', 'GOOG': 'Alphabet'}\n",
        "print(my_dic.keys())"
      ],
      "metadata": {
        "colab": {
          "base_uri": "https://localhost:8080/"
        },
        "id": "aTIZDpSWnHGf",
        "outputId": "f0d35b47-4ca9-4039-9776-6ae22d2b3851"
      },
      "execution_count": null,
      "outputs": [
        {
          "output_type": "stream",
          "name": "stdout",
          "text": [
            "dict_keys(['AAPL', 'FB', 'GOOG'])\n"
          ]
        }
      ]
    },
    {
      "cell_type": "code",
      "source": [
        "my_dic = {'HOU': 'Houston Rockets', 'MIA': 'Miami Heat', 'NYC': 'New York Knicks'}\n",
        "print(my_dic.keys())"
      ],
      "metadata": {
        "colab": {
          "base_uri": "https://localhost:8080/"
        },
        "id": "PLPVBhtdn-pm",
        "outputId": "ff2e9a67-c141-48ba-b8e3-23a9e20fc4c7"
      },
      "execution_count": null,
      "outputs": [
        {
          "output_type": "stream",
          "name": "stdout",
          "text": [
            "dict_keys(['HOU', 'MIA', 'NYC'])\n"
          ]
        }
      ]
    },
    {
      "cell_type": "markdown",
      "source": [
        "# My own example 14"
      ],
      "metadata": {
        "id": "7J-pXOUCqom-"
      }
    },
    {
      "cell_type": "code",
      "source": [
        "my_dic = {'AAPL': 'Apple', 'FB': 'FaceBook', 'GOOG': 'Alphabet'}\n",
        "my_dic['GOOG'] = 'Alphabet Company'\n",
        "print(my_dic['GOOG'])"
      ],
      "metadata": {
        "colab": {
          "base_uri": "https://localhost:8080/"
        },
        "id": "U25YqhAJnjWF",
        "outputId": "d8d0d78f-6810-4b10-e5f3-d27bff03f0af"
      },
      "execution_count": null,
      "outputs": [
        {
          "output_type": "stream",
          "name": "stdout",
          "text": [
            "Alphabet Company\n"
          ]
        }
      ]
    },
    {
      "cell_type": "code",
      "source": [
        "my_dic = {'HOU': 'Houston Rockets', 'MIA': 'Miami Heat', 'NYC': 'New York Knicks'}\n",
        "my_dic['NYC'] = 'New York Yankees'\n",
        "print(my_dic['NYC'])"
      ],
      "metadata": {
        "colab": {
          "base_uri": "https://localhost:8080/"
        },
        "id": "Tm7bbr0dn9Bv",
        "outputId": "ff6d9d8a-c57e-48dc-81ed-045351460347"
      },
      "execution_count": null,
      "outputs": [
        {
          "output_type": "stream",
          "name": "stdout",
          "text": [
            "New York Yankees\n"
          ]
        }
      ]
    },
    {
      "cell_type": "markdown",
      "source": [
        "# My own example 15"
      ],
      "metadata": {
        "id": "83fJZvjOq3wt"
      }
    },
    {
      "cell_type": "code",
      "source": [
        "my_str = 'Welcome to QuantConnect'\n",
        "print(my_str[8:])"
      ],
      "metadata": {
        "colab": {
          "base_uri": "https://localhost:8080/"
        },
        "id": "zYU2o3DInlq4",
        "outputId": "70c522b6-b1f9-4422-fe79-006327701e4b"
      },
      "execution_count": null,
      "outputs": [
        {
          "output_type": "stream",
          "name": "stdout",
          "text": [
            "to QuantConnect\n"
          ]
        }
      ]
    },
    {
      "cell_type": "code",
      "source": [
        "my_str = 'Good morning to my classmates'\n",
        "print(my_str[11:])"
      ],
      "metadata": {
        "colab": {
          "base_uri": "https://localhost:8080/"
        },
        "id": "nd7AEOc9oSFz",
        "outputId": "83e06f5d-b441-4ef1-9a2a-0227d2202cce"
      },
      "execution_count": null,
      "outputs": [
        {
          "output_type": "stream",
          "name": "stdout",
          "text": [
            "g to my classmates\n"
          ]
        }
      ]
    },
    {
      "cell_type": "markdown",
      "source": [
        "# My own example 16"
      ],
      "metadata": {
        "id": "8kQexhHooaSj"
      }
    },
    {
      "cell_type": "code",
      "source": [
        "print(\"Counting the number of e's in this sentence\".count('e'))\n",
        "print('The first time e appears in this sentence'.find('e'))\n",
        "print('all the a in this sentence now becomes e'.replace('a','e'))"
      ],
      "metadata": {
        "colab": {
          "base_uri": "https://localhost:8080/"
        },
        "id": "hBClflyHob41",
        "outputId": "58fb959e-5a6c-49bc-9c0b-ca1ba4b6b7c4"
      },
      "execution_count": null,
      "outputs": [
        {
          "output_type": "stream",
          "name": "stdout",
          "text": [
            "6\n",
            "2\n",
            "ell the e in this sentence now becomes e\n"
          ]
        }
      ]
    },
    {
      "cell_type": "code",
      "source": [
        "print(\"Tres tristes tigres\".count('s'))\n",
        "print('Compadre no compro coco'.find('m'))\n",
        "print('We are going to be the best engineers'.replace('e','i'))"
      ],
      "metadata": {
        "colab": {
          "base_uri": "https://localhost:8080/"
        },
        "id": "C-R6WQOgogPd",
        "outputId": "a5263fab-68c5-4d11-e8a2-7a05cc8c1bae"
      },
      "execution_count": null,
      "outputs": [
        {
          "output_type": "stream",
          "name": "stdout",
          "text": [
            "4\n",
            "2\n",
            "Wi ari going to bi thi bist inginiirs\n"
          ]
        }
      ]
    },
    {
      "cell_type": "markdown",
      "source": [
        "# My own example 17"
      ],
      "metadata": {
        "id": "8fLpVW9CpVyT"
      }
    },
    {
      "cell_type": "code",
      "source": [
        "Time = '2016-04-01 09:43:00'\n",
        "splited_list = Time.split(' ')\n",
        "date = splited_list[0]\n",
        "time = splited_list[1]\n",
        "print(date, time)\n",
        "hour = time.split(':')[0]\n",
        "print(hour)"
      ],
      "metadata": {
        "colab": {
          "base_uri": "https://localhost:8080/"
        },
        "id": "NFWb0eiUpXgM",
        "outputId": "1710ac0f-ef02-4bbd-a7a3-af28a9feb7e1"
      },
      "execution_count": null,
      "outputs": [
        {
          "output_type": "stream",
          "name": "stdout",
          "text": [
            "2016-04-01 09:43:00\n",
            "09\n"
          ]
        }
      ]
    },
    {
      "cell_type": "code",
      "source": [
        "Teams = 'Houston:Rockets, Dallas:Cowboys, New York:Yankees, LA:Galaxy'\n",
        "splited_list = Teams.split(', ')\n",
        "Basketball = splited_list[0]\n",
        "Football = splited_list[1]\n",
        "Baseball = splited_list[2]\n",
        "Soccer = splited_list[3]\n",
        "print(Basketball, Football, Baseball, Soccer)\n",
        "City = Football.split(':')[0]\n",
        "print(City)"
      ],
      "metadata": {
        "colab": {
          "base_uri": "https://localhost:8080/"
        },
        "id": "GKD4QaMXrJUN",
        "outputId": "5600f2a4-974b-4652-b66a-da151e4a851f"
      },
      "execution_count": null,
      "outputs": [
        {
          "output_type": "stream",
          "name": "stdout",
          "text": [
            "Houston:Rockets Dallas:Cowboys New York:Yankees LA:Galaxy\n",
            "Dallas\n"
          ]
        }
      ]
    },
    {
      "cell_type": "markdown",
      "source": [
        "# My own example 18"
      ],
      "metadata": {
        "id": "61AiIRHRtxa4"
      }
    },
    {
      "cell_type": "code",
      "source": [
        "my_time = 'Hour: {}, Minute: {}'.format(9, 43)\n",
        "print(my_time)"
      ],
      "metadata": {
        "colab": {
          "base_uri": "https://localhost:8080/"
        },
        "id": "U6JUGCTltzSF",
        "outputId": "707ede4b-8f20-46de-97a0-95f2c590574f"
      },
      "execution_count": null,
      "outputs": [
        {
          "output_type": "stream",
          "name": "stdout",
          "text": [
            "Hour: 9, Minute: 43\n"
          ]
        }
      ]
    },
    {
      "cell_type": "code",
      "source": [
        "my_team = 'City: {}, Team: {}, Sport: {}'.format('Miami', 'Heat', 'Basketball')\n",
        "print(my_team)"
      ],
      "metadata": {
        "colab": {
          "base_uri": "https://localhost:8080/"
        },
        "id": "q4bcMzcVt5mB",
        "outputId": "4ce3c704-0913-45bb-af86-9c3b79e76bed"
      },
      "execution_count": null,
      "outputs": [
        {
          "output_type": "stream",
          "name": "stdout",
          "text": [
            "City: Miami, Team: Heat, Sport: Basketball\n"
          ]
        }
      ]
    },
    {
      "cell_type": "markdown",
      "source": [
        "# My own example 19"
      ],
      "metadata": {
        "id": "OfPcJ4-0uOb9"
      }
    },
    {
      "cell_type": "code",
      "source": [
        "print ('pi is %f' % 3.14)\n",
        "print('%s to %s' % ('Welcome', 'QuantConnect'))"
      ],
      "metadata": {
        "colab": {
          "base_uri": "https://localhost:8080/"
        },
        "id": "x0JWNbSyuQC5",
        "outputId": "bf6338b9-2f78-4473-f521-01e3549780c0"
      },
      "execution_count": null,
      "outputs": [
        {
          "output_type": "stream",
          "name": "stdout",
          "text": [
            "pi is 3.140000\n",
            "Welcome to QuantConnect\n"
          ]
        }
      ]
    },
    {
      "cell_type": "code",
      "source": [
        "print ('10 divided by 3 is %f' % 0.3333)\n",
        "print('%s to %s' % ('Good Morning', 'my classmates'))"
      ],
      "metadata": {
        "colab": {
          "base_uri": "https://localhost:8080/"
        },
        "id": "qtPkDioGu5dx",
        "outputId": "b00a9172-9c62-4f52-cdaa-280939cf8f04"
      },
      "execution_count": null,
      "outputs": [
        {
          "output_type": "stream",
          "name": "stdout",
          "text": [
            "10 divided by 3 is 0.333300\n",
            "Good Morning to my classmates\n"
          ]
        }
      ]
    },
    {
      "cell_type": "markdown",
      "source": [
        "# My own example 20"
      ],
      "metadata": {
        "id": "_3FL2cdXvOjU"
      }
    },
    {
      "cell_type": "code",
      "source": [
        "print (1 == 0)\n",
        "print (1 == 1)\n",
        "print (1 != 0)\n",
        "print (5 >= 5)\n",
        "print (5 >= 6)"
      ],
      "metadata": {
        "colab": {
          "base_uri": "https://localhost:8080/"
        },
        "id": "GaZ_a62TvQDQ",
        "outputId": "45f05725-50b9-404f-8f02-5552211a5d20"
      },
      "execution_count": null,
      "outputs": [
        {
          "output_type": "stream",
          "name": "stdout",
          "text": [
            "False\n",
            "True\n",
            "True\n",
            "True\n",
            "False\n"
          ]
        }
      ]
    },
    {
      "cell_type": "code",
      "source": [
        "print (23 == 23)\n",
        "print (5 == 48)\n",
        "print (19 != 20)\n",
        "print (8 >= 2)\n",
        "print (35 >= 62)"
      ],
      "metadata": {
        "colab": {
          "base_uri": "https://localhost:8080/"
        },
        "id": "jYE42UP-zC7i",
        "outputId": "6164c72e-9ea1-484a-fd5a-52f01bcb7419"
      },
      "execution_count": null,
      "outputs": [
        {
          "output_type": "stream",
          "name": "stdout",
          "text": [
            "True\n",
            "False\n",
            "True\n",
            "True\n",
            "False\n"
          ]
        }
      ]
    },
    {
      "cell_type": "markdown",
      "source": [
        "# My own example 21"
      ],
      "metadata": {
        "id": "sEU8kydNzO0o"
      }
    },
    {
      "cell_type": "code",
      "source": [
        "print (2 > 1) and (3 > 2)\n",
        "print (2 > 1) and (3 < 2)\n",
        "print (2 > 1) or  (3 < 2)\n",
        "print (2 < 1) and (3 < 2)"
      ],
      "metadata": {
        "colab": {
          "base_uri": "https://localhost:8080/"
        },
        "id": "3Lre9NlfzQ70",
        "outputId": "6cf9b6d8-f881-45ce-d7ba-52c9a4bc6cda"
      },
      "execution_count": null,
      "outputs": [
        {
          "output_type": "stream",
          "name": "stdout",
          "text": [
            "True\n",
            "True\n",
            "True\n",
            "False\n"
          ]
        }
      ]
    },
    {
      "cell_type": "code",
      "source": [
        "print (1 > 2) and (4 > 2)\n",
        "print (5 > 3) and (1 < 2)\n",
        "print (9 > 7) or  (15 < 8)\n",
        "print (4 < 5) and (6 < 9)"
      ],
      "metadata": {
        "colab": {
          "base_uri": "https://localhost:8080/"
        },
        "id": "AGiPDn0vzeFl",
        "outputId": "d3e562a9-e53b-44d6-baad-3536f619c0e2"
      },
      "execution_count": null,
      "outputs": [
        {
          "output_type": "stream",
          "name": "stdout",
          "text": [
            "False\n",
            "True\n",
            "True\n",
            "True\n"
          ]
        }
      ]
    },
    {
      "cell_type": "markdown",
      "source": [
        "# My own example 22"
      ],
      "metadata": {
        "id": "bJqdBlooz_YO"
      }
    },
    {
      "cell_type": "code",
      "source": [
        "print (3 > 2 or 1 < 3) and (1!=3 and 4>3) and not ( 3 < 2 or 1 < 3 and (1!=3 and 4>3))\n",
        "print (3 > 2) or (1 < 3) and (1!=3 and 4>3) and not ( 3 < 2 or 1 < 3 and (1!=3 and 4>3))"
      ],
      "metadata": {
        "colab": {
          "base_uri": "https://localhost:8080/"
        },
        "id": "T1lGLE750BBT",
        "outputId": "c26cd618-15ef-4d5d-8b73-e43da656fa4d"
      },
      "execution_count": null,
      "outputs": [
        {
          "output_type": "stream",
          "name": "stdout",
          "text": [
            "True\n",
            "True\n"
          ]
        },
        {
          "output_type": "execute_result",
          "data": {
            "text/plain": [
              "False"
            ]
          },
          "metadata": {},
          "execution_count": 91
        }
      ]
    },
    {
      "cell_type": "code",
      "source": [
        "print (5 > 3 or 4 < 6) and (2!=8 and 7>2) and not ( 4 < 3 or 1 < 5 and (4!=2 and 5>2))\n",
        "print (3 > 4) or (2 < 4) and (4!=2 and 6>2) and not ( 5 < 3 or 2 < 4 and (2!=4 and 2>1))"
      ],
      "metadata": {
        "colab": {
          "base_uri": "https://localhost:8080/"
        },
        "id": "vi8dgexK9Teg",
        "outputId": "2ac7ff22-3851-41ac-eb14-1bcae36e9a21"
      },
      "execution_count": null,
      "outputs": [
        {
          "output_type": "stream",
          "name": "stdout",
          "text": [
            "True\n",
            "False\n"
          ]
        },
        {
          "output_type": "execute_result",
          "data": {
            "text/plain": [
              "False"
            ]
          },
          "metadata": {},
          "execution_count": 93
        }
      ]
    },
    {
      "cell_type": "markdown",
      "source": [
        "# My own example 23"
      ],
      "metadata": {
        "id": "K-npTLCw97wS"
      }
    },
    {
      "cell_type": "code",
      "source": [
        "i = 0\n",
        "if i == 0: print ('i == 0 is True')"
      ],
      "metadata": {
        "colab": {
          "base_uri": "https://localhost:8080/"
        },
        "id": "6BAnDV1E99p4",
        "outputId": "30157e5c-02e1-4bc7-c7c5-053aa18c8cda"
      },
      "execution_count": null,
      "outputs": [
        {
          "output_type": "stream",
          "name": "stdout",
          "text": [
            "i == 0 is True\n"
          ]
        }
      ]
    },
    {
      "cell_type": "code",
      "source": [
        "i = 4\n",
        "if i != 3: print ('i != 3 is True')"
      ],
      "metadata": {
        "colab": {
          "base_uri": "https://localhost:8080/"
        },
        "id": "N9wrwNgZ-Eui",
        "outputId": "fc9f51cf-6934-4072-bb0e-3000d95f37d7"
      },
      "execution_count": null,
      "outputs": [
        {
          "output_type": "stream",
          "name": "stdout",
          "text": [
            "i != 3 is True\n"
          ]
        }
      ]
    },
    {
      "cell_type": "markdown",
      "source": [
        "# My own example 24"
      ],
      "metadata": {
        "id": "iQh2H_1b-PGo"
      }
    },
    {
      "cell_type": "code",
      "source": [
        "p = 1 > 0\n",
        "q = 2 > 3\n",
        "if p and q:\n",
        "    print ('p and q is true')\n",
        "elif p and not q:\n",
        "    print ('q is false')\n",
        "elif q and not p:\n",
        "    print ('p is false')\n",
        "else:\n",
        "    print ('None of p and q is true')"
      ],
      "metadata": {
        "colab": {
          "base_uri": "https://localhost:8080/"
        },
        "id": "NpLA7Xds-QX6",
        "outputId": "05a5a708-63c3-4108-97d7-56ab719e19c0"
      },
      "execution_count": null,
      "outputs": [
        {
          "output_type": "stream",
          "name": "stdout",
          "text": [
            "q is false\n"
          ]
        }
      ]
    },
    {
      "cell_type": "code",
      "source": [
        "p = 5 == 4\n",
        "q = 6 < 2\n",
        "if p and q:\n",
        "    print ('p and q is true')\n",
        "elif p and not q:\n",
        "    print ('q is false')\n",
        "elif q and not p:\n",
        "    print ('p is false')\n",
        "else:\n",
        "    print ('None of p and q is true')"
      ],
      "metadata": {
        "colab": {
          "base_uri": "https://localhost:8080/"
        },
        "id": "Bo3KXlQ1-0JC",
        "outputId": "727e39c9-0a77-4bd4-9211-2a4d278d4103"
      },
      "execution_count": null,
      "outputs": [
        {
          "output_type": "stream",
          "name": "stdout",
          "text": [
            "None of p and q is true\n"
          ]
        }
      ]
    },
    {
      "cell_type": "markdown",
      "source": [
        "# My own example 24"
      ],
      "metadata": {
        "id": "U6W5VBlw_BDV"
      }
    },
    {
      "cell_type": "code",
      "source": [
        "i = 0\n",
        "while i < 5:\n",
        "    print (i)\n",
        "    i += 1"
      ],
      "metadata": {
        "colab": {
          "base_uri": "https://localhost:8080/"
        },
        "id": "vkq5_wNu_DQm",
        "outputId": "9b3a23df-0f5b-48cc-ee4b-e7d14fc10c10"
      },
      "execution_count": null,
      "outputs": [
        {
          "output_type": "stream",
          "name": "stdout",
          "text": [
            "0\n",
            "1\n",
            "2\n",
            "3\n",
            "4\n"
          ]
        }
      ]
    },
    {
      "cell_type": "code",
      "source": [
        "i = 15\n",
        "while i < 51:\n",
        "    print (i)\n",
        "    i += 5"
      ],
      "metadata": {
        "colab": {
          "base_uri": "https://localhost:8080/"
        },
        "id": "cxrMfGZS_N5Q",
        "outputId": "3cebc260-141a-4ff4-e82d-e36b4d675759"
      },
      "execution_count": null,
      "outputs": [
        {
          "output_type": "stream",
          "name": "stdout",
          "text": [
            "15\n",
            "20\n",
            "25\n",
            "30\n",
            "35\n",
            "40\n",
            "45\n",
            "50\n"
          ]
        }
      ]
    },
    {
      "cell_type": "markdown",
      "source": [
        "# My own example 25"
      ],
      "metadata": {
        "id": "pNRKFigy_bYS"
      }
    },
    {
      "cell_type": "code",
      "source": [
        "for x in [1,2,3,4,5]: print (x)"
      ],
      "metadata": {
        "colab": {
          "base_uri": "https://localhost:8080/"
        },
        "id": "pjLz1K09_c98",
        "outputId": "a321598d-64ef-4930-dc55-f5924ff2c221"
      },
      "execution_count": null,
      "outputs": [
        {
          "output_type": "stream",
          "name": "stdout",
          "text": [
            "1\n",
            "2\n",
            "3\n",
            "4\n",
            "5\n"
          ]
        }
      ]
    },
    {
      "cell_type": "code",
      "source": [
        "for x in [5,25,125,625]: print (x)"
      ],
      "metadata": {
        "colab": {
          "base_uri": "https://localhost:8080/"
        },
        "id": "2AjoEXKK_nRq",
        "outputId": "81ed5227-9033-4ac0-d33b-7d26d7b84d35"
      },
      "execution_count": null,
      "outputs": [
        {
          "output_type": "stream",
          "name": "stdout",
          "text": [
            "5\n",
            "25\n",
            "125\n",
            "625\n"
          ]
        }
      ]
    },
    {
      "cell_type": "markdown",
      "source": [
        "# My own example 26"
      ],
      "metadata": {
        "id": "ZG9pJ3hM_wyC"
      }
    },
    {
      "cell_type": "code",
      "source": [
        "stocks = ['AAPL','GOOG','IBM','FB','F','V', 'G', 'GE']\n",
        "selected = ['AAPL','IBM']\n",
        "new_list = []\n",
        "for stock in stocks:\n",
        "    if stock not in selected:\n",
        "        new_list.append(stock)\n",
        "print (new_list)"
      ],
      "metadata": {
        "colab": {
          "base_uri": "https://localhost:8080/"
        },
        "id": "5b9lZlC7_yrr",
        "outputId": "6e153ddf-1bd2-4153-ac48-d14f216c933d"
      },
      "execution_count": null,
      "outputs": [
        {
          "output_type": "stream",
          "name": "stdout",
          "text": [
            "['GOOG', 'FB', 'F', 'V', 'G', 'GE']\n"
          ]
        }
      ]
    },
    {
      "cell_type": "code",
      "source": [
        "Equipos_FPC = ['Millonarios','America','Nacional','DIM','Once Caldas','Santa Fe','Junior']\n",
        "selected = ['Santa Fe','Junior']\n",
        "Equipos_con_hinchada = []\n",
        "for equipos in Equipos_FPC:\n",
        "    if equipos not in selected:\n",
        "        Equipos_con_hinchada.append(equipos)\n",
        "print (Equipos_con_hinchada)"
      ],
      "metadata": {
        "colab": {
          "base_uri": "https://localhost:8080/"
        },
        "id": "8OQTn3tVABba",
        "outputId": "4d166be1-db4c-407c-b17e-8fc4c2ebd43f"
      },
      "execution_count": null,
      "outputs": [
        {
          "output_type": "stream",
          "name": "stdout",
          "text": [
            "['Millonarios', 'America', 'Nacional', 'DIM', 'Once Caldas']\n"
          ]
        }
      ]
    },
    {
      "cell_type": "markdown",
      "source": [
        "# My own example 27"
      ],
      "metadata": {
        "id": "3aP9g3KQCOsw"
      }
    },
    {
      "cell_type": "code",
      "source": [
        "stocks = ['AAPL','GOOG','IBM','FB','F','V', 'G', 'GE']\n",
        "for stock in stocks:\n",
        "    print (stock)\n",
        "    if stock == 'FB': break"
      ],
      "metadata": {
        "colab": {
          "base_uri": "https://localhost:8080/"
        },
        "id": "jwlBplw2CRHN",
        "outputId": "78166eef-96ad-4cc7-b370-3b745f7ce128"
      },
      "execution_count": null,
      "outputs": [
        {
          "output_type": "stream",
          "name": "stdout",
          "text": [
            "AAPL\n",
            "GOOG\n",
            "IBM\n",
            "FB\n"
          ]
        }
      ]
    },
    {
      "cell_type": "code",
      "source": [
        "NBA = ['Rockets','Hawks','Bucks','Suns','Lakers','Clippers', 'Nets', 'Grizzlies']\n",
        "for team in NBA:\n",
        "    print (team)\n",
        "    if team == 'Suns': break"
      ],
      "metadata": {
        "colab": {
          "base_uri": "https://localhost:8080/"
        },
        "id": "4RfsEJTICZu5",
        "outputId": "b744ee2a-70ba-43d3-850f-cf7d67e3586d"
      },
      "execution_count": null,
      "outputs": [
        {
          "output_type": "stream",
          "name": "stdout",
          "text": [
            "Rockets\n",
            "Hawks\n",
            "Bucks\n",
            "Suns\n"
          ]
        }
      ]
    },
    {
      "cell_type": "markdown",
      "source": [
        "# My own example 28"
      ],
      "metadata": {
        "id": "LMKaOGaIC4_q"
      }
    },
    {
      "cell_type": "code",
      "source": [
        "stocks = ['AAPL','GOOG','IBM','FB','F','V', 'G', 'GE']\n",
        "for stock in stocks:\n",
        "    if stock == 'FB': continue\n",
        "    print (stock)"
      ],
      "metadata": {
        "colab": {
          "base_uri": "https://localhost:8080/"
        },
        "id": "GP1YnC31C6wz",
        "outputId": "901f60dd-99be-4b75-c160-01b2ce10fce0"
      },
      "execution_count": null,
      "outputs": [
        {
          "output_type": "stream",
          "name": "stdout",
          "text": [
            "AAPL\n",
            "GOOG\n",
            "IBM\n",
            "F\n",
            "V\n",
            "G\n",
            "GE\n"
          ]
        }
      ]
    },
    {
      "cell_type": "code",
      "source": [
        "NBA = ['Rockets','Hawks','Bucks','Suns','Lakers','Clippers', 'Nets', 'Grizzlies']\n",
        "for team in NBA:\n",
        "    if team == 'Lakers': continue\n",
        "    print (team)"
      ],
      "metadata": {
        "colab": {
          "base_uri": "https://localhost:8080/"
        },
        "id": "vW-f2-zADA6a",
        "outputId": "9176c239-ea10-4de8-c1c9-eb2648e7dd23"
      },
      "execution_count": null,
      "outputs": [
        {
          "output_type": "stream",
          "name": "stdout",
          "text": [
            "Rockets\n",
            "Hawks\n",
            "Bucks\n",
            "Suns\n",
            "Clippers\n",
            "Nets\n",
            "Grizzlies\n"
          ]
        }
      ]
    },
    {
      "cell_type": "markdown",
      "source": [
        "# My own example 29"
      ],
      "metadata": {
        "id": "426tz7DBDYQU"
      }
    },
    {
      "cell_type": "code",
      "source": [
        "squares = []\n",
        "for i in [1,2,3,4,5]:\n",
        "    squares.append(i**2)\n",
        "print (squares)"
      ],
      "metadata": {
        "colab": {
          "base_uri": "https://localhost:8080/"
        },
        "id": "zmVNqy8sDZzp",
        "outputId": "696fd863-e8b5-4699-c611-bc99954a2873"
      },
      "execution_count": null,
      "outputs": [
        {
          "output_type": "stream",
          "name": "stdout",
          "text": [
            "[1, 4, 9, 16, 25]\n"
          ]
        }
      ]
    },
    {
      "cell_type": "code",
      "source": [
        "cubic = []\n",
        "for i in [5,6,7,8,9]:\n",
        "    cubic.append(i**3)\n",
        "print (cubic)"
      ],
      "metadata": {
        "colab": {
          "base_uri": "https://localhost:8080/"
        },
        "id": "kwR7I91-Dv5i",
        "outputId": "9251270d-40c0-40bf-9e96-693da1724366"
      },
      "execution_count": null,
      "outputs": [
        {
          "output_type": "stream",
          "name": "stdout",
          "text": [
            "[125, 216, 343, 512, 729]\n"
          ]
        }
      ]
    },
    {
      "cell_type": "markdown",
      "source": [
        "# My own example 30"
      ],
      "metadata": {
        "id": "ttLJo2KCEcBs"
      }
    },
    {
      "cell_type": "code",
      "source": [
        "foo = [1,2,3,4,5]\n",
        "squares = [x**2 for x in foo]\n",
        "print (squares)"
      ],
      "metadata": {
        "colab": {
          "base_uri": "https://localhost:8080/"
        },
        "id": "AjIScyLsEgfb",
        "outputId": "51b650b8-48c1-4f03-a6c3-58589c3dd3c2"
      },
      "execution_count": null,
      "outputs": [
        {
          "output_type": "stream",
          "name": "stdout",
          "text": [
            "[1, 4, 9, 16, 25]\n"
          ]
        }
      ]
    },
    {
      "cell_type": "code",
      "source": [
        "numbers = [5,6,7,8,9]\n",
        "cubic = [x**3 for x in numbers]\n",
        "print (cubic)"
      ],
      "metadata": {
        "colab": {
          "base_uri": "https://localhost:8080/"
        },
        "id": "znJd4j02EmkR",
        "outputId": "712a2963-5021-4f37-dd28-f9803b978041"
      },
      "execution_count": null,
      "outputs": [
        {
          "output_type": "stream",
          "name": "stdout",
          "text": [
            "[125, 216, 343, 512, 729]\n"
          ]
        }
      ]
    },
    {
      "cell_type": "markdown",
      "source": [
        "# My own example 31"
      ],
      "metadata": {
        "id": "4Ag4adOaEva3"
      }
    },
    {
      "cell_type": "code",
      "source": [
        "stocks = ['AAPL','GOOG','IBM','FB','F','V', 'G', 'GE']\n",
        "selected = ['AAPL','IBM']\n",
        "new_list = [x for x in stocks if x not in selected]\n",
        "print (new_list)"
      ],
      "metadata": {
        "colab": {
          "base_uri": "https://localhost:8080/"
        },
        "id": "ExjV4TiNExVB",
        "outputId": "247c5d97-8dea-41f9-f974-a16fa95decc9"
      },
      "execution_count": null,
      "outputs": [
        {
          "output_type": "stream",
          "name": "stdout",
          "text": [
            "['GOOG', 'FB', 'F', 'V', 'G', 'GE']\n"
          ]
        }
      ]
    },
    {
      "cell_type": "code",
      "source": [
        "Teams = ['Rockets','Hawks','Bucks','Suns','Lakers','Clippers', 'Nets', 'Grizzlies']\n",
        "selected = ['Hawks','Nets']\n",
        "new_list = [x for x in Teams if x not in selected]\n",
        "print (new_list)"
      ],
      "metadata": {
        "colab": {
          "base_uri": "https://localhost:8080/"
        },
        "id": "Yk4weoJ7E2Dz",
        "outputId": "dc43df24-807e-4365-e72d-50959910a4ef"
      },
      "execution_count": null,
      "outputs": [
        {
          "output_type": "stream",
          "name": "stdout",
          "text": [
            "['Rockets', 'Bucks', 'Suns', 'Lakers', 'Clippers', 'Grizzlies']\n"
          ]
        }
      ]
    },
    {
      "cell_type": "markdown",
      "source": [
        "# My own example 32"
      ],
      "metadata": {
        "id": "QH2X8nzTdUiQ"
      }
    },
    {
      "cell_type": "code",
      "source": [
        "def product(x,y):\n",
        "    return x*y\n",
        "print (product(2,3))\n",
        "print (product(5,10))"
      ],
      "metadata": {
        "colab": {
          "base_uri": "https://localhost:8080/"
        },
        "id": "nkSeDkaWohIy",
        "outputId": "32abddf6-b7c6-4282-a7d5-5afe0d03c999"
      },
      "execution_count": null,
      "outputs": [
        {
          "output_type": "stream",
          "name": "stdout",
          "text": [
            "6\n",
            "50\n"
          ]
        }
      ]
    },
    {
      "cell_type": "code",
      "source": [
        "def product(x,y):\n",
        "    return x*y\n",
        "print (product(7,8))\n",
        "print (product(6,4))"
      ],
      "metadata": {
        "colab": {
          "base_uri": "https://localhost:8080/"
        },
        "id": "pHYreo22ohfQ",
        "outputId": "ae27ef09-5810-47dd-dd6b-7b5a4494fb70"
      },
      "execution_count": null,
      "outputs": [
        {
          "output_type": "stream",
          "name": "stdout",
          "text": [
            "56\n",
            "24\n"
          ]
        }
      ]
    },
    {
      "cell_type": "markdown",
      "source": [
        "# My own example 33"
      ],
      "metadata": {
        "id": "agkCywfEov4j"
      }
    },
    {
      "cell_type": "code",
      "source": [
        "def say_hi():\n",
        "    print (\"Welcome to QuantConnect\")\n",
        "say_hi()"
      ],
      "metadata": {
        "colab": {
          "base_uri": "https://localhost:8080/"
        },
        "id": "3XplnBHdoxuR",
        "outputId": "e81f8aab-7660-435b-8495-d863972e9ba1"
      },
      "execution_count": null,
      "outputs": [
        {
          "output_type": "stream",
          "name": "stdout",
          "text": [
            "Welcome to QuantConnect\n"
          ]
        }
      ]
    },
    {
      "cell_type": "code",
      "source": [
        "def say_hi():\n",
        "    print (\"Good morning to my classmates\")\n",
        "say_hi()"
      ],
      "metadata": {
        "colab": {
          "base_uri": "https://localhost:8080/"
        },
        "id": "hsBofRJIo6_W",
        "outputId": "01d1ab96-b6e7-4723-bd10-6c806c9fd0f7"
      },
      "execution_count": null,
      "outputs": [
        {
          "output_type": "stream",
          "name": "stdout",
          "text": [
            "Good morning to my classmates\n"
          ]
        }
      ]
    },
    {
      "cell_type": "markdown",
      "source": [
        "# My own example 34"
      ],
      "metadata": {
        "id": "fncfzjM2pANn"
      }
    },
    {
      "cell_type": "code",
      "source": [
        "tickers = ['AAPL', 'GOOGL', 'IBM', 'FB', 'F', 'V', 'G', 'GE']\n",
        "print (\"The number of tickers is {}\".format(len(tickers)))\n",
        "for k in range(len(tickers)):\n",
        "    print (k + 1, tickers[k])"
      ],
      "metadata": {
        "colab": {
          "base_uri": "https://localhost:8080/"
        },
        "id": "CfXarlsGpBn_",
        "outputId": "3c7f6e7c-33f2-40de-b594-527dbd7005be"
      },
      "execution_count": null,
      "outputs": [
        {
          "output_type": "stream",
          "name": "stdout",
          "text": [
            "The number of tickers is 8\n",
            "1 AAPL\n",
            "2 GOOGL\n",
            "3 IBM\n",
            "4 FB\n",
            "5 F\n",
            "6 V\n",
            "7 G\n",
            "8 GE\n"
          ]
        }
      ]
    },
    {
      "cell_type": "code",
      "source": [
        "Teams = ['Rockets','Hawks','Bucks','Suns','Lakers','Clippers', 'Nets', 'Grizzlies']\n",
        "print (\"The number of teams is {}\".format(len(Teams)))\n",
        "for k in range(len(Teams)):\n",
        "    print (k + 1, Teams[k])"
      ],
      "metadata": {
        "colab": {
          "base_uri": "https://localhost:8080/"
        },
        "id": "DdQctGsep555",
        "outputId": "6fea2d78-6558-4fc3-e53a-4fadcf5e741b"
      },
      "execution_count": null,
      "outputs": [
        {
          "output_type": "stream",
          "name": "stdout",
          "text": [
            "The number of teams is 8\n",
            "1 Rockets\n",
            "2 Hawks\n",
            "3 Bucks\n",
            "4 Suns\n",
            "5 Lakers\n",
            "6 Clippers\n",
            "7 Nets\n",
            "8 Grizzlies\n"
          ]
        }
      ]
    },
    {
      "cell_type": "markdown",
      "source": [
        "# My own example 35"
      ],
      "metadata": {
        "id": "B0GM8D1mqFDd"
      }
    },
    {
      "cell_type": "code",
      "source": [
        "tickers = ['AAPL','GOOG','IBM','FB','F','V', 'G', 'GE']\n",
        "print(list(map(len,tickers)))"
      ],
      "metadata": {
        "colab": {
          "base_uri": "https://localhost:8080/"
        },
        "id": "QIFMmF5UqHky",
        "outputId": "f913690a-a88b-4ba7-8d45-2abc6daec771"
      },
      "execution_count": null,
      "outputs": [
        {
          "output_type": "stream",
          "name": "stdout",
          "text": [
            "[4, 4, 3, 2, 1, 1, 1, 2]\n"
          ]
        }
      ]
    },
    {
      "cell_type": "code",
      "source": [
        "Teams = ['Rockets','Hawks','Bucks','Suns','Lakers','Clippers', 'Nets', 'Grizzlies']\n",
        "print(list(map(len,Teams)))"
      ],
      "metadata": {
        "colab": {
          "base_uri": "https://localhost:8080/"
        },
        "id": "pRYgJzmKqLPM",
        "outputId": "d59c516c-212f-4b85-f139-4983fd1e01f1"
      },
      "execution_count": null,
      "outputs": [
        {
          "output_type": "stream",
          "name": "stdout",
          "text": [
            "[7, 5, 5, 4, 6, 8, 4, 9]\n"
          ]
        }
      ]
    },
    {
      "cell_type": "markdown",
      "source": [
        "# My own example 36"
      ],
      "metadata": {
        "id": "WnUE8wVkqVRL"
      }
    },
    {
      "cell_type": "code",
      "source": [
        "sorted([5,2,3,4,1])"
      ],
      "metadata": {
        "colab": {
          "base_uri": "https://localhost:8080/"
        },
        "id": "DYh4YOpor4kd",
        "outputId": "1d42331c-927f-4917-acf3-0a1c07fb5fc2"
      },
      "execution_count": null,
      "outputs": [
        {
          "output_type": "execute_result",
          "data": {
            "text/plain": [
              "[1, 2, 3, 4, 5]"
            ]
          },
          "metadata": {},
          "execution_count": 165
        }
      ]
    },
    {
      "cell_type": "code",
      "source": [
        "sorted([8,13,15,47,2])"
      ],
      "metadata": {
        "colab": {
          "base_uri": "https://localhost:8080/"
        },
        "id": "VdJTH6flr9I9",
        "outputId": "fd4b045d-14a1-4fa3-8f6a-806f39ff0b1a"
      },
      "execution_count": null,
      "outputs": [
        {
          "output_type": "execute_result",
          "data": {
            "text/plain": [
              "[2, 8, 13, 15, 47]"
            ]
          },
          "metadata": {},
          "execution_count": 167
        }
      ]
    },
    {
      "cell_type": "markdown",
      "source": [
        "# My own example 37"
      ],
      "metadata": {
        "id": "h23cC_3OsHkO"
      }
    },
    {
      "cell_type": "code",
      "source": [
        "price_list = [('AAPL', 144.09), ('GOOGL', 911.71), ('MSFT', 69), ('FB', 150), ('WMT', 75.32)]\n",
        "sorted(price_list, key = lambda x: x[1],reverse = True)"
      ],
      "metadata": {
        "colab": {
          "base_uri": "https://localhost:8080/"
        },
        "id": "4rOsX_5jsK2x",
        "outputId": "caf63118-77d0-49cc-fb0c-69c23e2f225f"
      },
      "execution_count": null,
      "outputs": [
        {
          "output_type": "execute_result",
          "data": {
            "text/plain": [
              "[('GOOGL', 911.71),\n",
              " ('FB', 150),\n",
              " ('AAPL', 144.09),\n",
              " ('WMT', 75.32),\n",
              " ('MSFT', 69)]"
            ]
          },
          "metadata": {},
          "execution_count": 171
        }
      ]
    },
    {
      "cell_type": "code",
      "source": [
        "Tabla_torneo = [('Millonarios', 25), ('Nacional', 23), ('Tolima', 23), ('Medellin', 21)]\n",
        "sorted(Tabla_torneo, key = lambda x: x[1],reverse = True)"
      ],
      "metadata": {
        "colab": {
          "base_uri": "https://localhost:8080/"
        },
        "id": "oRWSLswwsPCQ",
        "outputId": "46b1d432-04e1-4c41-8a84-25d9a4ea64e5"
      },
      "execution_count": null,
      "outputs": [
        {
          "output_type": "execute_result",
          "data": {
            "text/plain": [
              "[('Millonarios', 25), ('Nacional', 23), ('Tolima', 23), ('Medellin', 21)]"
            ]
          },
          "metadata": {},
          "execution_count": 170
        }
      ]
    },
    {
      "cell_type": "markdown",
      "source": [
        "# My own example 38"
      ],
      "metadata": {
        "id": "o6tx33PTsqQD"
      }
    },
    {
      "cell_type": "code",
      "source": [
        "price_list = [('AAPL', 144.09), ('GOOGL', 911.71), ('MSFT', 69), ('FB', 150), ('WMT', 75.32)]\n",
        "sorted(price_list, key = lambda x: x[1])"
      ],
      "metadata": {
        "colab": {
          "base_uri": "https://localhost:8080/"
        },
        "id": "WEIF8OqOssyv",
        "outputId": "ee23c339-141d-4037-bb28-c2cabb2f64b7"
      },
      "execution_count": null,
      "outputs": [
        {
          "output_type": "execute_result",
          "data": {
            "text/plain": [
              "[('MSFT', 69),\n",
              " ('WMT', 75.32),\n",
              " ('AAPL', 144.09),\n",
              " ('FB', 150),\n",
              " ('GOOGL', 911.71)]"
            ]
          },
          "metadata": {},
          "execution_count": 172
        }
      ]
    },
    {
      "cell_type": "code",
      "source": [
        "price_list = [('Papa', 5000), ('Naranjas', 6250), ('Arroz', 2000), ('Carne', 12000), ('Mantequilla', 1200)]\n",
        "sorted(price_list, key = lambda x: x[1])"
      ],
      "metadata": {
        "colab": {
          "base_uri": "https://localhost:8080/"
        },
        "id": "wkPX0mO4sxOt",
        "outputId": "a0162531-febb-48b1-f8a4-5052d2b6bc61"
      },
      "execution_count": null,
      "outputs": [
        {
          "output_type": "execute_result",
          "data": {
            "text/plain": [
              "[('Mantequilla', 1200),\n",
              " ('Arroz', 2000),\n",
              " ('Papa', 5000),\n",
              " ('Naranjas', 6250),\n",
              " ('Carne', 12000)]"
            ]
          },
          "metadata": {},
          "execution_count": 173
        }
      ]
    },
    {
      "cell_type": "markdown",
      "source": [
        "# My own example 39"
      ],
      "metadata": {
        "id": "1EtBFZMgtDq0"
      }
    },
    {
      "cell_type": "code",
      "source": [
        "price_list = [('AAPL', 144.09), ('GOOGL', 911.71), ('MSFT', 69), ('FB', 150), ('WMT', 75.32)]\n",
        "price_list.sort(key = lambda x: x[1])\n",
        "print (price_list)"
      ],
      "metadata": {
        "colab": {
          "base_uri": "https://localhost:8080/"
        },
        "id": "YGV9pNGMtJvh",
        "outputId": "c73b0971-ed8f-4ce7-da2f-755ef62f8926"
      },
      "execution_count": null,
      "outputs": [
        {
          "output_type": "stream",
          "name": "stdout",
          "text": [
            "[('MSFT', 69), ('WMT', 75.32), ('AAPL', 144.09), ('FB', 150), ('GOOGL', 911.71)]\n"
          ]
        }
      ]
    },
    {
      "cell_type": "code",
      "source": [
        "compras = [('Papa', 5000), ('Naranjas', 6250), ('Arroz', 2000), ('Carne', 12000), ('Mantequilla', 1200)]\n",
        "compras.sort(key = lambda x: x[1])\n",
        "print (compras)"
      ],
      "metadata": {
        "colab": {
          "base_uri": "https://localhost:8080/"
        },
        "id": "_okxeVj5tapl",
        "outputId": "4499cd6c-82de-47d8-b044-ac596654623c"
      },
      "execution_count": null,
      "outputs": [
        {
          "output_type": "stream",
          "name": "stdout",
          "text": [
            "[('Mantequilla', 1200), ('Arroz', 2000), ('Papa', 5000), ('Naranjas', 6250), ('Carne', 12000)]\n"
          ]
        }
      ]
    },
    {
      "cell_type": "markdown",
      "source": [
        "# My own example 40"
      ],
      "metadata": {
        "id": "j8NdVFs-tj5u"
      }
    },
    {
      "cell_type": "code",
      "source": [
        "class Stock:\n",
        "    def __init__(self, ticker, open, close, volume):\n",
        "        self.ticker = ticker\n",
        "        self.open = open\n",
        "        self.close = close\n",
        "        self.volume = volume\n",
        "        self.rate_return = float(close)/open - 1\n",
        "\n",
        "    def update(self, open, close):\n",
        "        self.open = open\n",
        "        self.close = close\n",
        "        self.rate_return = float(self.close)/self.open - 1\n",
        "\n",
        "    def print_return(self):\n",
        "        print (self.rate_return)"
      ],
      "metadata": {
        "id": "-2tZwgaatmOF"
      },
      "execution_count": null,
      "outputs": []
    },
    {
      "cell_type": "code",
      "source": [
        "apple  = Stock('AAPL', 143.69, 144.09, 20109375)\n",
        "google = Stock('GOOGL', 898.7, 911.7, 1561616)"
      ],
      "metadata": {
        "id": "-7xhTfYpuEKt"
      },
      "execution_count": null,
      "outputs": []
    },
    {
      "cell_type": "code",
      "source": [
        "apple.ticker"
      ],
      "metadata": {
        "colab": {
          "base_uri": "https://localhost:8080/",
          "height": 35
        },
        "id": "mKAHBXPRu3cP",
        "outputId": "183f39fa-7010-4959-e7da-e8501f2655dd"
      },
      "execution_count": null,
      "outputs": [
        {
          "output_type": "execute_result",
          "data": {
            "text/plain": [
              "'AAPL'"
            ],
            "application/vnd.google.colaboratory.intrinsic+json": {
              "type": "string"
            }
          },
          "metadata": {},
          "execution_count": 188
        }
      ]
    },
    {
      "cell_type": "code",
      "source": [
        "class Teams:\n",
        "    def __init__(self, city, foundation, championships, current):\n",
        "        self.city = city\n",
        "        self.foundation = foundation\n",
        "        self.championships = championships\n",
        "        self.current=current"
      ],
      "metadata": {
        "id": "nyDujcXvwR4n"
      },
      "execution_count": null,
      "outputs": []
    },
    {
      "cell_type": "code",
      "source": [
        "Rockets  = Teams('Houston', 1971, 2,15)\n",
        "Lakers = Teams('Los Angeles', 1945, 17,10)"
      ],
      "metadata": {
        "id": "Uysdn7HhwXah"
      },
      "execution_count": null,
      "outputs": []
    },
    {
      "cell_type": "code",
      "source": [
        "Rockets.foundation"
      ],
      "metadata": {
        "colab": {
          "base_uri": "https://localhost:8080/"
        },
        "id": "Vpxf0v_wxX6I",
        "outputId": "78cc0e91-11f8-4528-9066-b37e5c74e4f5"
      },
      "execution_count": null,
      "outputs": [
        {
          "output_type": "execute_result",
          "data": {
            "text/plain": [
              "1971"
            ]
          },
          "metadata": {},
          "execution_count": 201
        }
      ]
    },
    {
      "cell_type": "markdown",
      "source": [
        "# My own example 41"
      ],
      "metadata": {
        "id": "ooiRabDZxrMN"
      }
    },
    {
      "cell_type": "code",
      "source": [
        "google.update(912.8,913.4)\n",
        "google.print_return()"
      ],
      "metadata": {
        "colab": {
          "base_uri": "https://localhost:8080/"
        },
        "id": "-eqjEf1kuJLs",
        "outputId": "5e679ac2-dce3-49b0-c19c-34025711b7ad"
      },
      "execution_count": null,
      "outputs": [
        {
          "output_type": "stream",
          "name": "stdout",
          "text": [
            "0.0006573181419806673\n"
          ]
        }
      ]
    },
    {
      "cell_type": "code",
      "source": [
        "Lakers.championships"
      ],
      "metadata": {
        "colab": {
          "base_uri": "https://localhost:8080/"
        },
        "id": "FtAzs2eoxvEf",
        "outputId": "0956c2f9-7774-4bcb-f712-b78f24ab32aa"
      },
      "execution_count": null,
      "outputs": [
        {
          "output_type": "execute_result",
          "data": {
            "text/plain": [
              "17"
            ]
          },
          "metadata": {},
          "execution_count": 202
        }
      ]
    },
    {
      "cell_type": "markdown",
      "source": [
        "# My own example 42"
      ],
      "metadata": {
        "id": "DB648vN3xvaz"
      }
    },
    {
      "cell_type": "code",
      "source": [
        "apple.ceo = 'Tim Cook'\n",
        "apple.ceo"
      ],
      "metadata": {
        "colab": {
          "base_uri": "https://localhost:8080/",
          "height": 35
        },
        "id": "0Z6eTFqQvZNe",
        "outputId": "4b6b8926-d219-4114-f938-9834c11e6623"
      },
      "execution_count": null,
      "outputs": [
        {
          "output_type": "execute_result",
          "data": {
            "text/plain": [
              "'Tim Cook'"
            ],
            "application/vnd.google.colaboratory.intrinsic+json": {
              "type": "string"
            }
          },
          "metadata": {},
          "execution_count": 192
        }
      ]
    },
    {
      "cell_type": "code",
      "source": [
        "Lakers.MVP= 'Lebron James'\n",
        "Lakers.MVP"
      ],
      "metadata": {
        "colab": {
          "base_uri": "https://localhost:8080/",
          "height": 35
        },
        "id": "gZ-01nPNx2PA",
        "outputId": "a4cb08ea-44ee-4219-c655-188bc32b871b"
      },
      "execution_count": null,
      "outputs": [
        {
          "output_type": "execute_result",
          "data": {
            "text/plain": [
              "'Lebron James'"
            ],
            "application/vnd.google.colaboratory.intrinsic+json": {
              "type": "string"
            }
          },
          "metadata": {},
          "execution_count": 203
        }
      ]
    },
    {
      "cell_type": "markdown",
      "source": [
        "# My own example 43"
      ],
      "metadata": {
        "id": "EVEaHcfFyPeU"
      }
    },
    {
      "cell_type": "code",
      "source": [
        "dir(apple)"
      ],
      "metadata": {
        "colab": {
          "base_uri": "https://localhost:8080/"
        },
        "id": "SVF2sMSeyALB",
        "outputId": "57127aa1-a244-4083-d583-7340711546b5"
      },
      "execution_count": null,
      "outputs": [
        {
          "output_type": "execute_result",
          "data": {
            "text/plain": [
              "['__class__',\n",
              " '__delattr__',\n",
              " '__dict__',\n",
              " '__dir__',\n",
              " '__doc__',\n",
              " '__eq__',\n",
              " '__format__',\n",
              " '__ge__',\n",
              " '__getattribute__',\n",
              " '__gt__',\n",
              " '__hash__',\n",
              " '__init__',\n",
              " '__init_subclass__',\n",
              " '__le__',\n",
              " '__lt__',\n",
              " '__module__',\n",
              " '__ne__',\n",
              " '__new__',\n",
              " '__reduce__',\n",
              " '__reduce_ex__',\n",
              " '__repr__',\n",
              " '__setattr__',\n",
              " '__sizeof__',\n",
              " '__str__',\n",
              " '__subclasshook__',\n",
              " '__weakref__',\n",
              " 'ceo',\n",
              " 'close',\n",
              " 'open',\n",
              " 'print_return',\n",
              " 'rate_return',\n",
              " 'ticker',\n",
              " 'update',\n",
              " 'volume']"
            ]
          },
          "metadata": {},
          "execution_count": 204
        }
      ]
    },
    {
      "cell_type": "code",
      "source": [
        "dir(Lakers)"
      ],
      "metadata": {
        "colab": {
          "base_uri": "https://localhost:8080/"
        },
        "id": "PfZL_NoEyGrA",
        "outputId": "3f0933e7-f99c-460b-8ecc-45c5cb3384d1"
      },
      "execution_count": null,
      "outputs": [
        {
          "output_type": "execute_result",
          "data": {
            "text/plain": [
              "['MVP',\n",
              " '__class__',\n",
              " '__delattr__',\n",
              " '__dict__',\n",
              " '__dir__',\n",
              " '__doc__',\n",
              " '__eq__',\n",
              " '__format__',\n",
              " '__ge__',\n",
              " '__getattribute__',\n",
              " '__gt__',\n",
              " '__hash__',\n",
              " '__init__',\n",
              " '__init_subclass__',\n",
              " '__le__',\n",
              " '__lt__',\n",
              " '__module__',\n",
              " '__ne__',\n",
              " '__new__',\n",
              " '__reduce__',\n",
              " '__reduce_ex__',\n",
              " '__repr__',\n",
              " '__setattr__',\n",
              " '__sizeof__',\n",
              " '__str__',\n",
              " '__subclasshook__',\n",
              " '__weakref__',\n",
              " 'championships',\n",
              " 'city',\n",
              " 'foundation']"
            ]
          },
          "metadata": {},
          "execution_count": 205
        }
      ]
    },
    {
      "cell_type": "markdown",
      "source": [
        "# My own example 44"
      ],
      "metadata": {
        "id": "kVR96bSGySjy"
      }
    },
    {
      "cell_type": "code",
      "source": [
        "class Child(Stock):\n",
        "    def __init__(self, name):\n",
        "        self.name = name"
      ],
      "metadata": {
        "id": "M9FGikX3yVak"
      },
      "execution_count": null,
      "outputs": []
    },
    {
      "cell_type": "code",
      "source": [
        "aa = Child('AA')\n",
        "print (aa.name)\n",
        "aa.update(100, 102)\n",
        "print (aa.open)\n",
        "print (aa.close)\n",
        "print (aa.print_return())"
      ],
      "metadata": {
        "colab": {
          "base_uri": "https://localhost:8080/"
        },
        "id": "oFGPqF-30YxX",
        "outputId": "a2da7c27-7e8f-47f5-cf76-76da699dea82"
      },
      "execution_count": null,
      "outputs": [
        {
          "output_type": "stream",
          "name": "stdout",
          "text": [
            "AA\n",
            "100\n",
            "102\n",
            "0.020000000000000018\n",
            "None\n"
          ]
        }
      ]
    },
    {
      "cell_type": "code",
      "source": [
        "class Child(Teams):\n",
        "    def __init__(self, city):\n",
        "        self.city = city"
      ],
      "metadata": {
        "id": "7tZlvh6L00yo"
      },
      "execution_count": null,
      "outputs": []
    },
    {
      "cell_type": "code",
      "source": [
        "Htown = Child('HOU')\n",
        "print (Htown.city)\n",
        "aa.update(1532, 2022)\n",
        "print (aa.open)\n",
        "print (aa.close)\n",
        "print (aa.print_return())"
      ],
      "metadata": {
        "colab": {
          "base_uri": "https://localhost:8080/"
        },
        "id": "In3WyV8e1OrZ",
        "outputId": "1ad626c7-40b4-4f1e-9bc8-4ee8f90eac83"
      },
      "execution_count": null,
      "outputs": [
        {
          "output_type": "stream",
          "name": "stdout",
          "text": [
            "HOU\n",
            "1532\n",
            "2022\n",
            "0.3198433420365536\n",
            "None\n"
          ]
        }
      ]
    },
    {
      "cell_type": "markdown",
      "source": [
        "# My own example 45"
      ],
      "metadata": {
        "id": "x_9uQ7GS1n-r"
      }
    },
    {
      "cell_type": "code",
      "source": [
        "my_string = 'Supercalifragilisticexpialidocious'\n",
        "print('The first letter is: ', my_string[0]) # Uppercase S\n",
        "print('The last letter is: ', my_string[-1]) # lowercase s\n",
        "print('The second to last letter is: ', my_string[-2]) # lowercase u\n",
        "print('The first five characters are: ', my_string[0:5]) # Remember: slicing doesn't include the final element!\n",
        "print('Reverse it!: ', my_string[::-1])"
      ],
      "metadata": {
        "colab": {
          "base_uri": "https://localhost:8080/"
        },
        "id": "fSjq20dw1qPE",
        "outputId": "1a708e19-3037-4859-98c7-022ea31deb92"
      },
      "execution_count": null,
      "outputs": [
        {
          "output_type": "stream",
          "name": "stdout",
          "text": [
            "The first letter is:  S\n",
            "The last letter is:  s\n",
            "The second to last letter is:  u\n",
            "The first five characters are:  Super\n",
            "Reverse it!:  suoicodilaipxecitsiligarfilacrepuS\n"
          ]
        }
      ]
    },
    {
      "cell_type": "code",
      "source": [
        "my_string = 'Esternocleidomastoideo'\n",
        "print('La primera letra: ', my_string[0])\n",
        "print('La última letra: ', my_string[-1])\n",
        "print('La penúltima letra: ', my_string[-2])\n",
        "print('Las primeras cuatro letras: ', my_string[0:4])\n",
        "print('Al revés: ', my_string[::-1])"
      ],
      "metadata": {
        "colab": {
          "base_uri": "https://localhost:8080/"
        },
        "id": "9Lln6a1T4pnX",
        "outputId": "4d17976c-90db-4513-fa1f-fad4a9bc39dc"
      },
      "execution_count": null,
      "outputs": [
        {
          "output_type": "stream",
          "name": "stdout",
          "text": [
            "La primera letra:  E\n",
            "La última letra:  o\n",
            "La penúltima letra:  e\n",
            "Las primeras cuatro letras:  Este\n",
            "Al revés:  oediotsamodielconretsE\n"
          ]
        }
      ]
    },
    {
      "cell_type": "markdown",
      "source": [
        "# My own example 46"
      ],
      "metadata": {
        "id": "QQEst5pM5UAj"
      }
    },
    {
      "cell_type": "code",
      "source": [
        "my_string = \"I can't hear you\"\n",
        "print(my_string.upper())\n",
        "my_string = \"I said HELLO\"\n",
        "print(my_string.lower())"
      ],
      "metadata": {
        "colab": {
          "base_uri": "https://localhost:8080/"
        },
        "id": "HnD68E455Wis",
        "outputId": "a2beec01-f418-46e1-ca7e-cfde43daa554"
      },
      "execution_count": null,
      "outputs": [
        {
          "output_type": "stream",
          "name": "stdout",
          "text": [
            "I CAN'T HEAR YOU\n",
            "i said hello\n"
          ]
        }
      ]
    },
    {
      "cell_type": "code",
      "source": [
        "my_string = \"Azul\"\n",
        "print(my_string.upper())\n",
        "my_string = \"Rojo\"\n",
        "print(my_string.lower())"
      ],
      "metadata": {
        "colab": {
          "base_uri": "https://localhost:8080/"
        },
        "id": "zx23nwPv5hEr",
        "outputId": "d148bce7-938e-4666-ac68-2e510bf8f6c6"
      },
      "execution_count": null,
      "outputs": [
        {
          "output_type": "stream",
          "name": "stdout",
          "text": [
            "AZUL\n",
            "rojo\n"
          ]
        }
      ]
    },
    {
      "cell_type": "markdown",
      "source": [
        "# My own example 47"
      ],
      "metadata": {
        "id": "9N8Xq7Ek5q3U"
      }
    },
    {
      "cell_type": "code",
      "source": [
        "def hello_world():\n",
        "    \"\"\" Prints Hello, world! \"\"\"\n",
        "    print ('Hello, world!')\n",
        "\n",
        "hello_world()"
      ],
      "metadata": {
        "colab": {
          "base_uri": "https://localhost:8080/"
        },
        "id": "LZbSWe4F5ssX",
        "outputId": "63b59d1d-a04b-47c9-a969-9995bf5b8005"
      },
      "execution_count": null,
      "outputs": [
        {
          "output_type": "stream",
          "name": "stdout",
          "text": [
            "Hello, world!\n"
          ]
        }
      ]
    },
    {
      "cell_type": "code",
      "source": [
        "for i in range(5):\n",
        "    hello_world()"
      ],
      "metadata": {
        "colab": {
          "base_uri": "https://localhost:8080/"
        },
        "id": "Bn81k5Ou6KC4",
        "outputId": "c075e78b-1fe7-4a41-a7c4-1bbe5f609487"
      },
      "execution_count": null,
      "outputs": [
        {
          "output_type": "stream",
          "name": "stdout",
          "text": [
            "Hello, world!\n",
            "Hello, world!\n",
            "Hello, world!\n",
            "Hello, world!\n",
            "Hello, world!\n"
          ]
        }
      ]
    },
    {
      "cell_type": "code",
      "source": [
        "def Good_morning():\n",
        "    print ('Good morning classmates')\n",
        "Good_morning()"
      ],
      "metadata": {
        "colab": {
          "base_uri": "https://localhost:8080/"
        },
        "id": "BTsBcjtq6LOT",
        "outputId": "650e8d28-db49-4497-cebc-34dc20b48ce7"
      },
      "execution_count": null,
      "outputs": [
        {
          "output_type": "stream",
          "name": "stdout",
          "text": [
            "Good morning classmates\n"
          ]
        }
      ]
    },
    {
      "cell_type": "code",
      "source": [
        "for i in range(8):\n",
        "    Good_morning()"
      ],
      "metadata": {
        "colab": {
          "base_uri": "https://localhost:8080/"
        },
        "id": "lsFdU0mL6YF8",
        "outputId": "8c7365ff-68cd-4f9d-b5b5-712e1da59af4"
      },
      "execution_count": null,
      "outputs": [
        {
          "output_type": "stream",
          "name": "stdout",
          "text": [
            "Good morning classmates\n",
            "Good morning classmates\n",
            "Good morning classmates\n",
            "Good morning classmates\n",
            "Good morning classmates\n",
            "Good morning classmates\n",
            "Good morning classmates\n",
            "Good morning classmates\n"
          ]
        }
      ]
    },
    {
      "cell_type": "markdown",
      "source": [
        "# My own example 48"
      ],
      "metadata": {
        "id": "SilLUcEf6cz3"
      }
    },
    {
      "cell_type": "code",
      "source": [
        "import numpy as np"
      ],
      "metadata": {
        "id": "QgCAMdwc6l4f"
      },
      "execution_count": null,
      "outputs": []
    },
    {
      "cell_type": "code",
      "source": [
        "price_list = [143.73, 145.83, 143.68, 144.02, 143.5, 142.62]\n",
        "price_array = np.array(price_list)\n",
        "print (price_array, type(price_array))"
      ],
      "metadata": {
        "colab": {
          "base_uri": "https://localhost:8080/"
        },
        "id": "KGQxp5QV_P3i",
        "outputId": "19360917-5fa0-47c4-bcc5-42a24c169a0e"
      },
      "execution_count": null,
      "outputs": [
        {
          "output_type": "stream",
          "name": "stdout",
          "text": [
            "[143.73 145.83 143.68 144.02 143.5  142.62] <class 'numpy.ndarray'>\n"
          ]
        }
      ]
    },
    {
      "cell_type": "code",
      "source": [
        "My_example = [156.22, 13.13, 56.48, 35.26, 99.75]\n",
        "Example = np.array(My_example)\n",
        "print (Example, type(My_example))"
      ],
      "metadata": {
        "colab": {
          "base_uri": "https://localhost:8080/"
        },
        "id": "GHzQU9Zz_juP",
        "outputId": "bfefacef-c302-48a6-e06a-ee38af8d9c58"
      },
      "execution_count": null,
      "outputs": [
        {
          "output_type": "stream",
          "name": "stdout",
          "text": [
            "[156.22  13.13  56.48  35.26  99.75] <class 'list'>\n"
          ]
        }
      ]
    },
    {
      "cell_type": "markdown",
      "source": [
        "# My own example 49"
      ],
      "metadata": {
        "id": "2YwpQWH2Acp7"
      }
    },
    {
      "cell_type": "code",
      "source": [
        "Ar = np.array([[1,3], [2,4]])\n",
        "print (Ar, type(Ar))"
      ],
      "metadata": {
        "colab": {
          "base_uri": "https://localhost:8080/"
        },
        "id": "yA5BvZGUCmAn",
        "outputId": "8ebcd0c5-5daf-41ef-da2a-82835e4836d1"
      },
      "execution_count": null,
      "outputs": [
        {
          "output_type": "stream",
          "name": "stdout",
          "text": [
            "[[1 3]\n",
            " [2 4]] <class 'numpy.ndarray'>\n"
          ]
        }
      ]
    },
    {
      "cell_type": "code",
      "source": [
        "Br = np.array([['a','b','c'], ['d','e','f'],['g','h','j']])\n",
        "print (Br, type(Br))"
      ],
      "metadata": {
        "colab": {
          "base_uri": "https://localhost:8080/"
        },
        "id": "BEagqbeQCo6-",
        "outputId": "f6f01cba-688e-4d00-e2af-e92c2f4c8a43"
      },
      "execution_count": null,
      "outputs": [
        {
          "output_type": "stream",
          "name": "stdout",
          "text": [
            "[['a' 'b' 'c']\n",
            " ['d' 'e' 'f']\n",
            " ['g' 'h' 'j']] <class 'numpy.ndarray'>\n"
          ]
        }
      ]
    },
    {
      "cell_type": "markdown",
      "source": [
        "# My own example 50"
      ],
      "metadata": {
        "id": "r9l-BA1EC2Jn"
      }
    },
    {
      "cell_type": "code",
      "source": [
        "print (Ar.shape)"
      ],
      "metadata": {
        "colab": {
          "base_uri": "https://localhost:8080/"
        },
        "id": "1OoO9XKvC4DW",
        "outputId": "7634e06e-682f-4808-daaf-05cdd90eb3af"
      },
      "execution_count": null,
      "outputs": [
        {
          "output_type": "stream",
          "name": "stdout",
          "text": [
            "(2, 2)\n"
          ]
        }
      ]
    },
    {
      "cell_type": "code",
      "source": [
        "print(Br.shape)"
      ],
      "metadata": {
        "colab": {
          "base_uri": "https://localhost:8080/"
        },
        "id": "3m-zKNYPDQjw",
        "outputId": "2197b7b1-1cc1-4332-d337-41499197bd45"
      },
      "execution_count": null,
      "outputs": [
        {
          "output_type": "stream",
          "name": "stdout",
          "text": [
            "(3, 3)\n"
          ]
        }
      ]
    },
    {
      "cell_type": "markdown",
      "source": [
        "# My own example 51"
      ],
      "metadata": {
        "id": "Aw0FDDGmDVOG"
      }
    },
    {
      "cell_type": "code",
      "source": [
        "print (Ar[0])"
      ],
      "metadata": {
        "colab": {
          "base_uri": "https://localhost:8080/"
        },
        "id": "MJCbYTa_DXUl",
        "outputId": "7297c768-a4fe-47ec-d543-078a703195c6"
      },
      "execution_count": null,
      "outputs": [
        {
          "output_type": "stream",
          "name": "stdout",
          "text": [
            "['a' 'b']\n"
          ]
        }
      ]
    },
    {
      "cell_type": "code",
      "source": [
        "print (Br[1])"
      ],
      "metadata": {
        "colab": {
          "base_uri": "https://localhost:8080/"
        },
        "id": "ZWsTbMtyDbco",
        "outputId": "85ef8e6c-63b1-4ebb-ba86-5de7c42c07d6"
      },
      "execution_count": null,
      "outputs": [
        {
          "output_type": "stream",
          "name": "stdout",
          "text": [
            "['d' 'e' 'f']\n"
          ]
        }
      ]
    },
    {
      "cell_type": "markdown",
      "source": [
        "# My own example 52"
      ],
      "metadata": {
        "id": "HrTCX9N8DgWf"
      }
    },
    {
      "cell_type": "code",
      "source": [
        "print ('First column:', Ar[:,0])"
      ],
      "metadata": {
        "colab": {
          "base_uri": "https://localhost:8080/"
        },
        "id": "wxwD0Q0pDh66",
        "outputId": "7776c56c-cff9-41fb-8c3d-1294d3a089a5"
      },
      "execution_count": null,
      "outputs": [
        {
          "output_type": "stream",
          "name": "stdout",
          "text": [
            "First column: ['a' 'c']\n"
          ]
        }
      ]
    },
    {
      "cell_type": "code",
      "source": [
        "print ('First column:', Br[:,0])"
      ],
      "metadata": {
        "colab": {
          "base_uri": "https://localhost:8080/"
        },
        "id": "I_h66h40DoTi",
        "outputId": "43cbc832-3d4a-445f-926c-632e925f1d4a"
      },
      "execution_count": null,
      "outputs": [
        {
          "output_type": "stream",
          "name": "stdout",
          "text": [
            "First column: ['a' 'd' 'g']\n"
          ]
        }
      ]
    },
    {
      "cell_type": "markdown",
      "source": [
        "# My own example 52"
      ],
      "metadata": {
        "id": "_XaZ2mtoDtdL"
      }
    },
    {
      "cell_type": "code",
      "source": [
        "print ('Second column:', Ar[:,1])"
      ],
      "metadata": {
        "colab": {
          "base_uri": "https://localhost:8080/"
        },
        "id": "RPVmskpOEAg6",
        "outputId": "c53bb01f-e626-4177-a849-93746533bbb4"
      },
      "execution_count": null,
      "outputs": [
        {
          "output_type": "stream",
          "name": "stdout",
          "text": [
            "Second column: ['b' 'd']\n"
          ]
        }
      ]
    },
    {
      "cell_type": "code",
      "source": [
        "print ('Second column:', Br[:,1])"
      ],
      "metadata": {
        "colab": {
          "base_uri": "https://localhost:8080/"
        },
        "id": "SAhyZeNtDwu8",
        "outputId": "a9786513-b5ad-4bd6-8ea1-996aeffe2025"
      },
      "execution_count": null,
      "outputs": [
        {
          "output_type": "stream",
          "name": "stdout",
          "text": [
            "Second column: ['b' 'e' 'h']\n"
          ]
        }
      ]
    },
    {
      "cell_type": "markdown",
      "source": [
        "# My own example 53"
      ],
      "metadata": {
        "id": "vzgTiZYZEEag"
      }
    },
    {
      "cell_type": "code",
      "source": [
        "np.log(price_list)"
      ],
      "metadata": {
        "colab": {
          "base_uri": "https://localhost:8080/"
        },
        "id": "igXUgBbSEGk8",
        "outputId": "e2131137-a686-4685-ce33-3fef971123f6"
      },
      "execution_count": null,
      "outputs": [
        {
          "output_type": "execute_result",
          "data": {
            "text/plain": [
              "array([4.96793654, 4.98244156, 4.9675886 , 4.96995218, 4.96633504,\n",
              "       4.96018375])"
            ]
          },
          "metadata": {},
          "execution_count": 260
        }
      ]
    },
    {
      "cell_type": "code",
      "source": [
        "np.log(Example)"
      ],
      "metadata": {
        "colab": {
          "base_uri": "https://localhost:8080/"
        },
        "id": "_G2BYfVMFx8_",
        "outputId": "0f460c4d-f27e-4d2f-a135-d093915565f7"
      },
      "execution_count": null,
      "outputs": [
        {
          "output_type": "execute_result",
          "data": {
            "text/plain": [
              "array([5.05126527, 2.57489969, 4.03388659, 3.56274918, 4.60266706])"
            ]
          },
          "metadata": {},
          "execution_count": 259
        }
      ]
    },
    {
      "cell_type": "markdown",
      "source": [
        "# My own example 54"
      ],
      "metadata": {
        "id": "ZkFN-ntIGJUo"
      }
    },
    {
      "cell_type": "code",
      "source": [
        "print (np.mean(price_list))\n",
        "print (np.std(price_list))\n",
        "print (np.sum(price_list))\n",
        "print (np.max(price_list))"
      ],
      "metadata": {
        "colab": {
          "base_uri": "https://localhost:8080/"
        },
        "id": "73x9nbXDE7Ts",
        "outputId": "0b7f2c12-8aea-4ee6-dc1f-50e1d4127dce"
      },
      "execution_count": null,
      "outputs": [
        {
          "output_type": "stream",
          "name": "stdout",
          "text": [
            "143.89666666666668\n",
            "0.9673790478515796\n",
            "863.38\n",
            "145.83\n"
          ]
        }
      ]
    },
    {
      "cell_type": "code",
      "source": [
        "print (np.mean(My_example))\n",
        "print (np.std(My_example))\n",
        "print (np.sum(My_example))\n",
        "print (np.max(My_example))"
      ],
      "metadata": {
        "colab": {
          "base_uri": "https://localhost:8080/"
        },
        "id": "oVxPaimhGNMq",
        "outputId": "ce7613ba-f892-44a1-e099-46f88d6175e7"
      },
      "execution_count": null,
      "outputs": [
        {
          "output_type": "stream",
          "name": "stdout",
          "text": [
            "72.16799999999999\n",
            "50.8316922401763\n",
            "360.84\n",
            "156.22\n"
          ]
        }
      ]
    },
    {
      "cell_type": "markdown",
      "source": [
        "# My own example 55"
      ],
      "metadata": {
        "id": "4eK6p4qVGYsq"
      }
    },
    {
      "cell_type": "code",
      "source": [
        "import pandas as pd"
      ],
      "metadata": {
        "id": "nFr1xJ7eGasi"
      },
      "execution_count": null,
      "outputs": []
    },
    {
      "cell_type": "code",
      "source": [
        "price = [143.73, 145.83, 143.68, 144.02, 143.5, 142.62]\n",
        "s = pd.Series(price)\n",
        "print (s)"
      ],
      "metadata": {
        "colab": {
          "base_uri": "https://localhost:8080/"
        },
        "id": "HwDTwoI1GeuE",
        "outputId": "bee3956e-67be-4803-ec7e-899849b181d8"
      },
      "execution_count": null,
      "outputs": [
        {
          "output_type": "stream",
          "name": "stdout",
          "text": [
            "0    143.73\n",
            "1    145.83\n",
            "2    143.68\n",
            "3    144.02\n",
            "4    143.50\n",
            "5    142.62\n",
            "dtype: float64\n"
          ]
        }
      ]
    },
    {
      "cell_type": "code",
      "source": [
        "My_example = [156.22, 13.13, 56.48, 35.26, 99.75]\n",
        "t = pd.Series(My_example)\n",
        "print (t)"
      ],
      "metadata": {
        "colab": {
          "base_uri": "https://localhost:8080/"
        },
        "id": "cIQp--jiGiKE",
        "outputId": "214490ac-a213-46fc-a26b-6568cf408a45"
      },
      "execution_count": null,
      "outputs": [
        {
          "output_type": "stream",
          "name": "stdout",
          "text": [
            "0    156.22\n",
            "1     13.13\n",
            "2     56.48\n",
            "3     35.26\n",
            "4     99.75\n",
            "dtype: float64\n"
          ]
        }
      ]
    },
    {
      "cell_type": "markdown",
      "source": [
        "# My own example 56"
      ],
      "metadata": {
        "id": "wKD9N82vHII7"
      }
    },
    {
      "cell_type": "code",
      "source": [
        "s = pd.Series(price, index = ['a', 'b', 'c', 'd', 'e', 'f'])\n",
        "print (s)"
      ],
      "metadata": {
        "colab": {
          "base_uri": "https://localhost:8080/"
        },
        "id": "FHH3u8QMHOwJ",
        "outputId": "e2315212-2858-476c-daa2-e756a120334e"
      },
      "execution_count": null,
      "outputs": [
        {
          "output_type": "stream",
          "name": "stdout",
          "text": [
            "a    143.73\n",
            "b    145.83\n",
            "c    143.68\n",
            "d    144.02\n",
            "e    143.50\n",
            "f    142.62\n",
            "dtype: float64\n"
          ]
        }
      ]
    },
    {
      "cell_type": "code",
      "source": [
        "t = pd.Series(My_example, index = ['a', 'b', 'c', 'd', 'e'])\n",
        "print (t)"
      ],
      "metadata": {
        "colab": {
          "base_uri": "https://localhost:8080/"
        },
        "id": "V1rG4yEzHSQa",
        "outputId": "45e27586-f484-4163-d6b4-e4dc7859ac05"
      },
      "execution_count": null,
      "outputs": [
        {
          "output_type": "stream",
          "name": "stdout",
          "text": [
            "a    156.22\n",
            "b     13.13\n",
            "c     56.48\n",
            "d     35.26\n",
            "e     99.75\n",
            "dtype: float64\n"
          ]
        }
      ]
    },
    {
      "cell_type": "markdown",
      "source": [
        "# My own example 57"
      ],
      "metadata": {
        "id": "nmvCNJtFHe3m"
      }
    },
    {
      "cell_type": "code",
      "source": [
        "s.index = [6,5,4,3,2,1]\n",
        "print (s)"
      ],
      "metadata": {
        "colab": {
          "base_uri": "https://localhost:8080/"
        },
        "id": "WhoGEc-qHi5C",
        "outputId": "0e2a6028-e7a5-4fa5-d947-1a6b85d0c598"
      },
      "execution_count": null,
      "outputs": [
        {
          "output_type": "stream",
          "name": "stdout",
          "text": [
            "6    143.73\n",
            "5    145.83\n",
            "4    143.68\n",
            "3    144.02\n",
            "2    143.50\n",
            "1    142.62\n",
            "dtype: float64\n"
          ]
        }
      ]
    },
    {
      "cell_type": "code",
      "source": [
        "t.index = [5,4,3,2,1]\n",
        "print (t)"
      ],
      "metadata": {
        "colab": {
          "base_uri": "https://localhost:8080/"
        },
        "id": "eGm-mpskHk6y",
        "outputId": "0d9e3ac7-3f8e-422a-b57d-0207db45a3c7"
      },
      "execution_count": null,
      "outputs": [
        {
          "output_type": "stream",
          "name": "stdout",
          "text": [
            "5    156.22\n",
            "4     13.13\n",
            "3     56.48\n",
            "2     35.26\n",
            "1     99.75\n",
            "dtype: float64\n"
          ]
        }
      ]
    },
    {
      "cell_type": "markdown",
      "source": [
        "# My own example 58"
      ],
      "metadata": {
        "id": "hLjkn2azHpfS"
      }
    },
    {
      "cell_type": "code",
      "source": [
        "print (s[1:])\n",
        "print (s[:-2])"
      ],
      "metadata": {
        "colab": {
          "base_uri": "https://localhost:8080/"
        },
        "id": "lmgRgCSNHvCO",
        "outputId": "821636ed-9ae3-46fb-f9d7-348a0b2a75d3"
      },
      "execution_count": null,
      "outputs": [
        {
          "output_type": "stream",
          "name": "stdout",
          "text": [
            "5    145.83\n",
            "4    143.68\n",
            "3    144.02\n",
            "2    143.50\n",
            "1    142.62\n",
            "dtype: float64\n",
            "6    143.73\n",
            "5    145.83\n",
            "4    143.68\n",
            "3    144.02\n",
            "dtype: float64\n"
          ]
        }
      ]
    },
    {
      "cell_type": "code",
      "source": [
        "print (t[1:])\n",
        "print (t[:-2])"
      ],
      "metadata": {
        "colab": {
          "base_uri": "https://localhost:8080/"
        },
        "id": "u_jLQg6bH0pi",
        "outputId": "c4f8ac4c-ca55-48f1-fa52-44755e8c7198"
      },
      "execution_count": null,
      "outputs": [
        {
          "output_type": "stream",
          "name": "stdout",
          "text": [
            "4    13.13\n",
            "3    56.48\n",
            "2    35.26\n",
            "1    99.75\n",
            "dtype: float64\n",
            "5    156.22\n",
            "4     13.13\n",
            "3     56.48\n",
            "dtype: float64\n"
          ]
        }
      ]
    },
    {
      "cell_type": "markdown",
      "source": [
        "# My own example 59"
      ],
      "metadata": {
        "id": "AosW-mOYH5R-"
      }
    },
    {
      "cell_type": "code",
      "source": [
        "print (s[4])\n",
        "s[4] = 0\n",
        "print (s)"
      ],
      "metadata": {
        "colab": {
          "base_uri": "https://localhost:8080/"
        },
        "id": "6ZGDoknHH7aW",
        "outputId": "61dc6ccd-b86a-4c80-c52a-2b3a0d2bdbdc"
      },
      "execution_count": null,
      "outputs": [
        {
          "output_type": "stream",
          "name": "stdout",
          "text": [
            "143.68\n",
            "6    143.73\n",
            "5    145.83\n",
            "4      0.00\n",
            "3    144.02\n",
            "2    143.50\n",
            "1    142.62\n",
            "dtype: float64\n"
          ]
        }
      ]
    },
    {
      "cell_type": "code",
      "source": [
        "print (t[2])\n",
        "t[2] = 0\n",
        "print (t)"
      ],
      "metadata": {
        "colab": {
          "base_uri": "https://localhost:8080/"
        },
        "id": "pcRPZUEdIB3R",
        "outputId": "6959c131-5f21-4791-ad53-d949f22982bb"
      },
      "execution_count": null,
      "outputs": [
        {
          "output_type": "stream",
          "name": "stdout",
          "text": [
            "35.26\n",
            "5    156.22\n",
            "4     13.13\n",
            "3     56.48\n",
            "2      0.00\n",
            "1     99.75\n",
            "dtype: float64\n"
          ]
        }
      ]
    },
    {
      "cell_type": "markdown",
      "source": [
        "## My own example 60"
      ],
      "metadata": {
        "id": "CS0_N1Y6IG1M"
      }
    },
    {
      "cell_type": "code",
      "source": [
        "s = pd.Series(price, name = 'Apple Prices')\n",
        "print (s)\n",
        "print (s.name)"
      ],
      "metadata": {
        "colab": {
          "base_uri": "https://localhost:8080/"
        },
        "id": "I_mxm8etILhD",
        "outputId": "5f2906bc-a481-4f5d-a302-40c8766a2642"
      },
      "execution_count": null,
      "outputs": [
        {
          "output_type": "stream",
          "name": "stdout",
          "text": [
            "0    143.73\n",
            "1    145.83\n",
            "2    143.68\n",
            "3    144.02\n",
            "4    143.50\n",
            "5    142.62\n",
            "Name: Apple Prices, dtype: float64\n",
            "Apple Prices\n"
          ]
        }
      ]
    },
    {
      "cell_type": "code",
      "source": [
        "t = pd.Series(price, name = '100m times')\n",
        "print (t)\n",
        "print (t.name)"
      ],
      "metadata": {
        "colab": {
          "base_uri": "https://localhost:8080/"
        },
        "id": "Qk1uwiVaIOSd",
        "outputId": "1fb878b8-ee64-4f46-c865-8a30b527d19a"
      },
      "execution_count": null,
      "outputs": [
        {
          "output_type": "stream",
          "name": "stdout",
          "text": [
            "0    143.73\n",
            "1    145.83\n",
            "2    143.68\n",
            "3    144.02\n",
            "4    143.50\n",
            "5    142.62\n",
            "Name: 100m times, dtype: float64\n",
            "100m times\n"
          ]
        }
      ]
    },
    {
      "cell_type": "markdown",
      "source": [
        "# My own example 61"
      ],
      "metadata": {
        "id": "ChVEygmOIa8C"
      }
    },
    {
      "cell_type": "code",
      "source": [
        "print (s.describe())"
      ],
      "metadata": {
        "colab": {
          "base_uri": "https://localhost:8080/"
        },
        "id": "s98EOXu-Ic6z",
        "outputId": "6c3e6b64-0fbe-4b3d-c6a4-ca061f27fd3a"
      },
      "execution_count": null,
      "outputs": [
        {
          "output_type": "stream",
          "name": "stdout",
          "text": [
            "count      6.000000\n",
            "mean     143.896667\n",
            "std        1.059711\n",
            "min      142.620000\n",
            "25%      143.545000\n",
            "50%      143.705000\n",
            "75%      143.947500\n",
            "max      145.830000\n",
            "Name: Apple Prices, dtype: float64\n"
          ]
        }
      ]
    },
    {
      "cell_type": "code",
      "source": [
        "print (t.describe())"
      ],
      "metadata": {
        "colab": {
          "base_uri": "https://localhost:8080/"
        },
        "id": "u3YcEr0pIfhR",
        "outputId": "f701567c-f49d-42ec-a05a-d1aa8510afbf"
      },
      "execution_count": null,
      "outputs": [
        {
          "output_type": "stream",
          "name": "stdout",
          "text": [
            "count      6.000000\n",
            "mean     143.896667\n",
            "std        1.059711\n",
            "min      142.620000\n",
            "25%      143.545000\n",
            "50%      143.705000\n",
            "75%      143.947500\n",
            "max      145.830000\n",
            "Name: 100m times, dtype: float64\n"
          ]
        }
      ]
    },
    {
      "cell_type": "markdown",
      "source": [
        "# My own example 62"
      ],
      "metadata": {
        "id": "Y4Ee2EwzIkiq"
      }
    },
    {
      "cell_type": "code",
      "source": [
        "time_index = pd.date_range('2017-01-01', periods = len(s), freq = 'D')\n",
        "print (time_index)\n",
        "s.index = time_index\n",
        "print (s)"
      ],
      "metadata": {
        "colab": {
          "base_uri": "https://localhost:8080/"
        },
        "id": "u9FkcsXKIphG",
        "outputId": "dea022f8-8a74-4204-84cc-1f9a812fabbd"
      },
      "execution_count": null,
      "outputs": [
        {
          "output_type": "stream",
          "name": "stdout",
          "text": [
            "DatetimeIndex(['2017-01-01', '2017-01-02', '2017-01-03', '2017-01-04',\n",
            "               '2017-01-05', '2017-01-06'],\n",
            "              dtype='datetime64[ns]', freq='D')\n",
            "2017-01-01    143.73\n",
            "2017-01-02    145.83\n",
            "2017-01-03    143.68\n",
            "2017-01-04    144.02\n",
            "2017-01-05    143.50\n",
            "2017-01-06    142.62\n",
            "Freq: D, Name: Apple Prices, dtype: float64\n"
          ]
        }
      ]
    },
    {
      "cell_type": "code",
      "source": [
        "time_index = pd.date_range('2022-04-02', periods = len(t), freq = 'D')\n",
        "print (time_index)\n",
        "t.index = time_index\n",
        "print (t)"
      ],
      "metadata": {
        "colab": {
          "base_uri": "https://localhost:8080/"
        },
        "id": "2dyrBKPZJHS1",
        "outputId": "0293b7c2-67fd-4efa-fb83-058e9c48444c"
      },
      "execution_count": null,
      "outputs": [
        {
          "output_type": "stream",
          "name": "stdout",
          "text": [
            "DatetimeIndex(['2022-04-02', '2022-04-03', '2022-04-04', '2022-04-05',\n",
            "               '2022-04-06', '2022-04-07'],\n",
            "              dtype='datetime64[ns]', freq='D')\n",
            "2022-04-02    143.73\n",
            "2022-04-03    145.83\n",
            "2022-04-04    143.68\n",
            "2022-04-05    144.02\n",
            "2022-04-06    143.50\n",
            "2022-04-07    142.62\n",
            "Freq: D, Name: 100m times, dtype: float64\n"
          ]
        }
      ]
    },
    {
      "cell_type": "markdown",
      "source": [
        "# My own example 63"
      ],
      "metadata": {
        "id": "rNScGdemJWvf"
      }
    },
    {
      "cell_type": "code",
      "source": [
        "s.index = [6,5,4,3,2,1]\n",
        "print s\n",
        "print s[1]"
      ],
      "metadata": {
        "colab": {
          "base_uri": "https://localhost:8080/"
        },
        "id": "dk8LRC8UJaNm",
        "outputId": "12c9ae58-f548-4587-d9d4-976ea0380089"
      },
      "execution_count": null,
      "outputs": [
        {
          "output_type": "stream",
          "name": "stdout",
          "text": [
            "6    143.73\n",
            "5    145.83\n",
            "4    143.68\n",
            "3    144.02\n",
            "2    143.50\n",
            "1    142.62\n",
            "Name: Apple Prices, dtype: float64\n",
            "142.62\n"
          ]
        }
      ]
    },
    {
      "cell_type": "code",
      "source": [
        "t.index = [6,5,4,3,2,1]\n",
        "print (t)\n",
        "print (t[1])"
      ],
      "metadata": {
        "colab": {
          "base_uri": "https://localhost:8080/"
        },
        "id": "Ud4UO72GJdBe",
        "outputId": "eab50134-dd66-481d-b249-6beee0a93e2f"
      },
      "execution_count": null,
      "outputs": [
        {
          "output_type": "stream",
          "name": "stdout",
          "text": [
            "6    143.73\n",
            "5    145.83\n",
            "4    143.68\n",
            "3    144.02\n",
            "2    143.50\n",
            "1    142.62\n",
            "Name: 100m times, dtype: float64\n",
            "142.62\n"
          ]
        }
      ]
    },
    {
      "cell_type": "markdown",
      "source": [
        "# My own example 64\n",
        "\n"
      ],
      "metadata": {
        "id": "9qcjmLTjJo_a"
      }
    },
    {
      "cell_type": "code",
      "source": [
        "print (s.iloc[1])"
      ],
      "metadata": {
        "colab": {
          "base_uri": "https://localhost:8080/"
        },
        "id": "Qdo_AZedJoil",
        "outputId": "1c29c001-897c-4eeb-9918-0faf9570ab05"
      },
      "execution_count": null,
      "outputs": [
        {
          "output_type": "stream",
          "name": "stdout",
          "text": [
            "145.83\n"
          ]
        }
      ]
    },
    {
      "cell_type": "code",
      "source": [
        "print (t.iloc[2])"
      ],
      "metadata": {
        "colab": {
          "base_uri": "https://localhost:8080/"
        },
        "id": "oJxRByHfJx7G",
        "outputId": "feeabb10-c141-47bb-f131-3212621adf1a"
      },
      "execution_count": null,
      "outputs": [
        {
          "output_type": "stream",
          "name": "stdout",
          "text": [
            "143.68\n"
          ]
        }
      ]
    },
    {
      "cell_type": "markdown",
      "source": [
        "# My own example 65"
      ],
      "metadata": {
        "id": "waoJKj7MJ1h9"
      }
    },
    {
      "cell_type": "code",
      "source": [
        "import pandas as pd\n"
      ],
      "metadata": {
        "id": "gJb0bEfamMt4"
      },
      "execution_count": null,
      "outputs": []
    },
    {
      "cell_type": "code",
      "source": [
        "price = [143.73, 145.83, 143.68, 144.02, 143.5, 142.62]\n",
        "s = pd.Series(price)"
      ],
      "metadata": {
        "id": "z3QahdAvmdHs"
      },
      "execution_count": null,
      "outputs": []
    },
    {
      "cell_type": "code",
      "source": [
        "time_index = pd.date_range('2017-01-01', periods = len(s), freq = 'D')\n",
        "s.index = time_index\n",
        "print (s['2017-01-03'])"
      ],
      "metadata": {
        "colab": {
          "base_uri": "https://localhost:8080/"
        },
        "id": "zIaDDF0IJ3nT",
        "outputId": "fc4cd0a2-e81a-46b0-9b23-e93d7a920f75"
      },
      "execution_count": null,
      "outputs": [
        {
          "output_type": "stream",
          "name": "stdout",
          "text": [
            "143.68\n"
          ]
        }
      ]
    },
    {
      "cell_type": "code",
      "source": [
        "My_example = [156.22, 13.13, 56.48, 35.26, 99.75]\n",
        "t = pd.Series(My_example)"
      ],
      "metadata": {
        "id": "6Tr0FOB6mppG"
      },
      "execution_count": null,
      "outputs": []
    },
    {
      "cell_type": "code",
      "source": [
        "time_index = pd.date_range('2022-04-02', periods = len(t), freq = 'D')\n",
        "t.index = time_index\n",
        "print (t['2022-04-03'])"
      ],
      "metadata": {
        "colab": {
          "base_uri": "https://localhost:8080/"
        },
        "id": "2iT33QrXmzVm",
        "outputId": "0a65bc33-2590-437d-b36c-1e141491cc27"
      },
      "execution_count": null,
      "outputs": [
        {
          "output_type": "stream",
          "name": "stdout",
          "text": [
            "13.13\n"
          ]
        }
      ]
    },
    {
      "cell_type": "markdown",
      "source": [
        "# My own example 66"
      ],
      "metadata": {
        "id": "wicMtD5jmrWg"
      }
    },
    {
      "cell_type": "code",
      "source": [
        "print (s['2017-01-02':'2017-01-05'])"
      ],
      "metadata": {
        "colab": {
          "base_uri": "https://localhost:8080/"
        },
        "id": "9oDTDkZTmmYn",
        "outputId": "063d3c93-70e9-472b-c82a-5d777f4b1680"
      },
      "execution_count": null,
      "outputs": [
        {
          "output_type": "stream",
          "name": "stdout",
          "text": [
            "2017-01-02    145.83\n",
            "2017-01-03    143.68\n",
            "2017-01-04    144.02\n",
            "2017-01-05    143.50\n",
            "Freq: D, dtype: float64\n"
          ]
        }
      ]
    },
    {
      "cell_type": "code",
      "source": [
        "print (t['2022-04-03':'2022-04-05'])"
      ],
      "metadata": {
        "colab": {
          "base_uri": "https://localhost:8080/"
        },
        "id": "P10H82q-nJef",
        "outputId": "3e3f0d8b-c520-4a91-be11-bbaa54034d3c"
      },
      "execution_count": null,
      "outputs": [
        {
          "output_type": "stream",
          "name": "stdout",
          "text": [
            "2022-04-03    13.13\n",
            "2022-04-04    56.48\n",
            "2022-04-05    35.26\n",
            "Freq: D, dtype: float64\n"
          ]
        }
      ]
    },
    {
      "cell_type": "markdown",
      "source": [
        "# My own example 67"
      ],
      "metadata": {
        "id": "jTN83iCKnQZx"
      }
    },
    {
      "cell_type": "code",
      "source": [
        "import numpy as np\n"
      ],
      "metadata": {
        "id": "-kWw45z2ngGn"
      },
      "execution_count": null,
      "outputs": []
    },
    {
      "cell_type": "code",
      "source": [
        "print (s[s < np.mean(s)])\n",
        "print (s[(s > np.mean(s)) & (s < np.mean(s) + 1.64*np.std(s))])"
      ],
      "metadata": {
        "colab": {
          "base_uri": "https://localhost:8080/"
        },
        "id": "iJN6zYO-nS42",
        "outputId": "7bf8da98-7dee-4d68-edf8-affa599cde7f"
      },
      "execution_count": null,
      "outputs": [
        {
          "output_type": "stream",
          "name": "stdout",
          "text": [
            "2017-01-01    143.73\n",
            "2017-01-03    143.68\n",
            "2017-01-05    143.50\n",
            "2017-01-06    142.62\n",
            "dtype: float64\n",
            "2017-01-04    144.02\n",
            "Freq: D, dtype: float64\n"
          ]
        }
      ]
    },
    {
      "cell_type": "code",
      "source": [
        "print (t[t < np.mean(t)])\n",
        "print (t[(t > np.mean(t)) & (t < np.mean(t) + 1.64*np.std(t))])"
      ],
      "metadata": {
        "colab": {
          "base_uri": "https://localhost:8080/"
        },
        "id": "tAPw69QKnloI",
        "outputId": "3588e84d-4d67-4e18-e8ec-ebcda4d33edb"
      },
      "execution_count": null,
      "outputs": [
        {
          "output_type": "stream",
          "name": "stdout",
          "text": [
            "2022-04-03    13.13\n",
            "2022-04-04    56.48\n",
            "2022-04-05    35.26\n",
            "Freq: D, dtype: float64\n",
            "2022-04-06    99.75\n",
            "Freq: D, dtype: float64\n"
          ]
        }
      ]
    },
    {
      "cell_type": "markdown",
      "source": [
        "# My own example 68"
      ],
      "metadata": {
        "id": "4Ou5ykfjnug5"
      }
    },
    {
      "cell_type": "code",
      "source": [
        "print (\"First element of the series: \", s.iloc[0])\n",
        "print (\"Last element of the series: \", s.iloc[len(s)-1])"
      ],
      "metadata": {
        "colab": {
          "base_uri": "https://localhost:8080/"
        },
        "id": "_qEVrHm9nxQh",
        "outputId": "5e9f374b-9087-463d-bb97-c4fcecaa0b94"
      },
      "execution_count": null,
      "outputs": [
        {
          "output_type": "stream",
          "name": "stdout",
          "text": [
            "First element of the series:  143.73\n",
            "Last element of the series:  142.62\n"
          ]
        }
      ]
    },
    {
      "cell_type": "code",
      "source": [
        "print (\"First element of the series: \", t.iloc[0])\n",
        "print (\"Last element of the series: \", t.iloc[len(t)-1])"
      ],
      "metadata": {
        "colab": {
          "base_uri": "https://localhost:8080/"
        },
        "id": "c1aFQFHlohPd",
        "outputId": "5ec27651-85b0-456e-fa8f-2e4268129dd1"
      },
      "execution_count": null,
      "outputs": [
        {
          "output_type": "stream",
          "name": "stdout",
          "text": [
            "First element of the series:  156.22\n",
            "Last element of the series:  99.75\n"
          ]
        }
      ]
    },
    {
      "cell_type": "markdown",
      "source": [
        "# My own example 69"
      ],
      "metadata": {
        "id": "WQgx0_VvooSQ"
      }
    },
    {
      "cell_type": "code",
      "source": [
        "start = 0\n",
        "end = len(s) - 1\n",
        "step = 1\n",
        "\n",
        "s.iloc[start:end:step]"
      ],
      "metadata": {
        "colab": {
          "base_uri": "https://localhost:8080/"
        },
        "id": "b3FBFKEWoqE6",
        "outputId": "99d436a5-88a0-4c54-cc96-59a8f6476059"
      },
      "execution_count": null,
      "outputs": [
        {
          "output_type": "execute_result",
          "data": {
            "text/plain": [
              "2017-01-01    143.73\n",
              "2017-01-02    145.83\n",
              "2017-01-03    143.68\n",
              "2017-01-04    144.02\n",
              "2017-01-05    143.50\n",
              "Freq: D, dtype: float64"
            ]
          },
          "metadata": {},
          "execution_count": 27
        }
      ]
    },
    {
      "cell_type": "code",
      "source": [
        "start = 1\n",
        "end = len(t) - 1\n",
        "step = 1\n",
        "\n",
        "t.iloc[start:end:step]"
      ],
      "metadata": {
        "colab": {
          "base_uri": "https://localhost:8080/"
        },
        "id": "AniZlfo7ovRp",
        "outputId": "43a94c62-6c37-4928-c5e9-57b7d0a082e7"
      },
      "execution_count": null,
      "outputs": [
        {
          "output_type": "execute_result",
          "data": {
            "text/plain": [
              "2022-04-03    13.13\n",
              "2022-04-04    56.48\n",
              "2022-04-05    35.26\n",
              "Freq: D, dtype: float64"
            ]
          },
          "metadata": {},
          "execution_count": 29
        }
      ]
    },
    {
      "cell_type": "markdown",
      "source": [
        "# My own example 70"
      ],
      "metadata": {
        "id": "pyYRQFETo2Pb"
      }
    },
    {
      "cell_type": "code",
      "source": [
        "print (s < 3)"
      ],
      "metadata": {
        "colab": {
          "base_uri": "https://localhost:8080/"
        },
        "id": "_vHYFuf0o4WR",
        "outputId": "56b95c2a-1beb-45da-f2ab-eb63a69c1bd2"
      },
      "execution_count": null,
      "outputs": [
        {
          "output_type": "stream",
          "name": "stdout",
          "text": [
            "2017-01-01    False\n",
            "2017-01-02    False\n",
            "2017-01-03    False\n",
            "2017-01-04    False\n",
            "2017-01-05    False\n",
            "2017-01-06    False\n",
            "Freq: D, dtype: bool\n"
          ]
        }
      ]
    },
    {
      "cell_type": "code",
      "source": [
        "print (t < 50)"
      ],
      "metadata": {
        "colab": {
          "base_uri": "https://localhost:8080/"
        },
        "id": "9Thrpix9o4dq",
        "outputId": "cd095020-b370-46e2-e3e2-1b0dd0baf771"
      },
      "execution_count": null,
      "outputs": [
        {
          "output_type": "stream",
          "name": "stdout",
          "text": [
            "2022-04-02    False\n",
            "2022-04-03     True\n",
            "2022-04-04    False\n",
            "2022-04-05     True\n",
            "2022-04-06    False\n",
            "Freq: D, dtype: bool\n"
          ]
        }
      ]
    },
    {
      "cell_type": "markdown",
      "source": [
        "# My own example 71"
      ],
      "metadata": {
        "id": "Zvc0AyH5pFRU"
      }
    },
    {
      "cell_type": "code",
      "source": [
        "print s.loc[s < 3]"
      ],
      "metadata": {
        "colab": {
          "base_uri": "https://localhost:8080/"
        },
        "id": "3g1qpS5BpHh7",
        "outputId": "765988ed-ce44-4654-82a6-33edce224b34"
      },
      "execution_count": null,
      "outputs": [
        {
          "output_type": "stream",
          "name": "stdout",
          "text": [
            "2017-01-01    143.73\n",
            "2017-01-03    143.68\n",
            "2017-01-04    144.02\n",
            "2017-01-05    143.50\n",
            "2017-01-06    142.62\n",
            "dtype: float64\n"
          ]
        }
      ]
    },
    {
      "cell_type": "code",
      "source": [
        "print (t.loc[t < 50])"
      ],
      "metadata": {
        "colab": {
          "base_uri": "https://localhost:8080/"
        },
        "id": "W4oUKiuApNQF",
        "outputId": "cfe75875-6abe-4f57-95d4-0335aa315902"
      },
      "execution_count": null,
      "outputs": [
        {
          "output_type": "stream",
          "name": "stdout",
          "text": [
            "2022-04-03    13.13\n",
            "2022-04-05    35.26\n",
            "Freq: 2D, dtype: float64\n"
          ]
        }
      ]
    },
    {
      "cell_type": "markdown",
      "source": [
        "# My own example 72"
      ],
      "metadata": {
        "id": "n6__hdx1pYj1"
      }
    },
    {
      "cell_type": "code",
      "source": [
        "print (s.loc[(s < 146.00) & (s > 143.00)])"
      ],
      "metadata": {
        "colab": {
          "base_uri": "https://localhost:8080/"
        },
        "id": "M4z10o-RpbZl",
        "outputId": "9803fe0c-a805-43f4-e142-b441c56c0b2f"
      },
      "execution_count": null,
      "outputs": [
        {
          "output_type": "stream",
          "name": "stdout",
          "text": [
            "2017-01-01    143.73\n",
            "2017-01-02    145.83\n",
            "2017-01-03    143.68\n",
            "2017-01-04    144.02\n",
            "2017-01-05    143.50\n",
            "Freq: D, dtype: float64\n"
          ]
        }
      ]
    },
    {
      "cell_type": "code",
      "source": [
        "print (t.loc[(t < 90.00) & (t > 50.00)])"
      ],
      "metadata": {
        "colab": {
          "base_uri": "https://localhost:8080/"
        },
        "id": "RzmS-Qj9psZU",
        "outputId": "d5d0ac6f-3982-452c-b680-25d47724b9a8"
      },
      "execution_count": null,
      "outputs": [
        {
          "output_type": "stream",
          "name": "stdout",
          "text": [
            "2022-04-04    56.48\n",
            "Freq: D, dtype: float64\n"
          ]
        }
      ]
    },
    {
      "cell_type": "markdown",
      "source": [
        "# My own example 73"
      ],
      "metadata": {
        "id": "yoe_98DGpzbE"
      }
    },
    {
      "cell_type": "code",
      "source": [
        "!pip install --upgrade pandas-datareader"
      ],
      "metadata": {
        "colab": {
          "base_uri": "https://localhost:8080/"
        },
        "id": "DSPTpzzAqBPR",
        "outputId": "eedd07a5-b7c6-4142-8489-047ab63fa909"
      },
      "execution_count": null,
      "outputs": [
        {
          "output_type": "stream",
          "name": "stdout",
          "text": [
            "Requirement already satisfied: pandas-datareader in /usr/local/lib/python3.7/dist-packages (0.9.0)\n",
            "Collecting pandas-datareader\n",
            "  Downloading pandas_datareader-0.10.0-py3-none-any.whl (109 kB)\n",
            "\u001b[K     |████████████████████████████████| 109 kB 9.7 MB/s \n",
            "\u001b[?25hRequirement already satisfied: lxml in /usr/local/lib/python3.7/dist-packages (from pandas-datareader) (4.2.6)\n",
            "Requirement already satisfied: pandas>=0.23 in /usr/local/lib/python3.7/dist-packages (from pandas-datareader) (1.3.5)\n",
            "Requirement already satisfied: requests>=2.19.0 in /usr/local/lib/python3.7/dist-packages (from pandas-datareader) (2.23.0)\n",
            "Requirement already satisfied: numpy>=1.17.3 in /usr/local/lib/python3.7/dist-packages (from pandas>=0.23->pandas-datareader) (1.21.5)\n",
            "Requirement already satisfied: pytz>=2017.3 in /usr/local/lib/python3.7/dist-packages (from pandas>=0.23->pandas-datareader) (2018.9)\n",
            "Requirement already satisfied: python-dateutil>=2.7.3 in /usr/local/lib/python3.7/dist-packages (from pandas>=0.23->pandas-datareader) (2.8.2)\n",
            "Requirement already satisfied: six>=1.5 in /usr/local/lib/python3.7/dist-packages (from python-dateutil>=2.7.3->pandas>=0.23->pandas-datareader) (1.15.0)\n",
            "Requirement already satisfied: certifi>=2017.4.17 in /usr/local/lib/python3.7/dist-packages (from requests>=2.19.0->pandas-datareader) (2021.10.8)\n",
            "Requirement already satisfied: idna<3,>=2.5 in /usr/local/lib/python3.7/dist-packages (from requests>=2.19.0->pandas-datareader) (2.10)\n",
            "Requirement already satisfied: urllib3!=1.25.0,!=1.25.1,<1.26,>=1.21.1 in /usr/local/lib/python3.7/dist-packages (from requests>=2.19.0->pandas-datareader) (1.24.3)\n",
            "Requirement already satisfied: chardet<4,>=3.0.2 in /usr/local/lib/python3.7/dist-packages (from requests>=2.19.0->pandas-datareader) (3.0.4)\n",
            "Installing collected packages: pandas-datareader\n",
            "  Attempting uninstall: pandas-datareader\n",
            "    Found existing installation: pandas-datareader 0.9.0\n",
            "    Uninstalling pandas-datareader-0.9.0:\n",
            "      Successfully uninstalled pandas-datareader-0.9.0\n",
            "Successfully installed pandas-datareader-0.10.0\n"
          ]
        }
      ]
    },
    {
      "cell_type": "code",
      "source": [
        "import pandas_datareader as pdr\n",
        "import datetime\n",
        "\n",
        "symbol = \"CMG\"\n",
        "start = \"2012-01-01\"\n",
        "end = \"2016-01-01\"\n",
        "prices = pdr.get_data_yahoo(symbol, start=start, end=end)['Adj Close']\n",
        "print (\"\\n\", type(prices))\n",
        "prices.head(5) "
      ],
      "metadata": {
        "colab": {
          "base_uri": "https://localhost:8080/"
        },
        "id": "DodKyvslp1eR",
        "outputId": "c57892a3-4edd-40b4-bf84-a3cc30a4911d"
      },
      "execution_count": null,
      "outputs": [
        {
          "output_type": "stream",
          "name": "stdout",
          "text": [
            "\n",
            " <class 'pandas.core.series.Series'>\n"
          ]
        },
        {
          "output_type": "execute_result",
          "data": {
            "text/plain": [
              "Date\n",
              "2012-01-03    341.269989\n",
              "2012-01-04    348.750000\n",
              "2012-01-05    350.480011\n",
              "2012-01-06    348.950012\n",
              "2012-01-09    339.739990\n",
              "Name: Adj Close, dtype: float64"
            ]
          },
          "metadata": {},
          "execution_count": 42
        }
      ]
    },
    {
      "cell_type": "code",
      "source": [
        "symbol = \"AAPL\"\n",
        "start = \"2017-06-13\"\n",
        "end = \"2018-12-07\"\n",
        "prices = pdr.get_data_yahoo(symbol, start=start, end=end)['Adj Close']\n",
        "print (\"\\n\", type(prices))\n",
        "prices.head(7) "
      ],
      "metadata": {
        "colab": {
          "base_uri": "https://localhost:8080/"
        },
        "id": "zV7CQCmIqMZ3",
        "outputId": "5e5770b2-fd08-4407-f0f9-e520a2ca1830"
      },
      "execution_count": null,
      "outputs": [
        {
          "output_type": "stream",
          "name": "stdout",
          "text": [
            "\n",
            " <class 'pandas.core.series.Series'>\n"
          ]
        },
        {
          "output_type": "execute_result",
          "data": {
            "text/plain": [
              "Date\n",
              "2017-06-13    34.743919\n",
              "2017-06-14    34.404987\n",
              "2017-06-15    34.198792\n",
              "2017-06-16    33.720013\n",
              "2017-06-19    34.684662\n",
              "2017-06-20    34.369438\n",
              "2017-06-21    34.573265\n",
              "Name: Adj Close, dtype: float64"
            ]
          },
          "metadata": {},
          "execution_count": 43
        }
      ]
    },
    {
      "cell_type": "markdown",
      "source": [
        "# My own example 74"
      ],
      "metadata": {
        "id": "b0V8-AHCrLJB"
      }
    },
    {
      "cell_type": "code",
      "source": [
        "symbol = \"CMG\"\n",
        "start = \"2012-01-01\"\n",
        "end = \"2016-01-01\"\n",
        "prices = pdr.get_data_yahoo(symbol, start=start, end=end)['Adj Close']\n",
        "print ('Old name: ', prices.name)\n",
        "prices.name = symbol\n",
        "print ('New name: ', prices.name)"
      ],
      "metadata": {
        "colab": {
          "base_uri": "https://localhost:8080/"
        },
        "id": "pOXjHK2vrX0X",
        "outputId": "fa0755c6-058b-4efd-8ad4-e950c7db879a"
      },
      "execution_count": null,
      "outputs": [
        {
          "output_type": "stream",
          "name": "stdout",
          "text": [
            "Old name:  Adj Close\n",
            "New name:  CMG\n"
          ]
        }
      ]
    },
    {
      "cell_type": "code",
      "source": [
        "print ('Old name: ', prices.name)\n",
        "prices.name = symbol\n",
        "print ('New name: ', prices.name)"
      ],
      "metadata": {
        "colab": {
          "base_uri": "https://localhost:8080/"
        },
        "id": "vlg787LSqP75",
        "outputId": "b591038d-1213-4932-ab87-8237f5d2745e"
      },
      "execution_count": null,
      "outputs": [
        {
          "output_type": "stream",
          "name": "stdout",
          "text": [
            "Old name:  Adj Close\n",
            "New name:  AAPL\n"
          ]
        }
      ]
    },
    {
      "cell_type": "markdown",
      "source": [
        "# My own example 75"
      ],
      "metadata": {
        "id": "mxNteJfdtX_C"
      }
    },
    {
      "cell_type": "code",
      "source": [
        "print (prices.index)"
      ],
      "metadata": {
        "colab": {
          "base_uri": "https://localhost:8080/"
        },
        "id": "6Y5W07QPrm3h",
        "outputId": "22bb4c7d-a363-4243-db69-738f830c2ee9"
      },
      "execution_count": null,
      "outputs": [
        {
          "output_type": "stream",
          "name": "stdout",
          "text": [
            "DatetimeIndex(['2012-01-03', '2012-01-04', '2012-01-05', '2012-01-06',\n",
            "               '2012-01-09', '2012-01-10', '2012-01-11', '2012-01-12',\n",
            "               '2012-01-13', '2012-01-17',\n",
            "               ...\n",
            "               '2015-12-17', '2015-12-18', '2015-12-21', '2015-12-22',\n",
            "               '2015-12-23', '2015-12-24', '2015-12-28', '2015-12-29',\n",
            "               '2015-12-30', '2015-12-31'],\n",
            "              dtype='datetime64[ns]', name='Date', length=1006, freq=None)\n"
          ]
        }
      ]
    },
    {
      "cell_type": "code",
      "source": [
        "symbol = \"AAPL\"\n",
        "start = \"2017-06-13\"\n",
        "end = \"2018-12-07\"\n",
        "prices = pdr.get_data_yahoo(symbol, start=start, end=end)['Adj Close']\n",
        "print (prices.index)"
      ],
      "metadata": {
        "colab": {
          "base_uri": "https://localhost:8080/"
        },
        "id": "KkjcyHr6tUrj",
        "outputId": "010ffdf7-5975-4109-9eed-76bf3159584c"
      },
      "execution_count": null,
      "outputs": [
        {
          "output_type": "stream",
          "name": "stdout",
          "text": [
            "DatetimeIndex(['2017-06-13', '2017-06-14', '2017-06-15', '2017-06-16',\n",
            "               '2017-06-19', '2017-06-20', '2017-06-21', '2017-06-22',\n",
            "               '2017-06-23', '2017-06-26',\n",
            "               ...\n",
            "               '2018-11-23', '2018-11-26', '2018-11-27', '2018-11-28',\n",
            "               '2018-11-29', '2018-11-30', '2018-12-03', '2018-12-04',\n",
            "               '2018-12-06', '2018-12-07'],\n",
            "              dtype='datetime64[ns]', name='Date', length=376, freq=None)\n"
          ]
        }
      ]
    },
    {
      "cell_type": "markdown",
      "source": [
        "# My own example 76"
      ],
      "metadata": {
        "id": "69O7Vhhjtb2D"
      }
    },
    {
      "cell_type": "code",
      "source": [
        "2 + 2"
      ],
      "metadata": {
        "colab": {
          "base_uri": "https://localhost:8080/"
        },
        "id": "MFJDPGcCtdyE",
        "outputId": "7d4dd182-eb05-49a0-f916-b05c7c35b1b4"
      },
      "execution_count": null,
      "outputs": [
        {
          "output_type": "execute_result",
          "data": {
            "text/plain": [
              "4"
            ]
          },
          "metadata": {},
          "execution_count": 56
        }
      ]
    },
    {
      "cell_type": "code",
      "source": [
        "5+3"
      ],
      "metadata": {
        "colab": {
          "base_uri": "https://localhost:8080/"
        },
        "id": "IyzHJTHu3s7J",
        "outputId": "e75858d2-f57d-4006-dae0-65721d96fdf9"
      },
      "execution_count": null,
      "outputs": [
        {
          "output_type": "execute_result",
          "data": {
            "text/plain": [
              "8"
            ]
          },
          "metadata": {},
          "execution_count": 57
        }
      ]
    },
    {
      "cell_type": "markdown",
      "source": [
        "# My own example 77"
      ],
      "metadata": {
        "id": "UN_gomcV3ugn"
      }
    },
    {
      "cell_type": "code",
      "source": [
        "X=5"
      ],
      "metadata": {
        "id": "Rqejczcp3wdN"
      },
      "execution_count": null,
      "outputs": []
    },
    {
      "cell_type": "code",
      "source": [
        "Y=6"
      ],
      "metadata": {
        "id": "J_a5jFFy37G9"
      },
      "execution_count": null,
      "outputs": []
    },
    {
      "cell_type": "markdown",
      "source": [
        "# My own example 78"
      ],
      "metadata": {
        "id": "4tmmWJNd39Ul"
      }
    },
    {
      "cell_type": "code",
      "source": [
        "# only the last one is printed\n",
        "2 + 2\n",
        "3 + 3"
      ],
      "metadata": {
        "colab": {
          "base_uri": "https://localhost:8080/"
        },
        "id": "b0CLPXRB3_Yc",
        "outputId": "84a7f568-e335-4700-97f3-a1fdcb6e2e3f"
      },
      "execution_count": null,
      "outputs": [
        {
          "output_type": "execute_result",
          "data": {
            "text/plain": [
              "6"
            ]
          },
          "metadata": {},
          "execution_count": 60
        }
      ]
    },
    {
      "cell_type": "code",
      "source": [
        "3 + 8\n",
        "5 + 4"
      ],
      "metadata": {
        "colab": {
          "base_uri": "https://localhost:8080/"
        },
        "id": "F_oE_ulE4GxH",
        "outputId": "bc035ba8-91c1-4048-942c-aedd190472c5"
      },
      "execution_count": null,
      "outputs": [
        {
          "output_type": "execute_result",
          "data": {
            "text/plain": [
              "9"
            ]
          },
          "metadata": {},
          "execution_count": 61
        }
      ]
    },
    {
      "cell_type": "markdown",
      "source": [
        "# My own example 79"
      ],
      "metadata": {
        "id": "KuolDsiC4LEE"
      }
    },
    {
      "cell_type": "code",
      "source": [
        "print 2 + 2\n",
        "3 + 3"
      ],
      "metadata": {
        "colab": {
          "base_uri": "https://localhost:8080/"
        },
        "id": "vxwcp5kX4NV9",
        "outputId": "40b146f4-52a1-427e-a6b9-b551ab511b3b"
      },
      "execution_count": null,
      "outputs": [
        {
          "output_type": "stream",
          "name": "stdout",
          "text": [
            "4\n"
          ]
        },
        {
          "output_type": "execute_result",
          "data": {
            "text/plain": [
              "6"
            ]
          },
          "metadata": {},
          "execution_count": 62
        }
      ]
    },
    {
      "cell_type": "code",
      "source": [
        "print (6+7)\n",
        "1 + 4"
      ],
      "metadata": {
        "colab": {
          "base_uri": "https://localhost:8080/"
        },
        "id": "GDMCKQTZ4Q29",
        "outputId": "9fc85372-a7a2-4bb1-a055-f3a4cc4f5c10"
      },
      "execution_count": null,
      "outputs": [
        {
          "output_type": "stream",
          "name": "stdout",
          "text": [
            "13\n"
          ]
        },
        {
          "output_type": "execute_result",
          "data": {
            "text/plain": [
              "5"
            ]
          },
          "metadata": {},
          "execution_count": 63
        }
      ]
    },
    {
      "cell_type": "markdown",
      "source": [
        "# My own example 80"
      ],
      "metadata": {
        "id": "CwOQZOQ34WON"
      }
    },
    {
      "cell_type": "code",
      "source": [
        "c = 0\n",
        "for i in range(10000000):\n",
        "    c = c + i\n",
        "c"
      ],
      "metadata": {
        "colab": {
          "base_uri": "https://localhost:8080/"
        },
        "id": "C0-yd_oV4YTz",
        "outputId": "281bdcbf-c890-4f8b-eb3c-85a9235d6063"
      },
      "execution_count": null,
      "outputs": [
        {
          "output_type": "execute_result",
          "data": {
            "text/plain": [
              "49999995000000"
            ]
          },
          "metadata": {},
          "execution_count": 64
        }
      ]
    },
    {
      "cell_type": "code",
      "source": [
        "c = 5\n",
        "for i in range(23):\n",
        "    c = c + i\n",
        "c"
      ],
      "metadata": {
        "colab": {
          "base_uri": "https://localhost:8080/"
        },
        "id": "vMn7F4t14e2c",
        "outputId": "69f32c76-480c-4318-d1e1-8ead16e452d9"
      },
      "execution_count": null,
      "outputs": [
        {
          "output_type": "execute_result",
          "data": {
            "text/plain": [
              "258"
            ]
          },
          "metadata": {},
          "execution_count": 65
        }
      ]
    },
    {
      "cell_type": "markdown",
      "source": [
        "# My own example 81"
      ],
      "metadata": {
        "id": "0Bd3-tqr4nYQ"
      }
    },
    {
      "cell_type": "code",
      "source": [
        "import numpy as np\n",
        "import pandas as pd\n",
        "\n",
        "# This is a plotting library for pretty pictures.\n",
        "import matplotlib.pyplot as plt\n"
      ],
      "metadata": {
        "id": "HwQ9Iuib4qHa"
      },
      "execution_count": null,
      "outputs": []
    },
    {
      "cell_type": "code",
      "source": [
        "np.random.normal?"
      ],
      "metadata": {
        "id": "4yg-cAW94w8w"
      },
      "execution_count": null,
      "outputs": []
    },
    {
      "cell_type": "code",
      "source": [
        "# Sample 100 points with a mean of 0 and an std of 1. This is a standard normal distribution.\n",
        "X = np.random.normal(0, 1, 100)"
      ],
      "metadata": {
        "id": "2yxAvHDU5R1Z"
      },
      "execution_count": null,
      "outputs": []
    },
    {
      "cell_type": "code",
      "source": [
        "plt.plot(X)"
      ],
      "metadata": {
        "colab": {
          "base_uri": "https://localhost:8080/",
          "height": 282
        },
        "id": "pV-Qlrc75XE2",
        "outputId": "5b36c97a-d1c0-440d-bbd7-4d2da4af2697"
      },
      "execution_count": null,
      "outputs": [
        {
          "output_type": "execute_result",
          "data": {
            "text/plain": [
              "[<matplotlib.lines.Line2D at 0x7fac88f7d450>]"
            ]
          },
          "metadata": {},
          "execution_count": 73
        },
        {
          "output_type": "display_data",
          "data": {
            "text/plain": [
              "<Figure size 432x288 with 1 Axes>"
            ],
            "image/png": "[encoded data removed]"
          },
          "metadata": {
            "needs_background": "light"
          }
        }
      ]
    },
    {
      "cell_type": "code",
      "source": [
        "A = np.random.normal(5, 2, 50)\n",
        "plt.plot(A)"
      ],
      "metadata": {
        "colab": {
          "base_uri": "https://localhost:8080/",
          "height": 282
        },
        "id": "COeeoUJe5aFE",
        "outputId": "2bad60bf-d27a-4531-b4f0-29103199858e"
      },
      "execution_count": null,
      "outputs": [
        {
          "output_type": "execute_result",
          "data": {
            "text/plain": [
              "[<matplotlib.lines.Line2D at 0x7fac888cca50>]"
            ]
          },
          "metadata": {},
          "execution_count": 75
        },
        {
          "output_type": "display_data",
          "data": {
            "text/plain": [
              "<Figure size 432x288 with 1 Axes>"
            ],
            "image/png": "[encoded data removed]"
          },
          "metadata": {
            "needs_background": "light"
          }
        }
      ]
    },
    {
      "cell_type": "markdown",
      "source": [
        "# My own example 82"
      ],
      "metadata": {
        "id": "f2JnZzeN5mdC"
      }
    },
    {
      "cell_type": "code",
      "source": [
        "import numpy as np\n",
        "import pandas as pd\n",
        "\n",
        "# This is a plotting library for pretty pictures.\n",
        "import matplotlib.pyplot as plt\n"
      ],
      "metadata": {
        "id": "RnGauObSA6iH"
      },
      "execution_count": null,
      "outputs": []
    },
    {
      "cell_type": "code",
      "source": [
        "X = np.random.normal(0, 1, 100)\n",
        "X2 = np.random.normal(0, 1, 100)\n",
        "\n",
        "plt.plot(X);\n",
        "plt.plot(X2);\n",
        "plt.xlabel('Time') # The data we generated is unitless, but don't forget units in general.\n",
        "plt.ylabel('Returns')\n",
        "plt.legend(['X', 'X2']);"
      ],
      "metadata": {
        "colab": {
          "base_uri": "https://localhost:8080/",
          "height": 282
        },
        "id": "vTmIrqyQA2F6",
        "outputId": "e7c4fa84-df09-4428-8e5e-32f236b6282c"
      },
      "execution_count": null,
      "outputs": [
        {
          "output_type": "display_data",
          "data": {
            "text/plain": [
              "<Figure size 432x288 with 1 Axes>"
            ],
            "image/png": "[encoded data removed]"
          },
          "metadata": {
            "needs_background": "light"
          }
        }
      ]
    },
    {
      "cell_type": "code",
      "source": [
        "A = np.random.normal(5, 2, 50)\n",
        "A2 = np.random.normal(3, 1, 50)\n",
        "\n",
        "plt.plot(A);\n",
        "plt.plot(A2);\n",
        "plt.xlabel('Deformacion') # The data we generated is unitless, but don't forget units in general.\n",
        "plt.ylabel('Esfuerzo')\n",
        "plt.legend(['A', 'A2']);"
      ],
      "metadata": {
        "colab": {
          "base_uri": "https://localhost:8080/",
          "height": 279
        },
        "id": "Cuk3aTJiA_XG",
        "outputId": "bc0b44c6-4f43-49bc-d2bf-b1b739a6f3a0"
      },
      "execution_count": null,
      "outputs": [
        {
          "output_type": "display_data",
          "data": {
            "text/plain": [
              "<Figure size 432x288 with 1 Axes>"
            ],
            "image/png": "[encoded data removed]"
          },
          "metadata": {
            "needs_background": "light"
          }
        }
      ]
    },
    {
      "cell_type": "markdown",
      "source": [
        "# My own example 83"
      ],
      "metadata": {
        "id": "efrRYa9oBab-"
      }
    },
    {
      "cell_type": "code",
      "source": [
        "np.mean(X)"
      ],
      "metadata": {
        "colab": {
          "base_uri": "https://localhost:8080/"
        },
        "id": "NBkbuk6EBdU2",
        "outputId": "dc24c18a-d5ba-4278-8073-5a5cec8fbe82"
      },
      "execution_count": null,
      "outputs": [
        {
          "output_type": "execute_result",
          "data": {
            "text/plain": [
              "-0.008633140400899414"
            ]
          },
          "metadata": {},
          "execution_count": 8
        }
      ]
    },
    {
      "cell_type": "code",
      "source": [
        "np.mean(A)"
      ],
      "metadata": {
        "colab": {
          "base_uri": "https://localhost:8080/"
        },
        "id": "5UucP5zWBgBb",
        "outputId": "0be18e3b-1b92-4ac8-ba13-32efe98426a9"
      },
      "execution_count": null,
      "outputs": [
        {
          "output_type": "execute_result",
          "data": {
            "text/plain": [
              "5.173096081112223"
            ]
          },
          "metadata": {},
          "execution_count": 9
        }
      ]
    },
    {
      "cell_type": "markdown",
      "source": [
        "# My own example 84"
      ],
      "metadata": {
        "id": "yZeVyiJ7Bh1v"
      }
    },
    {
      "cell_type": "code",
      "source": [
        "np.std(X)"
      ],
      "metadata": {
        "colab": {
          "base_uri": "https://localhost:8080/"
        },
        "id": "doqKF41yBkFV",
        "outputId": "42af6b67-7037-4754-e6ce-921be7232e6d"
      },
      "execution_count": null,
      "outputs": [
        {
          "output_type": "execute_result",
          "data": {
            "text/plain": [
              "1.0498415518382513"
            ]
          },
          "metadata": {},
          "execution_count": 10
        }
      ]
    },
    {
      "cell_type": "code",
      "source": [
        "np.std(A)"
      ],
      "metadata": {
        "colab": {
          "base_uri": "https://localhost:8080/"
        },
        "id": "R00LVGc2BmFl",
        "outputId": "0cbbf1df-8b00-45a7-8935-2d126ac8a477"
      },
      "execution_count": null,
      "outputs": [
        {
          "output_type": "execute_result",
          "data": {
            "text/plain": [
              "2.1291126651280194"
            ]
          },
          "metadata": {},
          "execution_count": 11
        }
      ]
    },
    {
      "cell_type": "markdown",
      "source": [
        "# My own example 85"
      ],
      "metadata": {
        "id": "7YQo8TSyBoT4"
      }
    },
    {
      "cell_type": "code",
      "source": [
        "!pip install yfinance"
      ],
      "metadata": {
        "colab": {
          "base_uri": "https://localhost:8080/",
          "height": 641
        },
        "id": "-wkfPW50CaB0",
        "outputId": "e3fab5b6-9f5a-4008-dd90-1ce0a66f9848"
      },
      "execution_count": null,
      "outputs": [
        {
          "output_type": "stream",
          "name": "stdout",
          "text": [
            "Collecting yfinance\n",
            "  Downloading yfinance-0.1.70-py2.py3-none-any.whl (26 kB)\n",
            "Requirement already satisfied: pandas>=0.24.0 in /usr/local/lib/python3.7/dist-packages (from yfinance) (1.3.5)\n",
            "Requirement already satisfied: numpy>=1.15 in /usr/local/lib/python3.7/dist-packages (from yfinance) (1.21.5)\n",
            "Requirement already satisfied: multitasking>=0.0.7 in /usr/local/lib/python3.7/dist-packages (from yfinance) (0.0.10)\n",
            "Collecting requests>=2.26\n",
            "  Downloading requests-2.27.1-py2.py3-none-any.whl (63 kB)\n",
            "\u001b[K     |████████████████████████████████| 63 kB 846 kB/s \n",
            "\u001b[?25hCollecting lxml>=4.5.1\n",
            "  Downloading lxml-4.8.0-cp37-cp37m-manylinux_2_17_x86_64.manylinux2014_x86_64.manylinux_2_24_x86_64.whl (6.4 MB)\n",
            "\u001b[K     |████████████████████████████████| 6.4 MB 42.1 MB/s \n",
            "\u001b[?25hRequirement already satisfied: python-dateutil>=2.7.3 in /usr/local/lib/python3.7/dist-packages (from pandas>=0.24.0->yfinance) (2.8.2)\n",
            "Requirement already satisfied: pytz>=2017.3 in /usr/local/lib/python3.7/dist-packages (from pandas>=0.24.0->yfinance) (2018.9)\n",
            "Requirement already satisfied: six>=1.5 in /usr/local/lib/python3.7/dist-packages (from python-dateutil>=2.7.3->pandas>=0.24.0->yfinance) (1.15.0)\n",
            "Requirement already satisfied: urllib3<1.27,>=1.21.1 in /usr/local/lib/python3.7/dist-packages (from requests>=2.26->yfinance) (1.24.3)\n",
            "Requirement already satisfied: certifi>=2017.4.17 in /usr/local/lib/python3.7/dist-packages (from requests>=2.26->yfinance) (2021.10.8)\n",
            "Requirement already satisfied: charset-normalizer~=2.0.0 in /usr/local/lib/python3.7/dist-packages (from requests>=2.26->yfinance) (2.0.12)\n",
            "Requirement already satisfied: idna<4,>=2.5 in /usr/local/lib/python3.7/dist-packages (from requests>=2.26->yfinance) (2.10)\n",
            "Installing collected packages: requests, lxml, yfinance\n",
            "  Attempting uninstall: requests\n",
            "    Found existing installation: requests 2.23.0\n",
            "    Uninstalling requests-2.23.0:\n",
            "      Successfully uninstalled requests-2.23.0\n",
            "  Attempting uninstall: lxml\n",
            "    Found existing installation: lxml 4.2.6\n",
            "    Uninstalling lxml-4.2.6:\n",
            "      Successfully uninstalled lxml-4.2.6\n",
            "\u001b[31mERROR: pip's dependency resolver does not currently take into account all the packages that are installed. This behaviour is the source of the following dependency conflicts.\n",
            "google-colab 1.0.0 requires requests~=2.23.0, but you have requests 2.27.1 which is incompatible.\n",
            "datascience 0.10.6 requires folium==0.2.1, but you have folium 0.8.3 which is incompatible.\u001b[0m\n",
            "Successfully installed lxml-4.8.0 requests-2.27.1 yfinance-0.1.70\n"
          ]
        },
        {
          "output_type": "display_data",
          "data": {
            "application/vnd.colab-display-data+json": {
              "pip_warning": {
                "packages": [
                  "requests"
                ]
              }
            }
          },
          "metadata": {}
        }
      ]
    },
    {
      "cell_type": "code",
      "source": [
        "import yfinance as yf\n",
        "\n",
        "data = yf.download(\"MSFT\", start=\"2012-1-1\", end=\"2015-6-1\") "
      ],
      "metadata": {
        "colab": {
          "base_uri": "https://localhost:8080/"
        },
        "id": "oTxVGpEcCnw6",
        "outputId": "112bd53a-77a8-4a59-923a-849e2195f603"
      },
      "execution_count": null,
      "outputs": [
        {
          "output_type": "stream",
          "name": "stdout",
          "text": [
            "\r[*********************100%***********************]  1 of 1 completed\n"
          ]
        }
      ]
    },
    {
      "cell_type": "code",
      "source": [
        "data"
      ],
      "metadata": {
        "colab": {
          "base_uri": "https://localhost:8080/",
          "height": 455
        },
        "id": "KxXumX3cCpH_",
        "outputId": "b7db3122-1319-41b6-8110-161cf98bc646"
      },
      "execution_count": null,
      "outputs": [
        {
          "output_type": "execute_result",
          "data": {
            "text/plain": [
              "                 Open       High        Low      Close  Adj Close    Volume\n",
              "Date                                                                       \n",
              "2012-01-03  26.549999  26.959999  26.389999  26.770000  21.623135  64731500\n",
              "2012-01-04  26.820000  27.469999  26.780001  27.400000  22.132011  80516100\n",
              "2012-01-05  27.379999  27.730000  27.290001  27.680000  22.358171  56081400\n",
              "2012-01-06  27.530001  28.190001  27.530001  28.110001  22.705507  99455500\n",
              "2012-01-09  28.049999  28.100000  27.719999  27.740000  22.406637  59706800\n",
              "...               ...        ...        ...        ...        ...       ...\n",
              "2015-05-22  47.299999  47.349998  46.820000  46.900002  41.795223  25720600\n",
              "2015-05-26  46.830002  46.880001  46.189999  46.590000  41.518959  29581900\n",
              "2015-05-27  46.820000  47.770000  46.619999  47.610001  42.427940  27335600\n",
              "2015-05-28  47.500000  48.020000  47.389999  47.450001  42.285366  19283700\n",
              "2015-05-29  47.430000  47.570000  46.590000  46.860001  41.759575  36519600\n",
              "\n",
              "[856 rows x 6 columns]"
            ],
            "text/html": [
              "\n",
              "  <div id=\"df-3cd9d943-1b5c-4ae7-b1f0-a998bb752b7d\">\n",
              "    <div class=\"colab-df-container\">\n",
              "      <div>\n",
              "<style scoped>\n",
              "    .dataframe tbody tr th:only-of-type {\n",
              "        vertical-align: middle;\n",
              "    }\n",
              "\n",
              "    .dataframe tbody tr th {\n",
              "        vertical-align: top;\n",
              "    }\n",
              "\n",
              "    .dataframe thead th {\n",
              "        text-align: right;\n",
              "    }\n",
              "</style>\n",
              "<table border=\"1\" class=\"dataframe\">\n",
              "  <thead>\n",
              "    <tr style=\"text-align: right;\">\n",
              "      <th></th>\n",
              "      <th>Open</th>\n",
              "      <th>High</th>\n",
              "      <th>Low</th>\n",
              "      <th>Close</th>\n",
              "      <th>Adj Close</th>\n",
              "      <th>Volume</th>\n",
              "    </tr>\n",
              "    <tr>\n",
              "      <th>Date</th>\n",
              "      <th></th>\n",
              "      <th></th>\n",
              "      <th></th>\n",
              "      <th></th>\n",
              "      <th></th>\n",
              "      <th></th>\n",
              "    </tr>\n",
              "  </thead>\n",
              "  <tbody>\n",
              "    <tr>\n",
              "      <th>2012-01-03</th>\n",
              "      <td>26.549999</td>\n",
              "      <td>26.959999</td>\n",
              "      <td>26.389999</td>\n",
              "      <td>26.770000</td>\n",
              "      <td>21.623135</td>\n",
              "      <td>64731500</td>\n",
              "    </tr>\n",
              "    <tr>\n",
              "      <th>2012-01-04</th>\n",
              "      <td>26.820000</td>\n",
              "      <td>27.469999</td>\n",
              "      <td>26.780001</td>\n",
              "      <td>27.400000</td>\n",
              "      <td>22.132011</td>\n",
              "      <td>80516100</td>\n",
              "    </tr>\n",
              "    <tr>\n",
              "      <th>2012-01-05</th>\n",
              "      <td>27.379999</td>\n",
              "      <td>27.730000</td>\n",
              "      <td>27.290001</td>\n",
              "      <td>27.680000</td>\n",
              "      <td>22.358171</td>\n",
              "      <td>56081400</td>\n",
              "    </tr>\n",
              "    <tr>\n",
              "      <th>2012-01-06</th>\n",
              "      <td>27.530001</td>\n",
              "      <td>28.190001</td>\n",
              "      <td>27.530001</td>\n",
              "      <td>28.110001</td>\n",
              "      <td>22.705507</td>\n",
              "      <td>99455500</td>\n",
              "    </tr>\n",
              "    <tr>\n",
              "      <th>2012-01-09</th>\n",
              "      <td>28.049999</td>\n",
              "      <td>28.100000</td>\n",
              "      <td>27.719999</td>\n",
              "      <td>27.740000</td>\n",
              "      <td>22.406637</td>\n",
              "      <td>59706800</td>\n",
              "    </tr>\n",
              "    <tr>\n",
              "      <th>...</th>\n",
              "      <td>...</td>\n",
              "      <td>...</td>\n",
              "      <td>...</td>\n",
              "      <td>...</td>\n",
              "      <td>...</td>\n",
              "      <td>...</td>\n",
              "    </tr>\n",
              "    <tr>\n",
              "      <th>2015-05-22</th>\n",
              "      <td>47.299999</td>\n",
              "      <td>47.349998</td>\n",
              "      <td>46.820000</td>\n",
              "      <td>46.900002</td>\n",
              "      <td>41.795223</td>\n",
              "      <td>25720600</td>\n",
              "    </tr>\n",
              "    <tr>\n",
              "      <th>2015-05-26</th>\n",
              "      <td>46.830002</td>\n",
              "      <td>46.880001</td>\n",
              "      <td>46.189999</td>\n",
              "      <td>46.590000</td>\n",
              "      <td>41.518959</td>\n",
              "      <td>29581900</td>\n",
              "    </tr>\n",
              "    <tr>\n",
              "      <th>2015-05-27</th>\n",
              "      <td>46.820000</td>\n",
              "      <td>47.770000</td>\n",
              "      <td>46.619999</td>\n",
              "      <td>47.610001</td>\n",
              "      <td>42.427940</td>\n",
              "      <td>27335600</td>\n",
              "    </tr>\n",
              "    <tr>\n",
              "      <th>2015-05-28</th>\n",
              "      <td>47.500000</td>\n",
              "      <td>48.020000</td>\n",
              "      <td>47.389999</td>\n",
              "      <td>47.450001</td>\n",
              "      <td>42.285366</td>\n",
              "      <td>19283700</td>\n",
              "    </tr>\n",
              "    <tr>\n",
              "      <th>2015-05-29</th>\n",
              "      <td>47.430000</td>\n",
              "      <td>47.570000</td>\n",
              "      <td>46.590000</td>\n",
              "      <td>46.860001</td>\n",
              "      <td>41.759575</td>\n",
              "      <td>36519600</td>\n",
              "    </tr>\n",
              "  </tbody>\n",
              "</table>\n",
              "<p>856 rows × 6 columns</p>\n",
              "</div>\n",
              "      <button class=\"colab-df-convert\" onclick=\"convertToInteractive('df-3cd9d943-1b5c-4ae7-b1f0-a998bb752b7d')\"\n",
              "              title=\"Convert this dataframe to an interactive table.\"\n",
              "              style=\"display:none;\">\n",
              "        \n",
              "  <svg xmlns=\"http://www.w3.org/2000/svg\" height=\"24px\"viewBox=\"0 0 24 24\"\n",
              "       width=\"24px\">\n",
              "    <path d=\"M0 0h24v24H0V0z\" fill=\"none\"/>\n",
              "    <path d=\"M18.56 5.44l.94 2.06.94-2.06 2.06-.94-2.06-.94-.94-2.06-.94 2.06-2.06.94zm-11 1L8.5 8.5l.94-2.06 2.06-.94-2.06-.94L8.5 2.5l-.94 2.06-2.06.94zm10 10l.94 2.06.94-2.06 2.06-.94-2.06-.94-.94-2.06-.94 2.06-2.06.94z\"/><path d=\"M17.41 7.96l-1.37-1.37c-.4-.4-.92-.59-1.43-.59-.52 0-1.04.2-1.43.59L10.3 9.45l-7.72 7.72c-.78.78-.78 2.05 0 2.83L4 21.41c.39.39.9.59 1.41.59.51 0 1.02-.2 1.41-.59l7.78-7.78 2.81-2.81c.8-.78.8-2.07 0-2.86zM5.41 20L4 18.59l7.72-7.72 1.47 1.35L5.41 20z\"/>\n",
              "  </svg>\n",
              "      </button>\n",
              "      \n",
              "  <style>\n",
              "    .colab-df-container {\n",
              "      display:flex;\n",
              "      flex-wrap:wrap;\n",
              "      gap: 12px;\n",
              "    }\n",
              "\n",
              "    .colab-df-convert {\n",
              "      background-color: #E8F0FE;\n",
              "      border: none;\n",
              "      border-radius: 50%;\n",
              "      cursor: pointer;\n",
              "      display: none;\n",
              "      fill: #1967D2;\n",
              "      height: 32px;\n",
              "      padding: 0 0 0 0;\n",
              "      width: 32px;\n",
              "    }\n",
              "\n",
              "    .colab-df-convert:hover {\n",
              "      background-color: #E2EBFA;\n",
              "      box-shadow: 0px 1px 2px rgba(60, 64, 67, 0.3), 0px 1px 3px 1px rgba(60, 64, 67, 0.15);\n",
              "      fill: #174EA6;\n",
              "    }\n",
              "\n",
              "    [theme=dark] .colab-df-convert {\n",
              "      background-color: #3B4455;\n",
              "      fill: #D2E3FC;\n",
              "    }\n",
              "\n",
              "    [theme=dark] .colab-df-convert:hover {\n",
              "      background-color: #434B5C;\n",
              "      box-shadow: 0px 1px 3px 1px rgba(0, 0, 0, 0.15);\n",
              "      filter: drop-shadow(0px 1px 2px rgba(0, 0, 0, 0.3));\n",
              "      fill: #FFFFFF;\n",
              "    }\n",
              "  </style>\n",
              "\n",
              "      <script>\n",
              "        const buttonEl =\n",
              "          document.querySelector('#df-3cd9d943-1b5c-4ae7-b1f0-a998bb752b7d button.colab-df-convert');\n",
              "        buttonEl.style.display =\n",
              "          google.colab.kernel.accessAllowed ? 'block' : 'none';\n",
              "\n",
              "        async function convertToInteractive(key) {\n",
              "          const element = document.querySelector('#df-3cd9d943-1b5c-4ae7-b1f0-a998bb752b7d');\n",
              "          const dataTable =\n",
              "            await google.colab.kernel.invokeFunction('convertToInteractive',\n",
              "                                                     [key], {});\n",
              "          if (!dataTable) return;\n",
              "\n",
              "          const docLinkHtml = 'Like what you see? Visit the ' +\n",
              "            '<a target=\"_blank\" href=https://colab.research.google.com/notebooks/data_table.ipynb>data table notebook</a>'\n",
              "            + ' to learn more about interactive tables.';\n",
              "          element.innerHTML = '';\n",
              "          dataTable['output_type'] = 'display_data';\n",
              "          await google.colab.output.renderOutput(dataTable, element);\n",
              "          const docLink = document.createElement('div');\n",
              "          docLink.innerHTML = docLinkHtml;\n",
              "          element.appendChild(docLink);\n",
              "        }\n",
              "      </script>\n",
              "    </div>\n",
              "  </div>\n",
              "  "
            ]
          },
          "metadata": {},
          "execution_count": 20
        }
      ]
    },
    {
      "cell_type": "code",
      "source": [
        "data2 = yf.download(\"AAPL\", start=\"2018-1-1\", end=\"2020-6-1\") "
      ],
      "metadata": {
        "colab": {
          "base_uri": "https://localhost:8080/"
        },
        "id": "0jo1y6brCsCg",
        "outputId": "65795a00-c6ec-40e2-a6ce-913ea97709a4"
      },
      "execution_count": null,
      "outputs": [
        {
          "output_type": "stream",
          "name": "stdout",
          "text": [
            "\r[*********************100%***********************]  1 of 1 completed\n"
          ]
        }
      ]
    },
    {
      "cell_type": "code",
      "source": [
        "data2"
      ],
      "metadata": {
        "colab": {
          "base_uri": "https://localhost:8080/",
          "height": 455
        },
        "id": "vTRQwp24C08R",
        "outputId": "21351bb0-a00c-4b35-e80f-f05df64a97d3"
      },
      "execution_count": null,
      "outputs": [
        {
          "output_type": "execute_result",
          "data": {
            "text/plain": [
              "                 Open       High        Low      Close  Adj Close     Volume\n",
              "Date                                                                        \n",
              "2018-01-02  42.540001  43.075001  42.314999  43.064999  41.135742  102223600\n",
              "2018-01-03  43.132500  43.637501  42.990002  43.057499  41.128590  118071600\n",
              "2018-01-04  43.134998  43.367500  43.020000  43.257500  41.319630   89738400\n",
              "2018-01-05  43.360001  43.842499  43.262501  43.750000  41.790070   94640000\n",
              "2018-01-08  43.587502  43.902500  43.482498  43.587502  41.634846   82271200\n",
              "...               ...        ...        ...        ...        ...        ...\n",
              "2020-05-22  78.942497  79.807503  78.837502  79.722504  78.854767   81803200\n",
              "2020-05-26  80.875000  81.059998  79.125000  79.182503  78.320633  125522000\n",
              "2020-05-27  79.035004  79.677498  78.272499  79.527496  78.661880  112945200\n",
              "2020-05-28  79.192497  80.860001  78.907501  79.562500  78.696487  133560800\n",
              "2020-05-29  79.812500  80.287498  79.117500  79.485001  78.619843  153532400\n",
              "\n",
              "[606 rows x 6 columns]"
            ],
            "text/html": [
              "\n",
              "  <div id=\"df-f371c568-987a-427d-9194-9a0c907bfb50\">\n",
              "    <div class=\"colab-df-container\">\n",
              "      <div>\n",
              "<style scoped>\n",
              "    .dataframe tbody tr th:only-of-type {\n",
              "        vertical-align: middle;\n",
              "    }\n",
              "\n",
              "    .dataframe tbody tr th {\n",
              "        vertical-align: top;\n",
              "    }\n",
              "\n",
              "    .dataframe thead th {\n",
              "        text-align: right;\n",
              "    }\n",
              "</style>\n",
              "<table border=\"1\" class=\"dataframe\">\n",
              "  <thead>\n",
              "    <tr style=\"text-align: right;\">\n",
              "      <th></th>\n",
              "      <th>Open</th>\n",
              "      <th>High</th>\n",
              "      <th>Low</th>\n",
              "      <th>Close</th>\n",
              "      <th>Adj Close</th>\n",
              "      <th>Volume</th>\n",
              "    </tr>\n",
              "    <tr>\n",
              "      <th>Date</th>\n",
              "      <th></th>\n",
              "      <th></th>\n",
              "      <th></th>\n",
              "      <th></th>\n",
              "      <th></th>\n",
              "      <th></th>\n",
              "    </tr>\n",
              "  </thead>\n",
              "  <tbody>\n",
              "    <tr>\n",
              "      <th>2018-01-02</th>\n",
              "      <td>42.540001</td>\n",
              "      <td>43.075001</td>\n",
              "      <td>42.314999</td>\n",
              "      <td>43.064999</td>\n",
              "      <td>41.135742</td>\n",
              "      <td>102223600</td>\n",
              "    </tr>\n",
              "    <tr>\n",
              "      <th>2018-01-03</th>\n",
              "      <td>43.132500</td>\n",
              "      <td>43.637501</td>\n",
              "      <td>42.990002</td>\n",
              "      <td>43.057499</td>\n",
              "      <td>41.128590</td>\n",
              "      <td>118071600</td>\n",
              "    </tr>\n",
              "    <tr>\n",
              "      <th>2018-01-04</th>\n",
              "      <td>43.134998</td>\n",
              "      <td>43.367500</td>\n",
              "      <td>43.020000</td>\n",
              "      <td>43.257500</td>\n",
              "      <td>41.319630</td>\n",
              "      <td>89738400</td>\n",
              "    </tr>\n",
              "    <tr>\n",
              "      <th>2018-01-05</th>\n",
              "      <td>43.360001</td>\n",
              "      <td>43.842499</td>\n",
              "      <td>43.262501</td>\n",
              "      <td>43.750000</td>\n",
              "      <td>41.790070</td>\n",
              "      <td>94640000</td>\n",
              "    </tr>\n",
              "    <tr>\n",
              "      <th>2018-01-08</th>\n",
              "      <td>43.587502</td>\n",
              "      <td>43.902500</td>\n",
              "      <td>43.482498</td>\n",
              "      <td>43.587502</td>\n",
              "      <td>41.634846</td>\n",
              "      <td>82271200</td>\n",
              "    </tr>\n",
              "    <tr>\n",
              "      <th>...</th>\n",
              "      <td>...</td>\n",
              "      <td>...</td>\n",
              "      <td>...</td>\n",
              "      <td>...</td>\n",
              "      <td>...</td>\n",
              "      <td>...</td>\n",
              "    </tr>\n",
              "    <tr>\n",
              "      <th>2020-05-22</th>\n",
              "      <td>78.942497</td>\n",
              "      <td>79.807503</td>\n",
              "      <td>78.837502</td>\n",
              "      <td>79.722504</td>\n",
              "      <td>78.854767</td>\n",
              "      <td>81803200</td>\n",
              "    </tr>\n",
              "    <tr>\n",
              "      <th>2020-05-26</th>\n",
              "      <td>80.875000</td>\n",
              "      <td>81.059998</td>\n",
              "      <td>79.125000</td>\n",
              "      <td>79.182503</td>\n",
              "      <td>78.320633</td>\n",
              "      <td>125522000</td>\n",
              "    </tr>\n",
              "    <tr>\n",
              "      <th>2020-05-27</th>\n",
              "      <td>79.035004</td>\n",
              "      <td>79.677498</td>\n",
              "      <td>78.272499</td>\n",
              "      <td>79.527496</td>\n",
              "      <td>78.661880</td>\n",
              "      <td>112945200</td>\n",
              "    </tr>\n",
              "    <tr>\n",
              "      <th>2020-05-28</th>\n",
              "      <td>79.192497</td>\n",
              "      <td>80.860001</td>\n",
              "      <td>78.907501</td>\n",
              "      <td>79.562500</td>\n",
              "      <td>78.696487</td>\n",
              "      <td>133560800</td>\n",
              "    </tr>\n",
              "    <tr>\n",
              "      <th>2020-05-29</th>\n",
              "      <td>79.812500</td>\n",
              "      <td>80.287498</td>\n",
              "      <td>79.117500</td>\n",
              "      <td>79.485001</td>\n",
              "      <td>78.619843</td>\n",
              "      <td>153532400</td>\n",
              "    </tr>\n",
              "  </tbody>\n",
              "</table>\n",
              "<p>606 rows × 6 columns</p>\n",
              "</div>\n",
              "      <button class=\"colab-df-convert\" onclick=\"convertToInteractive('df-f371c568-987a-427d-9194-9a0c907bfb50')\"\n",
              "              title=\"Convert this dataframe to an interactive table.\"\n",
              "              style=\"display:none;\">\n",
              "        \n",
              "  <svg xmlns=\"http://www.w3.org/2000/svg\" height=\"24px\"viewBox=\"0 0 24 24\"\n",
              "       width=\"24px\">\n",
              "    <path d=\"M0 0h24v24H0V0z\" fill=\"none\"/>\n",
              "    <path d=\"M18.56 5.44l.94 2.06.94-2.06 2.06-.94-2.06-.94-.94-2.06-.94 2.06-2.06.94zm-11 1L8.5 8.5l.94-2.06 2.06-.94-2.06-.94L8.5 2.5l-.94 2.06-2.06.94zm10 10l.94 2.06.94-2.06 2.06-.94-2.06-.94-.94-2.06-.94 2.06-2.06.94z\"/><path d=\"M17.41 7.96l-1.37-1.37c-.4-.4-.92-.59-1.43-.59-.52 0-1.04.2-1.43.59L10.3 9.45l-7.72 7.72c-.78.78-.78 2.05 0 2.83L4 21.41c.39.39.9.59 1.41.59.51 0 1.02-.2 1.41-.59l7.78-7.78 2.81-2.81c.8-.78.8-2.07 0-2.86zM5.41 20L4 18.59l7.72-7.72 1.47 1.35L5.41 20z\"/>\n",
              "  </svg>\n",
              "      </button>\n",
              "      \n",
              "  <style>\n",
              "    .colab-df-container {\n",
              "      display:flex;\n",
              "      flex-wrap:wrap;\n",
              "      gap: 12px;\n",
              "    }\n",
              "\n",
              "    .colab-df-convert {\n",
              "      background-color: #E8F0FE;\n",
              "      border: none;\n",
              "      border-radius: 50%;\n",
              "      cursor: pointer;\n",
              "      display: none;\n",
              "      fill: #1967D2;\n",
              "      height: 32px;\n",
              "      padding: 0 0 0 0;\n",
              "      width: 32px;\n",
              "    }\n",
              "\n",
              "    .colab-df-convert:hover {\n",
              "      background-color: #E2EBFA;\n",
              "      box-shadow: 0px 1px 2px rgba(60, 64, 67, 0.3), 0px 1px 3px 1px rgba(60, 64, 67, 0.15);\n",
              "      fill: #174EA6;\n",
              "    }\n",
              "\n",
              "    [theme=dark] .colab-df-convert {\n",
              "      background-color: #3B4455;\n",
              "      fill: #D2E3FC;\n",
              "    }\n",
              "\n",
              "    [theme=dark] .colab-df-convert:hover {\n",
              "      background-color: #434B5C;\n",
              "      box-shadow: 0px 1px 3px 1px rgba(0, 0, 0, 0.15);\n",
              "      filter: drop-shadow(0px 1px 2px rgba(0, 0, 0, 0.3));\n",
              "      fill: #FFFFFF;\n",
              "    }\n",
              "  </style>\n",
              "\n",
              "      <script>\n",
              "        const buttonEl =\n",
              "          document.querySelector('#df-f371c568-987a-427d-9194-9a0c907bfb50 button.colab-df-convert');\n",
              "        buttonEl.style.display =\n",
              "          google.colab.kernel.accessAllowed ? 'block' : 'none';\n",
              "\n",
              "        async function convertToInteractive(key) {\n",
              "          const element = document.querySelector('#df-f371c568-987a-427d-9194-9a0c907bfb50');\n",
              "          const dataTable =\n",
              "            await google.colab.kernel.invokeFunction('convertToInteractive',\n",
              "                                                     [key], {});\n",
              "          if (!dataTable) return;\n",
              "\n",
              "          const docLinkHtml = 'Like what you see? Visit the ' +\n",
              "            '<a target=\"_blank\" href=https://colab.research.google.com/notebooks/data_table.ipynb>data table notebook</a>'\n",
              "            + ' to learn more about interactive tables.';\n",
              "          element.innerHTML = '';\n",
              "          dataTable['output_type'] = 'display_data';\n",
              "          await google.colab.output.renderOutput(dataTable, element);\n",
              "          const docLink = document.createElement('div');\n",
              "          docLink.innerHTML = docLinkHtml;\n",
              "          element.appendChild(docLink);\n",
              "        }\n",
              "      </script>\n",
              "    </div>\n",
              "  </div>\n",
              "  "
            ]
          },
          "metadata": {},
          "execution_count": 24
        }
      ]
    },
    {
      "cell_type": "markdown",
      "source": [
        "# My own example 86"
      ],
      "metadata": {
        "id": "iTAB54ulE0h3"
      }
    },
    {
      "cell_type": "code",
      "source": [
        "X= data['Open']"
      ],
      "metadata": {
        "id": "RVrt4-RXgaNM"
      },
      "execution_count": null,
      "outputs": []
    },
    {
      "cell_type": "code",
      "source": [
        "plt.plot(X.index, X.values)\n",
        "plt.ylabel('Open')\n",
        "plt.legend(['MSFT']);"
      ],
      "metadata": {
        "colab": {
          "base_uri": "https://localhost:8080/",
          "height": 265
        },
        "id": "S3oOQvXojGBP",
        "outputId": "6cf7559a-b227-4949-b1d9-48fcdf49b751"
      },
      "execution_count": null,
      "outputs": [
        {
          "output_type": "display_data",
          "data": {
            "text/plain": [
              "<Figure size 432x288 with 1 Axes>"
            ],
            "image/png": "[encoded data removed]"
          },
          "metadata": {
            "needs_background": "light"
          }
        }
      ]
    },
    {
      "cell_type": "code",
      "source": [
        "X2= data2 ['Open']"
      ],
      "metadata": {
        "id": "3pKQPy4YjM2b"
      },
      "execution_count": null,
      "outputs": []
    },
    {
      "cell_type": "code",
      "source": [
        "plt.plot(X2.index, X2.values)\n",
        "plt.ylabel('Open')\n",
        "plt.legend(['AAPL']);"
      ],
      "metadata": {
        "colab": {
          "base_uri": "https://localhost:8080/",
          "height": 265
        },
        "id": "ghdFyu_cjSyl",
        "outputId": "4bab88f0-9d43-41d5-f18d-1cc819254e92"
      },
      "execution_count": null,
      "outputs": [
        {
          "output_type": "display_data",
          "data": {
            "text/plain": [
              "<Figure size 432x288 with 1 Axes>"
            ],
            "image/png": "[encoded data removed]"
          },
          "metadata": {
            "needs_background": "light"
          }
        }
      ]
    },
    {
      "cell_type": "markdown",
      "source": [
        "# My own example 87"
      ],
      "metadata": {
        "id": "UJw2LQtojX6e"
      }
    },
    {
      "cell_type": "code",
      "source": [
        "np.mean(X)"
      ],
      "metadata": {
        "colab": {
          "base_uri": "https://localhost:8080/"
        },
        "id": "h2rbNSwajajf",
        "outputId": "dfd16d40-223c-4eb2-b054-9d149ad1de4f"
      },
      "execution_count": null,
      "outputs": [
        {
          "output_type": "execute_result",
          "data": {
            "text/plain": [
              "36.02814254805306"
            ]
          },
          "metadata": {},
          "execution_count": 42
        }
      ]
    },
    {
      "cell_type": "code",
      "source": [
        "np.mean(X2)"
      ],
      "metadata": {
        "colab": {
          "base_uri": "https://localhost:8080/"
        },
        "id": "Uu4Hv1F9jf_F",
        "outputId": "f3183568-ddd1-4d05-9007-dbf075c33ffb"
      },
      "execution_count": null,
      "outputs": [
        {
          "output_type": "execute_result",
          "data": {
            "text/plain": [
              "53.59319306678898"
            ]
          },
          "metadata": {},
          "execution_count": 43
        }
      ]
    },
    {
      "cell_type": "markdown",
      "source": [
        "# My own example 88"
      ],
      "metadata": {
        "id": "kebH-k5cjhVd"
      }
    },
    {
      "cell_type": "code",
      "source": [
        "np.std(X)"
      ],
      "metadata": {
        "colab": {
          "base_uri": "https://localhost:8080/"
        },
        "id": "zHRvHtIvji8e",
        "outputId": "68be4c5a-2ac0-46a2-aad6-924766bda248"
      },
      "execution_count": null,
      "outputs": [
        {
          "output_type": "execute_result",
          "data": {
            "text/plain": [
              "6.680600126689822"
            ]
          },
          "metadata": {},
          "execution_count": 44
        }
      ]
    },
    {
      "cell_type": "code",
      "source": [
        "np.std(X2)"
      ],
      "metadata": {
        "colab": {
          "base_uri": "https://localhost:8080/"
        },
        "id": "qGKVvnXBjlE1",
        "outputId": "6010e4e1-d41d-44d5-bd47-5d518e50d4b7"
      },
      "execution_count": null,
      "outputs": [
        {
          "output_type": "execute_result",
          "data": {
            "text/plain": [
              "11.416691018869216"
            ]
          },
          "metadata": {},
          "execution_count": 45
        }
      ]
    },
    {
      "cell_type": "markdown",
      "source": [
        "# My own example 89"
      ],
      "metadata": {
        "id": "pVFBnToDjmea"
      }
    },
    {
      "cell_type": "code",
      "source": [
        "R = X.pct_change()[1:]"
      ],
      "metadata": {
        "id": "vLjLZZkhjox-"
      },
      "execution_count": null,
      "outputs": []
    },
    {
      "cell_type": "code",
      "source": [
        "plt.hist(R, bins=20)\n",
        "plt.xlabel('Return')\n",
        "plt.ylabel('Frequency')\n",
        "plt.legend(['MSFT Returns']);"
      ],
      "metadata": {
        "colab": {
          "base_uri": "https://localhost:8080/",
          "height": 279
        },
        "id": "hXEjYjinjsqc",
        "outputId": "f215e89a-d714-411d-cdc8-2228f9fdc053"
      },
      "execution_count": null,
      "outputs": [
        {
          "output_type": "display_data",
          "data": {
            "text/plain": [
              "<Figure size 432x288 with 1 Axes>"
            ],
            "image/png": "[encoded data removed]"
          },
          "metadata": {
            "needs_background": "light"
          }
        }
      ]
    },
    {
      "cell_type": "code",
      "source": [
        "R2 = X2.pct_change()[1:]"
      ],
      "metadata": {
        "id": "Ve1N4Mijjt1p"
      },
      "execution_count": null,
      "outputs": []
    },
    {
      "cell_type": "code",
      "source": [
        "plt.hist(R2, bins=15)\n",
        "plt.xlabel('Return')\n",
        "plt.ylabel('Frequency')\n",
        "plt.legend(['AAPL Returns']);"
      ],
      "metadata": {
        "colab": {
          "base_uri": "https://localhost:8080/",
          "height": 279
        },
        "id": "RqooxZEejww6",
        "outputId": "e27d8529-da60-46bd-c941-32fb5fd13c3a"
      },
      "execution_count": null,
      "outputs": [
        {
          "output_type": "display_data",
          "data": {
            "text/plain": [
              "<Figure size 432x288 with 1 Axes>"
            ],
            "image/png": "[encoded data removed]"
          },
          "metadata": {
            "needs_background": "light"
          }
        }
      ]
    },
    {
      "cell_type": "markdown",
      "source": [
        "# My own example 90"
      ],
      "metadata": {
        "id": "Z2PDoRk6j5oG"
      }
    },
    {
      "cell_type": "code",
      "source": [
        "np.mean(R)"
      ],
      "metadata": {
        "colab": {
          "base_uri": "https://localhost:8080/"
        },
        "id": "MF7UN_l_j7ua",
        "outputId": "92e3c734-8b51-4ef8-be6f-9f23e5f427df"
      },
      "execution_count": null,
      "outputs": [
        {
          "output_type": "execute_result",
          "data": {
            "text/plain": [
              "0.0007802153842721553"
            ]
          },
          "metadata": {},
          "execution_count": 52
        }
      ]
    },
    {
      "cell_type": "code",
      "source": [
        "np.mean(R2)"
      ],
      "metadata": {
        "colab": {
          "base_uri": "https://localhost:8080/"
        },
        "id": "q6DWFHHInEQO",
        "outputId": "7ae4f2c4-932d-4508-a049-88ef5c862015"
      },
      "execution_count": null,
      "outputs": [
        {
          "output_type": "execute_result",
          "data": {
            "text/plain": [
              "0.0012388481184244255"
            ]
          },
          "metadata": {},
          "execution_count": 53
        }
      ]
    },
    {
      "cell_type": "markdown",
      "source": [
        "# My own example 91"
      ],
      "metadata": {
        "id": "hPdGx36XnFeW"
      }
    },
    {
      "cell_type": "code",
      "source": [
        "np.std(R)"
      ],
      "metadata": {
        "colab": {
          "base_uri": "https://localhost:8080/"
        },
        "id": "2wUO0CY3nH9u",
        "outputId": "05da10ee-cf63-47eb-8be8-b59adb04341c"
      },
      "execution_count": null,
      "outputs": [
        {
          "output_type": "execute_result",
          "data": {
            "text/plain": [
              "0.014232261470238688"
            ]
          },
          "metadata": {},
          "execution_count": 54
        }
      ]
    },
    {
      "cell_type": "code",
      "source": [
        "np.std(R2)"
      ],
      "metadata": {
        "colab": {
          "base_uri": "https://localhost:8080/"
        },
        "id": "3hhHY4mqnKXP",
        "outputId": "de5ec8ee-cf5a-45c4-98be-bec80b8b3f46"
      },
      "execution_count": null,
      "outputs": [
        {
          "output_type": "execute_result",
          "data": {
            "text/plain": [
              "0.019867619111363994"
            ]
          },
          "metadata": {},
          "execution_count": 55
        }
      ]
    },
    {
      "cell_type": "markdown",
      "source": [
        "## My own example 92"
      ],
      "metadata": {
        "id": "h65VsIbKnLjn"
      }
    },
    {
      "cell_type": "code",
      "source": [
        "plt.hist(np.random.normal(np.mean(R), np.std(R), 10000), bins=20)\n",
        "plt.xlabel('Return')\n",
        "plt.ylabel('Frequency')\n",
        "plt.legend(['Normally Distributed Returns']);"
      ],
      "metadata": {
        "colab": {
          "base_uri": "https://localhost:8080/",
          "height": 279
        },
        "id": "UnJ7OHu1nOgH",
        "outputId": "1877c9c9-34da-4f74-8925-4baf6c247f9e"
      },
      "execution_count": null,
      "outputs": [
        {
          "output_type": "display_data",
          "data": {
            "text/plain": [
              "<Figure size 432x288 with 1 Axes>"
            ],
            "image/png": "[encoded data removed]"
          },
          "metadata": {
            "needs_background": "light"
          }
        }
      ]
    },
    {
      "cell_type": "code",
      "source": [
        "plt.hist(np.random.normal(np.mean(R2), np.std(R2), 10000), bins=15)\n",
        "plt.xlabel('Return')\n",
        "plt.ylabel('Frequency')\n",
        "plt.legend(['Normally Distributed Returns']);"
      ],
      "metadata": {
        "colab": {
          "base_uri": "https://localhost:8080/",
          "height": 279
        },
        "id": "bqO_TYTknTTn",
        "outputId": "74951b95-dec0-4d94-8adc-a4a896e8e7e7"
      },
      "execution_count": null,
      "outputs": [
        {
          "output_type": "display_data",
          "data": {
            "text/plain": [
              "<Figure size 432x288 with 1 Axes>"
            ],
            "image/png": "[encoded data removed]"
          },
          "metadata": {
            "needs_background": "light"
          }
        }
      ]
    },
    {
      "cell_type": "markdown",
      "source": [
        "# My own example 93"
      ],
      "metadata": {
        "id": "x97cE6Uknbmc"
      }
    },
    {
      "cell_type": "code",
      "source": [
        "MAVG = X.rolling(2).mean()\n",
        "plt.plot(X.index, X.values)\n",
        "plt.plot(MAVG.index, MAVG.values)\n",
        "plt.ylabel('Price')\n",
        "plt.legend(['MSFT', '60-day MAVG']);"
      ],
      "metadata": {
        "colab": {
          "base_uri": "https://localhost:8080/",
          "height": 265
        },
        "id": "EOeaio4KneXO",
        "outputId": "d3584de8-5b62-4d4f-b9e0-66f337b33b45"
      },
      "execution_count": null,
      "outputs": [
        {
          "output_type": "display_data",
          "data": {
            "text/plain": [
              "<Figure size 432x288 with 1 Axes>"
            ],
            "image/png": "[encoded data removed]"
          },
          "metadata": {
            "needs_background": "light"
          }
        }
      ]
    },
    {
      "cell_type": "code",
      "source": [
        "MAVG = X2.rolling(2).mean()\n",
        "plt.plot(X2.index, X2.values)\n",
        "plt.plot(MAVG.index, MAVG.values)\n",
        "plt.ylabel('Price')\n",
        "plt.legend(['AAPL', '60-day MAVG']);"
      ],
      "metadata": {
        "colab": {
          "base_uri": "https://localhost:8080/",
          "height": 265
        },
        "id": "E3wRRqnJnoBN",
        "outputId": "88dbf36d-2ca7-43ff-abd4-ee01c3d95126"
      },
      "execution_count": null,
      "outputs": [
        {
          "output_type": "display_data",
          "data": {
            "text/plain": [
              "<Figure size 432x288 with 1 Axes>"
            ],
            "image/png": "[encoded data removed]"
          },
          "metadata": {
            "needs_background": "light"
          }
        }
      ]
    },
    {
      "cell_type": "markdown",
      "source": [
        "# My own example 94"
      ],
      "metadata": {
        "id": "EFRQDyyGnuda"
      }
    },
    {
      "cell_type": "code",
      "source": [
        "my_integer = 50\n",
        "print (my_integer, type(my_integer))"
      ],
      "metadata": {
        "colab": {
          "base_uri": "https://localhost:8080/"
        },
        "id": "QayuVfdMnw3l",
        "outputId": "76ee56b3-879f-41f0-bd59-84a6e7da7c55"
      },
      "execution_count": null,
      "outputs": [
        {
          "output_type": "stream",
          "name": "stdout",
          "text": [
            "50 <class 'int'>\n"
          ]
        }
      ]
    },
    {
      "cell_type": "code",
      "source": [
        "my_integer = 12\n",
        "print (my_integer, type(my_integer))"
      ],
      "metadata": {
        "colab": {
          "base_uri": "https://localhost:8080/"
        },
        "id": "aivnkR5Irz66",
        "outputId": "f38b3ba4-4c71-4a92-c5f5-3bab5ed678ca"
      },
      "execution_count": null,
      "outputs": [
        {
          "output_type": "stream",
          "name": "stdout",
          "text": [
            "12 <class 'int'>\n"
          ]
        }
      ]
    },
    {
      "cell_type": "markdown",
      "source": [
        "# My own example 95"
      ],
      "metadata": {
        "id": "1F4T-cPKr6U9"
      }
    },
    {
      "cell_type": "code",
      "source": [
        "one = 1\n",
        "print (one)"
      ],
      "metadata": {
        "colab": {
          "base_uri": "https://localhost:8080/"
        },
        "id": "eLrac0Vyr8Al",
        "outputId": "0bd824cd-af2e-4598-ff16-8bc1f3b71666"
      },
      "execution_count": null,
      "outputs": [
        {
          "output_type": "stream",
          "name": "stdout",
          "text": [
            "1\n"
          ]
        }
      ]
    },
    {
      "cell_type": "code",
      "source": [
        "two = 2\n",
        "print (2)"
      ],
      "metadata": {
        "colab": {
          "base_uri": "https://localhost:8080/"
        },
        "id": "CdN7JzNpsAgX",
        "outputId": "090ef294-c49c-4849-ed33-315af842d2fd"
      },
      "execution_count": null,
      "outputs": [
        {
          "output_type": "stream",
          "name": "stdout",
          "text": [
            "2\n"
          ]
        }
      ]
    },
    {
      "cell_type": "markdown",
      "source": [
        "# My own example 96"
      ],
      "metadata": {
        "id": "nskf9y-PsEPO"
      }
    },
    {
      "cell_type": "code",
      "source": [
        "my_float = 1.0\n",
        "print (my_float, type(my_float))\n",
        "my_float = float(1)\n",
        "print (my_float, type(my_float))"
      ],
      "metadata": {
        "colab": {
          "base_uri": "https://localhost:8080/"
        },
        "id": "gzUPRUhBsGMC",
        "outputId": "3bdd1038-31f2-4974-a675-7d71e6623a0d"
      },
      "execution_count": null,
      "outputs": [
        {
          "output_type": "stream",
          "name": "stdout",
          "text": [
            "1.0 <class 'float'>\n",
            "1.0 <class 'float'>\n"
          ]
        }
      ]
    },
    {
      "cell_type": "code",
      "source": [
        "my_float = 6.18\n",
        "print (my_float, type(my_float))\n",
        "my_float = float(94)\n",
        "print (my_float, type(my_float))"
      ],
      "metadata": {
        "colab": {
          "base_uri": "https://localhost:8080/"
        },
        "id": "O8bJlT4OsZfD",
        "outputId": "ab157fb9-dbab-451b-facb-1800432b8d08"
      },
      "execution_count": null,
      "outputs": [
        {
          "output_type": "stream",
          "name": "stdout",
          "text": [
            "6.18 <class 'float'>\n",
            "94.0 <class 'float'>\n"
          ]
        }
      ]
    },
    {
      "cell_type": "markdown",
      "source": [
        "# My own example 97"
      ],
      "metadata": {
        "id": "0XB68HdasaVz"
      }
    },
    {
      "cell_type": "code",
      "source": [
        "my_int = int(3.14159)\n",
        "print (my_int, type(my_int))"
      ],
      "metadata": {
        "colab": {
          "base_uri": "https://localhost:8080/"
        },
        "id": "61wVl_vEsZkO",
        "outputId": "0b994a6b-691e-4f57-cd34-47afdb84aef2"
      },
      "execution_count": null,
      "outputs": [
        {
          "output_type": "stream",
          "name": "stdout",
          "text": [
            "3 <class 'int'>\n"
          ]
        }
      ]
    },
    {
      "cell_type": "code",
      "source": [
        "my_int = int(98.51952)\n",
        "print (my_int, type(my_int))"
      ],
      "metadata": {
        "colab": {
          "base_uri": "https://localhost:8080/"
        },
        "id": "7ywchRIasm6E",
        "outputId": "a8d7fb9e-805a-4e6e-e565-96a85d33cadb"
      },
      "execution_count": null,
      "outputs": [
        {
          "output_type": "stream",
          "name": "stdout",
          "text": [
            "98 <class 'int'>\n"
          ]
        }
      ]
    },
    {
      "cell_type": "markdown",
      "source": [
        "# My own example 98"
      ],
      "metadata": {
        "id": "xo9EF1Z_sp5a"
      }
    },
    {
      "cell_type": "code",
      "source": [
        "print ('Modulo: ', 15 % 4)"
      ],
      "metadata": {
        "colab": {
          "base_uri": "https://localhost:8080/"
        },
        "id": "zDbpC_S2srlM",
        "outputId": "b9f87bd8-8b6a-468f-8ca2-cb35e216cec9"
      },
      "execution_count": null,
      "outputs": [
        {
          "output_type": "stream",
          "name": "stdout",
          "text": [
            "Modulo:  3\n"
          ]
        }
      ]
    },
    {
      "cell_type": "code",
      "source": [
        "print ('Modulo: ', 27 % 9)"
      ],
      "metadata": {
        "colab": {
          "base_uri": "https://localhost:8080/"
        },
        "id": "DdUVOezXts5G",
        "outputId": "fa42ea6d-680e-4b3e-9607-5ed9e27e5fd7"
      },
      "execution_count": null,
      "outputs": [
        {
          "output_type": "stream",
          "name": "stdout",
          "text": [
            "Modulo:  0\n"
          ]
        }
      ]
    },
    {
      "cell_type": "markdown",
      "source": [
        "# My own example 99"
      ],
      "metadata": {
        "id": "CJqa0b8Btzq_"
      }
    },
    {
      "cell_type": "code",
      "source": [
        "first_integer = 4\n",
        "second_integer = 5\n",
        "print (first_integer * second_integer)"
      ],
      "metadata": {
        "colab": {
          "base_uri": "https://localhost:8080/"
        },
        "id": "2JXscAp7t1zi",
        "outputId": "022f903a-19ce-4837-d53f-2814df15bc87"
      },
      "execution_count": null,
      "outputs": [
        {
          "output_type": "stream",
          "name": "stdout",
          "text": [
            "20\n"
          ]
        }
      ]
    },
    {
      "cell_type": "code",
      "source": [
        "first_integer = 8\n",
        "second_integer = 7\n",
        "print (first_integer * second_integer)"
      ],
      "metadata": {
        "colab": {
          "base_uri": "https://localhost:8080/"
        },
        "id": "nzYRjyTst6Xw",
        "outputId": "0b975b84-154c-4222-8962-5313e89c1b0e"
      },
      "execution_count": null,
      "outputs": [
        {
          "output_type": "stream",
          "name": "stdout",
          "text": [
            "56\n"
          ]
        }
      ]
    },
    {
      "cell_type": "markdown",
      "source": [
        "# My own example 100"
      ],
      "metadata": {
        "id": "bQDPJWtJt8oh"
      }
    },
    {
      "cell_type": "code",
      "source": [
        "first_integer = 11\n",
        "second_integer = 3\n",
        "print (first_integer / second_integer)"
      ],
      "metadata": {
        "colab": {
          "base_uri": "https://localhost:8080/"
        },
        "id": "Gs0egmXPuBR7",
        "outputId": "ed9b292e-f5b0-4547-da86-dee77bdf21bd"
      },
      "execution_count": null,
      "outputs": [
        {
          "output_type": "stream",
          "name": "stdout",
          "text": [
            "3.6666666666666665\n"
          ]
        }
      ]
    },
    {
      "cell_type": "code",
      "source": [
        "first_integer = 81\n",
        "second_integer = 9\n",
        "print (first_integer / second_integer)"
      ],
      "metadata": {
        "colab": {
          "base_uri": "https://localhost:8080/"
        },
        "id": "Vk4TFVdluIwI",
        "outputId": "17aec645-f650-4b2b-93d5-616bf9dec329"
      },
      "execution_count": null,
      "outputs": [
        {
          "output_type": "stream",
          "name": "stdout",
          "text": [
            "9.0\n"
          ]
        }
      ]
    },
    {
      "cell_type": "markdown",
      "source": [
        "# My own example 101"
      ],
      "metadata": {
        "id": "HJ8tH8QtuNML"
      }
    },
    {
      "cell_type": "code",
      "source": [
        "first_number = 11.0\n",
        "second_number = 3.0\n",
        "print (first_number / second_number)"
      ],
      "metadata": {
        "colab": {
          "base_uri": "https://localhost:8080/"
        },
        "id": "fgS0LLcauSAQ",
        "outputId": "f1897016-9bfb-47ed-e6c8-5fcb646898d2"
      },
      "execution_count": null,
      "outputs": [
        {
          "output_type": "stream",
          "name": "stdout",
          "text": [
            "3.6666666666666665\n"
          ]
        }
      ]
    },
    {
      "cell_type": "code",
      "source": [
        "first_number = 16.78\n",
        "second_number = 4.56\n",
        "print (first_number / second_number)"
      ],
      "metadata": {
        "colab": {
          "base_uri": "https://localhost:8080/"
        },
        "id": "zlEVtOaUuYSr",
        "outputId": "d46fef25-d6bc-429b-ca9e-cc4d5b95acea"
      },
      "execution_count": null,
      "outputs": [
        {
          "output_type": "stream",
          "name": "stdout",
          "text": [
            "3.6798245614035094\n"
          ]
        }
      ]
    },
    {
      "cell_type": "markdown",
      "source": [
        "#My own example 102"
      ],
      "metadata": {
        "id": "p6Ig482xudfP"
      }
    },
    {
      "cell_type": "code",
      "source": [
        "import math"
      ],
      "metadata": {
        "id": "Ljn0h0L7ugAn"
      },
      "execution_count": null,
      "outputs": []
    },
    {
      "cell_type": "code",
      "source": [
        "print ('Pi: ', math.pi)\n",
        "print (\"Euler's Constant: \", math.e)"
      ],
      "metadata": {
        "colab": {
          "base_uri": "https://localhost:8080/"
        },
        "id": "F4ME8co1uiaz",
        "outputId": "400d1308-9bf3-4117-82ac-954e9d5e89bd"
      },
      "execution_count": null,
      "outputs": [
        {
          "output_type": "stream",
          "name": "stdout",
          "text": [
            "Pi:  3.141592653589793\n",
            "Euler's Constant:  2.718281828459045\n"
          ]
        }
      ]
    },
    {
      "cell_type": "code",
      "source": [
        "print ('Tau: ', math.tau)"
      ],
      "metadata": {
        "colab": {
          "base_uri": "https://localhost:8080/"
        },
        "id": "z0K4CUGuunaM",
        "outputId": "d374af70-6aae-4fdc-cffa-3602c4b98458"
      },
      "execution_count": null,
      "outputs": [
        {
          "output_type": "stream",
          "name": "stdout",
          "text": [
            "Tau:  6.283185307179586\n"
          ]
        }
      ]
    },
    {
      "cell_type": "markdown",
      "source": [
        "#My own example 103"
      ],
      "metadata": {
        "id": "e74Vy7ecvhSj"
      }
    },
    {
      "cell_type": "code",
      "source": [
        "print ('Cosine of pi: ', math.cos(math.pi))"
      ],
      "metadata": {
        "colab": {
          "base_uri": "https://localhost:8080/"
        },
        "id": "FHmhx88gvkfV",
        "outputId": "cffd7632-3250-4358-8e39-d518804d6dfe"
      },
      "execution_count": null,
      "outputs": [
        {
          "output_type": "stream",
          "name": "stdout",
          "text": [
            "Cosine of pi:  -1.0\n"
          ]
        }
      ]
    },
    {
      "cell_type": "code",
      "source": [
        "print ('Sine of 90°: ', math.sin(math.pi / 2))"
      ],
      "metadata": {
        "colab": {
          "base_uri": "https://localhost:8080/"
        },
        "id": "sm7bFamwvoo5",
        "outputId": "09da0aaa-4fee-47a1-b4dc-eb3a16251375"
      },
      "execution_count": null,
      "outputs": [
        {
          "output_type": "stream",
          "name": "stdout",
          "text": [
            "Sine of 90°:  1.0\n"
          ]
        }
      ]
    },
    {
      "cell_type": "markdown",
      "source": [
        "# My own example 104"
      ],
      "metadata": {
        "id": "StkHUgcTwLJ5"
      }
    },
    {
      "cell_type": "code",
      "source": [
        "my_list = ['friends', 'romans', 'countrymen', 'lend', 'me', 'your', 'ears']\n",
        "print (my_list[0:7:2])"
      ],
      "metadata": {
        "colab": {
          "base_uri": "https://localhost:8080/"
        },
        "id": "M9sc3nVGwMwW",
        "outputId": "dff4f027-6c17-4e92-bffa-6273541abc99"
      },
      "execution_count": null,
      "outputs": [
        {
          "output_type": "stream",
          "name": "stdout",
          "text": [
            "['friends', 'countrymen', 'me', 'ears']\n"
          ]
        }
      ]
    },
    {
      "cell_type": "code",
      "source": [
        "my_example = ['Kobe Bryant', 'Magic Johnson', 'Michael Jordan', 'Shaq', 24,34,23,0]\n",
        "print (my_example[1:8:3])"
      ],
      "metadata": {
        "colab": {
          "base_uri": "https://localhost:8080/"
        },
        "id": "u7y2qC3OwwcK",
        "outputId": "df7f47c9-8d71-4c58-8150-b1501aebb3c8"
      },
      "execution_count": null,
      "outputs": [
        {
          "output_type": "stream",
          "name": "stdout",
          "text": [
            "['Magic Johnson', 24, 0]\n"
          ]
        }
      ]
    },
    {
      "cell_type": "markdown",
      "source": [
        "# My own example 105"
      ],
      "metadata": {
        "id": "mkpxKQ5Tw-Nr"
      }
    },
    {
      "cell_type": "code",
      "source": [
        "print (my_list[::2])"
      ],
      "metadata": {
        "colab": {
          "base_uri": "https://localhost:8080/"
        },
        "id": "WvTTN5scxB9q",
        "outputId": "34cfa4ad-fb87-4b0c-9f1e-1b5534706f23"
      },
      "execution_count": null,
      "outputs": [
        {
          "output_type": "stream",
          "name": "stdout",
          "text": [
            "['friends', 'countrymen', 'me', 'ears']\n"
          ]
        }
      ]
    },
    {
      "cell_type": "code",
      "source": [
        "print (my_example[::3])"
      ],
      "metadata": {
        "colab": {
          "base_uri": "https://localhost:8080/"
        },
        "id": "IsBSypiUxP2q",
        "outputId": "8fc5c576-970b-4814-b147-311276ee408b"
      },
      "execution_count": null,
      "outputs": [
        {
          "output_type": "stream",
          "name": "stdout",
          "text": [
            "['Kobe Bryant', 'Shaq', 23]\n"
          ]
        }
      ]
    },
    {
      "cell_type": "markdown",
      "source": [
        "# My own example 106"
      ],
      "metadata": {
        "id": "qeqI1uC8xUE9"
      }
    },
    {
      "cell_type": "code",
      "source": [
        "print (my_list[:])"
      ],
      "metadata": {
        "colab": {
          "base_uri": "https://localhost:8080/"
        },
        "id": "tcpO4yN9xYuV",
        "outputId": "d7ef51fc-0fb6-4a7b-fbda-5b6f76808f30"
      },
      "execution_count": null,
      "outputs": [
        {
          "output_type": "stream",
          "name": "stdout",
          "text": [
            "['friends', 'romans', 'countrymen', 'lend', 'me', 'your', 'ears']\n"
          ]
        }
      ]
    },
    {
      "cell_type": "code",
      "source": [
        "print (my_example[:])"
      ],
      "metadata": {
        "colab": {
          "base_uri": "https://localhost:8080/"
        },
        "id": "T2XJFKoozx2e",
        "outputId": "ab206c25-22cc-4398-ba82-c6e0e8ba9dd6"
      },
      "execution_count": null,
      "outputs": [
        {
          "output_type": "stream",
          "name": "stdout",
          "text": [
            "['Kobe Bryant', 'Magic Johnson', 'Michael Jordan', 'Shaq', 24, 34, 23, 0]\n"
          ]
        }
      ]
    },
    {
      "cell_type": "markdown",
      "source": [
        "# My own example 107"
      ],
      "metadata": {
        "id": "ELPI-iPVzzpU"
      }
    },
    {
      "cell_type": "code",
      "source": [
        "my_tuple = ('I', 'have', 30, 'cats')\n",
        "print (my_tuple)"
      ],
      "metadata": {
        "colab": {
          "base_uri": "https://localhost:8080/"
        },
        "id": "A0tWrjtV0A1W",
        "outputId": "4e7174b9-3b6c-49a6-eb83-bdbf15f5d99c"
      },
      "execution_count": null,
      "outputs": [
        {
          "output_type": "stream",
          "name": "stdout",
          "text": [
            "('I', 'have', 30, 'cats')\n"
          ]
        }
      ]
    },
    {
      "cell_type": "code",
      "source": [
        "my_tuple2 = ('The', 'sky', 'is', 'blue')\n",
        "print (my_tuple2)"
      ],
      "metadata": {
        "colab": {
          "base_uri": "https://localhost:8080/"
        },
        "id": "gwZcGQmM4iL6",
        "outputId": "33a63dbf-018f-4c29-e196-b9ec55acf050"
      },
      "execution_count": null,
      "outputs": [
        {
          "output_type": "stream",
          "name": "stdout",
          "text": [
            "('The', 'sky', 'is', 'blue')\n"
          ]
        }
      ]
    },
    {
      "cell_type": "markdown",
      "source": [
        "# My own example 108"
      ],
      "metadata": {
        "id": "sRkIUZ2c4rsb"
      }
    },
    {
      "cell_type": "code",
      "source": [
        "print (my_tuple[1:3])\n"
      ],
      "metadata": {
        "colab": {
          "base_uri": "https://localhost:8080/"
        },
        "id": "SeB0tKCJ4U15",
        "outputId": "b1891567-8569-4eb8-ef09-975c33cf2325"
      },
      "execution_count": null,
      "outputs": [
        {
          "output_type": "stream",
          "name": "stdout",
          "text": [
            "('have', 30)\n"
          ]
        }
      ]
    },
    {
      "cell_type": "code",
      "source": [
        "print (my_tuple2[0:2])\n"
      ],
      "metadata": {
        "colab": {
          "base_uri": "https://localhost:8080/"
        },
        "id": "4qHapsww42OE",
        "outputId": "10ca13d6-2542-486d-e189-f97d4f305b20"
      },
      "execution_count": null,
      "outputs": [
        {
          "output_type": "stream",
          "name": "stdout",
          "text": [
            "('The', 'sky')\n"
          ]
        }
      ]
    },
    {
      "cell_type": "markdown",
      "source": [
        "# My own example 109"
      ],
      "metadata": {
        "id": "B37tVv1D46na"
      }
    },
    {
      "cell_type": "code",
      "source": [
        "my_other_tuple = ('make', 'that', 50)\n",
        "print (my_tuple + my_other_tuple)"
      ],
      "metadata": {
        "colab": {
          "base_uri": "https://localhost:8080/"
        },
        "id": "1p6IkHEn48pf",
        "outputId": "415d6d79-84dd-4344-fac0-ca589c2ad340"
      },
      "execution_count": null,
      "outputs": [
        {
          "output_type": "stream",
          "name": "stdout",
          "text": [
            "('I', 'have', 30, 'cats', 'make', 'that', 50)\n"
          ]
        }
      ]
    },
    {
      "cell_type": "code",
      "source": [
        "my_other_tuple2 = ('but', 'it', 'might', 'seem', 'gray')\n",
        "print (my_tuple2 + my_other_tuple2)"
      ],
      "metadata": {
        "colab": {
          "base_uri": "https://localhost:8080/"
        },
        "id": "cwOcOM_H4_71",
        "outputId": "d203364f-1640-42a4-fc40-e65c2cc20b3f"
      },
      "execution_count": null,
      "outputs": [
        {
          "output_type": "stream",
          "name": "stdout",
          "text": [
            "('The', 'sky', 'is', 'blue', 'but', 'it', 'might', 'seem', 'gray')\n"
          ]
        }
      ]
    },
    {
      "cell_type": "markdown",
      "source": [
        "## My own example 110"
      ],
      "metadata": {
        "id": "-XBwJNwg5MgF"
      }
    },
    {
      "cell_type": "code",
      "source": [
        "str_1, str_2, int_1 = my_other_tuple\n",
        "print (str_1, str_2, int_1)"
      ],
      "metadata": {
        "colab": {
          "base_uri": "https://localhost:8080/"
        },
        "id": "TPGVYBxh5Opa",
        "outputId": "2533a7c9-60a8-4e81-dde2-1fe11e0a7d0b"
      },
      "execution_count": null,
      "outputs": [
        {
          "output_type": "stream",
          "name": "stdout",
          "text": [
            "make that 50\n"
          ]
        }
      ]
    },
    {
      "cell_type": "code",
      "source": [
        "str_11, str_21, int_11, int_21, int_31 = my_other_tuple2\n",
        "print (str_11, str_21, int_11, int_21, int_31)"
      ],
      "metadata": {
        "colab": {
          "base_uri": "https://localhost:8080/"
        },
        "id": "YDzRtZmv5WOu",
        "outputId": "7c059a89-d152-4578-ebdb-0900ab74a7d3"
      },
      "execution_count": null,
      "outputs": [
        {
          "output_type": "stream",
          "name": "stdout",
          "text": [
            "but it might seem gray\n"
          ]
        }
      ]
    },
    {
      "cell_type": "markdown",
      "source": [
        "# My own example 111"
      ],
      "metadata": {
        "id": "JyeueX4G5iON"
      }
    },
    {
      "cell_type": "code",
      "source": [
        "def free_the_scope():\n",
        "    in_function_string = \"Anything you can do I can do better!\"\n",
        "    return in_function_string\n",
        "my_string = free_the_scope()\n",
        "print (my_string)"
      ],
      "metadata": {
        "colab": {
          "base_uri": "https://localhost:8080/"
        },
        "id": "zeubMRvj5mCi",
        "outputId": "e39bfd26-0a0a-49d0-8d04-677440a6781c"
      },
      "execution_count": null,
      "outputs": [
        {
          "output_type": "stream",
          "name": "stdout",
          "text": [
            "Anything you can do I can do better!\n"
          ]
        }
      ]
    },
    {
      "cell_type": "code",
      "source": [
        "def free_the_scope():\n",
        "    in_function_string2 = \"He wears my drip, but I wore it better\"\n",
        "    return in_function_string2\n",
        "my_string2 = free_the_scope()\n",
        "print (my_string2)"
      ],
      "metadata": {
        "colab": {
          "base_uri": "https://localhost:8080/"
        },
        "id": "W4gGeGi5-324",
        "outputId": "3f0834c3-a0f6-4241-d28e-7ec7b7c4b3fe"
      },
      "execution_count": null,
      "outputs": [
        {
          "output_type": "stream",
          "name": "stdout",
          "text": [
            "He wears my drip, but I wore it better\n"
          ]
        }
      ]
    },
    {
      "cell_type": "markdown",
      "source": [
        "# My own example 112"
      ],
      "metadata": {
        "id": "BjpaDvRD_Bmu"
      }
    },
    {
      "cell_type": "code",
      "source": [
        "def multiply_by_five(x):\n",
        "    \"\"\" Multiplies an input number by 5 \"\"\"\n",
        "    return x * 5\n",
        "\n",
        "n = 4\n",
        "print (n)\n",
        "print (multiply_by_five(n))"
      ],
      "metadata": {
        "colab": {
          "base_uri": "https://localhost:8080/"
        },
        "id": "lZebvIFn_DZ-",
        "outputId": "4a29c6de-897f-4b59-a621-2ef8afa155f7"
      },
      "execution_count": null,
      "outputs": [
        {
          "output_type": "stream",
          "name": "stdout",
          "text": [
            "4\n",
            "20\n"
          ]
        }
      ]
    },
    {
      "cell_type": "code",
      "source": [
        "def multiply_by_seven(x):\n",
        "    \"\"\" Multiplies an input number by 5 \"\"\"\n",
        "    return x * 7\n",
        "\n",
        "k = 3\n",
        "print (k)\n",
        "print (multiply_by_seven(k))"
      ],
      "metadata": {
        "colab": {
          "base_uri": "https://localhost:8080/"
        },
        "id": "tAyLvCOy_JZ-",
        "outputId": "03cc32e5-42b9-444a-f459-3a8ac0698057"
      },
      "execution_count": null,
      "outputs": [
        {
          "output_type": "stream",
          "name": "stdout",
          "text": [
            "3\n",
            "21\n"
          ]
        }
      ]
    },
    {
      "cell_type": "markdown",
      "source": [
        "# My own example 113"
      ],
      "metadata": {
        "id": "ShJRoonj_Su0"
      }
    },
    {
      "cell_type": "code",
      "source": [
        "def calculate_area(length, width):\n",
        "    \"\"\" Calculates the area of a rectangle \"\"\"\n",
        "    return length * width"
      ],
      "metadata": {
        "id": "lXme-ayl_UjU"
      },
      "execution_count": null,
      "outputs": []
    },
    {
      "cell_type": "code",
      "source": [
        "    l = 5\n",
        "    w = 10\n",
        "    print ('Area: ', calculate_area(l, w))\n",
        "    print ('Length: ', l)\n",
        "    print ('Width: ', w)"
      ],
      "metadata": {
        "colab": {
          "base_uri": "https://localhost:8080/"
        },
        "id": "PfGLzRbU_mvH",
        "outputId": "7e400c26-ccad-40cd-f408-bddf53af1aa3"
      },
      "execution_count": null,
      "outputs": [
        {
          "output_type": "stream",
          "name": "stdout",
          "text": [
            "Area:  50\n",
            "Length:  5\n",
            "Width:  10\n"
          ]
        }
      ]
    },
    {
      "cell_type": "code",
      "source": [
        "    l = 24\n",
        "    w = 3\n",
        "    print ('Area: ', calculate_area(l, w))\n",
        "    print ('Length: ', l)\n",
        "    print ('Width: ', w)"
      ],
      "metadata": {
        "colab": {
          "base_uri": "https://localhost:8080/"
        },
        "id": "RzZD4kXf_odr",
        "outputId": "c931fb04-ec20-4040-a098-6b3324a9e142"
      },
      "execution_count": null,
      "outputs": [
        {
          "output_type": "stream",
          "name": "stdout",
          "text": [
            "Area:  72\n",
            "Length:  24\n",
            "Width:  3\n"
          ]
        }
      ]
    },
    {
      "cell_type": "markdown",
      "source": [
        "# My own example 114"
      ],
      "metadata": {
        "id": "Ko6vuKqh_spJ"
      }
    },
    {
      "cell_type": "code",
      "source": [
        "def calculate_volume(length, width, depth):\n",
        "    \"\"\" Calculates the volume of a rectangular prism \"\"\"\n",
        "    return length * width * depth"
      ],
      "metadata": {
        "id": "YLUWtOO-_ufu"
      },
      "execution_count": null,
      "outputs": []
    },
    {
      "cell_type": "code",
      "source": [
        "l = 24\n",
        "w = 3\n",
        "d = 12\n",
        "print ('Volume: ', calculate_volume(l, w, 12))\n",
        "print ('Length: ', l)\n",
        "print ('Width: ', w)\n",
        "print ('Depth: ', d)"
      ],
      "metadata": {
        "colab": {
          "base_uri": "https://localhost:8080/"
        },
        "id": "fG36F4rW_yN9",
        "outputId": "f9a58cea-3c1c-4515-e528-8270af28755f"
      },
      "execution_count": null,
      "outputs": [
        {
          "output_type": "stream",
          "name": "stdout",
          "text": [
            "Volume:  864\n",
            "Length:  24\n",
            "Width:  3\n",
            "Depth:  12\n"
          ]
        }
      ]
    },
    {
      "cell_type": "code",
      "source": [
        "l = 6\n",
        "w = 4\n",
        "d = 10\n",
        "print ('Volume: ', calculate_volume(l, w, 12))\n",
        "print ('Length: ', l)\n",
        "print ('Width: ', w)\n",
        "print ('Depth: ', d)"
      ],
      "metadata": {
        "colab": {
          "base_uri": "https://localhost:8080/"
        },
        "id": "XBYkAEmSAHzR",
        "outputId": "dccbca23-3095-44c3-a57c-05932c9e3d56"
      },
      "execution_count": null,
      "outputs": [
        {
          "output_type": "stream",
          "name": "stdout",
          "text": [
            "Volume:  288\n",
            "Length:  6\n",
            "Width:  4\n",
            "Depth:  10\n"
          ]
        }
      ]
    },
    {
      "cell_type": "markdown",
      "source": [
        "# My own example 115"
      ],
      "metadata": {
        "id": "VkSQvLKIAQzT"
      }
    },
    {
      "cell_type": "code",
      "source": [
        "def sum_values(*args):\n",
        "    sum_val = 0\n",
        "    for i in args:\n",
        "        sum_val += i\n",
        "    return sum_val"
      ],
      "metadata": {
        "id": "2of0jvndASdl"
      },
      "execution_count": null,
      "outputs": []
    },
    {
      "cell_type": "code",
      "source": [
        "print (sum_values(1, 2, 3))\n",
        "print (sum_values(10, 20, 30, 40, 50))\n",
        "print (sum_values(4, 2, 5, 1, 10, 249, 25, 24, 13, 6, 4))"
      ],
      "metadata": {
        "colab": {
          "base_uri": "https://localhost:8080/"
        },
        "id": "D2S20BJsATgm",
        "outputId": "d6704c92-ecf1-40b0-b86d-8a143874d26e"
      },
      "execution_count": null,
      "outputs": [
        {
          "output_type": "stream",
          "name": "stdout",
          "text": [
            "6\n",
            "150\n",
            "343\n"
          ]
        }
      ]
    },
    {
      "cell_type": "code",
      "source": [
        "print (sum_values(4,9,11))\n",
        "print (sum_values(5, 15, 20, 25, 30, 35))\n",
        "print (sum_values(28, 43, 17, 36, 22, 49, 15, 4))"
      ],
      "metadata": {
        "colab": {
          "base_uri": "https://localhost:8080/"
        },
        "id": "pr9aws2mAZPv",
        "outputId": "e00af16a-accf-4c48-e021-376fabbaede3"
      },
      "execution_count": null,
      "outputs": [
        {
          "output_type": "stream",
          "name": "stdout",
          "text": [
            "24\n",
            "130\n",
            "214\n"
          ]
        }
      ]
    },
    {
      "cell_type": "markdown",
      "source": [
        "# My own example 116"
      ],
      "metadata": {
        "id": "IS7cxWHoAwy8"
      }
    },
    {
      "cell_type": "code",
      "source": [
        "def test_args(*args):\n",
        "    print (type(args))\n",
        "\n",
        "test_args(1, 2, 3, 4, 5, 6)"
      ],
      "metadata": {
        "colab": {
          "base_uri": "https://localhost:8080/"
        },
        "id": "LZ167RReAzjF",
        "outputId": "a7524400-f9af-4ff5-b7a4-e90fccf6f878"
      },
      "execution_count": null,
      "outputs": [
        {
          "output_type": "stream",
          "name": "stdout",
          "text": [
            "<class 'tuple'>\n"
          ]
        }
      ]
    },
    {
      "cell_type": "code",
      "source": [
        "def test_args(*args):\n",
        "    print (type(args))\n",
        "\n",
        "test_args(21, 5, 9, 13, 14, 7)"
      ],
      "metadata": {
        "colab": {
          "base_uri": "https://localhost:8080/"
        },
        "id": "FTmrhnqNBE5Y",
        "outputId": "52be65d6-6ff9-4eea-81c2-380a55b80a56"
      },
      "execution_count": null,
      "outputs": [
        {
          "output_type": "stream",
          "name": "stdout",
          "text": [
            "<class 'tuple'>\n"
          ]
        }
      ]
    },
    {
      "cell_type": "markdown",
      "source": [
        "# My own example 117"
      ],
      "metadata": {
        "id": "8dknHHS8BLow"
      }
    },
    {
      "cell_type": "code",
      "source": [
        "def has_a_vowel(word):\n",
        "    \"\"\" \n",
        "    Checks to see whether a word contains a vowel \n",
        "    If it doesn't contain a conventional vowel, it\n",
        "    will check for the presence of 'y' or 'w'. Does\n",
        "    not check to see whether those are in the word\n",
        "    in a vowel context.\n",
        "    \"\"\"\n",
        "    vowel_list = ['a', 'e', 'i', 'o', 'u']\n",
        "    \n",
        "    for vowel in vowel_list:\n",
        "        if vowel in word:\n",
        "            return True\n",
        "    # If there is a vowel in the word, the function returns, preventing anything after this loop from running\n",
        "    return False"
      ],
      "metadata": {
        "id": "jVzbKPRWBNqO"
      },
      "execution_count": null,
      "outputs": []
    },
    {
      "cell_type": "code",
      "source": [
        "my_word = 'catnapping'\n",
        "if has_a_vowel(my_word):\n",
        "    print ('How surprising, an english word contains a vowel.')\n",
        "else:\n",
        "    print ('This is actually surprising.')"
      ],
      "metadata": {
        "colab": {
          "base_uri": "https://localhost:8080/"
        },
        "id": "mqCxVKklBR__",
        "outputId": "31313dc4-3f40-4690-f65e-7599d3cf4b7e"
      },
      "execution_count": null,
      "outputs": [
        {
          "output_type": "stream",
          "name": "stdout",
          "text": [
            "How surprising, an english word contains a vowel.\n"
          ]
        }
      ]
    },
    {
      "cell_type": "code",
      "source": [
        "def has_a_vowel_with_a_tilt(word2):\n",
        "    vowel_list2 = ['á', 'é', 'í', 'ó', 'ú']\n",
        "    \n",
        "    for vowel in vowel_list2:\n",
        "        if vowel in word2:\n",
        "            return True\n",
        "    return False"
      ],
      "metadata": {
        "id": "xWyZY16QBYLk"
      },
      "execution_count": null,
      "outputs": []
    },
    {
      "cell_type": "code",
      "source": [
        "my_word2 = 'Conmosión'\n",
        "if has_a_vowel_with_a_tilt(my_word2):\n",
        "    print ('How surprising, an spanish word contains a vowel with a tilt.')\n",
        "else:\n",
        "    print ('This is actually surprising.')"
      ],
      "metadata": {
        "colab": {
          "base_uri": "https://localhost:8080/"
        },
        "id": "JUj91yVxBsWy",
        "outputId": "5467d4b4-4876-445e-dc9c-67a4a828bc6b"
      },
      "execution_count": null,
      "outputs": [
        {
          "output_type": "stream",
          "name": "stdout",
          "text": [
            "How surprising, an spanish word contains a vowel with a tilt.\n"
          ]
        }
      ]
    },
    {
      "cell_type": "markdown",
      "source": [
        "# My own example 118"
      ],
      "metadata": {
        "id": "oUpRaR8kB5NL"
      }
    },
    {
      "cell_type": "code",
      "source": [
        "def point_maker(x, y):\n",
        "    \"\"\" Groups x and y values into a point, technically a tuple \"\"\"\n",
        "    return x, y"
      ],
      "metadata": {
        "id": "Q34LNSn7B7Db"
      },
      "execution_count": null,
      "outputs": []
    },
    {
      "cell_type": "code",
      "source": [
        "a = point_maker(0, 10)\n",
        "b = point_maker(5, 3)\n",
        "def calculate_slope(point_a, point_b):\n",
        "    \"\"\" Calculates the linear slope between two points \"\"\"\n",
        "    return (point_b[1] - point_a[1])/(point_b[0] - point_a[0])\n",
        "print (\"The slope between a and b is {0}\".format(calculate_slope(a, b)))"
      ],
      "metadata": {
        "colab": {
          "base_uri": "https://localhost:8080/"
        },
        "id": "mbxc56RuB9yo",
        "outputId": "6100901d-4618-442e-c073-f60a30be9758"
      },
      "execution_count": null,
      "outputs": [
        {
          "output_type": "stream",
          "name": "stdout",
          "text": [
            "The slope between a and b is -1.4\n"
          ]
        }
      ]
    },
    {
      "cell_type": "code",
      "source": [
        "c = point_maker(5, 7)\n",
        "d = point_maker(2, 1)\n",
        "def calculate_slope(point_c, point_d):\n",
        "    \"\"\" Calculates the linear slope between two points \"\"\"\n",
        "    return (point_d[1] - point_c[1])/(point_d[0] - point_c[0])\n",
        "print (\"The slope between c and d is {0}\".format(calculate_slope(c, d)))"
      ],
      "metadata": {
        "colab": {
          "base_uri": "https://localhost:8080/"
        },
        "id": "qt6t6NZQCBhV",
        "outputId": "22bdfec6-113f-4e69-e9dc-581fb6e5e82e"
      },
      "execution_count": null,
      "outputs": [
        {
          "output_type": "stream",
          "name": "stdout",
          "text": [
            "The slope between c and d is 2.0\n"
          ]
        }
      ]
    },
    {
      "cell_type": "markdown",
      "source": [
        "# My own example 119"
      ],
      "metadata": {
        "id": "RkElGS3xCUAz"
      }
    },
    {
      "cell_type": "code",
      "source": [
        "print (\"The slope-intercept form of the line between a and b, using point a, is: y - {0} = {2}(x - {1})\".format(a[1], a[0], calculate_slope(a, b)))"
      ],
      "metadata": {
        "colab": {
          "base_uri": "https://localhost:8080/"
        },
        "id": "p2YBmWYwCV6W",
        "outputId": "8f2d3c7e-f59b-404f-d1b0-623dcef01528"
      },
      "execution_count": null,
      "outputs": [
        {
          "output_type": "stream",
          "name": "stdout",
          "text": [
            "The slope-intercept form of the line between a and b, using point a, is: y - 10 = -1.4(x - 0)\n"
          ]
        }
      ]
    },
    {
      "cell_type": "code",
      "source": [
        "print (\"The slope-intercept form of the line between c and d, using point c, is: y - {0} = {2}(x - {1})\".format(c[1], c[0], calculate_slope(c, d)))"
      ],
      "metadata": {
        "colab": {
          "base_uri": "https://localhost:8080/"
        },
        "id": "ue-u8h-zCbnE",
        "outputId": "51add4a3-dee7-4365-d2a6-bf61c177b5b3"
      },
      "execution_count": null,
      "outputs": [
        {
          "output_type": "stream",
          "name": "stdout",
          "text": [
            "The slope-intercept form of the line between c and d, using point c, is: y - 7 = 2.0(x - 5)\n"
          ]
        }
      ]
    },
    {
      "cell_type": "markdown",
      "source": [
        "# My own example 120"
      ],
      "metadata": {
        "id": "JZf-l4lKCkEm"
      }
    },
    {
      "cell_type": "code",
      "source": [
        "!pip install quandl"
      ],
      "metadata": {
        "colab": {
          "base_uri": "https://localhost:8080/"
        },
        "id": "l-fi7lh_Cl4s",
        "outputId": "400e60d3-02b8-4c64-93a8-7c91be6071cd"
      },
      "execution_count": null,
      "outputs": [
        {
          "output_type": "stream",
          "name": "stdout",
          "text": [
            "Collecting quandl\n",
            "  Downloading Quandl-3.7.0-py2.py3-none-any.whl (26 kB)\n",
            "Requirement already satisfied: six in /usr/local/lib/python3.7/dist-packages (from quandl) (1.15.0)\n",
            "Collecting inflection>=0.3.1\n",
            "  Downloading inflection-0.5.1-py2.py3-none-any.whl (9.5 kB)\n",
            "Requirement already satisfied: numpy>=1.8 in /usr/local/lib/python3.7/dist-packages (from quandl) (1.21.5)\n",
            "Requirement already satisfied: pandas>=0.14 in /usr/local/lib/python3.7/dist-packages (from quandl) (1.3.5)\n",
            "Requirement already satisfied: more-itertools in /usr/local/lib/python3.7/dist-packages (from quandl) (8.12.0)\n",
            "Requirement already satisfied: python-dateutil in /usr/local/lib/python3.7/dist-packages (from quandl) (2.8.2)\n",
            "Requirement already satisfied: requests>=2.7.0 in /usr/local/lib/python3.7/dist-packages (from quandl) (2.23.0)\n",
            "Requirement already satisfied: pytz>=2017.3 in /usr/local/lib/python3.7/dist-packages (from pandas>=0.14->quandl) (2018.9)\n",
            "Requirement already satisfied: idna<3,>=2.5 in /usr/local/lib/python3.7/dist-packages (from requests>=2.7.0->quandl) (2.10)\n",
            "Requirement already satisfied: chardet<4,>=3.0.2 in /usr/local/lib/python3.7/dist-packages (from requests>=2.7.0->quandl) (3.0.4)\n",
            "Requirement already satisfied: certifi>=2017.4.17 in /usr/local/lib/python3.7/dist-packages (from requests>=2.7.0->quandl) (2021.10.8)\n",
            "Requirement already satisfied: urllib3!=1.25.0,!=1.25.1,<1.26,>=1.21.1 in /usr/local/lib/python3.7/dist-packages (from requests>=2.7.0->quandl) (1.24.3)\n",
            "Installing collected packages: inflection, quandl\n",
            "Successfully installed inflection-0.5.1 quandl-3.7.0\n"
          ]
        }
      ]
    },
    {
      "cell_type": "code",
      "source": [
        "import quandl\n",
        "quandl.ApiConfig.api_key = '9Wq7Nd9-BsAcNxDfmbec'"
      ],
      "metadata": {
        "id": "6ux2vCbBGBsm"
      },
      "execution_count": null,
      "outputs": []
    },
    {
      "cell_type": "code",
      "source": [
        "aapl_table = quandl.get('WIKI/AAPL')\n",
        "aapl = aapl_table['Adj. Close']['2017']\n",
        "print (aapl)"
      ],
      "metadata": {
        "colab": {
          "base_uri": "https://localhost:8080/"
        },
        "id": "S8n__hF2GFKm",
        "outputId": "ae6ebe25-4ab3-4685-b119-675079500b4f"
      },
      "execution_count": null,
      "outputs": [
        {
          "output_type": "stream",
          "name": "stdout",
          "text": [
            "Date\n",
            "2017-01-03    114.715378\n",
            "2017-01-04    114.586983\n",
            "2017-01-05    115.169696\n",
            "2017-01-06    116.453639\n",
            "2017-01-09    117.520300\n",
            "                 ...    \n",
            "2017-12-22    175.010000\n",
            "2017-12-26    170.570000\n",
            "2017-12-27    170.600000\n",
            "2017-12-28    171.080000\n",
            "2017-12-29    169.230000\n",
            "Name: Adj. Close, Length: 249, dtype: float64\n"
          ]
        }
      ]
    },
    {
      "cell_type": "code",
      "source": [
        "aapl2_table = quandl.get('WIKI/AAPL')\n",
        "aapl2 = aapl2_table['Adj. Close']['2016']\n",
        "print (aapl2)"
      ],
      "metadata": {
        "colab": {
          "base_uri": "https://localhost:8080/"
        },
        "id": "0TUwCRQHvmxL",
        "outputId": "9c4d3a8b-2a07-4d2a-9506-79779822c7ba"
      },
      "execution_count": null,
      "outputs": [
        {
          "output_type": "stream",
          "name": "stdout",
          "text": [
            "Date\n",
            "2016-01-04    101.783763\n",
            "2016-01-05     99.233131\n",
            "2016-01-06     97.291172\n",
            "2016-01-07     93.185040\n",
            "2016-01-08     93.677776\n",
            "                 ...    \n",
            "2016-12-23    115.080808\n",
            "2016-12-27    115.811668\n",
            "2016-12-28    115.317843\n",
            "2016-12-29    115.288214\n",
            "2016-12-30    114.389454\n",
            "Name: Adj. Close, Length: 252, dtype: float64\n"
          ]
        }
      ]
    },
    {
      "cell_type": "markdown",
      "source": [
        "# My own example 121"
      ],
      "metadata": {
        "id": "Ztj1tQrNuv1m"
      }
    },
    {
      "cell_type": "code",
      "source": [
        "print (aapl['2017-3'])"
      ],
      "metadata": {
        "colab": {
          "base_uri": "https://localhost:8080/"
        },
        "id": "z4fik4i2vPMv",
        "outputId": "07956406-3ecd-4a6b-8d5d-ab7ef616f85e"
      },
      "execution_count": null,
      "outputs": [
        {
          "output_type": "stream",
          "name": "stdout",
          "text": [
            "Date\n",
            "2017-03-01    138.657681\n",
            "2017-03-02    137.834404\n",
            "2017-03-03    138.647762\n",
            "2017-03-06    138.211326\n",
            "2017-03-07    138.389868\n",
            "2017-03-08    137.874080\n",
            "2017-03-09    137.556672\n",
            "2017-03-10    138.012946\n",
            "2017-03-13    138.072460\n",
            "2017-03-14    137.864161\n",
            "2017-03-15    139.322254\n",
            "2017-03-16    139.550391\n",
            "2017-03-17    138.856061\n",
            "2017-03-20    140.314154\n",
            "2017-03-21    138.707276\n",
            "2017-03-22    140.274478\n",
            "2017-03-23    139.778528\n",
            "2017-03-24    139.500796\n",
            "2017-03-27    139.738852\n",
            "2017-03-28    142.635200\n",
            "2017-03-29    142.952608\n",
            "2017-03-30    142.764147\n",
            "2017-03-31    142.496334\n",
            "Name: Adj. Close, dtype: float64\n"
          ]
        }
      ]
    },
    {
      "cell_type": "code",
      "source": [
        "print (aapl2['2016-3'])"
      ],
      "metadata": {
        "colab": {
          "base_uri": "https://localhost:8080/"
        },
        "id": "2VF1A0Atuyep",
        "outputId": "fd4d1d9b-8b14-422d-9e28-fbf1ec149cac"
      },
      "execution_count": null,
      "outputs": [
        {
          "output_type": "stream",
          "name": "stdout",
          "text": [
            "Date\n",
            "2016-03-01     97.649763\n",
            "2016-03-02     97.863460\n",
            "2016-03-03     98.591972\n",
            "2016-03-04    100.058710\n",
            "2016-03-07     98.951372\n",
            "2016-03-08     98.135438\n",
            "2016-03-09     98.222859\n",
            "2016-03-10     98.271427\n",
            "2016-03-11     99.330198\n",
            "2016-03-14     99.582749\n",
            "2016-03-15    101.583729\n",
            "2016-03-16    102.933904\n",
            "2016-03-17    102.768775\n",
            "2016-03-18    102.885337\n",
            "2016-03-21    102.875623\n",
            "2016-03-22    103.662416\n",
            "2016-03-23    103.089320\n",
            "2016-03-24    102.642500\n",
            "2016-03-28    102.176252\n",
            "2016-03-29    104.594912\n",
            "2016-03-30    106.421049\n",
            "2016-03-31    105.867380\n",
            "Name: Adj. Close, dtype: float64\n"
          ]
        }
      ]
    },
    {
      "cell_type": "markdown",
      "source": [
        "# My own example 122"
      ],
      "metadata": {
        "id": "krqPrlrTvr0X"
      }
    },
    {
      "cell_type": "code",
      "source": [
        "aapl['2017-2':'2017-4']"
      ],
      "metadata": {
        "colab": {
          "base_uri": "https://localhost:8080/"
        },
        "id": "d1Xa1I0cvvwB",
        "outputId": "3daecff3-8a05-489d-f61d-5eb0b6812444"
      },
      "execution_count": null,
      "outputs": [
        {
          "output_type": "execute_result",
          "data": {
            "text/plain": [
              "Date\n",
              "2017-02-01    127.159749\n",
              "2017-02-02    126.942467\n",
              "2017-02-03    127.485673\n",
              "2017-02-06    128.680728\n",
              "2017-02-07    129.905412\n",
              "                 ...    \n",
              "2017-04-24    142.476496\n",
              "2017-04-25    143.369205\n",
              "2017-04-26    142.487208\n",
              "2017-04-27    142.625281\n",
              "2017-04-28    142.486415\n",
              "Name: Adj. Close, Length: 61, dtype: float64"
            ]
          },
          "metadata": {},
          "execution_count": 18
        }
      ]
    },
    {
      "cell_type": "code",
      "source": [
        "aapl2['2016-5':'2016-7']"
      ],
      "metadata": {
        "colab": {
          "base_uri": "https://localhost:8080/"
        },
        "id": "JjwK-nuuvz-m",
        "outputId": "b450ae0a-4e4f-421a-c80f-dc57eaf18541"
      },
      "execution_count": null,
      "outputs": [
        {
          "output_type": "execute_result",
          "data": {
            "text/plain": [
              "Date\n",
              "2016-05-02     90.957165\n",
              "2016-05-03     92.453043\n",
              "2016-05-04     91.491407\n",
              "2016-05-05     91.122295\n",
              "2016-05-06     90.614105\n",
              "                 ...    \n",
              "2016-07-25     95.129174\n",
              "2016-07-26     94.474391\n",
              "2016-07-27    100.611757\n",
              "2016-07-28    101.970187\n",
              "2016-07-29    101.843140\n",
              "Name: Adj. Close, Length: 63, dtype: float64"
            ]
          },
          "metadata": {},
          "execution_count": 19
        }
      ]
    },
    {
      "cell_type": "markdown",
      "source": [
        "# My own example 123"
      ],
      "metadata": {
        "id": "iJA_3yL7v4D4"
      }
    },
    {
      "cell_type": "code",
      "source": [
        "print (aapl.head())\n",
        "print (aapl.tail(10))"
      ],
      "metadata": {
        "colab": {
          "base_uri": "https://localhost:8080/"
        },
        "id": "PZx9ubHrv6vd",
        "outputId": "307709b9-4275-4209-b2fa-0b7d9ff5985b"
      },
      "execution_count": null,
      "outputs": [
        {
          "output_type": "stream",
          "name": "stdout",
          "text": [
            "Date\n",
            "2017-01-03    114.715378\n",
            "2017-01-04    114.586983\n",
            "2017-01-05    115.169696\n",
            "2017-01-06    116.453639\n",
            "2017-01-09    117.520300\n",
            "Name: Adj. Close, dtype: float64\n",
            "Date\n",
            "2017-12-15    173.87\n",
            "2017-12-18    176.42\n",
            "2017-12-19    174.54\n",
            "2017-12-20    174.35\n",
            "2017-12-21    175.01\n",
            "2017-12-22    175.01\n",
            "2017-12-26    170.57\n",
            "2017-12-27    170.60\n",
            "2017-12-28    171.08\n",
            "2017-12-29    169.23\n",
            "Name: Adj. Close, dtype: float64\n"
          ]
        }
      ]
    },
    {
      "cell_type": "code",
      "source": [
        "print (aapl2.head())\n",
        "print (aapl2.tail(7))"
      ],
      "metadata": {
        "colab": {
          "base_uri": "https://localhost:8080/"
        },
        "id": "IREGRs5Xv-Lq",
        "outputId": "4b577ecb-3fc3-4ee4-e279-496154ee921e"
      },
      "execution_count": null,
      "outputs": [
        {
          "output_type": "stream",
          "name": "stdout",
          "text": [
            "Date\n",
            "2016-01-04    101.783763\n",
            "2016-01-05     99.233131\n",
            "2016-01-06     97.291172\n",
            "2016-01-07     93.185040\n",
            "2016-01-08     93.677776\n",
            "Name: Adj. Close, dtype: float64\n",
            "Date\n",
            "2016-12-21    115.614138\n",
            "2016-12-22    114.853649\n",
            "2016-12-23    115.080808\n",
            "2016-12-27    115.811668\n",
            "2016-12-28    115.317843\n",
            "2016-12-29    115.288214\n",
            "2016-12-30    114.389454\n",
            "Name: Adj. Close, dtype: float64\n"
          ]
        }
      ]
    },
    {
      "cell_type": "markdown",
      "source": [
        "# My own example 124"
      ],
      "metadata": {
        "id": "e7KgsNXJwA9T"
      }
    },
    {
      "cell_type": "code",
      "source": [
        "by_month = aapl.resample('M').mean()\n",
        "print (by_month)"
      ],
      "metadata": {
        "colab": {
          "base_uri": "https://localhost:8080/"
        },
        "id": "n1jEQnGKxQWI",
        "outputId": "babd7112-603e-4ed5-93bb-115a1ccabad3"
      },
      "execution_count": null,
      "outputs": [
        {
          "output_type": "stream",
          "name": "stdout",
          "text": [
            "Date\n",
            "2017-01-31    118.093136\n",
            "2017-02-28    132.456268\n",
            "2017-03-31    139.478802\n",
            "2017-04-30    141.728436\n",
            "2017-05-31    151.386305\n",
            "2017-06-30    147.233064\n",
            "2017-07-31    147.706190\n",
            "2017-08-31    158.856375\n",
            "2017-09-30    157.606500\n",
            "2017-10-31    157.811627\n",
            "2017-11-30    172.214500\n",
            "2017-12-31    171.893100\n",
            "Freq: M, Name: Adj. Close, dtype: float64\n"
          ]
        }
      ]
    },
    {
      "cell_type": "code",
      "source": [
        "by_month = aapl2.resample('M').mean()\n",
        "print (by_month)"
      ],
      "metadata": {
        "colab": {
          "base_uri": "https://localhost:8080/"
        },
        "id": "oz_y34eRxUM_",
        "outputId": "12743791-061f-4e0e-f15d-6181df36d4f1"
      },
      "execution_count": null,
      "outputs": [
        {
          "output_type": "stream",
          "name": "stdout",
          "text": [
            "Date\n",
            "2016-01-31     95.096998\n",
            "2016-02-29     92.928614\n",
            "2016-03-31    101.279961\n",
            "2016-04-30    103.680918\n",
            "2016-05-31     92.737630\n",
            "2016-06-30     94.427748\n",
            "2016-07-31     96.318044\n",
            "2016-08-31    105.714016\n",
            "2016-09-30    108.922604\n",
            "2016-10-31    113.687968\n",
            "2016-11-30    108.739551\n",
            "2016-12-31    112.923501\n",
            "Freq: M, Name: Adj. Close, dtype: float64\n"
          ]
        }
      ]
    },
    {
      "cell_type": "markdown",
      "source": [
        "# My own example 125"
      ],
      "metadata": {
        "id": "WESFAaD8xWhK"
      }
    },
    {
      "cell_type": "code",
      "source": [
        "by_week = aapl.resample('W').mean()\n",
        "print (by_week.head())"
      ],
      "metadata": {
        "colab": {
          "base_uri": "https://localhost:8080/"
        },
        "id": "kmNpNUuTxYaj",
        "outputId": "3d5bda92-46e2-4cf9-e7cc-dcc920c45059"
      },
      "execution_count": null,
      "outputs": [
        {
          "output_type": "stream",
          "name": "stdout",
          "text": [
            "Date\n",
            "2017-01-08    115.231424\n",
            "2017-01-15    117.755360\n",
            "2017-01-22    118.461035\n",
            "2017-01-29    119.667448\n",
            "2017-02-05    124.313346\n",
            "Freq: W-SUN, Name: Adj. Close, dtype: float64\n"
          ]
        }
      ]
    },
    {
      "cell_type": "code",
      "source": [
        "by_week = aapl2.resample('W').mean()\n",
        "print (by_week.head())"
      ],
      "metadata": {
        "colab": {
          "base_uri": "https://localhost:8080/"
        },
        "id": "TTuMqJh0xcrM",
        "outputId": "ae657c69-945b-46dc-bffe-fb5978e7feee"
      },
      "execution_count": null,
      "outputs": [
        {
          "output_type": "stream",
          "name": "stdout",
          "text": [
            "Date\n",
            "2016-01-10    97.034176\n",
            "2016-01-17    95.171442\n",
            "2016-01-24    94.482095\n",
            "2016-01-31    93.577296\n",
            "2016-02-07    92.538901\n",
            "Freq: W-SUN, Name: Adj. Close, dtype: float64\n"
          ]
        }
      ]
    },
    {
      "cell_type": "markdown",
      "source": [
        "# My own example 126"
      ],
      "metadata": {
        "id": "-fXYAoCxxfAa"
      }
    },
    {
      "cell_type": "code",
      "source": [
        "three_day = aapl.resample('3D').mean()\n",
        "two_week  = aapl.resample('2W').mean()\n",
        "two_month = aapl.resample('2M').mean()"
      ],
      "metadata": {
        "id": "D-NzgSgWxhXP"
      },
      "execution_count": null,
      "outputs": []
    },
    {
      "cell_type": "code",
      "source": [
        "four_day = aapl2.resample('4D').mean()\n",
        "three_week  = aapl2.resample('3W').mean()\n",
        "six_month = aapl2.resample('6M').mean()"
      ],
      "metadata": {
        "id": "-Iv0lLtWybEV"
      },
      "execution_count": null,
      "outputs": []
    },
    {
      "cell_type": "markdown",
      "source": [
        "# My own example 127"
      ],
      "metadata": {
        "id": "iA8MbRxfyk4L"
      }
    },
    {
      "cell_type": "code",
      "source": [
        "std = aapl.resample('W').std()    # standard deviation\n",
        "max = aapl.resample('W').max()    # maximum value\n",
        "min = aapl.resample('W').min()    # minimum value"
      ],
      "metadata": {
        "id": "HRk9RPYsxrFn"
      },
      "execution_count": null,
      "outputs": []
    },
    {
      "cell_type": "code",
      "source": [
        "std = aapl2.resample('3W').std()\n",
        "max = aapl2.resample('3W').max()\n",
        "min = aapl2.resample('3W').min() "
      ],
      "metadata": {
        "id": "-E4Sp7pSynXi"
      },
      "execution_count": null,
      "outputs": []
    },
    {
      "cell_type": "markdown",
      "source": [
        "# My own example 128"
      ],
      "metadata": {
        "id": "fs_HZV2oypZe"
      }
    },
    {
      "cell_type": "code",
      "source": [
        "last_day = aapl.resample('M').agg(lambda x: x[-1])\n",
        "print (last_day)"
      ],
      "metadata": {
        "colab": {
          "base_uri": "https://localhost:8080/"
        },
        "id": "x3OREvd1xsaU",
        "outputId": "22d9b69a-c32e-4800-d7a4-19065cd92a34"
      },
      "execution_count": null,
      "outputs": [
        {
          "output_type": "stream",
          "name": "stdout",
          "text": [
            "Date\n",
            "2017-01-31    119.851150\n",
            "2017-02-28    135.880362\n",
            "2017-03-31    142.496334\n",
            "2017-04-30    142.486415\n",
            "2017-05-31    152.142689\n",
            "2017-06-30    143.438008\n",
            "2017-07-31    148.248489\n",
            "2017-08-31    164.000000\n",
            "2017-09-30    154.120000\n",
            "2017-10-31    169.040000\n",
            "2017-11-30    171.850000\n",
            "2017-12-31    169.230000\n",
            "Freq: M, Name: Adj. Close, dtype: float64\n"
          ]
        }
      ]
    },
    {
      "cell_type": "code",
      "source": [
        "last_day = aapl2.resample('M').agg(lambda x: x[-2])\n",
        "print (last_day)"
      ],
      "metadata": {
        "colab": {
          "base_uri": "https://localhost:8080/"
        },
        "id": "Xp9fiQVuxzkN",
        "outputId": "1f8a6581-6ecf-4215-a956-89f2802fb0bb"
      },
      "execution_count": null,
      "outputs": [
        {
          "output_type": "stream",
          "name": "stdout",
          "text": [
            "Date\n",
            "2016-01-31     90.904929\n",
            "2016-02-29     94.133478\n",
            "2016-03-31    106.421049\n",
            "2016-04-30     92.113071\n",
            "2016-05-31     98.070809\n",
            "2016-06-30     92.255948\n",
            "2016-07-31    101.970187\n",
            "2016-08-31    104.150222\n",
            "2016-09-30    110.222377\n",
            "2016-10-31    111.735503\n",
            "2016-11-30    110.083306\n",
            "2016-12-31    115.288214\n",
            "Freq: M, Name: Adj. Close, dtype: float64\n"
          ]
        }
      ]
    },
    {
      "cell_type": "markdown",
      "source": [
        "# My own example 129"
      ],
      "metadata": {
        "id": "rI09GoVZy6h_"
      }
    },
    {
      "cell_type": "code",
      "source": [
        "monthly_return = aapl.resample('M').agg(lambda x: x[-1]/x[1] - 1)\n",
        "print (monthly_return)"
      ],
      "metadata": {
        "colab": {
          "base_uri": "https://localhost:8080/"
        },
        "id": "HDDHfIT2y8a2",
        "outputId": "470fdbeb-678d-4e85-dc06-a0313f1a57f6"
      },
      "execution_count": null,
      "outputs": [
        {
          "output_type": "stream",
          "name": "stdout",
          "text": [
            "Date\n",
            "2017-01-31    0.045940\n",
            "2017-02-28    0.070409\n",
            "2017-03-31    0.033823\n",
            "2017-04-30   -0.007736\n",
            "2017-05-31    0.039829\n",
            "2017-06-30   -0.073528\n",
            "2017-07-31    0.033035\n",
            "2017-08-31    0.047890\n",
            "2017-09-30   -0.049112\n",
            "2017-10-31    0.094252\n",
            "2017-11-30    0.022247\n",
            "2017-12-31   -0.003357\n",
            "Freq: M, Name: Adj. Close, dtype: float64\n"
          ]
        }
      ]
    },
    {
      "cell_type": "code",
      "source": [
        "monthly_return2 = aapl2.resample('M').agg(lambda x: x[-2]/x[2] - 1)\n",
        "print (monthly_return2)"
      ],
      "metadata": {
        "colab": {
          "base_uri": "https://localhost:8080/"
        },
        "id": "VEFiRdqfzk-i",
        "outputId": "126c8c22-d88b-45e8-85bd-4f3ffbaf20e0"
      },
      "execution_count": null,
      "outputs": [
        {
          "output_type": "stream",
          "name": "stdout",
          "text": [
            "Date\n",
            "2016-01-31   -0.065641\n",
            "2016-02-29    0.011226\n",
            "2016-03-31    0.079409\n",
            "2016-04-30   -0.136417\n",
            "2016-05-31    0.071913\n",
            "2016-06-30   -0.035948\n",
            "2016-07-31    0.092222\n",
            "2016-08-31    0.007380\n",
            "2016-09-30    0.041597\n",
            "2016-10-31    0.005927\n",
            "2016-11-30    0.014841\n",
            "2016-12-31    0.069838\n",
            "Freq: M, Name: Adj. Close, dtype: float64\n"
          ]
        }
      ]
    },
    {
      "cell_type": "markdown",
      "source": [
        "# My own example 130"
      ],
      "metadata": {
        "id": "in5pZ84TzmwW"
      }
    },
    {
      "cell_type": "code",
      "source": [
        "print (monthly_return.mean())\n",
        "print (monthly_return.std())\n",
        "print (monthly_return.max())"
      ],
      "metadata": {
        "colab": {
          "base_uri": "https://localhost:8080/"
        },
        "id": "8vC5LEjmzobW",
        "outputId": "30c31294-dfcc-4d34-c023-f6069bdc82e4"
      },
      "execution_count": null,
      "outputs": [
        {
          "output_type": "stream",
          "name": "stdout",
          "text": [
            "0.02114094011940022\n",
            "0.04775652864223314\n",
            "0.09425168306576914\n"
          ]
        }
      ]
    },
    {
      "cell_type": "code",
      "source": [
        "print (monthly_return2.mean())\n",
        "print (monthly_return2.std())\n",
        "print (monthly_return2.max())"
      ],
      "metadata": {
        "colab": {
          "base_uri": "https://localhost:8080/"
        },
        "id": "YR6gHcSIz4jP",
        "outputId": "5d1dde5e-5bbe-4877-afeb-037aa92b5247"
      },
      "execution_count": null,
      "outputs": [
        {
          "output_type": "stream",
          "name": "stdout",
          "text": [
            "0.013028915565941629\n",
            "0.06687796564453315\n",
            "0.09222233853241057\n"
          ]
        }
      ]
    },
    {
      "cell_type": "markdown",
      "source": [
        "# My own example 131"
      ],
      "metadata": {
        "id": "94d78qClz_rJ"
      }
    },
    {
      "cell_type": "code",
      "source": [
        "# print (last_day.diff())\n",
        "# print (last_day.pct_change())\n",
        "\n",
        "# Date\n",
        "# 2017-01-31          NaN\n",
        "# 2017-02-28    16.029211\n",
        "# 2017-03-31     6.615972\n",
        "# 2017-04-30    -0.009919\n",
        "# 2017-05-31     9.656274\n",
        "# 2017-06-30    -8.704681\n",
        "# 2017-07-31     4.810482\n",
        "# 2017-08-31     8.961511\n",
        "# Freq: M, Name: Adj. Close, dtype: float64\n",
        "# Date\n",
        "# 2017-01-31         NaN\n",
        "# 2017-02-28    0.133743\n",
        "# 2017-03-31    0.048690\n",
        "# 2017-04-30   -0.000070\n",
        "# 2017-05-31    0.067770\n",
        "# 2017-06-30   -0.057214\n",
        "# 2017-07-31    0.033537\n",
        "# 2017-08-31    0.060449"
      ],
      "metadata": {
        "id": "6srHMUc51yVT"
      },
      "execution_count": null,
      "outputs": []
    },
    {
      "cell_type": "code",
      "source": [
        "print (last_day.diff())\n",
        "print (last_day.pct_change())"
      ],
      "metadata": {
        "colab": {
          "base_uri": "https://localhost:8080/"
        },
        "id": "2llcGjL10Bhp",
        "outputId": "93df8abc-87d1-40c9-d1e3-c3bf8c5e5dd5"
      },
      "execution_count": null,
      "outputs": [
        {
          "output_type": "stream",
          "name": "stdout",
          "text": [
            "Date\n",
            "2016-01-31          NaN\n",
            "2016-02-29     3.228549\n",
            "2016-03-31    12.287571\n",
            "2016-04-30   -14.307978\n",
            "2016-05-31     5.957738\n",
            "2016-06-30    -5.814861\n",
            "2016-07-31     9.714239\n",
            "2016-08-31     2.180035\n",
            "2016-09-30     6.072154\n",
            "2016-10-31     1.513126\n",
            "2016-11-30    -1.652196\n",
            "2016-12-31     5.204908\n",
            "Freq: M, Name: Adj. Close, dtype: float64\n",
            "Date\n",
            "2016-01-31         NaN\n",
            "2016-02-29    0.035516\n",
            "2016-03-31    0.130533\n",
            "2016-04-30   -0.134447\n",
            "2016-05-31    0.064679\n",
            "2016-06-30   -0.059292\n",
            "2016-07-31    0.105297\n",
            "2016-08-31    0.021379\n",
            "2016-09-30    0.058302\n",
            "2016-10-31    0.013728\n",
            "2016-11-30   -0.014787\n",
            "2016-12-31    0.047282\n",
            "Freq: M, Name: Adj. Close, dtype: float64\n"
          ]
        }
      ]
    },
    {
      "cell_type": "markdown",
      "source": [
        "# My own example 132"
      ],
      "metadata": {
        "id": "mW2Lf79G1fWv"
      }
    },
    {
      "cell_type": "code",
      "source": [
        "# daily_return = last_day.pct_change()\n",
        "# print (daily_return.fillna(0))\n",
        "\n",
        "# Date\n",
        "# 2017-01-31    0.000000\n",
        "# 2017-02-28    0.133743\n",
        "# 2017-03-31    0.048690\n",
        "# 2017-04-30   -0.000070\n",
        "# 2017-05-31    0.067770\n",
        "# 2017-06-30   -0.057214\n",
        "# 2017-07-31    0.033537\n",
        "# 2017-08-31    0.060449"
      ],
      "metadata": {
        "id": "55X1h8VK15fE"
      },
      "execution_count": null,
      "outputs": []
    },
    {
      "cell_type": "code",
      "source": [
        "daily_return = last_day.pct_change()\n",
        "print (daily_return.fillna(0))"
      ],
      "metadata": {
        "colab": {
          "base_uri": "https://localhost:8080/"
        },
        "id": "xTeRgvnd064u",
        "outputId": "922fdef9-fad2-4b48-d29d-06c3d669835f"
      },
      "execution_count": null,
      "outputs": [
        {
          "output_type": "stream",
          "name": "stdout",
          "text": [
            "Date\n",
            "2016-01-31    0.000000\n",
            "2016-02-29    0.035516\n",
            "2016-03-31    0.130533\n",
            "2016-04-30   -0.134447\n",
            "2016-05-31    0.064679\n",
            "2016-06-30   -0.059292\n",
            "2016-07-31    0.105297\n",
            "2016-08-31    0.021379\n",
            "2016-09-30    0.058302\n",
            "2016-10-31    0.013728\n",
            "2016-11-30   -0.014787\n",
            "2016-12-31    0.047282\n",
            "Freq: M, Name: Adj. Close, dtype: float64\n"
          ]
        }
      ]
    },
    {
      "cell_type": "markdown",
      "source": [
        "# My own example 133"
      ],
      "metadata": {
        "id": "b3q5wWfA1jy9"
      }
    },
    {
      "cell_type": "code",
      "source": [
        "# daily_return = last_day.pct_change()\n",
        "# print (daily_return.fillna(method = 'bfill'))\n",
        "\n",
        "# Date\n",
        "# 2017-01-31    0.133743\n",
        "# 2017-02-28    0.133743\n",
        "# 2017-03-31    0.048690\n",
        "# 2017-04-30   -0.000070\n",
        "# 2017-05-31    0.067770\n",
        "# 2017-06-30   -0.057214\n",
        "# 2017-07-31    0.033537\n",
        "# 2017-08-31    0.060449"
      ],
      "metadata": {
        "id": "o1YAc9PE1-ap"
      },
      "execution_count": null,
      "outputs": []
    },
    {
      "cell_type": "code",
      "source": [
        "daily_return = last_day.pct_change()\n",
        "print (daily_return.fillna(method = 'bfill'))"
      ],
      "metadata": {
        "colab": {
          "base_uri": "https://localhost:8080/"
        },
        "id": "WiZbHsf71Lk2",
        "outputId": "7866e5e7-977c-44e0-b9b7-6f49cb4d4a78"
      },
      "execution_count": null,
      "outputs": [
        {
          "output_type": "stream",
          "name": "stdout",
          "text": [
            "Date\n",
            "2016-01-31    0.035516\n",
            "2016-02-29    0.035516\n",
            "2016-03-31    0.130533\n",
            "2016-04-30   -0.134447\n",
            "2016-05-31    0.064679\n",
            "2016-06-30   -0.059292\n",
            "2016-07-31    0.105297\n",
            "2016-08-31    0.021379\n",
            "2016-09-30    0.058302\n",
            "2016-10-31    0.013728\n",
            "2016-11-30   -0.014787\n",
            "2016-12-31    0.047282\n",
            "Freq: M, Name: Adj. Close, dtype: float64\n"
          ]
        }
      ]
    },
    {
      "cell_type": "markdown",
      "source": [
        "# My own example 134"
      ],
      "metadata": {
        "id": "6Sujna1F1nap"
      }
    },
    {
      "cell_type": "code",
      "source": [
        "# daily_return = last_day.pct_change().dropna()\n",
        "# print (daily_return)\n",
        "\n",
        "# Date\n",
        "# 2017-02-28    0.133743\n",
        "# 2017-03-31    0.048690\n",
        "# 2017-04-30   -0.000070\n",
        "# 2017-05-31    0.067770\n",
        "# 2017-06-30   -0.057214\n",
        "# 2017-07-31    0.038050"
      ],
      "metadata": {
        "id": "dSBT-IRp2CHf"
      },
      "execution_count": null,
      "outputs": []
    },
    {
      "cell_type": "code",
      "source": [
        "daily_return = last_day.pct_change().dropna()\n",
        "print (daily_return)"
      ],
      "metadata": {
        "colab": {
          "base_uri": "https://localhost:8080/"
        },
        "id": "ijfjUnAn1R4U",
        "outputId": "38d9b5ac-3617-49e9-eb03-34d64abc8890"
      },
      "execution_count": null,
      "outputs": [
        {
          "output_type": "stream",
          "name": "stdout",
          "text": [
            "Date\n",
            "2016-02-29    0.035516\n",
            "2016-03-31    0.130533\n",
            "2016-04-30   -0.134447\n",
            "2016-05-31    0.064679\n",
            "2016-06-30   -0.059292\n",
            "2016-07-31    0.105297\n",
            "2016-08-31    0.021379\n",
            "2016-09-30    0.058302\n",
            "2016-10-31    0.013728\n",
            "2016-11-30   -0.014787\n",
            "2016-12-31    0.047282\n",
            "Freq: M, Name: Adj. Close, dtype: float64\n"
          ]
        }
      ]
    },
    {
      "cell_type": "markdown",
      "source": [
        "# My own example 135"
      ],
      "metadata": {
        "id": "a-xQ9Vvv1qn_"
      }
    },
    {
      "cell_type": "code",
      "source": [
        "import pandas as pd\n"
      ],
      "metadata": {
        "id": "7b3OdpKx2T_m"
      },
      "execution_count": null,
      "outputs": []
    },
    {
      "cell_type": "code",
      "source": [
        "dict = {'AAPL': [143.5,  144.09, 142.73, 144.18, 143.77],\n",
        "        'GOOG': [898.7,  911.71, 906.69, 918.59, 926.99],\n",
        "        'IBM':  [155.58, 153.67, 152.36, 152.94, 153.49]}\n",
        "dates = pd.date_range('2017-07-03', periods = 5, freq = 'D')\n",
        "df = pd.DataFrame(dict, index = dates)\n",
        "print (df)"
      ],
      "metadata": {
        "colab": {
          "base_uri": "https://localhost:8080/"
        },
        "id": "3XfXf5091tTF",
        "outputId": "82e6669c-fd13-4fd2-84ee-f6f3b6d3fba5"
      },
      "execution_count": null,
      "outputs": [
        {
          "output_type": "stream",
          "name": "stdout",
          "text": [
            "              AAPL    GOOG     IBM\n",
            "2017-07-03  143.50  898.70  155.58\n",
            "2017-07-04  144.09  911.71  153.67\n",
            "2017-07-05  142.73  906.69  152.36\n",
            "2017-07-06  144.18  918.59  152.94\n",
            "2017-07-07  143.77  926.99  153.49\n"
          ]
        }
      ]
    },
    {
      "cell_type": "code",
      "source": [
        "dict2 = {'FB': [56.3,  65.8, 71.8, 67.9],\n",
        "        'SNAP': [94.6,  91.7, 87.4, 101.4],\n",
        "        'NASDAQ':  [105.9, 109.4, 107.2, 106.8]}\n",
        "dates = pd.date_range('2017-06-06', periods = 4, freq = 'W')\n",
        "df = pd.DataFrame(dict2, index = dates)\n",
        "print (df)"
      ],
      "metadata": {
        "colab": {
          "base_uri": "https://localhost:8080/"
        },
        "id": "nx19T_2W2XzU",
        "outputId": "6e5145e9-310e-4837-a039-eb1778bc5009"
      },
      "execution_count": null,
      "outputs": [
        {
          "output_type": "stream",
          "name": "stdout",
          "text": [
            "              FB   SNAP  NASDAQ\n",
            "2017-06-11  56.3   94.6   105.9\n",
            "2017-06-18  65.8   91.7   109.4\n",
            "2017-06-25  71.8   87.4   107.2\n",
            "2017-07-02  67.9  101.4   106.8\n"
          ]
        }
      ]
    },
    {
      "cell_type": "markdown",
      "source": [
        "# My own example 136"
      ],
      "metadata": {
        "id": "AOGq-kKa3KOa"
      }
    },
    {
      "cell_type": "code",
      "source": [
        "# df = aapl_table\n",
        "# print (df.Close.tail(5))\n",
        "# print (df['Adj. Volume'].tail(5))\n",
        "\n",
        "# Date\n",
        "# 2017-07-24    152.09\n",
        "# 2017-07-25    152.74\n",
        "# 2017-07-26    153.46\n",
        "# 2017-07-27    150.56\n",
        "# 2017-07-28    149.50\n",
        "# Name: Close, dtype: float64\n",
        "# Date\n",
        "# 2017-07-24    21122730.0\n",
        "# 2017-07-25    18612649.0\n",
        "# 2017-07-26    15172136.0\n",
        "# 2017-07-27    32175875.0\n",
        "# 2017-07-28    16832947.0\n",
        "# Name: Adj. Volume, dtype: float64"
      ],
      "metadata": {
        "id": "CkbGmoyR3Ngr"
      },
      "execution_count": null,
      "outputs": []
    },
    {
      "cell_type": "code",
      "source": [
        "df = (aapl2_table)\n",
        "print (df.Close.tail(4))\n",
        "print (df['Adj. Volume'].tail(4))"
      ],
      "metadata": {
        "colab": {
          "base_uri": "https://localhost:8080/"
        },
        "id": "DKeaLGZG3SmB",
        "outputId": "62de5f94-7470-455a-db75-d651bc5fabc9"
      },
      "execution_count": null,
      "outputs": [
        {
          "output_type": "stream",
          "name": "stdout",
          "text": [
            "Date\n",
            "2018-03-22    168.845\n",
            "2018-03-23    164.940\n",
            "2018-03-26    172.770\n",
            "2018-03-27    168.340\n",
            "Name: Close, dtype: float64\n",
            "Date\n",
            "2018-03-22    41051076.0\n",
            "2018-03-23    40248954.0\n",
            "2018-03-26    36272617.0\n",
            "2018-03-27    38962839.0\n",
            "Name: Adj. Volume, dtype: float64\n"
          ]
        }
      ]
    },
    {
      "cell_type": "markdown",
      "source": [
        "# My own example 137"
      ],
      "metadata": {
        "id": "U-cK_VXy3tfM"
      }
    },
    {
      "cell_type": "code",
      "source": [
        "aapl_2016 = df['2016']\n",
        "aapl_month = aapl_2016.resample('M').agg(lambda x: x[-1])\n",
        "print (aapl_month)"
      ],
      "metadata": {
        "colab": {
          "base_uri": "https://localhost:8080/"
        },
        "id": "h3XExYZ23wv_",
        "outputId": "64f4fb4a-d721-45b8-aac4-a2021797452b"
      },
      "execution_count": null,
      "outputs": [
        {
          "output_type": "stream",
          "name": "stdout",
          "text": [
            "              Open      High     Low   Close      Volume  Ex-Dividend  \\\n",
            "Date                                                                    \n",
            "2016-01-31   94.79   97.3400   94.35   97.34  64416504.0          0.0   \n",
            "2016-02-29   96.86   98.2300   96.65   96.69  35216277.0          0.0   \n",
            "2016-03-31  109.72  109.9000  108.88  108.99  25888449.0          0.0   \n",
            "2016-04-30   93.99   94.7200   92.51   93.74  68531478.0          0.0   \n",
            "2016-05-31   99.60  100.4000   98.82   99.86  42307212.0          0.0   \n",
            "2016-06-30   94.44   95.7700   94.30   95.60  35836356.0          0.0   \n",
            "2016-07-31  104.19  104.5500  103.68  104.21  27733688.0          0.0   \n",
            "2016-08-31  105.66  106.5699  105.64  106.10  29662406.0          0.0   \n",
            "2016-09-30  112.46  113.3700  111.80  113.05  36379106.0          0.0   \n",
            "2016-10-31  113.65  114.2300  113.20  113.54  26419398.0          0.0   \n",
            "2016-11-30  111.56  112.2000  110.27  110.52  36162258.0          0.0   \n",
            "2016-12-31  116.65  117.2000  115.43  115.82  30586265.0          0.0   \n",
            "\n",
            "            Split Ratio   Adj. Open   Adj. High    Adj. Low  Adj. Close  \\\n",
            "Date                                                                      \n",
            "2016-01-31          1.0   91.581233   94.044912   91.156128   94.044912   \n",
            "2016-02-29          1.0   94.084911   95.415659   93.880927   93.919781   \n",
            "2016-03-31          1.0  106.576465  106.751308  105.760531  105.867380   \n",
            "2016-04-30          1.0   91.297138   92.006223   89.859540   91.054300   \n",
            "2016-05-31          1.0   97.337844   98.119674   96.575559   97.591939   \n",
            "2016-06-30          1.0   92.295040   93.594832   92.158220   93.428693   \n",
            "2016-07-31          1.0  101.823594  102.175417  101.325177  101.843140   \n",
            "2016-08-31          1.0  103.816156  104.710177  103.796505  104.248477   \n",
            "2016-09-30          1.0  110.497491  111.391610  109.849008  111.077195   \n",
            "2016-10-31          1.0  111.666724  112.236603  111.224577  111.558644   \n",
            "2016-11-30          1.0  110.182071  110.814166  108.908004  109.154917   \n",
            "2016-12-31          1.0  115.209202  115.752409  114.004271  114.389454   \n",
            "\n",
            "            Adj. Volume  \n",
            "Date                     \n",
            "2016-01-31   64416504.0  \n",
            "2016-02-29   35216277.0  \n",
            "2016-03-31   25888449.0  \n",
            "2016-04-30   68531478.0  \n",
            "2016-05-31   42307212.0  \n",
            "2016-06-30   35836356.0  \n",
            "2016-07-31   27733688.0  \n",
            "2016-08-31   29662406.0  \n",
            "2016-09-30   36379106.0  \n",
            "2016-10-31   26419398.0  \n",
            "2016-11-30   36162258.0  \n",
            "2016-12-31   30586265.0  \n"
          ]
        },
        {
          "output_type": "stream",
          "name": "stderr",
          "text": [
            "/usr/local/lib/python3.7/dist-packages/ipykernel_launcher.py:1: FutureWarning: Indexing a DataFrame with a datetimelike index using a single string to slice the rows, like `frame[string]`, is deprecated and will be removed in a future version. Use `frame.loc[string]` instead.\n",
            "  \"\"\"Entry point for launching an IPython kernel.\n"
          ]
        }
      ]
    },
    {
      "cell_type": "code",
      "source": [
        "aapl_2017 = df['2017']\n",
        "aapl_2month = aapl_2017.resample('2M').agg(lambda x: x[-1])\n",
        "print (aapl_2month)"
      ],
      "metadata": {
        "colab": {
          "base_uri": "https://localhost:8080/"
        },
        "id": "2neev-V1321C",
        "outputId": "6b7dc3d5-20db-4d63-b6cc-e845a471ea58"
      },
      "execution_count": null,
      "outputs": [
        {
          "output_type": "stream",
          "name": "stdout",
          "text": [
            "              Open    High     Low   Close      Volume  Ex-Dividend  \\\n",
            "Date                                                                  \n",
            "2017-01-31  121.15  121.39  120.62  121.35  49200993.0          0.0   \n",
            "2017-03-31  143.72  144.27  143.01  143.66  19661651.0          0.0   \n",
            "2017-05-31  153.97  154.17  152.38  152.76  23162873.0          0.0   \n",
            "2017-07-31  149.90  150.33  148.13  148.85  19422655.0          0.0   \n",
            "2017-09-30  153.21  154.13  152.00  154.12  25856530.0          0.0   \n",
            "2017-11-30  170.43  172.14  168.44  171.85  40172368.0          0.0   \n",
            "2018-01-31  170.52  170.59  169.22  169.23  25643711.0          0.0   \n",
            "\n",
            "            Split Ratio   Adj. Open   Adj. High    Adj. Low  Adj. Close  \\\n",
            "Date                                                                      \n",
            "2017-01-31          1.0  119.653620  119.890656  119.130167  119.851150   \n",
            "2017-03-31          1.0  142.555848  143.101393  141.851599  142.496334   \n",
            "2017-05-31          1.0  153.347799  153.546991  151.764225  152.142689   \n",
            "2017-07-31          1.0  149.294246  149.722509  147.531399  148.248489   \n",
            "2017-09-30          1.0  153.210000  154.130000  152.000000  154.120000   \n",
            "2017-11-30          1.0  170.430000  172.140000  168.440000  171.850000   \n",
            "2018-01-31          1.0  170.520000  170.590000  169.220000  169.230000   \n",
            "\n",
            "            Adj. Volume  \n",
            "Date                     \n",
            "2017-01-31   49200993.0  \n",
            "2017-03-31   19661651.0  \n",
            "2017-05-31   23162873.0  \n",
            "2017-07-31   19422655.0  \n",
            "2017-09-30   25856530.0  \n",
            "2017-11-30   40172368.0  \n",
            "2018-01-31   25643711.0  \n"
          ]
        },
        {
          "output_type": "stream",
          "name": "stderr",
          "text": [
            "/usr/local/lib/python3.7/dist-packages/ipykernel_launcher.py:1: FutureWarning: Indexing a DataFrame with a datetimelike index using a single string to slice the rows, like `frame[string]`, is deprecated and will be removed in a future version. Use `frame.loc[string]` instead.\n",
            "  \"\"\"Entry point for launching an IPython kernel.\n"
          ]
        }
      ]
    },
    {
      "cell_type": "markdown",
      "source": [
        "# My own example 138"
      ],
      "metadata": {
        "id": "Dnk0AgVG3_ck"
      }
    },
    {
      "cell_type": "code",
      "source": [
        "aapl_bar = aapl_month[['Open', 'High', 'Low', 'Close']]\n",
        "print (aapl_bar)"
      ],
      "metadata": {
        "colab": {
          "base_uri": "https://localhost:8080/"
        },
        "id": "yvWRRK4X4CjO",
        "outputId": "a6990998-e562-47d0-81e2-d79baf2f0707"
      },
      "execution_count": null,
      "outputs": [
        {
          "output_type": "stream",
          "name": "stdout",
          "text": [
            "              Open      High     Low   Close\n",
            "Date                                        \n",
            "2016-01-31   94.79   97.3400   94.35   97.34\n",
            "2016-02-29   96.86   98.2300   96.65   96.69\n",
            "2016-03-31  109.72  109.9000  108.88  108.99\n",
            "2016-04-30   93.99   94.7200   92.51   93.74\n",
            "2016-05-31   99.60  100.4000   98.82   99.86\n",
            "2016-06-30   94.44   95.7700   94.30   95.60\n",
            "2016-07-31  104.19  104.5500  103.68  104.21\n",
            "2016-08-31  105.66  106.5699  105.64  106.10\n",
            "2016-09-30  112.46  113.3700  111.80  113.05\n",
            "2016-10-31  113.65  114.2300  113.20  113.54\n",
            "2016-11-30  111.56  112.2000  110.27  110.52\n",
            "2016-12-31  116.65  117.2000  115.43  115.82\n"
          ]
        }
      ]
    },
    {
      "cell_type": "code",
      "source": [
        "aapl_2bar = aapl_2month[['Open', 'High', 'Low', 'Close']]\n",
        "print (aapl_bar)"
      ],
      "metadata": {
        "colab": {
          "base_uri": "https://localhost:8080/"
        },
        "id": "d6wfA_JR4Lso",
        "outputId": "b1be1b79-e14d-4580-fa2a-bae12cfb6841"
      },
      "execution_count": null,
      "outputs": [
        {
          "output_type": "stream",
          "name": "stdout",
          "text": [
            "              Open      High     Low   Close\n",
            "Date                                        \n",
            "2016-01-31   94.79   97.3400   94.35   97.34\n",
            "2016-02-29   96.86   98.2300   96.65   96.69\n",
            "2016-03-31  109.72  109.9000  108.88  108.99\n",
            "2016-04-30   93.99   94.7200   92.51   93.74\n",
            "2016-05-31   99.60  100.4000   98.82   99.86\n",
            "2016-06-30   94.44   95.7700   94.30   95.60\n",
            "2016-07-31  104.19  104.5500  103.68  104.21\n",
            "2016-08-31  105.66  106.5699  105.64  106.10\n",
            "2016-09-30  112.46  113.3700  111.80  113.05\n",
            "2016-10-31  113.65  114.2300  113.20  113.54\n",
            "2016-11-30  111.56  112.2000  110.27  110.52\n",
            "2016-12-31  116.65  117.2000  115.43  115.82\n"
          ]
        }
      ]
    },
    {
      "cell_type": "markdown",
      "source": [
        "# My own example 139"
      ],
      "metadata": {
        "id": "wTbazp7R4Owv"
      }
    },
    {
      "cell_type": "code",
      "source": [
        "print (aapl_month.loc['2016-03':'2016-06', ['Open', 'High', 'Low', 'Close']])"
      ],
      "metadata": {
        "colab": {
          "base_uri": "https://localhost:8080/"
        },
        "id": "jOqx3WoV4RHG",
        "outputId": "606104bb-6f06-47cf-dc37-8f558ae725a3"
      },
      "execution_count": null,
      "outputs": [
        {
          "output_type": "stream",
          "name": "stdout",
          "text": [
            "              Open    High     Low   Close\n",
            "Date                                      \n",
            "2016-03-31  109.72  109.90  108.88  108.99\n",
            "2016-04-30   93.99   94.72   92.51   93.74\n",
            "2016-05-31   99.60  100.40   98.82   99.86\n",
            "2016-06-30   94.44   95.77   94.30   95.60\n"
          ]
        }
      ]
    },
    {
      "cell_type": "code",
      "source": [
        "print (aapl_2month.loc['2017-02':'2017-06', ['Open', 'High', 'Low', 'Close']])"
      ],
      "metadata": {
        "colab": {
          "base_uri": "https://localhost:8080/"
        },
        "id": "uyJFmjfp4V0W",
        "outputId": "3c6e8984-8a1f-4bde-fbc1-3e557033470e"
      },
      "execution_count": null,
      "outputs": [
        {
          "output_type": "stream",
          "name": "stdout",
          "text": [
            "              Open    High     Low   Close\n",
            "Date                                      \n",
            "2017-03-31  143.72  144.27  143.01  143.66\n",
            "2017-05-31  153.97  154.17  152.38  152.76\n"
          ]
        }
      ]
    },
    {
      "cell_type": "markdown",
      "source": [
        "# My own example 140"
      ],
      "metadata": {
        "id": "vEXLVZV841yD"
      }
    },
    {
      "cell_type": "code",
      "source": [
        "import numpy as np\n"
      ],
      "metadata": {
        "id": "rgqowD1448pW"
      },
      "execution_count": null,
      "outputs": []
    },
    {
      "cell_type": "code",
      "source": [
        "above = aapl_bar[aapl_bar.Close > np.mean(aapl_bar.Close)]\n",
        "print (above)\n",
        "\n",
        "#               Open      High     Low   Close\n",
        "# Date\n",
        "# 2016-03-31  109.72  109.9000  108.88  108.99\n",
        "# 2016-08-31  105.66  106.5699  105.64  106.10\n",
        "# 2016-09-30  112.46  113.3700  111.80  113.05\n",
        "# 2016-10-31  113.65  114.2300  113.20  113.54\n",
        "# 2016-11-30  111.56  112.2000  110.27  110.52\n",
        "# 2016-12-31  116.65  117.2000  115.43  115.82"
      ],
      "metadata": {
        "colab": {
          "base_uri": "https://localhost:8080/"
        },
        "id": "h3liia3_44Pj",
        "outputId": "fd997adc-6337-491b-d6e0-30e5ceb943e3"
      },
      "execution_count": null,
      "outputs": [
        {
          "output_type": "stream",
          "name": "stdout",
          "text": [
            "              Open      High     Low   Close  rate_return\n",
            "Date                                                     \n",
            "2016-03-31  109.72  109.9000  108.88  108.99     0.127211\n",
            "2016-08-31  105.66  106.5699  105.64  106.10     0.018136\n",
            "2016-09-30  112.46  113.3700  111.80  113.05     0.065504\n",
            "2016-10-31  113.65  114.2300  113.20  113.54     0.004334\n",
            "2016-11-30  111.56  112.2000  110.27  110.52    -0.026599\n",
            "2016-12-31  116.65  117.2000  115.43  115.82     0.047955\n"
          ]
        }
      ]
    },
    {
      "cell_type": "code",
      "source": [
        "above2 = aapl_2bar[aapl_2bar.Close > np.mean(aapl_2bar.Close)]\n",
        "print (above2)"
      ],
      "metadata": {
        "colab": {
          "base_uri": "https://localhost:8080/"
        },
        "id": "4XfwuQNd44Yr",
        "outputId": "b388f19e-a02e-47f4-9bba-640e2189473e"
      },
      "execution_count": null,
      "outputs": [
        {
          "output_type": "stream",
          "name": "stdout",
          "text": [
            "              Open    High     Low   Close\n",
            "Date                                      \n",
            "2017-05-31  153.97  154.17  152.38  152.76\n",
            "2017-09-30  153.21  154.13  152.00  154.12\n",
            "2017-11-30  170.43  172.14  168.44  171.85\n",
            "2018-01-31  170.52  170.59  169.22  169.23\n"
          ]
        }
      ]
    },
    {
      "cell_type": "markdown",
      "source": [
        "# My own example 141"
      ],
      "metadata": {
        "id": "jwsa0jQB5OIa"
      }
    },
    {
      "cell_type": "code",
      "source": [
        "aapl_bar['rate_return'] = aapl_bar.Close.pct_change()\n",
        "print (aapl_bar)\n",
        "\n",
        "#               Open      High     Low   Close  rate_return\n",
        "# Date\n",
        "# 2016-01-31   94.79   97.3400   94.35   97.34          NaN\n",
        "# 2016-02-29   96.86   98.2300   96.65   96.69    -0.006678\n",
        "# 2016-03-31  109.72  109.9000  108.88  108.99     0.127211\n",
        "# 2016-04-30   93.99   94.7200   92.51   93.74    -0.139921\n",
        "# 2016-05-31   99.60  100.4000   98.82   99.86     0.065287\n",
        "# 2016-06-30   94.44   95.7700   94.30   95.60    -0.042660\n",
        "# 2016-07-31  104.19  104.5500  103.68  104.21     0.090063\n",
        "# 2016-08-31  105.66  106.5699  105.64  106.10     0.018136\n",
        "# 2016-09-30  112.46  113.3700  111.80  113.05     0.065504\n",
        "# 2016-10-31  113.65  114.2300  113.20  113.54     0.004334\n",
        "# 2016-11-30  111.56  112.2000  110.27  110.52    -0.026599\n",
        "# 2016-12-31  116.65  117.2000  115.43  115.82     0.047955"
      ],
      "metadata": {
        "colab": {
          "base_uri": "https://localhost:8080/"
        },
        "id": "YUxkSE335QAI",
        "outputId": "cd065bbc-2a4c-457b-dbd0-0f4021d72a3c"
      },
      "execution_count": null,
      "outputs": [
        {
          "output_type": "stream",
          "name": "stdout",
          "text": [
            "              Open      High     Low   Close  rate_return\n",
            "Date                                                     \n",
            "2016-01-31   94.79   97.3400   94.35   97.34          NaN\n",
            "2016-02-29   96.86   98.2300   96.65   96.69    -0.006678\n",
            "2016-03-31  109.72  109.9000  108.88  108.99     0.127211\n",
            "2016-04-30   93.99   94.7200   92.51   93.74    -0.139921\n",
            "2016-05-31   99.60  100.4000   98.82   99.86     0.065287\n",
            "2016-06-30   94.44   95.7700   94.30   95.60    -0.042660\n",
            "2016-07-31  104.19  104.5500  103.68  104.21     0.090063\n",
            "2016-08-31  105.66  106.5699  105.64  106.10     0.018136\n",
            "2016-09-30  112.46  113.3700  111.80  113.05     0.065504\n",
            "2016-10-31  113.65  114.2300  113.20  113.54     0.004334\n",
            "2016-11-30  111.56  112.2000  110.27  110.52    -0.026599\n",
            "2016-12-31  116.65  117.2000  115.43  115.82     0.047955\n"
          ]
        },
        {
          "output_type": "stream",
          "name": "stderr",
          "text": [
            "/usr/local/lib/python3.7/dist-packages/ipykernel_launcher.py:1: SettingWithCopyWarning: \n",
            "A value is trying to be set on a copy of a slice from a DataFrame.\n",
            "Try using .loc[row_indexer,col_indexer] = value instead\n",
            "\n",
            "See the caveats in the documentation: https://pandas.pydata.org/pandas-docs/stable/user_guide/indexing.html#returning-a-view-versus-a-copy\n",
            "  \"\"\"Entry point for launching an IPython kernel.\n"
          ]
        }
      ]
    },
    {
      "cell_type": "code",
      "source": [
        "aapl_2bar['rate_return'] = aapl_2bar.Close.pct_change()\n",
        "print (aapl_2bar)"
      ],
      "metadata": {
        "colab": {
          "base_uri": "https://localhost:8080/"
        },
        "id": "DkjrwTTI5RsW",
        "outputId": "709ff704-d957-4dee-ffff-4ded60f1d311"
      },
      "execution_count": null,
      "outputs": [
        {
          "output_type": "stream",
          "name": "stdout",
          "text": [
            "              Open    High     Low   Close  rate_return\n",
            "Date                                                   \n",
            "2017-01-31  121.15  121.39  120.62  121.35          NaN\n",
            "2017-03-31  143.72  144.27  143.01  143.66     0.183848\n",
            "2017-05-31  153.97  154.17  152.38  152.76     0.063344\n",
            "2017-07-31  149.90  150.33  148.13  148.85    -0.025596\n",
            "2017-09-30  153.21  154.13  152.00  154.12     0.035405\n",
            "2017-11-30  170.43  172.14  168.44  171.85     0.115040\n",
            "2018-01-31  170.52  170.59  169.22  169.23    -0.015246\n"
          ]
        },
        {
          "output_type": "stream",
          "name": "stderr",
          "text": [
            "/usr/local/lib/python3.7/dist-packages/ipykernel_launcher.py:1: SettingWithCopyWarning: \n",
            "A value is trying to be set on a copy of a slice from a DataFrame.\n",
            "Try using .loc[row_indexer,col_indexer] = value instead\n",
            "\n",
            "See the caveats in the documentation: https://pandas.pydata.org/pandas-docs/stable/user_guide/indexing.html#returning-a-view-versus-a-copy\n",
            "  \"\"\"Entry point for launching an IPython kernel.\n"
          ]
        }
      ]
    },
    {
      "cell_type": "markdown",
      "source": [
        "# My own example 142\n"
      ],
      "metadata": {
        "id": "NH3BnZoE5hv1"
      }
    },
    {
      "cell_type": "code",
      "source": [
        "missing = aapl_bar.isnull()\n",
        "print (missing)\n",
        "print ('---------------------------------------------')\n",
        "print (missing.describe())"
      ],
      "metadata": {
        "colab": {
          "base_uri": "https://localhost:8080/"
        },
        "id": "-9AV7P2rnvqf",
        "outputId": "2fbd5644-33fa-4ad8-c577-26720dad2144"
      },
      "execution_count": null,
      "outputs": [
        {
          "output_type": "stream",
          "name": "stdout",
          "text": [
            "             Open   High    Low  Close  rate_return\n",
            "Date                                               \n",
            "2016-01-31  False  False  False  False         True\n",
            "2016-02-29  False  False  False  False        False\n",
            "2016-03-31  False  False  False  False        False\n",
            "2016-04-30  False  False  False  False        False\n",
            "2016-05-31  False  False  False  False        False\n",
            "2016-06-30  False  False  False  False        False\n",
            "2016-07-31  False  False  False  False        False\n",
            "2016-08-31  False  False  False  False        False\n",
            "2016-09-30  False  False  False  False        False\n",
            "2016-10-31  False  False  False  False        False\n",
            "2016-11-30  False  False  False  False        False\n",
            "2016-12-31  False  False  False  False        False\n",
            "---------------------------------------------\n",
            "         Open   High    Low  Close rate_return\n",
            "count      12     12     12     12          12\n",
            "unique      1      1      1      1           2\n",
            "top     False  False  False  False       False\n",
            "freq       12     12     12     12          11\n"
          ]
        }
      ]
    },
    {
      "cell_type": "code",
      "source": [
        "missing = aapl_2bar.isnull()\n",
        "print (missing)\n",
        "print ('---------------------------------------------')\n",
        "print (missing.describe())"
      ],
      "metadata": {
        "colab": {
          "base_uri": "https://localhost:8080/"
        },
        "id": "Bfz2_a4T5mIf",
        "outputId": "d6e7a740-b6ea-43e1-997f-fb1b37105d78"
      },
      "execution_count": null,
      "outputs": [
        {
          "output_type": "stream",
          "name": "stdout",
          "text": [
            "             Open   High    Low  Close  rate_return\n",
            "Date                                               \n",
            "2017-01-31  False  False  False  False         True\n",
            "2017-03-31  False  False  False  False        False\n",
            "2017-05-31  False  False  False  False        False\n",
            "2017-07-31  False  False  False  False        False\n",
            "2017-09-30  False  False  False  False        False\n",
            "2017-11-30  False  False  False  False        False\n",
            "2018-01-31  False  False  False  False        False\n",
            "---------------------------------------------\n",
            "         Open   High    Low  Close rate_return\n",
            "count       7      7      7      7           7\n",
            "unique      1      1      1      1           2\n",
            "top     False  False  False  False       False\n",
            "freq        7      7      7      7           6\n",
            "             Open   High    Low  Close  rate_return\n",
            "Date                                               \n",
            "2017-01-31  False  False  False  False         True\n"
          ]
        }
      ]
    },
    {
      "cell_type": "markdown",
      "source": [
        "# My own example 143"
      ],
      "metadata": {
        "id": "3Jpg00qZn1Xy"
      }
    },
    {
      "cell_type": "code",
      "source": [
        "missing = aapl_bar.isnull()\n",
        "print (missing)\n",
        "print ('---------------------------------------------')\n",
        "print (missing.describe())\n",
        "print (missing[missing.rate_return == True])"
      ],
      "metadata": {
        "colab": {
          "base_uri": "https://localhost:8080/"
        },
        "id": "ofUy6iDVpq2b",
        "outputId": "57e8e036-2074-40f0-82cc-c81bbca8260e"
      },
      "execution_count": null,
      "outputs": [
        {
          "output_type": "stream",
          "name": "stdout",
          "text": [
            "             Open   High    Low  Close  rate_return\n",
            "Date                                               \n",
            "2016-01-31  False  False  False  False         True\n",
            "2016-02-29  False  False  False  False        False\n",
            "2016-03-31  False  False  False  False        False\n",
            "2016-04-30  False  False  False  False        False\n",
            "2016-05-31  False  False  False  False        False\n",
            "2016-06-30  False  False  False  False        False\n",
            "2016-07-31  False  False  False  False        False\n",
            "2016-08-31  False  False  False  False        False\n",
            "2016-09-30  False  False  False  False        False\n",
            "2016-10-31  False  False  False  False        False\n",
            "2016-11-30  False  False  False  False        False\n",
            "2016-12-31  False  False  False  False        False\n",
            "---------------------------------------------\n",
            "         Open   High    Low  Close rate_return\n",
            "count      12     12     12     12          12\n",
            "unique      1      1      1      1           2\n",
            "top     False  False  False  False       False\n",
            "freq       12     12     12     12          11\n",
            "             Open   High    Low  Close  rate_return\n",
            "Date                                               \n",
            "2016-01-31  False  False  False  False         True\n"
          ]
        }
      ]
    },
    {
      "cell_type": "code",
      "source": [
        "missing = aapl_2bar.isnull()\n",
        "print (missing)\n",
        "print ('---------------------------------------------')\n",
        "print (missing.describe())\n",
        "print (missing[missing.rate_return == True])"
      ],
      "metadata": {
        "colab": {
          "base_uri": "https://localhost:8080/"
        },
        "id": "ippXaGfpn5nR",
        "outputId": "9d573a74-a8b7-49d5-f92d-858146b7c156"
      },
      "execution_count": null,
      "outputs": [
        {
          "output_type": "stream",
          "name": "stdout",
          "text": [
            "             Open   High    Low  Close  rate_return\n",
            "Date                                               \n",
            "2017-01-31  False  False  False  False         True\n",
            "2017-03-31  False  False  False  False        False\n",
            "2017-05-31  False  False  False  False        False\n",
            "2017-07-31  False  False  False  False        False\n",
            "2017-09-30  False  False  False  False        False\n",
            "2017-11-30  False  False  False  False        False\n",
            "2018-01-31  False  False  False  False        False\n",
            "---------------------------------------------\n",
            "         Open   High    Low  Close rate_return\n",
            "count       7      7      7      7           7\n",
            "unique      1      1      1      1           2\n",
            "top     False  False  False  False       False\n",
            "freq        7      7      7      7           6\n",
            "             Open   High    Low  Close  rate_return\n",
            "Date                                               \n",
            "2017-01-31  False  False  False  False         True\n"
          ]
        }
      ]
    },
    {
      "cell_type": "markdown",
      "source": [
        "# My own example 144"
      ],
      "metadata": {
        "id": "7ieHKsfopvXK"
      }
    },
    {
      "cell_type": "code",
      "source": [
        "drop = aapl_bar.dropna()\n",
        "print (drop)\n",
        "print ('\\n--------------------------------------------------\\n')\n",
        "fill = aapl_bar.fillna(0)\n",
        "print (fill)"
      ],
      "metadata": {
        "colab": {
          "base_uri": "https://localhost:8080/"
        },
        "id": "HdesWc-ypy9D",
        "outputId": "df6f1189-cd50-4ecc-a95e-a9970b5a293e"
      },
      "execution_count": null,
      "outputs": [
        {
          "output_type": "stream",
          "name": "stdout",
          "text": [
            "              Open      High     Low   Close  rate_return\n",
            "Date                                                     \n",
            "2016-02-29   96.86   98.2300   96.65   96.69    -0.006678\n",
            "2016-03-31  109.72  109.9000  108.88  108.99     0.127211\n",
            "2016-04-30   93.99   94.7200   92.51   93.74    -0.139921\n",
            "2016-05-31   99.60  100.4000   98.82   99.86     0.065287\n",
            "2016-06-30   94.44   95.7700   94.30   95.60    -0.042660\n",
            "2016-07-31  104.19  104.5500  103.68  104.21     0.090063\n",
            "2016-08-31  105.66  106.5699  105.64  106.10     0.018136\n",
            "2016-09-30  112.46  113.3700  111.80  113.05     0.065504\n",
            "2016-10-31  113.65  114.2300  113.20  113.54     0.004334\n",
            "2016-11-30  111.56  112.2000  110.27  110.52    -0.026599\n",
            "2016-12-31  116.65  117.2000  115.43  115.82     0.047955\n",
            "\n",
            "--------------------------------------------------\n",
            "\n",
            "              Open      High     Low   Close  rate_return\n",
            "Date                                                     \n",
            "2016-01-31   94.79   97.3400   94.35   97.34     0.000000\n",
            "2016-02-29   96.86   98.2300   96.65   96.69    -0.006678\n",
            "2016-03-31  109.72  109.9000  108.88  108.99     0.127211\n",
            "2016-04-30   93.99   94.7200   92.51   93.74    -0.139921\n",
            "2016-05-31   99.60  100.4000   98.82   99.86     0.065287\n",
            "2016-06-30   94.44   95.7700   94.30   95.60    -0.042660\n",
            "2016-07-31  104.19  104.5500  103.68  104.21     0.090063\n",
            "2016-08-31  105.66  106.5699  105.64  106.10     0.018136\n",
            "2016-09-30  112.46  113.3700  111.80  113.05     0.065504\n",
            "2016-10-31  113.65  114.2300  113.20  113.54     0.004334\n",
            "2016-11-30  111.56  112.2000  110.27  110.52    -0.026599\n",
            "2016-12-31  116.65  117.2000  115.43  115.82     0.047955\n"
          ]
        }
      ]
    },
    {
      "cell_type": "code",
      "source": [
        "drop = aapl_2bar.dropna()\n",
        "print (drop)\n",
        "print ('\\n--------------------------------------------------\\n')\n",
        "fill = aapl_2bar.fillna(0)\n",
        "print (fill)"
      ],
      "metadata": {
        "colab": {
          "base_uri": "https://localhost:8080/"
        },
        "id": "DBkjzCsHqb_p",
        "outputId": "86e7f0c0-ab27-48d2-8b98-84374fd416e6"
      },
      "execution_count": null,
      "outputs": [
        {
          "output_type": "stream",
          "name": "stdout",
          "text": [
            "              Open    High     Low   Close  rate_return\n",
            "Date                                                   \n",
            "2017-03-31  143.72  144.27  143.01  143.66     0.183848\n",
            "2017-05-31  153.97  154.17  152.38  152.76     0.063344\n",
            "2017-07-31  149.90  150.33  148.13  148.85    -0.025596\n",
            "2017-09-30  153.21  154.13  152.00  154.12     0.035405\n",
            "2017-11-30  170.43  172.14  168.44  171.85     0.115040\n",
            "2018-01-31  170.52  170.59  169.22  169.23    -0.015246\n",
            "\n",
            "--------------------------------------------------\n",
            "\n",
            "              Open    High     Low   Close  rate_return\n",
            "Date                                                   \n",
            "2017-01-31  121.15  121.39  120.62  121.35     0.000000\n",
            "2017-03-31  143.72  144.27  143.01  143.66     0.183848\n",
            "2017-05-31  153.97  154.17  152.38  152.76     0.063344\n",
            "2017-07-31  149.90  150.33  148.13  148.85    -0.025596\n",
            "2017-09-30  153.21  154.13  152.00  154.12     0.035405\n",
            "2017-11-30  170.43  172.14  168.44  171.85     0.115040\n",
            "2018-01-31  170.52  170.59  169.22  169.23    -0.015246\n"
          ]
        }
      ]
    },
    {
      "cell_type": "markdown",
      "source": [
        "# My own example 145"
      ],
      "metadata": {
        "id": "-Om-MOGdqgl7"
      }
    },
    {
      "cell_type": "code",
      "source": [
        "s1 = pd.Series([143.5, 144.09, 142.73, 144.18, 143.77], name = 'AAPL')\n",
        "s2 = pd.Series([898.7, 911.71, 906.69, 918.59, 926.99], name = 'GOOG')\n",
        "data_frame = pd.concat([s1, s2], axis = 1)\n",
        "print (data_frame)"
      ],
      "metadata": {
        "colab": {
          "base_uri": "https://localhost:8080/"
        },
        "id": "66m0RPssqial",
        "outputId": "3be5d4cc-c608-4fb9-8aa0-486d901379e8"
      },
      "execution_count": null,
      "outputs": [
        {
          "output_type": "stream",
          "name": "stdout",
          "text": [
            "     AAPL    GOOG\n",
            "0  143.50  898.70\n",
            "1  144.09  911.71\n",
            "2  142.73  906.69\n",
            "3  144.18  918.59\n",
            "4  143.77  926.99\n"
          ]
        }
      ]
    },
    {
      "cell_type": "code",
      "source": [
        "s3 = pd.Series([35.6, 42.8, 33.3, 37.4, 41.1], name = 'FB')\n",
        "s4 = pd.Series([101.5, 106.4, 100.9, 107.3, 104.5], name = 'IBM')\n",
        "data_frame = pd.concat([s3, s4], axis = 1)\n",
        "print (data_frame)"
      ],
      "metadata": {
        "colab": {
          "base_uri": "https://localhost:8080/"
        },
        "id": "9ZmYyKYJquWT",
        "outputId": "b4c926d1-1641-4faa-b4fb-901f5e14312a"
      },
      "execution_count": null,
      "outputs": [
        {
          "output_type": "stream",
          "name": "stdout",
          "text": [
            "     FB    IBM\n",
            "0  35.6  101.5\n",
            "1  42.8  106.4\n",
            "2  33.3  100.9\n",
            "3  37.4  107.3\n",
            "4  41.1  104.5\n"
          ]
        }
      ]
    },
    {
      "cell_type": "markdown",
      "source": [
        "# My own example 146"
      ],
      "metadata": {
        "id": "dEvqDUUyrIMT"
      }
    },
    {
      "cell_type": "code",
      "source": [
        "log_price = np.log(aapl_bar.Close)\n",
        "log_price.name = 'log_price'\n",
        "print (log_price)\n",
        "print ('\\n--------------------------------------------\\n')\n",
        "concat = pd.concat([aapl_bar, log_price], axis = 1)\n",
        "print (concat)"
      ],
      "metadata": {
        "colab": {
          "base_uri": "https://localhost:8080/"
        },
        "id": "FemocgA2rL5M",
        "outputId": "0d512c3c-e2e1-42a7-e27c-aa12debd167e"
      },
      "execution_count": null,
      "outputs": [
        {
          "output_type": "stream",
          "name": "stdout",
          "text": [
            "Date\n",
            "2016-01-31    4.578210\n",
            "2016-02-29    4.571510\n",
            "2016-03-31    4.691256\n",
            "2016-04-30    4.540525\n",
            "2016-05-31    4.603769\n",
            "2016-06-30    4.560173\n",
            "2016-07-31    4.646408\n",
            "2016-08-31    4.664382\n",
            "2016-09-30    4.727830\n",
            "2016-10-31    4.732155\n",
            "2016-11-30    4.705197\n",
            "2016-12-31    4.752037\n",
            "Freq: M, Name: log_price, dtype: float64\n",
            "\n",
            "--------------------------------------------\n",
            "\n",
            "              Open      High     Low   Close  rate_return  log_price\n",
            "Date                                                                \n",
            "2016-01-31   94.79   97.3400   94.35   97.34          NaN   4.578210\n",
            "2016-02-29   96.86   98.2300   96.65   96.69    -0.006678   4.571510\n",
            "2016-03-31  109.72  109.9000  108.88  108.99     0.127211   4.691256\n",
            "2016-04-30   93.99   94.7200   92.51   93.74    -0.139921   4.540525\n",
            "2016-05-31   99.60  100.4000   98.82   99.86     0.065287   4.603769\n",
            "2016-06-30   94.44   95.7700   94.30   95.60    -0.042660   4.560173\n",
            "2016-07-31  104.19  104.5500  103.68  104.21     0.090063   4.646408\n",
            "2016-08-31  105.66  106.5699  105.64  106.10     0.018136   4.664382\n",
            "2016-09-30  112.46  113.3700  111.80  113.05     0.065504   4.727830\n",
            "2016-10-31  113.65  114.2300  113.20  113.54     0.004334   4.732155\n",
            "2016-11-30  111.56  112.2000  110.27  110.52    -0.026599   4.705197\n",
            "2016-12-31  116.65  117.2000  115.43  115.82     0.047955   4.752037\n"
          ]
        }
      ]
    },
    {
      "cell_type": "code",
      "source": [
        "log_price = np.log(aapl_2bar.Close)\n",
        "log_price.name = 'log_price'\n",
        "print (log_price)\n",
        "print ('\\n--------------------------------------------\\n')\n",
        "concat = pd.concat([aapl_2bar, log_price], axis = 1)\n",
        "print (concat)"
      ],
      "metadata": {
        "colab": {
          "base_uri": "https://localhost:8080/"
        },
        "id": "xDivLiL4rRnO",
        "outputId": "efe46a44-f2af-4fcf-f1fa-247ae820839a"
      },
      "execution_count": null,
      "outputs": [
        {
          "output_type": "stream",
          "name": "stdout",
          "text": [
            "Date\n",
            "2017-01-31    4.798679\n",
            "2017-03-31    4.967449\n",
            "2017-05-31    5.028868\n",
            "2017-07-31    5.002939\n",
            "2017-09-30    5.037732\n",
            "2017-11-30    5.146622\n",
            "2018-01-31    5.131259\n",
            "Freq: 2M, Name: log_price, dtype: float64\n",
            "\n",
            "--------------------------------------------\n",
            "\n",
            "              Open    High     Low   Close  rate_return  log_price\n",
            "Date                                                              \n",
            "2017-01-31  121.15  121.39  120.62  121.35          NaN   4.798679\n",
            "2017-03-31  143.72  144.27  143.01  143.66     0.183848   4.967449\n",
            "2017-05-31  153.97  154.17  152.38  152.76     0.063344   5.028868\n",
            "2017-07-31  149.90  150.33  148.13  148.85    -0.025596   5.002939\n",
            "2017-09-30  153.21  154.13  152.00  154.12     0.035405   5.037732\n",
            "2017-11-30  170.43  172.14  168.44  171.85     0.115040   5.146622\n",
            "2018-01-31  170.52  170.59  169.22  169.23    -0.015246   5.131259\n"
          ]
        }
      ]
    },
    {
      "cell_type": "markdown",
      "source": [
        "# My own example 147"
      ],
      "metadata": {
        "id": "hMQ0wwhbrbgV"
      }
    },
    {
      "cell_type": "code",
      "source": [
        "df_volume = aapl_table.loc['2016-10':'2017-04', ['Volume', 'Split Ratio']].resample('M').agg(lambda x: x[-1])\n",
        "print (df_volume)\n",
        "print ('\\n-------------------------------------------\\n')\n",
        "df_2017 = aapl_table.loc['2016-10':'2017-04', ['Open', 'High', 'Low', 'Close']].resample('M').agg(lambda x: x[-1])\n",
        "print (df_2017)"
      ],
      "metadata": {
        "colab": {
          "base_uri": "https://localhost:8080/"
        },
        "id": "7Q1ETxMtrd4s",
        "outputId": "8f974557-1a5a-4d19-e381-9fcfb9bcaeb8"
      },
      "execution_count": null,
      "outputs": [
        {
          "output_type": "stream",
          "name": "stdout",
          "text": [
            "                Volume  Split Ratio\n",
            "Date                               \n",
            "2016-10-31  26419398.0          1.0\n",
            "2016-11-30  36162258.0          1.0\n",
            "2016-12-31  30586265.0          1.0\n",
            "2017-01-31  49200993.0          1.0\n",
            "2017-02-28  23482860.0          1.0\n",
            "2017-03-31  19661651.0          1.0\n",
            "2017-04-30  20247187.0          1.0\n",
            "\n",
            "-------------------------------------------\n",
            "\n",
            "              Open     High     Low   Close\n",
            "Date                                       \n",
            "2016-10-31  113.65  114.230  113.20  113.54\n",
            "2016-11-30  111.56  112.200  110.27  110.52\n",
            "2016-12-31  116.65  117.200  115.43  115.82\n",
            "2017-01-31  121.15  121.390  120.62  121.35\n",
            "2017-02-28  137.08  137.435  136.70  136.99\n",
            "2017-03-31  143.72  144.270  143.01  143.66\n",
            "2017-04-30  144.09  144.300  143.27  143.65\n"
          ]
        }
      ]
    },
    {
      "cell_type": "code",
      "source": [
        "df_volume = aapl2_table.loc['2017-07':'2018-03', ['Volume', 'Split Ratio']].resample('M').agg(lambda x: x[-1])\n",
        "print (df_volume)\n",
        "print ('\\n-------------------------------------------\\n')\n",
        "df_2018 = aapl2_table.loc['2017-07':'2018-03', ['Open', 'High', 'Low', 'Close']].resample('M').agg(lambda x: x[-1])\n",
        "print (df_2018)"
      ],
      "metadata": {
        "colab": {
          "base_uri": "https://localhost:8080/"
        },
        "id": "D4gi8qnxrkzs",
        "outputId": "a42014ec-2959-4bb5-bd13-348a52d77ce7"
      },
      "execution_count": null,
      "outputs": [
        {
          "output_type": "stream",
          "name": "stdout",
          "text": [
            "                Volume  Split Ratio\n",
            "Date                               \n",
            "2017-07-31  19422655.0          1.0\n",
            "2017-08-31  26412439.0          1.0\n",
            "2017-09-30  25856530.0          1.0\n",
            "2017-10-31  35474672.0          1.0\n",
            "2017-11-30  40172368.0          1.0\n",
            "2017-12-31  25643711.0          1.0\n",
            "2018-01-31  30984099.0          1.0\n",
            "2018-02-28  33604574.0          1.0\n",
            "2018-03-31  38962839.0          1.0\n",
            "\n",
            "-------------------------------------------\n",
            "\n",
            "              Open      High     Low   Close\n",
            "Date                                        \n",
            "2017-07-31  149.90  150.3300  148.13  148.85\n",
            "2017-08-31  163.64  164.5200  163.48  164.00\n",
            "2017-09-30  153.21  154.1300  152.00  154.12\n",
            "2017-10-31  167.90  169.6499  166.94  169.04\n",
            "2017-11-30  170.43  172.1400  168.44  171.85\n",
            "2017-12-31  170.52  170.5900  169.22  169.23\n",
            "2018-01-31  166.87  168.4417  166.50  167.43\n",
            "2018-02-28  179.26  180.6150  178.05  178.12\n",
            "2018-03-31  173.68  175.1500  166.92  168.34\n"
          ]
        }
      ]
    },
    {
      "cell_type": "markdown",
      "source": [
        "# My own example 148"
      ],
      "metadata": {
        "id": "gFMPwv6fr2ME"
      }
    },
    {
      "cell_type": "code",
      "source": [
        "concat = pd.concat([aapl_bar, df_volume], axis = 1)\n",
        "print (concat)"
      ],
      "metadata": {
        "colab": {
          "base_uri": "https://localhost:8080/"
        },
        "id": "KuMzgXGWr5zv",
        "outputId": "71220e51-2675-4df0-d9da-90c84bab837c"
      },
      "execution_count": null,
      "outputs": [
        {
          "output_type": "stream",
          "name": "stdout",
          "text": [
            "              Open      High     Low   Close  rate_return      Volume  \\\n",
            "Date                                                                    \n",
            "2016-01-31   94.79   97.3400   94.35   97.34          NaN         NaN   \n",
            "2016-02-29   96.86   98.2300   96.65   96.69    -0.006678         NaN   \n",
            "2016-03-31  109.72  109.9000  108.88  108.99     0.127211         NaN   \n",
            "2016-04-30   93.99   94.7200   92.51   93.74    -0.139921         NaN   \n",
            "2016-05-31   99.60  100.4000   98.82   99.86     0.065287         NaN   \n",
            "2016-06-30   94.44   95.7700   94.30   95.60    -0.042660         NaN   \n",
            "2016-07-31  104.19  104.5500  103.68  104.21     0.090063         NaN   \n",
            "2016-08-31  105.66  106.5699  105.64  106.10     0.018136         NaN   \n",
            "2016-09-30  112.46  113.3700  111.80  113.05     0.065504         NaN   \n",
            "2016-10-31  113.65  114.2300  113.20  113.54     0.004334         NaN   \n",
            "2016-11-30  111.56  112.2000  110.27  110.52    -0.026599         NaN   \n",
            "2016-12-31  116.65  117.2000  115.43  115.82     0.047955         NaN   \n",
            "2017-07-31     NaN       NaN     NaN     NaN          NaN  19422655.0   \n",
            "2017-08-31     NaN       NaN     NaN     NaN          NaN  26412439.0   \n",
            "2017-09-30     NaN       NaN     NaN     NaN          NaN  25856530.0   \n",
            "2017-10-31     NaN       NaN     NaN     NaN          NaN  35474672.0   \n",
            "2017-11-30     NaN       NaN     NaN     NaN          NaN  40172368.0   \n",
            "2017-12-31     NaN       NaN     NaN     NaN          NaN  25643711.0   \n",
            "2018-01-31     NaN       NaN     NaN     NaN          NaN  30984099.0   \n",
            "2018-02-28     NaN       NaN     NaN     NaN          NaN  33604574.0   \n",
            "2018-03-31     NaN       NaN     NaN     NaN          NaN  38962839.0   \n",
            "\n",
            "            Split Ratio  \n",
            "Date                     \n",
            "2016-01-31          NaN  \n",
            "2016-02-29          NaN  \n",
            "2016-03-31          NaN  \n",
            "2016-04-30          NaN  \n",
            "2016-05-31          NaN  \n",
            "2016-06-30          NaN  \n",
            "2016-07-31          NaN  \n",
            "2016-08-31          NaN  \n",
            "2016-09-30          NaN  \n",
            "2016-10-31          NaN  \n",
            "2016-11-30          NaN  \n",
            "2016-12-31          NaN  \n",
            "2017-07-31          1.0  \n",
            "2017-08-31          1.0  \n",
            "2017-09-30          1.0  \n",
            "2017-10-31          1.0  \n",
            "2017-11-30          1.0  \n",
            "2017-12-31          1.0  \n",
            "2018-01-31          1.0  \n",
            "2018-02-28          1.0  \n",
            "2018-03-31          1.0  \n"
          ]
        }
      ]
    },
    {
      "cell_type": "code",
      "source": [
        "concat = pd.concat([aapl_2bar, df_volume], axis = 1)\n",
        "print (concat)"
      ],
      "metadata": {
        "colab": {
          "base_uri": "https://localhost:8080/"
        },
        "id": "qAqb-lADr9bB",
        "outputId": "b646c2f3-a26d-4abf-9145-f14d2607d741"
      },
      "execution_count": null,
      "outputs": [
        {
          "output_type": "stream",
          "name": "stdout",
          "text": [
            "              Open    High     Low   Close  rate_return      Volume  \\\n",
            "Date                                                                  \n",
            "2017-01-31  121.15  121.39  120.62  121.35          NaN         NaN   \n",
            "2017-03-31  143.72  144.27  143.01  143.66     0.183848         NaN   \n",
            "2017-05-31  153.97  154.17  152.38  152.76     0.063344         NaN   \n",
            "2017-07-31  149.90  150.33  148.13  148.85    -0.025596  19422655.0   \n",
            "2017-08-31     NaN     NaN     NaN     NaN          NaN  26412439.0   \n",
            "2017-09-30  153.21  154.13  152.00  154.12     0.035405  25856530.0   \n",
            "2017-10-31     NaN     NaN     NaN     NaN          NaN  35474672.0   \n",
            "2017-11-30  170.43  172.14  168.44  171.85     0.115040  40172368.0   \n",
            "2017-12-31     NaN     NaN     NaN     NaN          NaN  25643711.0   \n",
            "2018-01-31  170.52  170.59  169.22  169.23    -0.015246  30984099.0   \n",
            "2018-02-28     NaN     NaN     NaN     NaN          NaN  33604574.0   \n",
            "2018-03-31     NaN     NaN     NaN     NaN          NaN  38962839.0   \n",
            "\n",
            "            Split Ratio  \n",
            "Date                     \n",
            "2017-01-31          NaN  \n",
            "2017-03-31          NaN  \n",
            "2017-05-31          NaN  \n",
            "2017-07-31          1.0  \n",
            "2017-08-31          1.0  \n",
            "2017-09-30          1.0  \n",
            "2017-10-31          1.0  \n",
            "2017-11-30          1.0  \n",
            "2017-12-31          1.0  \n",
            "2018-01-31          1.0  \n",
            "2018-02-28          1.0  \n",
            "2018-03-31          1.0  \n"
          ]
        }
      ]
    },
    {
      "cell_type": "markdown",
      "source": [
        "# My own example 149"
      ],
      "metadata": {
        "id": "bA6wBMVcr_4w"
      }
    },
    {
      "cell_type": "code",
      "source": [
        "concat = pd.concat([aapl_bar, df_volume], axis = 1, join = 'inner')\n",
        "print (concat)"
      ],
      "metadata": {
        "colab": {
          "base_uri": "https://localhost:8080/"
        },
        "id": "3ebV7hPEsBfV",
        "outputId": "ebc5f677-ea90-4a52-b864-9a2821d47758"
      },
      "execution_count": null,
      "outputs": [
        {
          "output_type": "stream",
          "name": "stdout",
          "text": [
            "Empty DataFrame\n",
            "Columns: [Open, High, Low, Close, rate_return, Volume, Split Ratio]\n",
            "Index: []\n"
          ]
        }
      ]
    },
    {
      "cell_type": "code",
      "source": [
        "concat = pd.concat([aapl_2bar, df_volume], axis = 1, join = 'inner')\n",
        "print (concat)"
      ],
      "metadata": {
        "colab": {
          "base_uri": "https://localhost:8080/"
        },
        "id": "bzEj2ftvsEgg",
        "outputId": "f9cd2595-061f-4544-ceff-a92d5b17d835"
      },
      "execution_count": null,
      "outputs": [
        {
          "output_type": "stream",
          "name": "stdout",
          "text": [
            "              Open    High     Low   Close  rate_return      Volume  \\\n",
            "Date                                                                  \n",
            "2017-07-31  149.90  150.33  148.13  148.85    -0.025596  19422655.0   \n",
            "2017-09-30  153.21  154.13  152.00  154.12     0.035405  25856530.0   \n",
            "2017-11-30  170.43  172.14  168.44  171.85     0.115040  40172368.0   \n",
            "2018-01-31  170.52  170.59  169.22  169.23    -0.015246  30984099.0   \n",
            "\n",
            "            Split Ratio  \n",
            "Date                     \n",
            "2017-07-31          1.0  \n",
            "2017-09-30          1.0  \n",
            "2017-11-30          1.0  \n",
            "2018-01-31          1.0  \n"
          ]
        }
      ]
    },
    {
      "cell_type": "markdown",
      "source": [
        "# My own example 150"
      ],
      "metadata": {
        "id": "9AQEHY84sGmN"
      }
    },
    {
      "cell_type": "code",
      "source": [
        "append = aapl_bar.append(df_2017)\n",
        "print (append)"
      ],
      "metadata": {
        "colab": {
          "base_uri": "https://localhost:8080/"
        },
        "id": "6qA5HVkzsIi2",
        "outputId": "45aa7f2c-10fa-4e17-9938-7d8cedc0d15e"
      },
      "execution_count": null,
      "outputs": [
        {
          "output_type": "stream",
          "name": "stdout",
          "text": [
            "              Open      High     Low   Close  rate_return\n",
            "Date                                                     \n",
            "2016-01-31   94.79   97.3400   94.35   97.34          NaN\n",
            "2016-02-29   96.86   98.2300   96.65   96.69    -0.006678\n",
            "2016-03-31  109.72  109.9000  108.88  108.99     0.127211\n",
            "2016-04-30   93.99   94.7200   92.51   93.74    -0.139921\n",
            "2016-05-31   99.60  100.4000   98.82   99.86     0.065287\n",
            "2016-06-30   94.44   95.7700   94.30   95.60    -0.042660\n",
            "2016-07-31  104.19  104.5500  103.68  104.21     0.090063\n",
            "2016-08-31  105.66  106.5699  105.64  106.10     0.018136\n",
            "2016-09-30  112.46  113.3700  111.80  113.05     0.065504\n",
            "2016-10-31  113.65  114.2300  113.20  113.54     0.004334\n",
            "2016-11-30  111.56  112.2000  110.27  110.52    -0.026599\n",
            "2016-12-31  116.65  117.2000  115.43  115.82     0.047955\n",
            "2017-07-31  149.90  150.3300  148.13  148.85          NaN\n",
            "2017-08-31  163.64  164.5200  163.48  164.00          NaN\n",
            "2017-09-30  153.21  154.1300  152.00  154.12          NaN\n",
            "2017-10-31  167.90  169.6499  166.94  169.04          NaN\n",
            "2017-11-30  170.43  172.1400  168.44  171.85          NaN\n",
            "2017-12-31  170.52  170.5900  169.22  169.23          NaN\n",
            "2018-01-31  166.87  168.4417  166.50  167.43          NaN\n",
            "2018-02-28  179.26  180.6150  178.05  178.12          NaN\n",
            "2018-03-31  173.68  175.1500  166.92  168.34          NaN\n"
          ]
        }
      ]
    },
    {
      "cell_type": "code",
      "source": [
        "append = aapl_2bar.append(df_2018)\n",
        "print (append)"
      ],
      "metadata": {
        "colab": {
          "base_uri": "https://localhost:8080/"
        },
        "id": "2QP7IPVbv3Wp",
        "outputId": "8e10e01f-a1b0-481f-bf3b-3927f11ce7ca"
      },
      "execution_count": null,
      "outputs": [
        {
          "output_type": "stream",
          "name": "stdout",
          "text": [
            "              Open      High     Low   Close  rate_return\n",
            "Date                                                     \n",
            "2017-01-31  121.15  121.3900  120.62  121.35          NaN\n",
            "2017-03-31  143.72  144.2700  143.01  143.66     0.183848\n",
            "2017-05-31  153.97  154.1700  152.38  152.76     0.063344\n",
            "2017-07-31  149.90  150.3300  148.13  148.85    -0.025596\n",
            "2017-09-30  153.21  154.1300  152.00  154.12     0.035405\n",
            "2017-11-30  170.43  172.1400  168.44  171.85     0.115040\n",
            "2018-01-31  170.52  170.5900  169.22  169.23    -0.015246\n",
            "2017-07-31  149.90  150.3300  148.13  148.85          NaN\n",
            "2017-08-31  163.64  164.5200  163.48  164.00          NaN\n",
            "2017-09-30  153.21  154.1300  152.00  154.12          NaN\n",
            "2017-10-31  167.90  169.6499  166.94  169.04          NaN\n",
            "2017-11-30  170.43  172.1400  168.44  171.85          NaN\n",
            "2017-12-31  170.52  170.5900  169.22  169.23          NaN\n",
            "2018-01-31  166.87  168.4417  166.50  167.43          NaN\n",
            "2018-02-28  179.26  180.6150  178.05  178.12          NaN\n",
            "2018-03-31  173.68  175.1500  166.92  168.34          NaN\n"
          ]
        }
      ]
    },
    {
      "cell_type": "markdown",
      "source": [
        "# My own example 151"
      ],
      "metadata": {
        "id": "Dkncosaav6QK"
      }
    },
    {
      "cell_type": "code",
      "source": [
        "concat = pd.concat([aapl_bar, df_2017], axis = 0)\n",
        "print (concat)"
      ],
      "metadata": {
        "colab": {
          "base_uri": "https://localhost:8080/"
        },
        "id": "N-wtW0xDv8U2",
        "outputId": "ae7ec6b1-2c0a-4c9d-f66d-a366f3cb5bc4"
      },
      "execution_count": null,
      "outputs": [
        {
          "output_type": "stream",
          "name": "stdout",
          "text": [
            "              Open      High     Low   Close  rate_return\n",
            "Date                                                     \n",
            "2016-01-31   94.79   97.3400   94.35   97.34          NaN\n",
            "2016-02-29   96.86   98.2300   96.65   96.69    -0.006678\n",
            "2016-03-31  109.72  109.9000  108.88  108.99     0.127211\n",
            "2016-04-30   93.99   94.7200   92.51   93.74    -0.139921\n",
            "2016-05-31   99.60  100.4000   98.82   99.86     0.065287\n",
            "2016-06-30   94.44   95.7700   94.30   95.60    -0.042660\n",
            "2016-07-31  104.19  104.5500  103.68  104.21     0.090063\n",
            "2016-08-31  105.66  106.5699  105.64  106.10     0.018136\n",
            "2016-09-30  112.46  113.3700  111.80  113.05     0.065504\n",
            "2016-10-31  113.65  114.2300  113.20  113.54     0.004334\n",
            "2016-11-30  111.56  112.2000  110.27  110.52    -0.026599\n",
            "2016-12-31  116.65  117.2000  115.43  115.82     0.047955\n",
            "2017-07-31  149.90  150.3300  148.13  148.85          NaN\n",
            "2017-08-31  163.64  164.5200  163.48  164.00          NaN\n",
            "2017-09-30  153.21  154.1300  152.00  154.12          NaN\n",
            "2017-10-31  167.90  169.6499  166.94  169.04          NaN\n",
            "2017-11-30  170.43  172.1400  168.44  171.85          NaN\n",
            "2017-12-31  170.52  170.5900  169.22  169.23          NaN\n",
            "2018-01-31  166.87  168.4417  166.50  167.43          NaN\n",
            "2018-02-28  179.26  180.6150  178.05  178.12          NaN\n",
            "2018-03-31  173.68  175.1500  166.92  168.34          NaN\n"
          ]
        }
      ]
    },
    {
      "cell_type": "code",
      "source": [
        "concat = pd.concat([aapl_2bar, df_2018], axis = 0)\n",
        "print (concat)"
      ],
      "metadata": {
        "colab": {
          "base_uri": "https://localhost:8080/"
        },
        "id": "xxGb9g5Qw0LH",
        "outputId": "1a4a7a7e-0bd2-4e23-f42b-56627830b1bf"
      },
      "execution_count": null,
      "outputs": [
        {
          "output_type": "stream",
          "name": "stdout",
          "text": [
            "              Open      High     Low   Close  rate_return\n",
            "Date                                                     \n",
            "2017-01-31  121.15  121.3900  120.62  121.35          NaN\n",
            "2017-03-31  143.72  144.2700  143.01  143.66     0.183848\n",
            "2017-05-31  153.97  154.1700  152.38  152.76     0.063344\n",
            "2017-07-31  149.90  150.3300  148.13  148.85    -0.025596\n",
            "2017-09-30  153.21  154.1300  152.00  154.12     0.035405\n",
            "2017-11-30  170.43  172.1400  168.44  171.85     0.115040\n",
            "2018-01-31  170.52  170.5900  169.22  169.23    -0.015246\n",
            "2017-07-31  149.90  150.3300  148.13  148.85          NaN\n",
            "2017-08-31  163.64  164.5200  163.48  164.00          NaN\n",
            "2017-09-30  153.21  154.1300  152.00  154.12          NaN\n",
            "2017-10-31  167.90  169.6499  166.94  169.04          NaN\n",
            "2017-11-30  170.43  172.1400  168.44  171.85          NaN\n",
            "2017-12-31  170.52  170.5900  169.22  169.23          NaN\n",
            "2018-01-31  166.87  168.4417  166.50  167.43          NaN\n",
            "2018-02-28  179.26  180.6150  178.05  178.12          NaN\n",
            "2018-03-31  173.68  175.1500  166.92  168.34          NaN\n"
          ]
        }
      ]
    },
    {
      "cell_type": "markdown",
      "source": [
        "# My own example 152"
      ],
      "metadata": {
        "id": "ZCxWRcjDw5S4"
      }
    },
    {
      "cell_type": "code",
      "source": [
        "df_2017.columns = ['Change', 'High', 'Low', 'Close']\n",
        "concat = pd.concat([aapl_bar, df_2017], axis = 0)\n",
        "print (concat)"
      ],
      "metadata": {
        "colab": {
          "base_uri": "https://localhost:8080/"
        },
        "id": "EYQFNsR-w8Fp",
        "outputId": "f457fe6c-1221-49cf-e1bd-ffb4026fa10a"
      },
      "execution_count": null,
      "outputs": [
        {
          "output_type": "stream",
          "name": "stdout",
          "text": [
            "              Open      High     Low   Close  rate_return  Change\n",
            "Date                                                             \n",
            "2016-01-31   94.79   97.3400   94.35   97.34          NaN     NaN\n",
            "2016-02-29   96.86   98.2300   96.65   96.69    -0.006678     NaN\n",
            "2016-03-31  109.72  109.9000  108.88  108.99     0.127211     NaN\n",
            "2016-04-30   93.99   94.7200   92.51   93.74    -0.139921     NaN\n",
            "2016-05-31   99.60  100.4000   98.82   99.86     0.065287     NaN\n",
            "2016-06-30   94.44   95.7700   94.30   95.60    -0.042660     NaN\n",
            "2016-07-31  104.19  104.5500  103.68  104.21     0.090063     NaN\n",
            "2016-08-31  105.66  106.5699  105.64  106.10     0.018136     NaN\n",
            "2016-09-30  112.46  113.3700  111.80  113.05     0.065504     NaN\n",
            "2016-10-31  113.65  114.2300  113.20  113.54     0.004334     NaN\n",
            "2016-11-30  111.56  112.2000  110.27  110.52    -0.026599     NaN\n",
            "2016-12-31  116.65  117.2000  115.43  115.82     0.047955     NaN\n",
            "2017-07-31     NaN  150.3300  148.13  148.85          NaN  149.90\n",
            "2017-08-31     NaN  164.5200  163.48  164.00          NaN  163.64\n",
            "2017-09-30     NaN  154.1300  152.00  154.12          NaN  153.21\n",
            "2017-10-31     NaN  169.6499  166.94  169.04          NaN  167.90\n",
            "2017-11-30     NaN  172.1400  168.44  171.85          NaN  170.43\n",
            "2017-12-31     NaN  170.5900  169.22  169.23          NaN  170.52\n",
            "2018-01-31     NaN  168.4417  166.50  167.43          NaN  166.87\n",
            "2018-02-28     NaN  180.6150  178.05  178.12          NaN  179.26\n",
            "2018-03-31     NaN  175.1500  166.92  168.34          NaN  173.68\n"
          ]
        }
      ]
    },
    {
      "cell_type": "code",
      "source": [
        "df_2018.columns = ['Change', 'High', 'Low', 'Close']\n",
        "concat = pd.concat([aapl_2bar, df_2018], axis = 0)\n",
        "print (concat)"
      ],
      "metadata": {
        "colab": {
          "base_uri": "https://localhost:8080/"
        },
        "id": "TN60vlXkxBNy",
        "outputId": "9a631ec0-dcb2-4269-8842-88a3d190a27b"
      },
      "execution_count": null,
      "outputs": [
        {
          "output_type": "stream",
          "name": "stdout",
          "text": [
            "              Open      High     Low   Close  rate_return  Change\n",
            "Date                                                             \n",
            "2017-01-31  121.15  121.3900  120.62  121.35          NaN     NaN\n",
            "2017-03-31  143.72  144.2700  143.01  143.66     0.183848     NaN\n",
            "2017-05-31  153.97  154.1700  152.38  152.76     0.063344     NaN\n",
            "2017-07-31  149.90  150.3300  148.13  148.85    -0.025596     NaN\n",
            "2017-09-30  153.21  154.1300  152.00  154.12     0.035405     NaN\n",
            "2017-11-30  170.43  172.1400  168.44  171.85     0.115040     NaN\n",
            "2018-01-31  170.52  170.5900  169.22  169.23    -0.015246     NaN\n",
            "2017-07-31     NaN  150.3300  148.13  148.85          NaN  149.90\n",
            "2017-08-31     NaN  164.5200  163.48  164.00          NaN  163.64\n",
            "2017-09-30     NaN  154.1300  152.00  154.12          NaN  153.21\n",
            "2017-10-31     NaN  169.6499  166.94  169.04          NaN  167.90\n",
            "2017-11-30     NaN  172.1400  168.44  171.85          NaN  170.43\n",
            "2017-12-31     NaN  170.5900  169.22  169.23          NaN  170.52\n",
            "2018-01-31     NaN  168.4417  166.50  167.43          NaN  166.87\n",
            "2018-02-28     NaN  180.6150  178.05  178.12          NaN  179.26\n",
            "2018-03-31     NaN  175.1500  166.92  168.34          NaN  173.68\n"
          ]
        }
      ]
    },
    {
      "cell_type": "markdown",
      "source": [
        "# My own example 153"
      ],
      "metadata": {
        "id": "4qtJPh66xGMX"
      }
    },
    {
      "cell_type": "code",
      "source": [
        "import numpy as np\n",
        "import matplotlib.pyplot as plt"
      ],
      "metadata": {
        "id": "cnm79LG7xJda"
      },
      "execution_count": null,
      "outputs": []
    },
    {
      "cell_type": "code",
      "source": [
        "stock_list = [3.5, 5, 2, 8, 4.2]"
      ],
      "metadata": {
        "id": "6jHk9fRn0FNm"
      },
      "execution_count": null,
      "outputs": []
    },
    {
      "cell_type": "code",
      "source": [
        "returns = np.array(stock_list)\n",
        "print (returns, type(returns))"
      ],
      "metadata": {
        "colab": {
          "base_uri": "https://localhost:8080/"
        },
        "id": "prltLNki0HHw",
        "outputId": "d270fb52-4db1-40e6-d84e-6d94f5f6d089"
      },
      "execution_count": null,
      "outputs": [
        {
          "output_type": "stream",
          "name": "stdout",
          "text": [
            "[3.5 5.  2.  8.  4.2] <class 'numpy.ndarray'>\n"
          ]
        }
      ]
    },
    {
      "cell_type": "code",
      "source": [
        "stock_list2 = [12, 17, 11.9, 14.2, 15.3]\n",
        "returns2 = np.array(stock_list2)\n",
        "print (returns2, type(returns))"
      ],
      "metadata": {
        "colab": {
          "base_uri": "https://localhost:8080/"
        },
        "id": "-J2_B1Em0QE7",
        "outputId": "e9fd3eb4-c48c-436e-eb45-ae30d831cd3a"
      },
      "execution_count": null,
      "outputs": [
        {
          "output_type": "stream",
          "name": "stdout",
          "text": [
            "[12.  17.  11.9 14.2 15.3] <class 'numpy.ndarray'>\n"
          ]
        }
      ]
    },
    {
      "cell_type": "markdown",
      "source": [
        "# My own example 154"
      ],
      "metadata": {
        "id": "SlHcWofI0eT5"
      }
    },
    {
      "cell_type": "code",
      "source": [
        "A = np.array([[1, 2], [3, 4]])\n",
        "print (A, type(A))"
      ],
      "metadata": {
        "colab": {
          "base_uri": "https://localhost:8080/"
        },
        "id": "Ke6dmm9f0m3N",
        "outputId": "0d39b7bb-5656-46b9-88a3-2034fed79d20"
      },
      "execution_count": null,
      "outputs": [
        {
          "output_type": "stream",
          "name": "stdout",
          "text": [
            "[[1 2]\n",
            " [3 4]] <class 'numpy.ndarray'>\n"
          ]
        }
      ]
    },
    {
      "cell_type": "code",
      "source": [
        "B = np.array([[5, 10, 15], [125, 1000, 15**3]])\n",
        "print (B, type(B))"
      ],
      "metadata": {
        "colab": {
          "base_uri": "https://localhost:8080/"
        },
        "id": "KywL8Ejl0rEj",
        "outputId": "2c8f8023-658a-4d13-dbd7-232fc525dc5e"
      },
      "execution_count": null,
      "outputs": [
        {
          "output_type": "stream",
          "name": "stdout",
          "text": [
            "[[   5   10   15]\n",
            " [ 125 1000 3375]] <class 'numpy.ndarray'>\n"
          ]
        }
      ]
    },
    {
      "cell_type": "markdown",
      "source": [
        "# My own example 155"
      ],
      "metadata": {
        "id": "lV20ymc41H8a"
      }
    },
    {
      "cell_type": "code",
      "source": [
        "print (A.shape)"
      ],
      "metadata": {
        "colab": {
          "base_uri": "https://localhost:8080/"
        },
        "id": "Xl6HX3rP1Mf4",
        "outputId": "38692428-afd8-410a-dd1f-3bb836a6bf23"
      },
      "execution_count": null,
      "outputs": [
        {
          "output_type": "stream",
          "name": "stdout",
          "text": [
            "(2, 2)\n"
          ]
        }
      ]
    },
    {
      "cell_type": "code",
      "source": [
        "print (B.shape)"
      ],
      "metadata": {
        "colab": {
          "base_uri": "https://localhost:8080/"
        },
        "id": "DlTcn2RJ5fsh",
        "outputId": "3c2e56b8-d0fa-4537-cec8-ee25023ddb54"
      },
      "execution_count": null,
      "outputs": [
        {
          "output_type": "stream",
          "name": "stdout",
          "text": [
            "(2, 3)\n"
          ]
        }
      ]
    },
    {
      "cell_type": "markdown",
      "source": [
        "# My own example 156"
      ],
      "metadata": {
        "id": "WuMzKvj-5oSM"
      }
    },
    {
      "cell_type": "code",
      "source": [
        "print (returns[0], returns[len(returns) - 1])"
      ],
      "metadata": {
        "colab": {
          "base_uri": "https://localhost:8080/"
        },
        "id": "Z1-P6D9U5sN7",
        "outputId": "7eb3c232-6a58-4171-c18c-3256e4e5096d"
      },
      "execution_count": null,
      "outputs": [
        {
          "output_type": "stream",
          "name": "stdout",
          "text": [
            "3.5 4.2\n"
          ]
        }
      ]
    },
    {
      "cell_type": "code",
      "source": [
        "print (returns2[0], returns2[len(returns2) - 1])"
      ],
      "metadata": {
        "colab": {
          "base_uri": "https://localhost:8080/"
        },
        "id": "WX2RrMYT57Tz",
        "outputId": "a4827b1b-54c2-4f5e-ec1e-e511a6900fef"
      },
      "execution_count": null,
      "outputs": [
        {
          "output_type": "stream",
          "name": "stdout",
          "text": [
            "12.0 15.3\n"
          ]
        }
      ]
    },
    {
      "cell_type": "markdown",
      "source": [
        "# My own example 157"
      ],
      "metadata": {
        "id": "FHkoXRkV5-K_"
      }
    },
    {
      "cell_type": "code",
      "source": [
        "print (returns[1:3])"
      ],
      "metadata": {
        "colab": {
          "base_uri": "https://localhost:8080/"
        },
        "id": "IJzTtA946AR7",
        "outputId": "4bc22ba6-8dbc-4271-bb21-9b1054d1ebed"
      },
      "execution_count": null,
      "outputs": [
        {
          "output_type": "stream",
          "name": "stdout",
          "text": [
            "[5. 2.]\n"
          ]
        }
      ]
    },
    {
      "cell_type": "code",
      "source": [
        "print (returns2[1:3])"
      ],
      "metadata": {
        "colab": {
          "base_uri": "https://localhost:8080/"
        },
        "id": "8oRehgfq6C4N",
        "outputId": "1320c112-7ed1-4086-aaa5-405e31ec481a"
      },
      "execution_count": null,
      "outputs": [
        {
          "output_type": "stream",
          "name": "stdout",
          "text": [
            "[17.  11.9]\n"
          ]
        }
      ]
    },
    {
      "cell_type": "markdown",
      "source": [
        "# My own example 158"
      ],
      "metadata": {
        "id": "N4Bg0_kT6FCj"
      }
    },
    {
      "cell_type": "code",
      "source": [
        "print (A[:, 0])"
      ],
      "metadata": {
        "colab": {
          "base_uri": "https://localhost:8080/"
        },
        "id": "23RBAcrn6HA3",
        "outputId": "9742932b-8206-49f9-91ea-a016343762cc"
      },
      "execution_count": null,
      "outputs": [
        {
          "output_type": "stream",
          "name": "stdout",
          "text": [
            "[1 3]\n"
          ]
        }
      ]
    },
    {
      "cell_type": "code",
      "source": [
        "print (B[:, 0])"
      ],
      "metadata": {
        "colab": {
          "base_uri": "https://localhost:8080/"
        },
        "id": "k9XnVR_k6nUm",
        "outputId": "58419e0b-b51c-49d0-bdaf-dafabcdf321f"
      },
      "execution_count": null,
      "outputs": [
        {
          "output_type": "stream",
          "name": "stdout",
          "text": [
            "[  5 125]\n"
          ]
        }
      ]
    },
    {
      "cell_type": "markdown",
      "source": [
        "# My own example 159"
      ],
      "metadata": {
        "id": "Ei3U-sUo6pb2"
      }
    },
    {
      "cell_type": "code",
      "source": [
        "print (A[0, :])"
      ],
      "metadata": {
        "colab": {
          "base_uri": "https://localhost:8080/"
        },
        "id": "hvy2Gd1d6rNK",
        "outputId": "9ef777ef-5b11-44c3-911a-4293b5716fc0"
      },
      "execution_count": null,
      "outputs": [
        {
          "output_type": "stream",
          "name": "stdout",
          "text": [
            "[1 2]\n"
          ]
        }
      ]
    },
    {
      "cell_type": "code",
      "source": [
        "print (B[0, :])"
      ],
      "metadata": {
        "colab": {
          "base_uri": "https://localhost:8080/"
        },
        "id": "ljw_mA2v6uIs",
        "outputId": "fac7ab18-43e0-45c4-c1d2-e25ceb18e61c"
      },
      "execution_count": null,
      "outputs": [
        {
          "output_type": "stream",
          "name": "stdout",
          "text": [
            "[ 5 10 15]\n"
          ]
        }
      ]
    },
    {
      "cell_type": "markdown",
      "source": [
        "# My own example 160"
      ],
      "metadata": {
        "id": "zSKMerTn6wv3"
      }
    },
    {
      "cell_type": "code",
      "source": [
        "print (type(A[0,:]))"
      ],
      "metadata": {
        "colab": {
          "base_uri": "https://localhost:8080/"
        },
        "id": "ylY0NbCi6yZH",
        "outputId": "0737a0a8-7112-4c6a-8351-eea22bb2ec8a"
      },
      "execution_count": null,
      "outputs": [
        {
          "output_type": "stream",
          "name": "stdout",
          "text": [
            "<class 'numpy.ndarray'>\n"
          ]
        }
      ]
    },
    {
      "cell_type": "code",
      "source": [
        "print (type(B[0,:]))"
      ],
      "metadata": {
        "colab": {
          "base_uri": "https://localhost:8080/"
        },
        "id": "wcpycPnK64nL",
        "outputId": "3fc3a4da-378c-4dde-d82f-bcff1c0e87a3"
      },
      "execution_count": null,
      "outputs": [
        {
          "output_type": "stream",
          "name": "stdout",
          "text": [
            "<class 'numpy.ndarray'>\n"
          ]
        }
      ]
    },
    {
      "cell_type": "markdown",
      "source": [
        "# My own example 161"
      ],
      "metadata": {
        "id": "sEtb18Lt668C"
      }
    },
    {
      "cell_type": "code",
      "source": [
        "print (A[0])"
      ],
      "metadata": {
        "colab": {
          "base_uri": "https://localhost:8080/"
        },
        "id": "-2R2Tv6368xJ",
        "outputId": "d4f63146-63c7-4779-9356-b21ae98675ab"
      },
      "execution_count": null,
      "outputs": [
        {
          "output_type": "stream",
          "name": "stdout",
          "text": [
            "[1 2]\n"
          ]
        }
      ]
    },
    {
      "cell_type": "code",
      "source": [
        "print (B[0])"
      ],
      "metadata": {
        "colab": {
          "base_uri": "https://localhost:8080/"
        },
        "id": "zjbDwt1Z6-__",
        "outputId": "8fa1e182-d473-4fad-f485-6ff6c8744fda"
      },
      "execution_count": null,
      "outputs": [
        {
          "output_type": "stream",
          "name": "stdout",
          "text": [
            "[ 5 10 15]\n"
          ]
        }
      ]
    },
    {
      "cell_type": "markdown",
      "source": [
        "# My own example 162"
      ],
      "metadata": {
        "id": "ENeQ7xNq7CCq"
      }
    },
    {
      "cell_type": "code",
      "source": [
        "print (A[1, 1])"
      ],
      "metadata": {
        "colab": {
          "base_uri": "https://localhost:8080/"
        },
        "id": "n3XY4zv67ENL",
        "outputId": "da236483-9cea-4357-87d1-9695971d7db7"
      },
      "execution_count": null,
      "outputs": [
        {
          "output_type": "stream",
          "name": "stdout",
          "text": [
            "4\n"
          ]
        }
      ]
    },
    {
      "cell_type": "code",
      "source": [
        "print (B[0, 2])"
      ],
      "metadata": {
        "colab": {
          "base_uri": "https://localhost:8080/"
        },
        "id": "IH4VRD7K7G07",
        "outputId": "1f81b9d2-b0e0-4816-821a-3327f1bf55f6"
      },
      "execution_count": null,
      "outputs": [
        {
          "output_type": "stream",
          "name": "stdout",
          "text": [
            "15\n"
          ]
        }
      ]
    },
    {
      "cell_type": "markdown",
      "source": [
        "# My own example 163"
      ],
      "metadata": {
        "id": "ekn2LjM27Tlb"
      }
    },
    {
      "cell_type": "code",
      "source": [
        "print (np.log(returns))"
      ],
      "metadata": {
        "colab": {
          "base_uri": "https://localhost:8080/"
        },
        "id": "NXoINE7F7VSp",
        "outputId": "50c09f79-7860-49ac-e70c-40dde9a7118b"
      },
      "execution_count": null,
      "outputs": [
        {
          "output_type": "stream",
          "name": "stdout",
          "text": [
            "[1.25276297 1.60943791 0.69314718 2.07944154 1.43508453]\n"
          ]
        }
      ]
    },
    {
      "cell_type": "code",
      "source": [
        "print (np.log(returns2))"
      ],
      "metadata": {
        "colab": {
          "base_uri": "https://localhost:8080/"
        },
        "id": "JoPRU2JG7VaX",
        "outputId": "173fb17f-d442-418d-bf5c-a46939804d97"
      },
      "execution_count": null,
      "outputs": [
        {
          "output_type": "stream",
          "name": "stdout",
          "text": [
            "[2.48490665 2.83321334 2.4765384  2.65324196 2.72785283]\n"
          ]
        }
      ]
    },
    {
      "cell_type": "markdown",
      "source": [
        "# My own example 164"
      ],
      "metadata": {
        "id": "G6rBkdEq7gmv"
      }
    },
    {
      "cell_type": "code",
      "source": [
        "print (np.mean(returns))"
      ],
      "metadata": {
        "colab": {
          "base_uri": "https://localhost:8080/"
        },
        "id": "qAdPPl0U7iPc",
        "outputId": "23db10fc-9286-4a0a-fc68-d8cfbc8fb02e"
      },
      "execution_count": null,
      "outputs": [
        {
          "output_type": "stream",
          "name": "stdout",
          "text": [
            "4.54\n"
          ]
        }
      ]
    },
    {
      "cell_type": "code",
      "source": [
        "print (np.mean(returns2))"
      ],
      "metadata": {
        "colab": {
          "base_uri": "https://localhost:8080/"
        },
        "id": "jE6s7zQI7j8C",
        "outputId": "ca95f25a-2a1c-495a-f7a7-d4eb65365c71"
      },
      "execution_count": null,
      "outputs": [
        {
          "output_type": "stream",
          "name": "stdout",
          "text": [
            "14.079999999999998\n"
          ]
        }
      ]
    },
    {
      "cell_type": "markdown",
      "source": [
        "# My own example 165"
      ],
      "metadata": {
        "id": "DdezTvyT7mDK"
      }
    },
    {
      "cell_type": "code",
      "source": [
        "print (np.max(returns))"
      ],
      "metadata": {
        "colab": {
          "base_uri": "https://localhost:8080/"
        },
        "id": "Jl6vNJSf7oTQ",
        "outputId": "7e6a9e5b-7f75-4fab-dc59-d6adf908eb7a"
      },
      "execution_count": null,
      "outputs": [
        {
          "output_type": "stream",
          "name": "stdout",
          "text": [
            "8.0\n"
          ]
        }
      ]
    },
    {
      "cell_type": "code",
      "source": [
        "print (np.max(returns2))"
      ],
      "metadata": {
        "colab": {
          "base_uri": "https://localhost:8080/"
        },
        "id": "9NuCm2S27rbR",
        "outputId": "6a48e275-fc59-4253-9ccd-49bfe0f8e42c"
      },
      "execution_count": null,
      "outputs": [
        {
          "output_type": "stream",
          "name": "stdout",
          "text": [
            "17.0\n"
          ]
        }
      ]
    },
    {
      "cell_type": "markdown",
      "source": [
        "# My own example 166"
      ],
      "metadata": {
        "id": "AczzJyOq7thw"
      }
    },
    {
      "cell_type": "code",
      "source": [
        "returns*2 + 5"
      ],
      "metadata": {
        "colab": {
          "base_uri": "https://localhost:8080/"
        },
        "id": "jR6S7bxj7vhE",
        "outputId": "179cc0d1-c4a2-49c6-8383-b0469c1f8cfc"
      },
      "execution_count": null,
      "outputs": [
        {
          "output_type": "execute_result",
          "data": {
            "text/plain": [
              "array([12. , 15. ,  9. , 21. , 13.4])"
            ]
          },
          "metadata": {},
          "execution_count": 126
        }
      ]
    },
    {
      "cell_type": "code",
      "source": [
        "returns2*2 + 5"
      ],
      "metadata": {
        "colab": {
          "base_uri": "https://localhost:8080/"
        },
        "id": "DkO2SZAI7yN3",
        "outputId": "7c40194e-c24e-4977-aa85-bb4ce396821b"
      },
      "execution_count": null,
      "outputs": [
        {
          "output_type": "execute_result",
          "data": {
            "text/plain": [
              "array([29. , 39. , 28.8, 33.4, 35.6])"
            ]
          },
          "metadata": {},
          "execution_count": 127
        }
      ]
    },
    {
      "cell_type": "markdown",
      "source": [
        "# My own example 167"
      ],
      "metadata": {
        "id": "eXVadx4G70HO"
      }
    },
    {
      "cell_type": "code",
      "source": [
        "print (\"Mean: \", np.mean(returns), \"Std Dev: \", np.std(returns))"
      ],
      "metadata": {
        "colab": {
          "base_uri": "https://localhost:8080/"
        },
        "id": "tl5O7dDK711z",
        "outputId": "5c67f50a-e714-484e-9f3c-b05c7caf7620"
      },
      "execution_count": null,
      "outputs": [
        {
          "output_type": "stream",
          "name": "stdout",
          "text": [
            "Mean:  4.54 Std Dev:  1.9915822855207364\n"
          ]
        }
      ]
    },
    {
      "cell_type": "code",
      "source": [
        "print (\"Mean: \", np.mean(returns2), \"Std Dev: \", np.std(returns2))"
      ],
      "metadata": {
        "colab": {
          "base_uri": "https://localhost:8080/"
        },
        "id": "-vbomOTK74sa",
        "outputId": "1eb48291-195c-4ceb-8b1c-ed958335822d"
      },
      "execution_count": null,
      "outputs": [
        {
          "output_type": "stream",
          "name": "stdout",
          "text": [
            "Mean:  14.079999999999998 Std Dev:  1.9548913013259843\n"
          ]
        }
      ]
    },
    {
      "cell_type": "markdown",
      "source": [
        "# My own example 168"
      ],
      "metadata": {
        "id": "_3_UPb2g78st"
      }
    },
    {
      "cell_type": "code",
      "source": [
        "N = 10\n",
        "assets = np.zeros((N, 100))\n",
        "returns = np.zeros((N, 100))"
      ],
      "metadata": {
        "id": "bjCfb_J67-wc"
      },
      "execution_count": null,
      "outputs": []
    },
    {
      "cell_type": "code",
      "source": [
        "R_1 = np.random.normal(1.01, 0.03, 100)\n",
        "returns[0] = R_1\n",
        "assets[0] = np.cumprod(R_1)"
      ],
      "metadata": {
        "id": "hsbzWQZR8C0V"
      },
      "execution_count": null,
      "outputs": []
    },
    {
      "cell_type": "code",
      "source": [
        "for i in range(1, N):\n",
        "    R_i = R_1 + np.random.normal(0.001, 0.02, 100)\n",
        "    returns[i] = R_i # Set each row of returns equal to the new R_i array\n",
        "    assets[i] = np.cumprod(R_i)\n",
        "    \n",
        "mean_returns = [(np.mean(R) - 1)*100 for R in returns]\n",
        "return_volatilities = [np.std(R) for R in returns]"
      ],
      "metadata": {
        "id": "gemWNCMH8I-P"
      },
      "execution_count": null,
      "outputs": []
    },
    {
      "cell_type": "code",
      "source": [
        "plt.bar(np.arange(len(mean_returns)), mean_returns)\n",
        "plt.xlabel('Stock')\n",
        "plt.ylabel('Returns')\n",
        "plt.title('Returns for {0} Random Assets'.format(N));"
      ],
      "metadata": {
        "colab": {
          "base_uri": "https://localhost:8080/",
          "height": 295
        },
        "id": "rCzuIxon8MBe",
        "outputId": "cb52db44-cb2f-4d80-96ee-423543966756"
      },
      "execution_count": null,
      "outputs": [
        {
          "output_type": "display_data",
          "data": {
            "text/plain": [
              "<Figure size 432x288 with 1 Axes>"
            ],
            "image/png": "[encoded data removed]"
          },
          "metadata": {
            "needs_background": "light"
          }
        }
      ]
    },
    {
      "cell_type": "code",
      "source": [
        "N2 = 15\n",
        "assets2 = np.zeros((N2, 60))\n",
        "returns2 = np.zeros((N2, 60))"
      ],
      "metadata": {
        "id": "HeenaNX7FcFP"
      },
      "execution_count": null,
      "outputs": []
    },
    {
      "cell_type": "code",
      "source": [
        "R_2 = np.random.normal(1.01, 0.03, 60)\n",
        "returns2[0] = R_2\n",
        "assets2[0] = np.cumprod(R_2)"
      ],
      "metadata": {
        "id": "fiHt-d1k94e7"
      },
      "execution_count": null,
      "outputs": []
    },
    {
      "cell_type": "code",
      "source": [
        "for i in range(1, N2):\n",
        "    R_i = R_2 + np.random.normal(0.001, 0.02, 60)\n",
        "    returns2[i] = R_i # Set each row of returns equal to the new R_i array\n",
        "    assets2[i] = np.cumprod(R_i)\n",
        "    \n",
        "mean_returns2 = [(np.mean(R) - 1)*100 for R in returns2]\n",
        "return_volatilities = [np.std(R) for R in returns2]"
      ],
      "metadata": {
        "id": "HWN6SgCN96F0"
      },
      "execution_count": null,
      "outputs": []
    },
    {
      "cell_type": "code",
      "source": [
        "plt.bar(np.arange(len(mean_returns2)), mean_returns2)\n",
        "plt.xlabel('Stock')\n",
        "plt.ylabel('Returns')\n",
        "plt.title('Returns for {0} Random Assets'.format(N2));"
      ],
      "metadata": {
        "colab": {
          "base_uri": "https://localhost:8080/",
          "height": 295
        },
        "id": "eiBNxnLH9N9V",
        "outputId": "fe7c0198-c765-4926-8d41-5d65e3f040b7"
      },
      "execution_count": null,
      "outputs": [
        {
          "output_type": "display_data",
          "data": {
            "text/plain": [
              "<Figure size 432x288 with 1 Axes>"
            ],
            "image/png": "[encoded data removed]"
          },
          "metadata": {
            "needs_background": "light"
          }
        }
      ]
    },
    {
      "cell_type": "markdown",
      "source": [
        "# My own example 169"
      ],
      "metadata": {
        "id": "yvNBGqbM-bAZ"
      }
    },
    {
      "cell_type": "code",
      "source": [
        "weights = np.random.uniform(0, 1, N)\n",
        "weights = weights/np.sum(weights)"
      ],
      "metadata": {
        "id": "JLeK36bC-dmR"
      },
      "execution_count": null,
      "outputs": []
    },
    {
      "cell_type": "code",
      "source": [
        "p_returns = np.dot(weights, mean_returns)\n",
        "print (\"Expected return of the portfolio: \", p_returns)"
      ],
      "metadata": {
        "colab": {
          "base_uri": "https://localhost:8080/"
        },
        "id": "jlr5-6su-klL",
        "outputId": "5a362991-da45-4351-ee68-136e2ffef85c"
      },
      "execution_count": null,
      "outputs": [
        {
          "output_type": "stream",
          "name": "stdout",
          "text": [
            "Expected return of the portfolio:  0.7935830198600007\n"
          ]
        }
      ]
    },
    {
      "cell_type": "code",
      "source": [
        "weights2 = np.random.uniform(0, 1, N2)\n",
        "weights2 = weights2/np.sum(weights2)"
      ],
      "metadata": {
        "id": "CxqT2MYMIHKb"
      },
      "execution_count": null,
      "outputs": []
    },
    {
      "cell_type": "code",
      "source": [
        "p_returns2 = np.dot(weights2, mean_returns2)\n",
        "print (\"Expected return of the portfolio: \", p_returns2)"
      ],
      "metadata": {
        "colab": {
          "base_uri": "https://localhost:8080/"
        },
        "id": "amiwid2U-_zz",
        "outputId": "64954146-ee07-4e1f-95b8-7df0866bce3b"
      },
      "execution_count": null,
      "outputs": [
        {
          "output_type": "stream",
          "name": "stdout",
          "text": [
            "Expected return of the portfolio:  1.042609544023778\n"
          ]
        }
      ]
    },
    {
      "cell_type": "markdown",
      "source": [
        "# My own example 170"
      ],
      "metadata": {
        "id": "vFBaG5_d_GUq"
      }
    },
    {
      "cell_type": "code",
      "source": [
        "v = np.array([1, 2, np.nan, 4, 5])\n",
        "print (v)"
      ],
      "metadata": {
        "colab": {
          "base_uri": "https://localhost:8080/"
        },
        "id": "i4mcLeam_In1",
        "outputId": "b3c69471-0029-4571-cb5a-8cedcf1a0fa2"
      },
      "execution_count": null,
      "outputs": [
        {
          "output_type": "stream",
          "name": "stdout",
          "text": [
            "[ 1.  2. nan  4.  5.]\n"
          ]
        }
      ]
    },
    {
      "cell_type": "code",
      "source": [
        "c = np.array([6, 7, 8,np.nan, 9])\n",
        "print (c)"
      ],
      "metadata": {
        "colab": {
          "base_uri": "https://localhost:8080/"
        },
        "id": "Twk8WZH2_Lq0",
        "outputId": "dea4cc8f-5342-4cbc-a50f-d466394b3055"
      },
      "execution_count": null,
      "outputs": [
        {
          "output_type": "stream",
          "name": "stdout",
          "text": [
            "[ 6.  7.  8. nan  9.]\n"
          ]
        }
      ]
    },
    {
      "cell_type": "markdown",
      "source": [
        "# My own example 171"
      ],
      "metadata": {
        "id": "wycV2nqv_UeP"
      }
    },
    {
      "cell_type": "code",
      "source": [
        "print (np.mean(v))"
      ],
      "metadata": {
        "colab": {
          "base_uri": "https://localhost:8080/"
        },
        "id": "ZCcntxnk_YYa",
        "outputId": "c7294558-9682-4efb-eb98-60c626023f10"
      },
      "execution_count": null,
      "outputs": [
        {
          "output_type": "stream",
          "name": "stdout",
          "text": [
            "nan\n"
          ]
        }
      ]
    },
    {
      "cell_type": "code",
      "source": [
        "print (np.mean(c))"
      ],
      "metadata": {
        "colab": {
          "base_uri": "https://localhost:8080/"
        },
        "id": "3ogvgKdN_aRS",
        "outputId": "abfe0a09-ca72-418b-bc34-176bbd678cc2"
      },
      "execution_count": null,
      "outputs": [
        {
          "output_type": "stream",
          "name": "stdout",
          "text": [
            "nan\n"
          ]
        }
      ]
    },
    {
      "cell_type": "markdown",
      "source": [
        "# My own example 172"
      ],
      "metadata": {
        "id": "aLJQrlV6_qXz"
      }
    },
    {
      "cell_type": "code",
      "source": [
        "np.isnan(v)"
      ],
      "metadata": {
        "colab": {
          "base_uri": "https://localhost:8080/"
        },
        "id": "uLb-pSZu_sf4",
        "outputId": "59a25aac-ddbe-4f42-f4e9-04c54e70d99b"
      },
      "execution_count": null,
      "outputs": [
        {
          "output_type": "execute_result",
          "data": {
            "text/plain": [
              "array([False, False,  True, False, False])"
            ]
          },
          "metadata": {},
          "execution_count": 156
        }
      ]
    },
    {
      "cell_type": "code",
      "source": [
        "np.isnan(c)"
      ],
      "metadata": {
        "colab": {
          "base_uri": "https://localhost:8080/"
        },
        "id": "72eS_WUF_vho",
        "outputId": "ebe08e5f-e97c-47b6-a4bd-1d92137b49d0"
      },
      "execution_count": null,
      "outputs": [
        {
          "output_type": "execute_result",
          "data": {
            "text/plain": [
              "array([False, False, False,  True, False])"
            ]
          },
          "metadata": {},
          "execution_count": 159
        }
      ]
    },
    {
      "cell_type": "markdown",
      "source": [
        "# My own example 173"
      ],
      "metadata": {
        "id": "Pxhjh4Hu_1We"
      }
    },
    {
      "cell_type": "code",
      "source": [
        "ix = ~np.isnan(v) # the ~ indicates a logical not, inverting the bools\n",
        "print (v[ix]) # We can also just write v = v[~np.isnan(v)]"
      ],
      "metadata": {
        "colab": {
          "base_uri": "https://localhost:8080/"
        },
        "id": "LhfcCLrR_3BO",
        "outputId": "91413049-b553-4c6c-f5a0-7f3dac53ec6b"
      },
      "execution_count": null,
      "outputs": [
        {
          "output_type": "stream",
          "name": "stdout",
          "text": [
            "[1. 2. 4. 5.]\n"
          ]
        }
      ]
    },
    {
      "cell_type": "code",
      "source": [
        "ix = ~np.isnan(c)\n",
        "print (c[ix])"
      ],
      "metadata": {
        "colab": {
          "base_uri": "https://localhost:8080/"
        },
        "id": "yGcDKfQd_7F7",
        "outputId": "7893f7e0-7324-4e4e-bd28-b7a01da72796"
      },
      "execution_count": null,
      "outputs": [
        {
          "output_type": "stream",
          "name": "stdout",
          "text": [
            "[6. 7. 8. 9.]\n"
          ]
        }
      ]
    },
    {
      "cell_type": "markdown",
      "source": [
        "# My own example 174"
      ],
      "metadata": {
        "id": "ud5yOLwGAAte"
      }
    },
    {
      "cell_type": "code",
      "source": [
        "print (np.mean(v[~np.isnan(v)]))"
      ],
      "metadata": {
        "colab": {
          "base_uri": "https://localhost:8080/"
        },
        "id": "L749-MtrAC7J",
        "outputId": "e3d66d7c-eea7-44bb-d166-1fd58726217f"
      },
      "execution_count": null,
      "outputs": [
        {
          "output_type": "stream",
          "name": "stdout",
          "text": [
            "3.0\n"
          ]
        }
      ]
    },
    {
      "cell_type": "code",
      "source": [
        "print (np.mean(c[~np.isnan(c)]))"
      ],
      "metadata": {
        "colab": {
          "base_uri": "https://localhost:8080/"
        },
        "id": "olSfL0ntAVB4",
        "outputId": "9dd034c3-0da7-4add-d6b5-41dd5cf7c147"
      },
      "execution_count": null,
      "outputs": [
        {
          "output_type": "stream",
          "name": "stdout",
          "text": [
            "7.5\n"
          ]
        }
      ]
    },
    {
      "cell_type": "markdown",
      "source": [
        "# My own example 175"
      ],
      "metadata": {
        "id": "0YtVk2HYAX4m"
      }
    },
    {
      "cell_type": "code",
      "source": [
        "print (np.nanmean(v))"
      ],
      "metadata": {
        "colab": {
          "base_uri": "https://localhost:8080/"
        },
        "id": "xHe00JQ5Aa3z",
        "outputId": "48850f23-4b42-4102-d5f0-fc258b2f3de9"
      },
      "execution_count": null,
      "outputs": [
        {
          "output_type": "stream",
          "name": "stdout",
          "text": [
            "3.0\n"
          ]
        }
      ]
    },
    {
      "cell_type": "code",
      "source": [
        "print (np.nanmean(c))"
      ],
      "metadata": {
        "colab": {
          "base_uri": "https://localhost:8080/"
        },
        "id": "J1LcHS3fAeFF",
        "outputId": "4be4f241-b62b-4996-d9ba-83faf7d67cbe"
      },
      "execution_count": null,
      "outputs": [
        {
          "output_type": "stream",
          "name": "stdout",
          "text": [
            "7.5\n"
          ]
        }
      ]
    },
    {
      "cell_type": "markdown",
      "source": [
        "# My own example 176"
      ],
      "metadata": {
        "id": "De58E_H4AhNj"
      }
    },
    {
      "cell_type": "code",
      "source": [
        "A = np.array([\n",
        "        [1, 2, 3, 12, 6],\n",
        "        [4, 5, 6, 15, 20],\n",
        "        [7, 8, 9, 10, 10]        \n",
        "    ])\n",
        "B = np.array([\n",
        "        [4, 4, 2],\n",
        "        [2, 3, 1],\n",
        "        [6, 5, 8],\n",
        "        [9, 9, 9]\n",
        "    ])"
      ],
      "metadata": {
        "id": "Xpqtrax6Ajei"
      },
      "execution_count": null,
      "outputs": []
    },
    {
      "cell_type": "code",
      "source": [
        "C = np.array([\n",
        "        [6, 4, 9, 11, 18],\n",
        "        [8, 12, 3, 6, 14],\n",
        "        [5, 11, 8, 4, 7]        \n",
        "    ])\n",
        "D = np.array([\n",
        "        [2, 2, 4],\n",
        "        [8, 1, 2],\n",
        "        [7, 8, 4],\n",
        "        [1, 8, 5]\n",
        "    ])"
      ],
      "metadata": {
        "id": "Nyu9JfOFApST"
      },
      "execution_count": null,
      "outputs": []
    },
    {
      "cell_type": "markdown",
      "source": [
        "# My own example 177"
      ],
      "metadata": {
        "id": "z-qPYHNyEmRv"
      }
    },
    {
      "cell_type": "code",
      "source": [
        "print (np.dot(B, A))"
      ],
      "metadata": {
        "colab": {
          "base_uri": "https://localhost:8080/"
        },
        "id": "ynw_4CEVEk-W",
        "outputId": "ede38a24-b0bc-45b4-b9ec-320c5d3a85d9"
      },
      "execution_count": null,
      "outputs": [
        {
          "output_type": "stream",
          "name": "stdout",
          "text": [
            "[[ 34  44  54 128 124]\n",
            " [ 21  27  33  79  82]\n",
            " [ 82 101 120 227 216]\n",
            " [108 135 162 333 324]]\n"
          ]
        }
      ]
    },
    {
      "cell_type": "code",
      "source": [
        "print (np.dot(D, C))"
      ],
      "metadata": {
        "colab": {
          "base_uri": "https://localhost:8080/"
        },
        "id": "ERpY2S85FBJ-",
        "outputId": "46d805c8-3e78-4db5-c007-21bce9497f5e"
      },
      "execution_count": null,
      "outputs": [
        {
          "output_type": "stream",
          "name": "stdout",
          "text": [
            "[[ 48  76  56  50  92]\n",
            " [ 66  66  91 102 172]\n",
            " [126 168 119 141 266]\n",
            " [ 95 155  73  79 165]]\n"
          ]
        }
      ]
    },
    {
      "cell_type": "markdown",
      "source": [
        "# My own example 178"
      ],
      "metadata": {
        "id": "VUCb7XK0FEBs"
      }
    },
    {
      "cell_type": "code",
      "source": [
        "cov_mat = np.cov(returns)\n",
        "print (cov_mat)"
      ],
      "metadata": {
        "colab": {
          "base_uri": "https://localhost:8080/"
        },
        "id": "7ITKb03vE8sY",
        "outputId": "0aed8cf1-42c3-478f-c0b8-06c6655a8aa7"
      },
      "execution_count": null,
      "outputs": [
        {
          "output_type": "stream",
          "name": "stdout",
          "text": [
            "[[0.00102846 0.00105288 0.00089947 0.00108204 0.00109212 0.00094761\n",
            "  0.00094232 0.00094098 0.00099462 0.00109562]\n",
            " [0.00105288 0.00156868 0.00092786 0.00111633 0.0011648  0.00098228\n",
            "  0.00091359 0.00094776 0.00101267 0.00112797]\n",
            " [0.00089947 0.00092786 0.00116435 0.00095347 0.00089052 0.0008695\n",
            "  0.00078655 0.00077538 0.0009639  0.00097254]\n",
            " [0.00108204 0.00111633 0.00095347 0.00157797 0.00113472 0.00092558\n",
            "  0.00105796 0.00103014 0.00106334 0.00115296]\n",
            " [0.00109212 0.0011648  0.00089052 0.00113472 0.00145656 0.00099645\n",
            "  0.00097343 0.00102545 0.00104784 0.00117886]\n",
            " [0.00094761 0.00098228 0.0008695  0.00092558 0.00099645 0.00127163\n",
            "  0.00078934 0.00096134 0.00094226 0.00104033]\n",
            " [0.00094232 0.00091359 0.00078655 0.00105796 0.00097343 0.00078934\n",
            "  0.00123031 0.00084135 0.00094555 0.00100113]\n",
            " [0.00094098 0.00094776 0.00077538 0.00103014 0.00102545 0.00096134\n",
            "  0.00084135 0.00126251 0.00096465 0.00099833]\n",
            " [0.00099462 0.00101267 0.0009639  0.00106334 0.00104784 0.00094226\n",
            "  0.00094555 0.00096465 0.0014478  0.00106634]\n",
            " [0.00109562 0.00112797 0.00097254 0.00115296 0.00117886 0.00104033\n",
            "  0.00100113 0.00099833 0.00106634 0.00162779]]\n"
          ]
        }
      ]
    },
    {
      "cell_type": "code",
      "source": [
        "cov_mat2 = np.cov(returns2)\n",
        "print (cov_mat2)"
      ],
      "metadata": {
        "colab": {
          "base_uri": "https://localhost:8080/"
        },
        "id": "EIlSBjyhFHxl",
        "outputId": "3914e2ce-7d8a-4743-ae73-cadc3eddfbbd"
      },
      "execution_count": null,
      "outputs": [
        {
          "output_type": "stream",
          "name": "stdout",
          "text": [
            "[[0.00082423 0.00091221 0.00084118 0.00068848 0.00088874 0.00095503\n",
            "  0.00088842 0.00091676 0.00090682 0.00078383 0.00078508 0.00073525\n",
            "  0.0006842  0.00083893 0.00076267]\n",
            " [0.00091221 0.00159508 0.00098374 0.00081643 0.00100609 0.00100731\n",
            "  0.00093161 0.00091509 0.00104994 0.0008504  0.00094593 0.00089793\n",
            "  0.00065785 0.00086089 0.00085214]\n",
            " [0.00084118 0.00098374 0.00111921 0.00072096 0.00087499 0.00106039\n",
            "  0.00095382 0.00100777 0.00094814 0.00082735 0.00077663 0.00070043\n",
            "  0.00062852 0.00087459 0.00080787]\n",
            " [0.00068848 0.00081643 0.00072096 0.00103276 0.00072062 0.00073634\n",
            "  0.00062172 0.00067398 0.00078983 0.0005338  0.00061273 0.00059702\n",
            "  0.00052574 0.0006166  0.000672  ]\n",
            " [0.00088874 0.00100609 0.00087499 0.00072062 0.00126872 0.0010521\n",
            "  0.00092922 0.00093193 0.00094588 0.0007753  0.00090175 0.0007901\n",
            "  0.00066646 0.00082384 0.00080885]\n",
            " [0.00095503 0.00100731 0.00106039 0.00073634 0.0010521  0.00151535\n",
            "  0.0012193  0.00114139 0.00105485 0.00095182 0.00085322 0.00077747\n",
            "  0.00083999 0.00105665 0.00090949]\n",
            " [0.00088842 0.00093161 0.00095382 0.00062172 0.00092922 0.0012193\n",
            "  0.00149594 0.00108801 0.00101635 0.00086556 0.00077743 0.0006985\n",
            "  0.00077539 0.00085771 0.00076021]\n",
            " [0.00091676 0.00091509 0.00100777 0.00067398 0.00093193 0.00114139\n",
            "  0.00108801 0.00147361 0.00100614 0.00098709 0.00085481 0.00074451\n",
            "  0.00081705 0.00084572 0.0008889 ]\n",
            " [0.00090682 0.00104994 0.00094814 0.00078983 0.00094588 0.00105485\n",
            "  0.00101635 0.00100614 0.00131728 0.00093288 0.00086815 0.00079499\n",
            "  0.00071076 0.00095778 0.00084792]\n",
            " [0.00078383 0.0008504  0.00082735 0.0005338  0.0007753  0.00095182\n",
            "  0.00086556 0.00098709 0.00093288 0.00121779 0.00073997 0.00074688\n",
            "  0.00061799 0.00082141 0.00074917]\n",
            " [0.00078508 0.00094593 0.00077663 0.00061273 0.00090175 0.00085322\n",
            "  0.00077743 0.00085481 0.00086815 0.00073997 0.00109093 0.00072801\n",
            "  0.00059617 0.00079204 0.0007772 ]\n",
            " [0.00073525 0.00089793 0.00070043 0.00059702 0.0007901  0.00077747\n",
            "  0.0006985  0.00074451 0.00079499 0.00074688 0.00072801 0.00094662\n",
            "  0.00057633 0.00075754 0.00068391]\n",
            " [0.0006842  0.00065785 0.00062852 0.00052574 0.00066646 0.00083999\n",
            "  0.00077539 0.00081705 0.00071076 0.00061799 0.00059617 0.00057633\n",
            "  0.00096931 0.00072649 0.00073658]\n",
            " [0.00083893 0.00086089 0.00087459 0.0006166  0.00082384 0.00105665\n",
            "  0.00085771 0.00084572 0.00095778 0.00082141 0.00079204 0.00075754\n",
            "  0.00072649 0.00128939 0.00079208]\n",
            " [0.00076267 0.00085214 0.00080787 0.000672   0.00080885 0.00090949\n",
            "  0.00076021 0.0008889  0.00084792 0.00074917 0.0007772  0.00068391\n",
            "  0.00073658 0.00079208 0.00105964]]\n"
          ]
        }
      ]
    },
    {
      "cell_type": "markdown",
      "source": [
        "# My own example 179"
      ],
      "metadata": {
        "id": "PtQ1DeiHFzHK"
      }
    },
    {
      "cell_type": "code",
      "source": [
        "print (A)"
      ],
      "metadata": {
        "colab": {
          "base_uri": "https://localhost:8080/"
        },
        "id": "06XE8weLF1y2",
        "outputId": "d6353428-261e-490c-f8bb-b8b9326f7166"
      },
      "execution_count": null,
      "outputs": [
        {
          "output_type": "stream",
          "name": "stdout",
          "text": [
            "[[ 1  2  3 12  6]\n",
            " [ 4  5  6 15 20]\n",
            " [ 7  8  9 10 10]]\n"
          ]
        }
      ]
    },
    {
      "cell_type": "code",
      "source": [
        "print (C)"
      ],
      "metadata": {
        "colab": {
          "base_uri": "https://localhost:8080/"
        },
        "id": "29NKOaCbF5Pq",
        "outputId": "38f4f339-3b58-4133-a690-9ea168820dd0"
      },
      "execution_count": null,
      "outputs": [
        {
          "output_type": "stream",
          "name": "stdout",
          "text": [
            "[[ 6  4  9 11 18]\n",
            " [ 8 12  3  6 14]\n",
            " [ 5 11  8  4  7]]\n"
          ]
        }
      ]
    },
    {
      "cell_type": "markdown",
      "source": [
        "# My own example 180"
      ],
      "metadata": {
        "id": "OpZ4KFxrF8Ai"
      }
    },
    {
      "cell_type": "code",
      "source": [
        "print (np.transpose(A))"
      ],
      "metadata": {
        "colab": {
          "base_uri": "https://localhost:8080/"
        },
        "id": "ipnFTbRtGmyK",
        "outputId": "cc82a21e-c852-42f8-c501-9c33e132e3a8"
      },
      "execution_count": null,
      "outputs": [
        {
          "output_type": "stream",
          "name": "stdout",
          "text": [
            "[[ 1  4  7]\n",
            " [ 2  5  8]\n",
            " [ 3  6  9]\n",
            " [12 15 10]\n",
            " [ 6 20 10]]\n"
          ]
        }
      ]
    },
    {
      "cell_type": "code",
      "source": [
        "print (np.transpose(C))"
      ],
      "metadata": {
        "colab": {
          "base_uri": "https://localhost:8080/"
        },
        "id": "4tZaJyy3GpQi",
        "outputId": "e5e71e14-a03b-49ac-f444-87ee548450d0"
      },
      "execution_count": null,
      "outputs": [
        {
          "output_type": "stream",
          "name": "stdout",
          "text": [
            "[[ 6  8  5]\n",
            " [ 4 12 11]\n",
            " [ 9  3  8]\n",
            " [11  6  4]\n",
            " [18 14  7]]\n"
          ]
        }
      ]
    },
    {
      "cell_type": "markdown",
      "source": [
        "# My own example 181"
      ],
      "metadata": {
        "id": "ep83jJKjGrfd"
      }
    },
    {
      "cell_type": "code",
      "source": [
        "var_p = np.dot(np.dot(weights, cov_mat), weights.T)\n",
        "vol_p = np.sqrt(var_p)\n",
        "print (\"Portfolio volatility: \", vol_p)"
      ],
      "metadata": {
        "colab": {
          "base_uri": "https://localhost:8080/"
        },
        "id": "S13ha_goGtsJ",
        "outputId": "184b7c64-ea61-4c16-b560-cc27681f87e8"
      },
      "execution_count": null,
      "outputs": [
        {
          "output_type": "stream",
          "name": "stdout",
          "text": [
            "Portfolio volatility:  0.03246253058246765\n"
          ]
        }
      ]
    },
    {
      "cell_type": "code",
      "source": [
        "var_p = np.dot(np.dot(weights2, cov_mat2), weights2.T)\n",
        "vol_p = np.sqrt(var_p)\n",
        "print (\"Portfolio volatility: \", vol_p)"
      ],
      "metadata": {
        "colab": {
          "base_uri": "https://localhost:8080/"
        },
        "id": "r1oT30qoG19e",
        "outputId": "0caeea2c-84fe-427b-b445-c712388e76ef"
      },
      "execution_count": null,
      "outputs": [
        {
          "output_type": "stream",
          "name": "stdout",
          "text": [
            "Portfolio volatility:  0.029195981077754788\n"
          ]
        }
      ]
    },
    {
      "cell_type": "markdown",
      "source": [
        "# My own example 182"
      ],
      "metadata": {
        "id": "1fnSin73IVyT"
      }
    },
    {
      "cell_type": "code",
      "source": [
        "vol_p_alt = np.sqrt(np.var(np.dot(weights, returns), ddof=1))\n",
        "print (\"Portfolio volatility: \", vol_p_alt)"
      ],
      "metadata": {
        "colab": {
          "base_uri": "https://localhost:8080/"
        },
        "id": "pVCkRN33IXbo",
        "outputId": "a686796a-6bd1-46ac-e240-8b30e96cefbc"
      },
      "execution_count": null,
      "outputs": [
        {
          "output_type": "stream",
          "name": "stdout",
          "text": [
            "Portfolio volatility:  0.03246253058246764\n"
          ]
        }
      ]
    },
    {
      "cell_type": "code",
      "source": [
        "vol_p_alt = np.sqrt(np.var(np.dot(weights2, returns2), ddof=1))\n",
        "print (\"Portfolio volatility: \", vol_p_alt)"
      ],
      "metadata": {
        "colab": {
          "base_uri": "https://localhost:8080/"
        },
        "id": "9LZUFNGAIddQ",
        "outputId": "2c0c8681-c1b8-46f2-fc38-73bf47e9a53d"
      },
      "execution_count": null,
      "outputs": [
        {
          "output_type": "stream",
          "name": "stdout",
          "text": [
            "Portfolio volatility:  0.029195981077754805\n"
          ]
        }
      ]
    },
    {
      "cell_type": "markdown",
      "source": [
        "# My own example 183"
      ],
      "metadata": {
        "id": "qjB63LsTIh-N"
      }
    },
    {
      "cell_type": "code",
      "source": [
        "import numpy as np\n",
        "import pandas as pd\n",
        "import matplotlib.pyplot as plt"
      ],
      "metadata": {
        "id": "uQc4NX22IkpM"
      },
      "execution_count": null,
      "outputs": []
    },
    {
      "cell_type": "code",
      "source": [
        "returns = pd.DataFrame(np.random.normal(1.0, 0.03, (100, 10)))\n",
        "prices = returns.cumprod()\n",
        "prices.plot()\n",
        "plt.title('Randomly-generated Prices')\n",
        "plt.xlabel('Time')\n",
        "plt.ylabel('Price')\n",
        "plt.legend(loc=0);"
      ],
      "metadata": {
        "colab": {
          "base_uri": "https://localhost:8080/",
          "height": 295
        },
        "id": "HEx2dAt9I6fE",
        "outputId": "d7c7343a-2989-4f02-f4dd-490da8fb1f44"
      },
      "execution_count": null,
      "outputs": [
        {
          "output_type": "display_data",
          "data": {
            "text/plain": [
              "<Figure size 432x288 with 1 Axes>"
            ],
            "image/png": "[encoded data removed]"
          },
          "metadata": {
            "needs_background": "light"
          }
        }
      ]
    },
    {
      "cell_type": "code",
      "source": [
        "returns2 = pd.DataFrame(np.random.normal(1.0, 0.03, (50, 4)))\n",
        "prices2 = returns2.cumprod()\n",
        "prices2.plot()\n",
        "plt.title('Potato prices')\n",
        "plt.xlabel('Time')\n",
        "plt.ylabel('Price')\n",
        "plt.legend(loc=0);"
      ],
      "metadata": {
        "colab": {
          "base_uri": "https://localhost:8080/",
          "height": 295
        },
        "id": "ag5Gk9rpI9HD",
        "outputId": "c70edcd8-9402-49c8-ba08-682b4eb715aa"
      },
      "execution_count": null,
      "outputs": [
        {
          "output_type": "display_data",
          "data": {
            "text/plain": [
              "<Figure size 432x288 with 1 Axes>"
            ],
            "image/png": "[encoded data removed]"
          },
          "metadata": {
            "needs_background": "light"
          }
        }
      ]
    },
    {
      "cell_type": "markdown",
      "source": [
        "# My own example 184"
      ],
      "metadata": {
        "id": "h4-_eZyoJWwG"
      }
    },
    {
      "cell_type": "code",
      "source": [
        "s = pd.Series([1, 2, np.nan, 4, 5])\n",
        "print (s)"
      ],
      "metadata": {
        "colab": {
          "base_uri": "https://localhost:8080/"
        },
        "id": "DJVd6Y9bJbdB",
        "outputId": "325891d4-6e5f-43dc-bf2b-56c9799d6d58"
      },
      "execution_count": null,
      "outputs": [
        {
          "output_type": "stream",
          "name": "stdout",
          "text": [
            "0    1.0\n",
            "1    2.0\n",
            "2    NaN\n",
            "3    4.0\n",
            "4    5.0\n",
            "dtype: float64\n"
          ]
        }
      ]
    },
    {
      "cell_type": "code",
      "source": [
        "f = pd.Series([6, 7, 8, np.nan, 9])\n",
        "print (f)"
      ],
      "metadata": {
        "colab": {
          "base_uri": "https://localhost:8080/"
        },
        "id": "WE6qAfEgJexK",
        "outputId": "af23eaec-3965-4fe6-99a9-02d869d92fba"
      },
      "execution_count": null,
      "outputs": [
        {
          "output_type": "stream",
          "name": "stdout",
          "text": [
            "0    6.0\n",
            "1    7.0\n",
            "2    8.0\n",
            "3    NaN\n",
            "4    9.0\n",
            "dtype: float64\n"
          ]
        }
      ]
    },
    {
      "cell_type": "markdown",
      "source": [
        "# My own example 185"
      ],
      "metadata": {
        "id": "lXkcSOCsJqTS"
      }
    },
    {
      "cell_type": "code",
      "source": [
        "print (s.name)"
      ],
      "metadata": {
        "colab": {
          "base_uri": "https://localhost:8080/"
        },
        "id": "Ohun6wJhJsPU",
        "outputId": "327fcf6a-cecb-407b-cfef-2c49e9fd314c"
      },
      "execution_count": null,
      "outputs": [
        {
          "output_type": "stream",
          "name": "stdout",
          "text": [
            "None\n"
          ]
        }
      ]
    },
    {
      "cell_type": "code",
      "source": [
        "print (f.name)"
      ],
      "metadata": {
        "colab": {
          "base_uri": "https://localhost:8080/"
        },
        "id": "KYeT9dC8JwBl",
        "outputId": "1a7a15a6-b6c4-449e-c7bd-13d9868e2615"
      },
      "execution_count": null,
      "outputs": [
        {
          "output_type": "stream",
          "name": "stdout",
          "text": [
            "None\n"
          ]
        }
      ]
    },
    {
      "cell_type": "markdown",
      "source": [
        "# My own example 186"
      ],
      "metadata": {
        "id": "JwHrnbQ9KAkc"
      }
    },
    {
      "cell_type": "code",
      "source": [
        "s.name = \"Toy Series\"\n",
        "print (s.name)"
      ],
      "metadata": {
        "colab": {
          "base_uri": "https://localhost:8080/"
        },
        "id": "BHsetyDVKCfS",
        "outputId": "10554cd9-6d25-476f-a521-cce81b3dc3d0"
      },
      "execution_count": null,
      "outputs": [
        {
          "output_type": "stream",
          "name": "stdout",
          "text": [
            "Toy Series\n"
          ]
        }
      ]
    },
    {
      "cell_type": "code",
      "source": [
        "f.name = \"Example\"\n",
        "print (f.name)"
      ],
      "metadata": {
        "colab": {
          "base_uri": "https://localhost:8080/"
        },
        "id": "k0NmyKJMKFjL",
        "outputId": "b5830169-7692-4106-af0d-282fdb6e96a4"
      },
      "execution_count": null,
      "outputs": [
        {
          "output_type": "stream",
          "name": "stdout",
          "text": [
            "Example\n"
          ]
        }
      ]
    },
    {
      "cell_type": "markdown",
      "source": [
        "## My own example 187"
      ],
      "metadata": {
        "id": "XHZnVD_yKMRi"
      }
    },
    {
      "cell_type": "code",
      "source": [
        "print (s.index)"
      ],
      "metadata": {
        "colab": {
          "base_uri": "https://localhost:8080/"
        },
        "id": "N76gjSZHKPrC",
        "outputId": "3f3d04ae-33d6-4ae1-c8ed-6a4cc13ac59f"
      },
      "execution_count": null,
      "outputs": [
        {
          "output_type": "stream",
          "name": "stdout",
          "text": [
            "RangeIndex(start=0, stop=5, step=1)\n"
          ]
        }
      ]
    },
    {
      "cell_type": "code",
      "source": [
        "print (f.index)"
      ],
      "metadata": {
        "colab": {
          "base_uri": "https://localhost:8080/"
        },
        "id": "-ypu9mD0KSuH",
        "outputId": "415ea1b1-3be0-45f5-f03b-8e21689cfa22"
      },
      "execution_count": null,
      "outputs": [
        {
          "output_type": "stream",
          "name": "stdout",
          "text": [
            "RangeIndex(start=0, stop=5, step=1)\n"
          ]
        }
      ]
    },
    {
      "cell_type": "markdown",
      "source": [
        "# My own example 188"
      ],
      "metadata": {
        "id": "WuyC_ZS5KWDQ"
      }
    },
    {
      "cell_type": "code",
      "source": [
        "new_index = pd.date_range(\"2016-01-01\", periods=len(s), freq=\"D\")\n",
        "print (new_index)"
      ],
      "metadata": {
        "colab": {
          "base_uri": "https://localhost:8080/"
        },
        "id": "0aspbmZmKXxj",
        "outputId": "2107238b-d275-4ba4-98b0-b45295ada05c"
      },
      "execution_count": null,
      "outputs": [
        {
          "output_type": "stream",
          "name": "stdout",
          "text": [
            "DatetimeIndex(['2016-01-01', '2016-01-02', '2016-01-03', '2016-01-04',\n",
            "               '2016-01-05'],\n",
            "              dtype='datetime64[ns]', freq='D')\n"
          ]
        }
      ]
    },
    {
      "cell_type": "code",
      "source": [
        "new_index2 = pd.date_range(\"2017-10-27\", periods=len(f), freq=\"D\")\n",
        "print (new_index2)"
      ],
      "metadata": {
        "colab": {
          "base_uri": "https://localhost:8080/"
        },
        "id": "rdRONFU0KbeX",
        "outputId": "69d36220-160f-4de2-957a-cbb63e531bd8"
      },
      "execution_count": null,
      "outputs": [
        {
          "output_type": "stream",
          "name": "stdout",
          "text": [
            "DatetimeIndex(['2017-10-27', '2017-10-28', '2017-10-29', '2017-10-30',\n",
            "               '2017-10-31'],\n",
            "              dtype='datetime64[ns]', freq='D')\n"
          ]
        }
      ]
    },
    {
      "cell_type": "markdown",
      "source": [
        "# My own example 189"
      ],
      "metadata": {
        "id": "eOj3qKtCKqAU"
      }
    },
    {
      "cell_type": "code",
      "source": [
        "s.index = new_index\n",
        "print (s.index)"
      ],
      "metadata": {
        "colab": {
          "base_uri": "https://localhost:8080/"
        },
        "id": "2eT2dCXFKskB",
        "outputId": "f5726ba4-71f8-412a-9753-5a4fb72925b2"
      },
      "execution_count": null,
      "outputs": [
        {
          "output_type": "stream",
          "name": "stdout",
          "text": [
            "DatetimeIndex(['2016-01-01', '2016-01-02', '2016-01-03', '2016-01-04',\n",
            "               '2016-01-05'],\n",
            "              dtype='datetime64[ns]', freq='D')\n"
          ]
        }
      ]
    },
    {
      "cell_type": "code",
      "source": [
        "f.index = new_index2\n",
        "print (f.index)"
      ],
      "metadata": {
        "colab": {
          "base_uri": "https://localhost:8080/"
        },
        "id": "0ObJewZ9Kvcg",
        "outputId": "5c8b768b-5c59-4c27-981d-47c05b482d8d"
      },
      "execution_count": null,
      "outputs": [
        {
          "output_type": "stream",
          "name": "stdout",
          "text": [
            "DatetimeIndex(['2017-10-27', '2017-10-28', '2017-10-29', '2017-10-30',\n",
            "               '2017-10-31'],\n",
            "              dtype='datetime64[ns]', freq='D')\n"
          ]
        }
      ]
    },
    {
      "cell_type": "markdown",
      "source": [
        "# My own example 190"
      ],
      "metadata": {
        "id": "-vDyj-JCKzhg"
      }
    },
    {
      "cell_type": "code",
      "source": [
        "print (\"First element of the series: \", s.iloc[0])\n",
        "print (\"Last element of the series: \", s.iloc[len(s)-1])"
      ],
      "metadata": {
        "colab": {
          "base_uri": "https://localhost:8080/"
        },
        "id": "z7g5KCvRK3dD",
        "outputId": "30ebf62f-08c3-441a-b653-721d5e060a88"
      },
      "execution_count": null,
      "outputs": [
        {
          "output_type": "stream",
          "name": "stdout",
          "text": [
            "First element of the series:  1.0\n",
            "Last element of the series:  5.0\n"
          ]
        }
      ]
    },
    {
      "cell_type": "code",
      "source": [
        "print (\"First element of the example: \", f.iloc[0])\n",
        "print (\"Last element of the example: \", f.iloc[len(f)-1])"
      ],
      "metadata": {
        "colab": {
          "base_uri": "https://localhost:8080/"
        },
        "id": "0PKD_hbBK9wF",
        "outputId": "72f73f3b-de2e-4add-eadf-5f393dbc677d"
      },
      "execution_count": null,
      "outputs": [
        {
          "output_type": "stream",
          "name": "stdout",
          "text": [
            "First element of the example:  6.0\n",
            "Last element of the example:  9.0\n"
          ]
        }
      ]
    },
    {
      "cell_type": "markdown",
      "source": [
        "# My own example 191"
      ],
      "metadata": {
        "id": "akyB83XKLDAC"
      }
    },
    {
      "cell_type": "code",
      "source": [
        "s.iloc[:2]"
      ],
      "metadata": {
        "colab": {
          "base_uri": "https://localhost:8080/"
        },
        "id": "MSmhzWDELE3N",
        "outputId": "cd05534c-9117-478c-ca00-d129ce4c29a7"
      },
      "execution_count": null,
      "outputs": [
        {
          "output_type": "execute_result",
          "data": {
            "text/plain": [
              "2016-01-01    1.0\n",
              "2016-01-02    2.0\n",
              "Freq: D, Name: Example, dtype: float64"
            ]
          },
          "metadata": {},
          "execution_count": 218
        }
      ]
    },
    {
      "cell_type": "code",
      "source": [
        "f.iloc[:1]"
      ],
      "metadata": {
        "colab": {
          "base_uri": "https://localhost:8080/"
        },
        "id": "pyhnwe7FLHNW",
        "outputId": "b5847956-3070-4743-8446-91ed5bda7f02"
      },
      "execution_count": null,
      "outputs": [
        {
          "output_type": "execute_result",
          "data": {
            "text/plain": [
              "2017-10-27    6.0\n",
              "Freq: D, Name: Example, dtype: float64"
            ]
          },
          "metadata": {},
          "execution_count": 219
        }
      ]
    },
    {
      "cell_type": "markdown",
      "source": [
        "# My own example 192"
      ],
      "metadata": {
        "id": "Fp9TteJeLJju"
      }
    },
    {
      "cell_type": "code",
      "source": [
        "start = 0\n",
        "end = len(s) - 1\n",
        "step = 1\n",
        "\n",
        "s.iloc[start:end:step]"
      ],
      "metadata": {
        "colab": {
          "base_uri": "https://localhost:8080/"
        },
        "id": "jmAx6vvOLLcT",
        "outputId": "1077680a-2e85-42f1-e35e-1b3f5fedf896"
      },
      "execution_count": null,
      "outputs": [
        {
          "output_type": "execute_result",
          "data": {
            "text/plain": [
              "2016-01-01    1.0\n",
              "2016-01-02    2.0\n",
              "2016-01-03    NaN\n",
              "2016-01-04    4.0\n",
              "Freq: D, Name: Example, dtype: float64"
            ]
          },
          "metadata": {},
          "execution_count": 220
        }
      ]
    },
    {
      "cell_type": "code",
      "source": [
        "start = 1\n",
        "end = len(f)\n",
        "step = 1\n",
        "\n",
        "f.iloc[start:end:step]"
      ],
      "metadata": {
        "colab": {
          "base_uri": "https://localhost:8080/"
        },
        "id": "Hu5yL3mNLOL5",
        "outputId": "d68733b4-e278-4f2d-b120-625c9b8e3ad2"
      },
      "execution_count": null,
      "outputs": [
        {
          "output_type": "execute_result",
          "data": {
            "text/plain": [
              "2017-10-28    7.0\n",
              "2017-10-29    8.0\n",
              "2017-10-30    NaN\n",
              "2017-10-31    9.0\n",
              "Freq: D, Name: Example, dtype: float64"
            ]
          },
          "metadata": {},
          "execution_count": 223
        }
      ]
    },
    {
      "cell_type": "markdown",
      "source": [
        "# My own example 193"
      ],
      "metadata": {
        "id": "p9qQfkSkLWw7"
      }
    },
    {
      "cell_type": "code",
      "source": [
        "s.iloc[::-1]"
      ],
      "metadata": {
        "colab": {
          "base_uri": "https://localhost:8080/"
        },
        "id": "fCzXk8IaLZWo",
        "outputId": "1661bed7-cd62-4810-b8ea-0d95b56ecb56"
      },
      "execution_count": null,
      "outputs": [
        {
          "output_type": "execute_result",
          "data": {
            "text/plain": [
              "2016-01-05    5.0\n",
              "2016-01-04    4.0\n",
              "2016-01-03    NaN\n",
              "2016-01-02    2.0\n",
              "2016-01-01    1.0\n",
              "Freq: -1D, Name: Example, dtype: float64"
            ]
          },
          "metadata": {},
          "execution_count": 224
        }
      ]
    },
    {
      "cell_type": "code",
      "source": [
        "f.iloc[::-1]"
      ],
      "metadata": {
        "colab": {
          "base_uri": "https://localhost:8080/"
        },
        "id": "AQlR_TY6LbhG",
        "outputId": "17f30510-1eb8-4205-b035-a6d0d179f045"
      },
      "execution_count": null,
      "outputs": [
        {
          "output_type": "execute_result",
          "data": {
            "text/plain": [
              "2017-10-31    9.0\n",
              "2017-10-30    NaN\n",
              "2017-10-29    8.0\n",
              "2017-10-28    7.0\n",
              "2017-10-27    6.0\n",
              "Freq: -1D, Name: Example, dtype: float64"
            ]
          },
          "metadata": {},
          "execution_count": 225
        }
      ]
    },
    {
      "cell_type": "markdown",
      "source": [
        "# My own example 194"
      ],
      "metadata": {
        "id": "U3HXUOl0LetV"
      }
    },
    {
      "cell_type": "code",
      "source": [
        "s.iloc[-2:-4:-1]"
      ],
      "metadata": {
        "colab": {
          "base_uri": "https://localhost:8080/"
        },
        "id": "O7_khgU0LgkN",
        "outputId": "7eb5b995-d520-4277-e604-54584e004528"
      },
      "execution_count": null,
      "outputs": [
        {
          "output_type": "execute_result",
          "data": {
            "text/plain": [
              "2016-01-04    4.0\n",
              "2016-01-03    NaN\n",
              "Freq: -1D, Name: Example, dtype: float64"
            ]
          },
          "metadata": {},
          "execution_count": 226
        }
      ]
    },
    {
      "cell_type": "code",
      "source": [
        "f.iloc[1:-8:-1]"
      ],
      "metadata": {
        "colab": {
          "base_uri": "https://localhost:8080/"
        },
        "id": "8iCR3aEULkaJ",
        "outputId": "4c6e341d-462c-4e80-ad94-45bc4957cbac"
      },
      "execution_count": null,
      "outputs": [
        {
          "output_type": "execute_result",
          "data": {
            "text/plain": [
              "2017-10-28    7.0\n",
              "2017-10-27    6.0\n",
              "Freq: -1D, Name: Example, dtype: float64"
            ]
          },
          "metadata": {},
          "execution_count": 232
        }
      ]
    },
    {
      "cell_type": "markdown",
      "source": [
        "# My own example 195"
      ],
      "metadata": {
        "id": "WOvXe5iJLyck"
      }
    },
    {
      "cell_type": "code",
      "source": [
        "s.loc['2016-01-01']"
      ],
      "metadata": {
        "colab": {
          "base_uri": "https://localhost:8080/"
        },
        "id": "9H2P1yNkL0IQ",
        "outputId": "d42116a6-6a08-44f6-ba20-f5ef1b184321"
      },
      "execution_count": null,
      "outputs": [
        {
          "output_type": "execute_result",
          "data": {
            "text/plain": [
              "1.0"
            ]
          },
          "metadata": {},
          "execution_count": 233
        }
      ]
    },
    {
      "cell_type": "code",
      "source": [
        "f.loc['2017-10-29']"
      ],
      "metadata": {
        "colab": {
          "base_uri": "https://localhost:8080/"
        },
        "id": "yY35YYU5L2Ks",
        "outputId": "b66a05f3-f16b-4f49-aaa5-c438b2dca0b9"
      },
      "execution_count": null,
      "outputs": [
        {
          "output_type": "execute_result",
          "data": {
            "text/plain": [
              "8.0"
            ]
          },
          "metadata": {},
          "execution_count": 234
        }
      ]
    },
    {
      "cell_type": "markdown",
      "source": [
        "# My own example 196"
      ],
      "metadata": {
        "id": "NDS-JD9XL7K6"
      }
    },
    {
      "cell_type": "code",
      "source": [
        "s.loc['2016-01-02':'2016-01-04']"
      ],
      "metadata": {
        "colab": {
          "base_uri": "https://localhost:8080/"
        },
        "id": "R5BblbxGL9E0",
        "outputId": "28e67b29-ca62-46a8-d288-6dcc7714b8b7"
      },
      "execution_count": null,
      "outputs": [
        {
          "output_type": "execute_result",
          "data": {
            "text/plain": [
              "2016-01-02    2.0\n",
              "2016-01-03    NaN\n",
              "2016-01-04    4.0\n",
              "Freq: D, Name: Example, dtype: float64"
            ]
          },
          "metadata": {},
          "execution_count": 235
        }
      ]
    },
    {
      "cell_type": "code",
      "source": [
        "f.loc['2017-10-28':'2017-10-30']"
      ],
      "metadata": {
        "colab": {
          "base_uri": "https://localhost:8080/"
        },
        "id": "6BhmBP6BMB-Q",
        "outputId": "fa37e7d9-96a2-4d40-d2c0-89ce84bda4e4"
      },
      "execution_count": null,
      "outputs": [
        {
          "output_type": "execute_result",
          "data": {
            "text/plain": [
              "2017-10-28    7.0\n",
              "2017-10-29    8.0\n",
              "2017-10-30    NaN\n",
              "Freq: D, Name: Example, dtype: float64"
            ]
          },
          "metadata": {},
          "execution_count": 237
        }
      ]
    },
    {
      "cell_type": "markdown",
      "source": [
        "# My own example 197"
      ],
      "metadata": {
        "id": "uOHssbTCMN0p"
      }
    },
    {
      "cell_type": "code",
      "source": [
        "!pip install --upgrade pandas-datareader"
      ],
      "metadata": {
        "colab": {
          "base_uri": "https://localhost:8080/"
        },
        "id": "yqZY7cR2Mz0-",
        "outputId": "fe02b8fb-513d-4a48-9860-48606bb60ba2"
      },
      "execution_count": null,
      "outputs": [
        {
          "output_type": "stream",
          "name": "stdout",
          "text": [
            "Requirement already satisfied: pandas-datareader in /usr/local/lib/python3.7/dist-packages (0.9.0)\n",
            "Collecting pandas-datareader\n",
            "  Downloading pandas_datareader-0.10.0-py3-none-any.whl (109 kB)\n",
            "\u001b[K     |████████████████████████████████| 109 kB 4.0 MB/s \n",
            "\u001b[?25hRequirement already satisfied: requests>=2.19.0 in /usr/local/lib/python3.7/dist-packages (from pandas-datareader) (2.23.0)\n",
            "Requirement already satisfied: pandas>=0.23 in /usr/local/lib/python3.7/dist-packages (from pandas-datareader) (1.3.5)\n",
            "Requirement already satisfied: lxml in /usr/local/lib/python3.7/dist-packages (from pandas-datareader) (4.2.6)\n",
            "Requirement already satisfied: pytz>=2017.3 in /usr/local/lib/python3.7/dist-packages (from pandas>=0.23->pandas-datareader) (2018.9)\n",
            "Requirement already satisfied: numpy>=1.17.3 in /usr/local/lib/python3.7/dist-packages (from pandas>=0.23->pandas-datareader) (1.21.5)\n",
            "Requirement already satisfied: python-dateutil>=2.7.3 in /usr/local/lib/python3.7/dist-packages (from pandas>=0.23->pandas-datareader) (2.8.2)\n",
            "Requirement already satisfied: six>=1.5 in /usr/local/lib/python3.7/dist-packages (from python-dateutil>=2.7.3->pandas>=0.23->pandas-datareader) (1.15.0)\n",
            "Requirement already satisfied: urllib3!=1.25.0,!=1.25.1,<1.26,>=1.21.1 in /usr/local/lib/python3.7/dist-packages (from requests>=2.19.0->pandas-datareader) (1.24.3)\n",
            "Requirement already satisfied: idna<3,>=2.5 in /usr/local/lib/python3.7/dist-packages (from requests>=2.19.0->pandas-datareader) (2.10)\n",
            "Requirement already satisfied: certifi>=2017.4.17 in /usr/local/lib/python3.7/dist-packages (from requests>=2.19.0->pandas-datareader) (2021.10.8)\n",
            "Requirement already satisfied: chardet<4,>=3.0.2 in /usr/local/lib/python3.7/dist-packages (from requests>=2.19.0->pandas-datareader) (3.0.4)\n",
            "Installing collected packages: pandas-datareader\n",
            "  Attempting uninstall: pandas-datareader\n",
            "    Found existing installation: pandas-datareader 0.9.0\n",
            "    Uninstalling pandas-datareader-0.9.0:\n",
            "      Successfully uninstalled pandas-datareader-0.9.0\n",
            "Successfully installed pandas-datareader-0.10.0\n"
          ]
        }
      ]
    },
    {
      "cell_type": "code",
      "source": [
        "import pandas_datareader as pdr\n",
        "import datetime"
      ],
      "metadata": {
        "id": "mvhPDsx6MyhL"
      },
      "execution_count": null,
      "outputs": []
    },
    {
      "cell_type": "code",
      "source": [
        "symbol = \"CMG\"\n",
        "start = \"2012-01-01\"\n",
        "end = \"2016-01-01\"\n",
        "prices = pdr.get_data_yahoo(symbol, start=start, end=end)['Adj Close']"
      ],
      "metadata": {
        "id": "TKnu0-I-MPq5"
      },
      "execution_count": null,
      "outputs": []
    },
    {
      "cell_type": "code",
      "source": [
        "prices.plot();\n",
        "# We still need to add the axis labels and title ourselves\n",
        "plt.title(symbol + \" Prices\")\n",
        "plt.ylabel(\"Price\")\n",
        "plt.xlabel(\"Date\");"
      ],
      "metadata": {
        "colab": {
          "base_uri": "https://localhost:8080/",
          "height": 293
        },
        "id": "9Thcn1nhNKbB",
        "outputId": "bd2d37d4-cad9-4587-d52a-fb26247be2e8"
      },
      "execution_count": null,
      "outputs": [
        {
          "output_type": "display_data",
          "data": {
            "text/plain": [
              "<Figure size 432x288 with 1 Axes>"
            ],
            "image/png": "[encoded data removed]"
          },
          "metadata": {
            "needs_background": "light"
          }
        }
      ]
    },
    {
      "cell_type": "code",
      "source": [
        "symbol = \"AAPL\"\n",
        "start = \"2015-06-01\"\n",
        "end = \"2018-12-01\"\n",
        "prices2 = pdr.get_data_yahoo(symbol, start=start, end=end)['Adj Close']"
      ],
      "metadata": {
        "id": "dwpsPSLANOpc"
      },
      "execution_count": null,
      "outputs": []
    },
    {
      "cell_type": "code",
      "source": [
        "prices2.plot();\n",
        "# We still need to add the axis labels and title ourselves\n",
        "plt.title(symbol + \" Prices\")\n",
        "plt.ylabel(\"Price\")\n",
        "plt.xlabel(\"Date\");"
      ],
      "metadata": {
        "colab": {
          "base_uri": "https://localhost:8080/",
          "height": 293
        },
        "id": "vJIPSoUuNZ8Q",
        "outputId": "95a68dd0-c637-4b08-c453-82c83dd5339e"
      },
      "execution_count": null,
      "outputs": [
        {
          "output_type": "display_data",
          "data": {
            "text/plain": [
              "<Figure size 432x288 with 1 Axes>"
            ],
            "image/png": "[encoded data removed]"
          },
          "metadata": {
            "needs_background": "light"
          }
        }
      ]
    },
    {
      "cell_type": "markdown",
      "source": [
        "# My own example 198"
      ],
      "metadata": {
        "id": "DkzeKgQiNd31"
      }
    },
    {
      "cell_type": "code",
      "source": [
        "print (\"Summary Statistics\")\n",
        "print (prices.describe())"
      ],
      "metadata": {
        "colab": {
          "base_uri": "https://localhost:8080/"
        },
        "id": "0TodhtHANiBL",
        "outputId": "4feb0db2-63cc-4233-cc2e-b46e7551095e"
      },
      "execution_count": null,
      "outputs": [
        {
          "output_type": "stream",
          "name": "stdout",
          "text": [
            "Summary Statistics\n",
            "count    1006.000000\n",
            "mean      501.636650\n",
            "std       146.688738\n",
            "min       236.240005\n",
            "25%       371.555000\n",
            "50%       521.270020\n",
            "75%       646.834991\n",
            "max       757.770020\n",
            "Name: Adj Close, dtype: float64\n"
          ]
        }
      ]
    },
    {
      "cell_type": "code",
      "source": [
        "print (\"Summary Statistics\")\n",
        "print (prices2.describe())"
      ],
      "metadata": {
        "colab": {
          "base_uri": "https://localhost:8080/"
        },
        "id": "UKVZaTVFNmBZ",
        "outputId": "3f95fb29-de64-403e-889f-2030a7509c46"
      },
      "execution_count": null,
      "outputs": [
        {
          "output_type": "stream",
          "name": "stdout",
          "text": [
            "Summary Statistics\n",
            "count    885.000000\n",
            "mean      33.673006\n",
            "std        9.220665\n",
            "min       21.009535\n",
            "25%       25.812366\n",
            "50%       32.800110\n",
            "75%       41.018143\n",
            "max       56.054829\n",
            "Name: Adj Close, dtype: float64\n"
          ]
        }
      ]
    },
    {
      "cell_type": "markdown",
      "source": [
        "# My own example 199"
      ],
      "metadata": {
        "id": "okpi6_KNNxr_"
      }
    },
    {
      "cell_type": "code",
      "source": [
        "modified_prices = prices * 2 - 10\n",
        "modified_prices.head(5)"
      ],
      "metadata": {
        "colab": {
          "base_uri": "https://localhost:8080/"
        },
        "id": "uHaXPV_7N1Dx",
        "outputId": "e516744c-fee9-437d-a7d4-725773da860e"
      },
      "execution_count": null,
      "outputs": [
        {
          "output_type": "execute_result",
          "data": {
            "text/plain": [
              "Date\n",
              "2012-01-03    672.539978\n",
              "2012-01-04    687.500000\n",
              "2012-01-05    690.960022\n",
              "2012-01-06    687.900024\n",
              "2012-01-09    669.479980\n",
              "Name: Adj Close, dtype: float64"
            ]
          },
          "metadata": {},
          "execution_count": 254
        }
      ]
    },
    {
      "cell_type": "code",
      "source": [
        "modified_prices2 = prices2 * 1.5 - 50\n",
        "modified_prices2.head(7)"
      ],
      "metadata": {
        "colab": {
          "base_uri": "https://localhost:8080/"
        },
        "id": "j3f3K0e4N37D",
        "outputId": "9ea9329a-32bd-440f-ed1b-72aebf46836c"
      },
      "execution_count": null,
      "outputs": [
        {
          "output_type": "execute_result",
          "data": {
            "text/plain": [
              "Date\n",
              "2015-06-01   -5.376013\n",
              "2015-06-02   -5.574273\n",
              "2015-06-03   -5.519582\n",
              "2015-06-04   -5.779371\n",
              "2015-06-05   -6.022089\n",
              "2015-06-08   -6.312657\n",
              "2015-06-09   -6.442556\n",
              "Name: Adj Close, dtype: float64"
            ]
          },
          "metadata": {},
          "execution_count": 256
        }
      ]
    },
    {
      "cell_type": "markdown",
      "source": [
        "# My own example 200"
      ],
      "metadata": {
        "id": "uF2CiYGoN-Nb"
      }
    },
    {
      "cell_type": "code",
      "source": [
        "noisy_prices = prices + 5 * pd.Series(np.random.normal(0, 5, len(prices)), index=prices.index) + 20\n",
        "noisy_prices.head(5)"
      ],
      "metadata": {
        "colab": {
          "base_uri": "https://localhost:8080/"
        },
        "id": "KKOcN4LSODDD",
        "outputId": "0b1b2401-8abb-438a-aaaf-a98db81958d8"
      },
      "execution_count": null,
      "outputs": [
        {
          "output_type": "execute_result",
          "data": {
            "text/plain": [
              "Date\n",
              "2012-01-03    323.006913\n",
              "2012-01-04    354.336626\n",
              "2012-01-05    370.931143\n",
              "2012-01-06    387.171195\n",
              "2012-01-09    365.923968\n",
              "dtype: float64"
            ]
          },
          "metadata": {},
          "execution_count": 257
        }
      ]
    },
    {
      "cell_type": "code",
      "source": [
        "noisy_prices2 = prices2 + 4 * pd.Series(np.random.normal(0, 7, len(prices2)), index=prices2.index) + 15\n",
        "noisy_prices2.head(7)"
      ],
      "metadata": {
        "colab": {
          "base_uri": "https://localhost:8080/"
        },
        "id": "HBUkuQzWOEPY",
        "outputId": "a84611c6-8cf5-4481-92ee-53419d89403b"
      },
      "execution_count": null,
      "outputs": [
        {
          "output_type": "execute_result",
          "data": {
            "text/plain": [
              "Date\n",
              "2015-06-01    26.397585\n",
              "2015-06-02    41.243972\n",
              "2015-06-03    69.171642\n",
              "2015-06-04     4.319877\n",
              "2015-06-05    60.479783\n",
              "2015-06-08    11.891124\n",
              "2015-06-09    37.546811\n",
              "dtype: float64"
            ]
          },
          "metadata": {},
          "execution_count": 258
        }
      ]
    }
  ]
}