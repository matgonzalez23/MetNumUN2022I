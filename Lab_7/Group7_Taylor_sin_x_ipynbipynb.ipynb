{
  "nbformat": 4,
  "nbformat_minor": 0,
  "metadata": {
    "colab": {
      "name": "Group7_Taylor_sin_x.ipynbipynb ",
      "provenance": [],
      "collapsed_sections": [],
      "include_colab_link": true
    },
    "kernelspec": {
      "name": "python3",
      "display_name": "Python 3"
    },
    "language_info": {
      "name": "python"
    }
  },
  "cells": [
    {
      "cell_type": "markdown",
      "metadata": {
        "id": "view-in-github",
        "colab_type": "text"
      },
      "source": [
        "<a href=\"https://colab.research.google.com/github/matgonzalez23/MetNumUN2022I/blob/main/Lab_7/Group7_Taylor_sin_x_ipynbipynb.ipynb\" target=\"_parent\"><img src=\"https://colab.research.google.com/assets/colab-badge.svg\" alt=\"Open In Colab\"/></a>"
      ]
    },
    {
      "cell_type": "markdown",
      "source": [
        "\n",
        "**Group 7**\n",
        "\n",
        "*   Mateo Gonzalez Mogollon\n",
        "*   Andres Lopez Gutierrez\n",
        "*   Harold Velazco **Ayala**\n",
        "\n"
      ],
      "metadata": {
        "id": "WFXQCOmCMZCJ"
      }
    },
    {
      "cell_type": "markdown",
      "metadata": {
        "id": "ZuGY2wUTjFDm"
      },
      "source": [
        "# Taylor series of $sin(x)$\n",
        "\n",
        "$$ \n",
        "\\begin{array}{lll}\n",
        "sin (x)  & =  & \\sum_{n=0}^{\\infty} (-1)^n \\frac{x^{2n + 1}}{(2n+1)!} \\\\\n",
        "        & = & x - \\frac{x^3}{3!} + \\frac{x^5}{5!} +\\cdots+ (-1)^n \\frac{x^{2n + 1}}{(2n+1)!} + \\cdots  \\\\\n",
        "       & = & x - \\frac{x^3}{3!} +  \\frac{x^5}{5!}  \\cdots+ (-1)^n \\frac{x^{2n + 1}}{(2n+1)!} + O(x^{n+1}) \n",
        "\\end{array} \n",
        "$$\n",
        "\n",
        "\n",
        "Approximation \n",
        "$$ sin (x)  \\approx x - \\frac{x^3}{3!} + \\frac{x^5}{5!} - \\frac{x^7}{7!}+ \\cdots+ (-1)^n \\frac{x^{2n + 1}}{(2n+1)!}$$\n"
      ]
    },
    {
      "cell_type": "markdown",
      "source": [
        "Interact code in Sagemath for $sin(x)$\n",
        "\n",
        "```python\n",
        "# Interact Taylor Series of $$f(x) = sin(x)$$\n",
        "# Explanatory example: Taylor Series – wiki.sagemath.org/interact https://wiki.sagemath.org/interact\n",
        "x   = SR.var('x')\n",
        "x0  = 0\n",
        "f   = sin(x)\n",
        "p   = plot(f, -40, 40, thickness=2)\n",
        "dot = point((x0, f(x=x0)), pointsize=80, rgbcolor=(1, 0, 0))\n",
        "\n",
        "@interact\n",
        "def _(order=slider([0 .. 50])):\n",
        "  ft = f.taylor(x, x0, order)\n",
        "  pt = plot(ft, -40, 40, color='orange', thickness=2)\n",
        "  pretty_print(html(r'$f(x)\\;=\\;%s$' % latex(f)))\n",
        "  pretty_print(html(r'$\\hat{f}(x;%s)\\;=\\;%s+\\mathcal{O}(x^{%s})$' % (x0, latex(ft), order+1)))\n",
        "  show(dot + p + pt, ymin=-1.5, ymax=1.5)\n",
        "```"
      ],
      "metadata": {
        "id": "eFh_HdXmjdfu"
      }
    },
    {
      "cell_type": "markdown",
      "source": [
        "Animate code in Sagemath for $e^x$\n",
        "```python\n",
        "# Animate  Taylor Series of $$f(x) = sin(x)$$\n",
        "# MCS 320: Introduction to Symbolic Computation - Jan Verschelde, Mathematics, U. Illinois at Chicago  –\n",
        "# http://homepages.math.uic.edu/~jan/mcs320/mcs320notes/lec27.html#\n",
        "x   = SR.var('x')\n",
        "x0  = 0\n",
        "f   = sin(x)\n",
        "p   = plot(f, -7, 7, thickness=2,legend_label='f(x) = sin(x)')\n",
        "dot = point((x0, f(x=x0)), pointsize=80, rgbcolor=(1, 0, 0))\n",
        "ptaylor = [plot(f.taylor(x, x0, order), -7,7, color='purple', thickness=2, legend_label= \"Taylor \" + str(order) +\": \"+ str(f.taylor(x, x0, order))) for order in range(5)]\n",
        "\n",
        "frames = [p+dot+ptaylor[int(order/12)] for order in range(60)]\n",
        "a = animate(frames, ymin=-5, ymax=5)\n",
        "a.show()\n",
        "a.save('sin_of_x_taylor_animation_1.gif')\n",
        "```"
      ],
      "metadata": {
        "id": "y90QDm3UkzaF"
      }
    },
    {
      "cell_type": "markdown",
      "source": [
        "![image.png](data:image/png;base64,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)"
      ],
      "metadata": {
        "id": "c_Hz3jQijj8H"
      }
    },
    {
      "cell_type": "markdown",
      "source": [
        " ![Taylor gif](https://raw.githubusercontent.com/matgonzalez23/MetNumUN2022I/main/Lab_7/sin_of_x_taylor_animation_1.gif)"
      ],
      "metadata": {
        "id": "xOrV2TRQXaiW"
      }
    },
    {
      "cell_type": "markdown",
      "metadata": {
        "id": "qylNUuxmQUzq"
      },
      "source": [
        "#What is value of the partial Taylor series of $sin(x)$ up to the  $10$-th term of $sin(x)$ about $0$ (Maclaurin  series) for $x=2$\n",
        "$$ sin{(x)} \\approx \\sum_{i=0}^{n} (-1)^i \\frac{x^{2i+1}}{(2i+1)!}  = x - \\frac{x^3}{3!} + \\frac{x^5}{5!} - \\frac{x^7}{7!}  + \\cdots+ \\frac{x^{2n+1}}{(2n+1)!}$$ \n"
      ]
    },
    {
      "cell_type": "code",
      "metadata": {
        "colab": {
          "base_uri": "https://localhost:8080/"
        },
        "id": "UZyEw-hiQNU7",
        "outputId": "1d5b4679-3201-45f8-ac12-66abf1182eef"
      },
      "source": [
        "\n",
        "import math\n",
        "\n",
        "n = 10\n",
        "x = 2\n",
        "sin_to_x = 0\n",
        "\n",
        "for i in range(n+1):\n",
        "    sin_to_x += ((-1)**i)*(x**(2*i+1)/math.factorial(2*i+1)) \n",
        "    print(i, 'sin_to_x ≈ ∑_{i=0}^'+str(i),'(-1)^i (x^{2i+1})/((2i+1)!) = =',sin_to_x)  \n",
        "    \n",
        "print('math.sin(x) = ',math.sin(x))"
      ],
      "execution_count": 1,
      "outputs": [
        {
          "output_type": "stream",
          "name": "stdout",
          "text": [
            "0 sin_to_x ≈ ∑_{i=0}^0 (-1)^i (x^{2i+1})/((2i+1)!) = = 2.0\n",
            "1 sin_to_x ≈ ∑_{i=0}^1 (-1)^i (x^{2i+1})/((2i+1)!) = = 0.6666666666666667\n",
            "2 sin_to_x ≈ ∑_{i=0}^2 (-1)^i (x^{2i+1})/((2i+1)!) = = 0.9333333333333333\n",
            "3 sin_to_x ≈ ∑_{i=0}^3 (-1)^i (x^{2i+1})/((2i+1)!) = = 0.9079365079365079\n",
            "4 sin_to_x ≈ ∑_{i=0}^4 (-1)^i (x^{2i+1})/((2i+1)!) = = 0.909347442680776\n",
            "5 sin_to_x ≈ ∑_{i=0}^5 (-1)^i (x^{2i+1})/((2i+1)!) = = 0.9092961359628027\n",
            "6 sin_to_x ≈ ∑_{i=0}^6 (-1)^i (x^{2i+1})/((2i+1)!) = = 0.9092974515196738\n",
            "7 sin_to_x ≈ ∑_{i=0}^7 (-1)^i (x^{2i+1})/((2i+1)!) = = 0.9092974264614476\n",
            "8 sin_to_x ≈ ∑_{i=0}^8 (-1)^i (x^{2i+1})/((2i+1)!) = = 0.909297426829951\n",
            "9 sin_to_x ≈ ∑_{i=0}^9 (-1)^i (x^{2i+1})/((2i+1)!) = = 0.909297426825641\n",
            "10 sin_to_x ≈ ∑_{i=0}^10 (-1)^i (x^{2i+1})/((2i+1)!) = = 0.909297426825682\n",
            "math.sin(x) =  0.9092974268256817\n"
          ]
        }
      ]
    },
    {
      "cell_type": "markdown",
      "source": [
        "# What is the minimun $n$ for which the error between the Taylor series for $sin(x)$ about $0$ (Maclaurin  series) for $x$ and *math.exp(x)*, is in absolute value less than  $\\epsilon$.\n",
        "\n",
        "$$\\min_{n \\in \\mathbb{N}}\\left|\\sum_{i=0}^{n} \\frac{(-1)^i (x^{2i+1})}{((2i+1)!} - math.sin(x) \\right| < \\epsilon$$"
      ],
      "metadata": {
        "id": "EQulygu91CbA"
      }
    },
    {
      "cell_type": "code",
      "metadata": {
        "id": "EfkY5SM7pZBL",
        "colab": {
          "base_uri": "https://localhost:8080/"
        },
        "outputId": "52385c6b-7351-475b-dc73-1295457483fb"
      },
      "source": [
        "import math\n",
        "\n",
        "x = 4\n",
        "epsilon = 10**(-5)\n",
        "\n",
        "sin_to_x = 0\n",
        "\n",
        "print(\"n\".rjust(10),\" \",\"∑_{i=0}^n (-1)^i (x^{2i+1})/((2i+1)!\".center(21),\" \",\"delta =(-1)^i (x^{2i+1})/((2i+1)! \".center(21),\" \",\"error\".center(14),\" \",\"epsilon\".center(20))\n",
        "error = 1\n",
        "i = 0\n",
        "\n",
        "while  epsilon <= error:\n",
        "  delta =  ((-1)**i)*((x**(2*i+1)) / math.factorial(2*i+1))\n",
        "  sin_to_x += delta\n",
        "  error = abs(math.sin(x) - sin_to_x)\n",
        "  print(format(i, '10'),\"  \", format(sin_to_x, '.18f'),\"  \",format(delta, '.17f'),\" \",format(error, '.17f'),\"  \",\"{:.0e}\".format(epsilon)) \n",
        "  i = i+1\n",
        "\n",
        "\n",
        "print(\"n =\",i-1) \n",
        "print(\"x =\",x) \n",
        "print('sin_to_x ≈ ∑_{i=0}^'+str(i-1),'(-1)^i (x^{2i+1})/((2i+1)! =',sin_to_x)  \n",
        "print(\"epsilon =\",\"{:.0e}\".format(epsilon)) \n",
        "print('math.sin(x) = ',math.sin(x))"
      ],
      "execution_count": 2,
      "outputs": [
        {
          "output_type": "stream",
          "name": "stdout",
          "text": [
            "         n   ∑_{i=0}^n (-1)^i (x^{2i+1})/((2i+1)!   delta =(-1)^i (x^{2i+1})/((2i+1)!        error              epsilon       \n",
            "         0    4.000000000000000000    4.00000000000000000   4.75680249530792842    1e-05\n",
            "         1    -6.666666666666666075    -10.66666666666666607   5.90986417135873765    1e-05\n",
            "         2    1.866666666666667140    8.53333333333333321   2.62346916197459556    1e-05\n",
            "         3    -1.384126984126983650    -3.25079365079365079   0.62732448881905545    1e-05\n",
            "         4    -0.661728395061727870    0.72239858906525578   0.09507410024620033    1e-05\n",
            "         5    -0.766804553471219563    -0.10507615840949175   0.01000205816329136    1e-05\n",
            "         6    -0.756027511583066580    0.01077704188815300   0.00077498372486162    1e-05\n",
            "         7    -0.756848619536449663    -0.00082110795338309   0.00004612422852146    1e-05\n",
            "         8    -0.756800319068603566    0.00004830046784606   0.00000217623932464    1e-05\n",
            "n = 8\n",
            "x = 4\n",
            "sin_to_x ≈ ∑_{i=0}^8 (-1)^i (x^{2i+1})/((2i+1)! = -0.7568003190686036\n",
            "epsilon = 1e-05\n",
            "math.sin(x) =  -0.7568024953079282\n"
          ]
        }
      ]
    },
    {
      "cell_type": "code",
      "source": [
        "import math\n",
        "\n",
        "x = 2\n",
        "epsilon = 10**(-5)\n",
        "\n",
        "sin_to_x = 0\n",
        "\n",
        "print(\"n\".rjust(10),\" \",\"∑_{i=0}^n (-1)^i (x^{2i+1})/((2i+1)!\".center(21),\" \",\"delta =(-1)^i (x^{2i+1})/((2i+1)! \".center(21),\" \",\"error\".center(14),\" \",\"epsilon\".center(20))\n",
        "error = 1\n",
        "i = 0\n",
        "while  epsilon <= error:\n",
        "  delta =  ((-1)**i)*((x**(2*i+1)) / math.factorial(2*i+1))\n",
        "  sin_to_x += delta\n",
        "  error = abs(math.sin(x) - sin_to_x)\n",
        "  print(format(i, '10'),\"  \", format(sin_to_x, '.18f'),\"  \",format(delta, '.17f'),\" \",format(error, '.17f'),\"  \",\"{:.0e}\".format(epsilon)) \n",
        "  i = i+1\n",
        "\n",
        "\n",
        "print(\"n =\",i-1) \n",
        "print(\"x =\",x) \n",
        "print('sin_to_x ≈ ∑_{i=0}^'+str(i-1),'(-1)^i (x^{2i+1})/((2i+1)! =',sin_to_x)  \n",
        "print(\"epsilon =\",\"{:.0e}\".format(epsilon)) \n",
        "print('math.sin(x) = ',math.sin(x))"
      ],
      "metadata": {
        "colab": {
          "base_uri": "https://localhost:8080/"
        },
        "id": "3Pn3ahtECboG",
        "outputId": "d8f97622-be49-4450-f933-fc85f913ebc7"
      },
      "execution_count": 3,
      "outputs": [
        {
          "output_type": "stream",
          "name": "stdout",
          "text": [
            "         n   ∑_{i=0}^n (-1)^i (x^{2i+1})/((2i+1)!   delta =(-1)^i (x^{2i+1})/((2i+1)!        error              epsilon       \n",
            "         0    2.000000000000000000    2.00000000000000000   1.09070257317431829    1e-05\n",
            "         1    0.666666666666666741    -1.33333333333333326   0.24263076015901497    1e-05\n",
            "         2    0.933333333333333348    0.26666666666666666   0.02403590650765164    1e-05\n",
            "         3    0.907936507936507931    -0.02539682539682540   0.00136091888917378    1e-05\n",
            "         4    0.909347442680776052    0.00141093474426808   0.00005001585509434    1e-05\n",
            "         5    0.909296135962802676    -0.00005130671797338   0.00000129086287903    1e-05\n",
            "n = 5\n",
            "x = 2\n",
            "sin_to_x ≈ ∑_{i=0}^5 (-1)^i (x^{2i+1})/((2i+1)! = 0.9092961359628027\n",
            "epsilon = 1e-05\n",
            "math.sin(x) =  0.9092974268256817\n"
          ]
        }
      ]
    },
    {
      "cell_type": "markdown",
      "metadata": {
        "id": "ZlcF8gIdjZ6t"
      },
      "source": [
        "# What is the minimun $n$ for which the $n$-th term of the Taylor series for $sin(x)$ about $0$ (Maclaurin  series) for $x$, is in absolute value less than  $\\epsilon$.\n",
        "\n",
        "$$\\min_{n \\in \\mathbb{N}}\\left|\\frac{x^{n}}{n!}\\right| < \\epsilon$$"
      ]
    },
    {
      "cell_type": "code",
      "metadata": {
        "id": "_8y-XrmvcCLf",
        "colab": {
          "base_uri": "https://localhost:8080/"
        },
        "outputId": "11efb322-a6b9-40ea-9350-d43c5aff7629"
      },
      "source": [
        "import math\n",
        "\n",
        "x = 1\n",
        "epsilon = 10**(-5)\n",
        "\n",
        "sin_to_x = 0\n",
        "\n",
        "delta = 1\n",
        "i = 0\n",
        "print(\"n\".rjust(10),\" \",\"∑_{i=0}^n (-1)^i (x^{2i+1})/((2i+1)!\".center(20),\" \",\" delta=(-1)^i (x^{2i+1})/((2i+1)!\".center(20),\" \",\"epsilon\".center(9))\n",
        "while  epsilon <= abs(delta):\n",
        "  delta = ((-1)**i)*((x**(2*i+1)) / math.factorial(2*i+1))\n",
        "  sin_to_x += delta\n",
        "  print(format(i, '10'),\"  \", format(sin_to_x, '.17f'),\"  \",format(delta, '.17f'),\"  \",\"{:.0e}\".format(epsilon)) \n",
        "  i = i+1\n",
        "\n",
        "print(\"n = \",i-1) \n",
        "print('x = ',x)\n",
        "print('sin_to_x ≈ ∑_{i=0}^'+str(i-1),'(-1)^i (x^{2i+1})/((2i+1)! =',sin_to_x)\n",
        "print(\"epsilon =\",\"{:.0e}\".format(epsilon))     \n",
        "print('math.sin(x) = ',math.sin(x))"
      ],
      "execution_count": 4,
      "outputs": [
        {
          "output_type": "stream",
          "name": "stdout",
          "text": [
            "         n   ∑_{i=0}^n (-1)^i (x^{2i+1})/((2i+1)!    delta=(-1)^i (x^{2i+1})/((2i+1)!    epsilon \n",
            "         0    1.00000000000000000    1.00000000000000000    1e-05\n",
            "         1    0.83333333333333337    -0.16666666666666666    1e-05\n",
            "         2    0.84166666666666667    0.00833333333333333    1e-05\n",
            "         3    0.84146825396825398    -0.00019841269841270    1e-05\n",
            "         4    0.84147100970017641    0.00000275573192240    1e-05\n",
            "n =  4\n",
            "x =  1\n",
            "sin_to_x ≈ ∑_{i=0}^4 (-1)^i (x^{2i+1})/((2i+1)! = 0.8414710097001764\n",
            "epsilon = 1e-05\n",
            "math.sin(x) =  0.8414709848078965\n"
          ]
        }
      ]
    },
    {
      "cell_type": "code",
      "metadata": {
        "colab": {
          "base_uri": "https://localhost:8080/"
        },
        "id": "Ifa0n-_ODOAj",
        "outputId": "0eb68481-ea5d-4fd8-a800-8fd45b9f080b"
      },
      "source": [
        "import math\n",
        "\n",
        "x = -1\n",
        "epsilon = 10**(-5)\n",
        "\n",
        "sin_to_x = 0\n",
        "\n",
        "delta = 1\n",
        "i = 0\n",
        "print(\"n\".rjust(10),\" \",\"∑_{i=0}^n (-1)^i (x^{2i+1})/((2i+1)!\".center(20),\" \",\" delta=(-1)^i (x^{2i+1})/((2i+1)!\".center(20),\" \",\"epsilon\".center(9))\n",
        "while  epsilon <= abs(delta):\n",
        "  delta = ((-1)**i)*((x**(2*i+1)) / math.factorial(2*i+1))\n",
        "  sin_to_x += delta\n",
        "  print(format(i, '10'),\"  \", format(sin_to_x, '.17f'),\"  \",format(delta, '.17f'),\"  \",\"{:.0e}\".format(epsilon)) \n",
        "  i = i+1\n",
        "\n",
        "print(\"n = \",i-1) \n",
        "print('x = ',x)\n",
        "print('sin_to_x ≈ ∑_{i=0}^'+str(i-1),'(-1)^i (x^{2i+1})/((2i+1)! =',sin_to_x)\n",
        "print(\"epsilon =\",\"{:.0e}\".format(epsilon))     \n",
        "print('math.sin(x) = ',math.sin(x))"
      ],
      "execution_count": 5,
      "outputs": [
        {
          "output_type": "stream",
          "name": "stdout",
          "text": [
            "         n   ∑_{i=0}^n (-1)^i (x^{2i+1})/((2i+1)!    delta=(-1)^i (x^{2i+1})/((2i+1)!    epsilon \n",
            "         0    -1.00000000000000000    -1.00000000000000000    1e-05\n",
            "         1    -0.83333333333333337    0.16666666666666666    1e-05\n",
            "         2    -0.84166666666666667    -0.00833333333333333    1e-05\n",
            "         3    -0.84146825396825398    0.00019841269841270    1e-05\n",
            "         4    -0.84147100970017641    -0.00000275573192240    1e-05\n",
            "n =  4\n",
            "x =  -1\n",
            "sin_to_x ≈ ∑_{i=0}^4 (-1)^i (x^{2i+1})/((2i+1)! = -0.8414710097001764\n",
            "epsilon = 1e-05\n",
            "math.sin(x) =  -0.8414709848078965\n"
          ]
        }
      ]
    },
    {
      "cell_type": "code",
      "metadata": {
        "colab": {
          "base_uri": "https://localhost:8080/"
        },
        "id": "9qMzfOv0C6PM",
        "outputId": "ac27959a-5116-4bc1-8543-5ae7778334b5"
      },
      "source": [
        "import math\n",
        "\n",
        "x = 4\n",
        "epsilon = 10**(-5)\n",
        "\n",
        "sin_to_x = 0\n",
        "\n",
        "delta = 1\n",
        "i = 0\n",
        "print(\"n\".rjust(10),\" \",\"∑_{i=0}^n (-1)^i (x^{2i+1})/((2i+1)!\".center(20),\" \",\" delta=(-1)^i (x^{2i+1})/((2i+1)!\".center(20),\" \",\"epsilon\".center(9))\n",
        "while  epsilon <= abs(delta):\n",
        "  delta = ((-1)**i)*((x**(2*i+1)) / math.factorial(2*i+1))\n",
        "  sin_to_x += delta\n",
        "  print(format(i, '10'),\"  \", format(sin_to_x, '.17f'),\"  \",format(delta, '.17f'),\"  \",\"{:.0e}\".format(epsilon)) \n",
        "  i = i+1\n",
        "\n",
        "print(\"n = \",i-1) \n",
        "print('x = ',x)\n",
        "print('sin_to_x ≈ ∑_{i=0}^'+str(i-1),'(-1)^i (x^{2i+1})/((2i+1)! =',sin_to_x)\n",
        "print(\"epsilon =\",\"{:.0e}\".format(epsilon))     \n",
        "print('math.sin(x) = ',math.sin(x))"
      ],
      "execution_count": 6,
      "outputs": [
        {
          "output_type": "stream",
          "name": "stdout",
          "text": [
            "         n   ∑_{i=0}^n (-1)^i (x^{2i+1})/((2i+1)!    delta=(-1)^i (x^{2i+1})/((2i+1)!    epsilon \n",
            "         0    4.00000000000000000    4.00000000000000000    1e-05\n",
            "         1    -6.66666666666666607    -10.66666666666666607    1e-05\n",
            "         2    1.86666666666666714    8.53333333333333321    1e-05\n",
            "         3    -1.38412698412698365    -3.25079365079365079    1e-05\n",
            "         4    -0.66172839506172787    0.72239858906525578    1e-05\n",
            "         5    -0.76680455347121956    -0.10507615840949175    1e-05\n",
            "         6    -0.75602751158306658    0.01077704188815300    1e-05\n",
            "         7    -0.75684861953644966    -0.00082110795338309    1e-05\n",
            "         8    -0.75680031906860357    0.00004830046784606    1e-05\n",
            "         9    -0.75680257873961387    -0.00000225967101034    1e-05\n",
            "n =  9\n",
            "x =  4\n",
            "sin_to_x ≈ ∑_{i=0}^9 (-1)^i (x^{2i+1})/((2i+1)! = -0.7568025787396139\n",
            "epsilon = 1e-05\n",
            "math.sin(x) =  -0.7568024953079282\n"
          ]
        }
      ]
    },
    {
      "cell_type": "code",
      "source": [
        "import math\n",
        "\n",
        "x = -4\n",
        "epsilon = 10**(-5)\n",
        "\n",
        "sin_to_x = 0\n",
        "\n",
        "delta = 1\n",
        "i = 0\n",
        "print(\"n\".rjust(10),\" \",\"∑_{i=0}^n (-1)^i (x^{2i+1})/((2i+1)!\".center(20),\" \",\" delta=(-1)^i (x^{2i+1})/((2i+1)!\".center(20),\" \",\"epsilon\".center(9))\n",
        "while  epsilon <= abs(delta):\n",
        "  delta = ((-1)**i)*((x**(2*i+1)) / math.factorial(2*i+1))\n",
        "  sin_to_x += delta\n",
        "  print(format(i, '10'),\"  \", format(sin_to_x, '.17f'),\"  \",format(delta, '.17f'),\"  \",\"{:.0e}\".format(epsilon)) \n",
        "  i = i+1\n",
        "\n",
        "print(\"n = \",i-1) \n",
        "print('x = ',x)\n",
        "print('sin_to_x ≈ ∑_{i=0}^'+str(i-1),'(-1)^i (x^{2i+1})/((2i+1)! =',sin_to_x)\n",
        "print(\"epsilon =\",\"{:.0e}\".format(epsilon))     \n",
        "print('math.sin(x) = ',math.sin(x))"
      ],
      "metadata": {
        "colab": {
          "base_uri": "https://localhost:8080/"
        },
        "id": "c3tgFlYc6sKn",
        "outputId": "d852a19e-4ec8-4b49-a86c-6721a3e2e458"
      },
      "execution_count": 7,
      "outputs": [
        {
          "output_type": "stream",
          "name": "stdout",
          "text": [
            "         n   ∑_{i=0}^n (-1)^i (x^{2i+1})/((2i+1)!    delta=(-1)^i (x^{2i+1})/((2i+1)!    epsilon \n",
            "         0    -4.00000000000000000    -4.00000000000000000    1e-05\n",
            "         1    6.66666666666666607    10.66666666666666607    1e-05\n",
            "         2    -1.86666666666666714    -8.53333333333333321    1e-05\n",
            "         3    1.38412698412698365    3.25079365079365079    1e-05\n",
            "         4    0.66172839506172787    -0.72239858906525578    1e-05\n",
            "         5    0.76680455347121956    0.10507615840949175    1e-05\n",
            "         6    0.75602751158306658    -0.01077704188815300    1e-05\n",
            "         7    0.75684861953644966    0.00082110795338309    1e-05\n",
            "         8    0.75680031906860357    -0.00004830046784606    1e-05\n",
            "         9    0.75680257873961387    0.00000225967101034    1e-05\n",
            "n =  9\n",
            "x =  -4\n",
            "sin_to_x ≈ ∑_{i=0}^9 (-1)^i (x^{2i+1})/((2i+1)! = 0.7568025787396139\n",
            "epsilon = 1e-05\n",
            "math.sin(x) =  0.7568024953079282\n"
          ]
        }
      ]
    },
    {
      "cell_type": "markdown",
      "source": [
        "# For  $x$ negative  and less than  $-9$ at the middle phase of the algorithm there are problems caused by rounding errors due to differences that produce wrong answers.\n",
        "\n",
        "https://stackoverflow.com/questions/69978341/error-of-taylor-series-ex-for-negative-x\n"
      ],
      "metadata": {
        "id": "fc0gbEw-iTQ8"
      }
    },
    {
      "cell_type": "code",
      "source": [
        "\n",
        "import math\n",
        "\n",
        "x = -9\n",
        "epsilon = 10**(-5)\n",
        "\n",
        "delta = 1\n",
        "sin_to_x = 0\n",
        "i = 0\n",
        "\n",
        "print(\"n\".rjust(10),\" \",\"∑_{i=0}^n (-1)^i (x^{2i+1})/((2i+1)!\".center(20),\" \",\" delta=(-1)^i (x^{2i+1})/((2i+1)!\".center(20),\" \",\"epsilon\".center(9))\n",
        "while  epsilon <= abs(delta):\n",
        "  delta =  ((-1)**i)*((x**(2*i+1)) / math.factorial(2*i+1))\n",
        "  sin_to_x += delta\n",
        "  print(format(i, '10'),\"  \", format(sin_to_x, '.17f'),\"  \",format( delta, '.17f'),\"  \",\"{:.0e}\".format(epsilon)) \n",
        "  i = i+1\n",
        "  \n",
        "print(\"n = \",i-1) \n",
        "print('x = ',x)\n",
        "print('sin_to_x ≈ ∑_{i=0}^'+str(i-1),'(-1)^i (x^{2i+1})/((2i+1)! =',sin_to_x)\n",
        "print(\"epsilon =\",\"{:.0e}\".format(epsilon))     \n",
        "print('math.sin(x) = ',math.sin(x))"
      ],
      "metadata": {
        "colab": {
          "base_uri": "https://localhost:8080/"
        },
        "id": "vldL9CPI7Fgn",
        "outputId": "8353f813-cf76-44be-d2e0-1654c0bb8ac5"
      },
      "execution_count": 8,
      "outputs": [
        {
          "output_type": "stream",
          "name": "stdout",
          "text": [
            "         n   ∑_{i=0}^n (-1)^i (x^{2i+1})/((2i+1)!    delta=(-1)^i (x^{2i+1})/((2i+1)!    epsilon \n",
            "         0    -9.00000000000000000    -9.00000000000000000    1e-05\n",
            "         1    112.50000000000000000    121.50000000000000000    1e-05\n",
            "         2    -379.57499999999998863    -492.07499999999998863    1e-05\n",
            "         3    569.42678571428564283    949.00178571428568830    1e-05\n",
            "         4    -498.20022321428587020    -1067.62700892857151302    1e-05\n",
            "         5    287.96148336038947946    786.16170657467534966    1e-05\n",
            "         6    -120.23786428415348837    -408.19934764454296783    1e-05\n",
            "         7    37.21045552159878866    157.44831980575227703    1e-05\n",
            "         8    -9.67672794996715169    -46.88718347156594035    1e-05\n",
            "         9    1.42813129329846511    11.10485924326561680    1e-05\n",
            "        10    -0.71352013218847521    -2.14165142548694032    1e-05\n",
            "        11    -0.37068660360262112    0.34283352858585409    1e-05\n",
            "        12    -0.41696912996171143    -0.04628252635909030    1e-05\n",
            "        13    -0.41162883845873949    0.00534029150297196    1e-05\n",
            "        14    -0.41216155226630197    -0.00053271380756247    1e-05\n",
            "        15    -0.41211515461209491    0.00004639765420705    1e-05\n",
            "        16    -0.41211871352307100    -0.00000355891097611    1e-05\n",
            "n =  16\n",
            "x =  -9\n",
            "sin_to_x ≈ ∑_{i=0}^16 (-1)^i (x^{2i+1})/((2i+1)! = -0.412118713523071\n",
            "epsilon = 1e-05\n",
            "math.sin(x) =  -0.4121184852417566\n"
          ]
        }
      ]
    },
    {
      "cell_type": "code",
      "source": [
        "\n",
        "import math\n",
        "\n",
        "x = -10\n",
        "epsilon = 10**(-5)\n",
        "\n",
        "delta = 1\n",
        "sin_to_x = 0\n",
        "i = 0\n",
        "\n",
        "print(\"n\".rjust(10),\" \",\"∑_{i=0}^n (-1)^i (x^{2i+1})/((2i+1)!\".center(20),\" \",\" delta=(-1)^i (x^{2i+1})/((2i+1)!\".center(20),\" \",\"epsilon\".center(9))\n",
        "while  epsilon <= abs(delta):\n",
        "  delta = ((-1)**i)*((x**(2*i+1)) / math.factorial(2*i+1))\n",
        "  sin_to_x += delta\n",
        "  print(format(i, '10'),\"  \", format(sin_to_x, '.17f'),\"  \",format(delta, '.17f'),\"  \",\"{:.0e}\".format(epsilon)) \n",
        "  i = i+1\n",
        "  \n",
        "print(\"n = \",i-1) \n",
        "print('x = ',x)\n",
        "print('sin_to_x ≈ ∑_{i=0}^'+str(i-1),'(-1)^i (x^{2i+1})/((2i+1)! =',sin_to_x)\n",
        "print(\"epsilon =\",\"{:.0e}\".format(epsilon))     \n",
        "print('math.sin(x) = ',math.sin(x))"
      ],
      "metadata": {
        "colab": {
          "base_uri": "https://localhost:8080/"
        },
        "id": "qu15auzpyJG4",
        "outputId": "624d891d-6b10-47d6-d0d2-16c499fea312"
      },
      "execution_count": 9,
      "outputs": [
        {
          "output_type": "stream",
          "name": "stdout",
          "text": [
            "         n   ∑_{i=0}^n (-1)^i (x^{2i+1})/((2i+1)!    delta=(-1)^i (x^{2i+1})/((2i+1)!    epsilon \n",
            "         0    -10.00000000000000000    -10.00000000000000000    1e-05\n",
            "         1    156.66666666666665719    166.66666666666665719    1e-05\n",
            "         2    -676.66666666666674246    -833.33333333333337123    1e-05\n",
            "         3    1307.46031746031735565    1984.12698412698409811    1e-05\n",
            "         4    -1448.27160493827182108    -2755.73192239858917674    1e-05\n",
            "         5    1056.93923360590019911    2505.21083854417202019    1e-05\n",
            "         6    -548.96515007626135230    -1605.90438368216155141    1e-05\n",
            "         7    215.75122310572032802    764.71637318198168032    1e-05\n",
            "         8    -65.39450232883172021    -281.14572543455204823    1e-05\n",
            "         9    16.81185013741158230    82.20635246624330250    1e-05\n",
            "        10    -2.76109092597967987    -19.57294106339126216    1e-05\n",
            "        11    1.10707924465100405    3.86817017063068391    1e-05\n",
            "        12    0.46238421621255665    -0.64469502843844739    1e-05\n",
            "        13    0.55422111485051206    0.09183689863795547    1e-05\n",
            "        14    0.54291115196406436    -0.01130996288644772    1e-05\n",
            "        15    0.54412727700561792    0.00121612504155352    1e-05\n",
            "        16    0.54401211364941016    -0.00011516335620772    1e-05\n",
            "        17    0.54402179124236882    0.00000967759295863    1e-05\n",
            "n =  17\n",
            "x =  -10\n",
            "sin_to_x ≈ ∑_{i=0}^17 (-1)^i (x^{2i+1})/((2i+1)! = 0.5440217912423688\n",
            "epsilon = 1e-05\n",
            "math.sin(x) =  0.5440211108893698\n"
          ]
        }
      ]
    },
    {
      "cell_type": "code",
      "source": [
        "\n",
        "import math\n",
        "\n",
        "x = -35\n",
        "epsilon = 10**(-5)\n",
        "\n",
        "delta = 1\n",
        "sin_to_x = 0\n",
        "i = 0\n",
        "\n",
        "print(\"n\".rjust(10),\" \",\"∑_{i=0}^n (-1)^i (x^{2i+1})/((2i+1)!\".center(20),\" \",\" delta =(-1)^i (x^{2i+1})/((2i+1)!\".center(20),\" \",\"epsilon\".center(9))\n",
        "while  epsilon <= abs(delta):\n",
        "  delta = ((-1)**i)*((x**(2*i+1)) / math.factorial(2*i+1))\n",
        "  sin_to_x += delta\n",
        "  print(format(i, '10'),\"  \", format(sin_to_x, '.17f'),\"  \",format( delta, '.17f'),\"  \",\"{:.0e}\".format(epsilon)) \n",
        "  i = i+1\n",
        "  \n",
        "print(\"n = \",i-1) \n",
        "print('x = ',x)\n",
        "print('sin_to_x ≈ ∑_{i=0}^'+str(i-1),'(-1)^i (x^{2i+1})/((2i+1)! =',sin_to_x)\n",
        "print(\"epsilon =\",\"{:.0e}\".format(epsilon))     \n",
        "print('math.sin(x) = ',math.sin(x))"
      ],
      "metadata": {
        "colab": {
          "base_uri": "https://localhost:8080/"
        },
        "id": "zotJ5A3NjCMf",
        "outputId": "9ef7821c-83d0-487f-b2ad-30e915984888"
      },
      "execution_count": 10,
      "outputs": [
        {
          "output_type": "stream",
          "name": "stdout",
          "text": [
            "         n   ∑_{i=0}^n (-1)^i (x^{2i+1})/((2i+1)!    delta =(-1)^i (x^{2i+1})/((2i+1)!    epsilon \n",
            "         0    -35.00000000000000000    -35.00000000000000000    1e-05\n",
            "         1    7110.83333333333303017    7145.83333333333303017    1e-05\n",
            "         2    -430571.45833333337213844    -437682.29166666668606922    1e-05\n",
            "         3    12335162.04861111007630825    12765733.50694444403052330    1e-05\n",
            "         4    -204859609.42370757460594177    -217194771.47231867909431458    1e-05\n",
            "         5    2213900345.60893249511718750    2418759955.03263998031616211    1e-05\n",
            "         6    -16779567249.99993896484375000    -18993467595.60887145996093750    1e-05\n",
            "         7    94015660391.05180358886718750    110795227641.05174255371093750    1e-05\n",
            "         8    -404970199389.42016601562500000    -498985859780.47198486328125000    1e-05\n",
            "         9    1382332953333.03076171875000000    1787303152722.45092773437500000    1e-05\n",
            "        10    -3830634575440.78466796875000000    -5212967528773.81542968750000000    1e-05\n",
            "        11    8789691951729.02343750000000000    12620326527169.80859375000000000    1e-05\n",
            "        12    -16976808041242.67187500000000000    -25766499992971.69531250000000000    1e-05\n",
            "        13    27986101490652.37500000000000000    44962909531895.04687500000000000    1e-05\n",
            "        14    -39845874096258.25781250000000000    -67831975586910.63281250000000000    1e-05\n",
            "        15    49502695897253.05468750000000000    89348569993511.31250000000000000    1e-05\n",
            "        16    -54145029710750.13281250000000000    -103647725608003.18750000000000000    1e-05\n",
            "        17    52551158415135.50781250000000000    106696188125885.64062500000000000    1e-05\n",
            "        18    -45574089673610.66406250000000000    -98125248088746.17187500000000000    1e-05\n",
            "        19    35534836715535.13281250000000000    81108926389145.79687500000000000    1e-05\n",
            "        20    -25049574764162.17968750000000000    -60584411479697.31250000000000000    1e-05\n",
            "        21    16044502789896.07812500000000000    41094077554058.25781250000000000    1e-05\n",
            "        22    -9379863373599.55859375000000000    -25424366163495.63671875000000000    1e-05\n",
            "        23    5025709498871.37304687500000000    14405572872470.93164062500000000    1e-05\n",
            "        24    -2477193038873.90429687500000000    -7502902537745.27734375000000000    1e-05\n",
            "        25    1127142493964.51318359375000000    3604335532838.41748046875000000    1e-05\n",
            "        26    -474929722191.89526367187500000    -1602072216156.40844726562500000    1e-05\n",
            "        27    185857639690.79846191406250000    660787361882.69372558593750000    1e-05\n",
            "        28    -67734001382.60372924804687500    -253591641073.40219116210937500    1e-05\n",
            "        29    23046174045.48443603515625000    90780175428.08816528320312500    1e-05\n",
            "        30    -7337901063.64343261718750000    -30384075109.12786865234375000    1e-05\n",
            "        31    2191154750.15114974975585938    9529055813.79458236694335938    1e-05\n",
            "        32    -614877310.40134143829345703    -2806032060.55249118804931641    1e-05\n",
            "        33    162460833.91724777221679688    777338144.31858921051025391    1e-05\n",
            "        34    -40488702.90932336449623108    -202949536.82657113671302795    1e-05\n",
            "        35    9534070.25215543806552887    50022773.16147880256175995    1e-05\n",
            "        36    -2124585.97364584356546402    -11658656.22580128163099289    1e-05\n",
            "        37    448721.03114813286811113    2573307.00479397643357515    1e-05\n",
            "        38    -89949.69353960140142590    -538670.72468773426953703    1e-05\n",
            "        39    17137.55698660349298734    107087.25052620489441324    1e-05\n",
            "        40    -3106.56058972382015781    -20244.11757632731314516    1e-05\n",
            "        41    537.14261788725207225    3643.70320761107223007    1e-05\n",
            "        42    -88.00254028131428186    -625.14515816856635411    1e-05\n",
            "        43    14.35014867304201402    102.35268895435629588    1e-05\n",
            "        44    -1.65879463251039283    -16.00894330555240685    1e-05\n",
            "        45    0.73570543455941184    2.39450006706980467    1e-05\n",
            "        46    0.39287437072578507    -0.34283106383362677    1e-05\n",
            "        47    0.43990326806018515    0.04702889733440009    1e-05\n",
            "        48    0.43371658429357862    -0.00618668376660654    1e-05\n",
            "        49    0.43449773123380669    0.00078114694022810    1e-05\n",
            "        50    0.43440298816432360    -0.00009474306948311    1e-05\n",
            "        51    0.43441403520983252    0.00001104704550893    1e-05\n",
            "        52    0.43441279595793247    -0.00000123925190004    1e-05\n",
            "n =  52\n",
            "x =  -35\n",
            "sin_to_x ≈ ∑_{i=0}^52 (-1)^i (x^{2i+1})/((2i+1)! = 0.4344127959579325\n",
            "epsilon = 1e-05\n",
            "math.sin(x) =  0.428182669496151\n"
          ]
        }
      ]
    },
    {
      "cell_type": "markdown",
      "source": [
        "#  Solution for $x$ negative  and less than  $-9$\n",
        "**Solution** for $e^{-x}$  calculate $e^{x}$ and return $1/e^{x}$\n",
        "\n",
        "$$e^{-x}  = 1/e^{x}  $$"
      ],
      "metadata": {
        "id": "9s4Rl_EojtvV"
      }
    },
    {
      "cell_type": "code",
      "source": [
        "# Returns Min n, |x^{n}/n!| < epsilon and ∑_{i=0}^{n} x^i/i!\n",
        "\n",
        "import math\n",
        "\n",
        "x = - 43\n",
        "epsilon = 10**(-5)\n",
        "\n",
        "xo = x\n",
        "\n",
        "if x < 0 :\n",
        "   x = - x\n",
        "\n",
        "delta = 1\n",
        "sin_to_x = 0\n",
        "i = 0\n",
        "\n",
        "print(\"n\".rjust(10),\" \",\"∑_{i=0}^n x^i/i!\".center(20),\" \",\"|x^n/n!|\".center(20),\" \",\"epsilon\".center(9))\n",
        "while  epsilon <= abs(delta):\n",
        "  delta = x**i/math.factorial(i) \n",
        "  sin_to_x += delta\n",
        "  print(format(i, '10'),\"  \", format(sin_to_x, '.17f'),\"  \",format( abs(delta), '.17f'),\"  \",\"{:.0e}\".format(epsilon)) \n",
        "  i = i+1\n",
        "\n",
        "if x != xo: \n",
        "  sin_to_x = 1 / sin_to_x\n",
        "  x = xo\n",
        "  \n",
        "print(\"n = \",i-1) \n",
        "print('x = ',x)\n",
        "print('e_to_x ≈ ∑_{i=0}^'+str(i-1),'x^i/i! =',sin_to_x)\n",
        "print(\"epsilon =\",\"{:.0e}\".format(epsilon))     \n",
        "print('math.exp(x) = ',math.sin(x))"
      ],
      "metadata": {
        "colab": {
          "base_uri": "https://localhost:8080/"
        },
        "id": "OqMQpI-2wSHE",
        "outputId": "634ffd2b-a721-4a0c-f4d6-4ec10c0112c1"
      },
      "execution_count": 11,
      "outputs": [
        {
          "output_type": "stream",
          "name": "stdout",
          "text": [
            "         n     ∑_{i=0}^n x^i/i!           |x^n/n!|          epsilon \n",
            "         0    1.00000000000000000    1.00000000000000000    1e-05\n",
            "         1    44.00000000000000000    43.00000000000000000    1e-05\n",
            "         2    968.50000000000000000    924.50000000000000000    1e-05\n",
            "         3    14219.66666666666606034    13251.16666666666606034    1e-05\n",
            "         4    156669.70833333331393078    142450.04166666665696539    1e-05\n",
            "         5    1381740.06666666665114462    1225070.35833333339542150    1e-05\n",
            "         6    10161410.96805555559694767    8779670.90138888917863369    1e-05\n",
            "         7    64093675.07658729702234268    53932264.10853174328804016    1e-05\n",
            "         8    353979594.65994542837142944    289885919.58335810899734497    1e-05\n",
            "         9    1738990099.33598995208740234    1385010504.67604446411132812    1e-05\n",
            "        10    7694535269.44298076629638672    5955545170.10699081420898438    1e-05\n",
            "        11    30975302752.58849334716796875    23280767483.14551162719726562    1e-05\n",
            "        12    114398052900.52658081054687500    83422750147.93807983398437500    1e-05\n",
            "        13    390334841851.39868164062500000    275936788950.87213134765625000    1e-05\n",
            "        14    1237854979343.36303710937500000    847520137491.96435546875000000    1e-05\n",
            "        15    3667412706820.32714843750000000    2429557727476.96435546875000000    1e-05\n",
            "        16    10196849099414.66796875000000000    6529436392594.34179687500000000    1e-05\n",
            "        17    26712482327741.53125000000000000    16515633228326.86523437500000000    1e-05\n",
            "        18    66166495039855.71093750000000000    39454012712114.17968750000000000    1e-05\n",
            "        19    155457155388324.62500000000000000    89290660348468.92187500000000000    1e-05\n",
            "        20    347432075137532.81250000000000000    191974919749208.18750000000000000    1e-05\n",
            "        21    740523577481149.50000000000000000    393091502343616.75000000000000000    1e-05\n",
            "        22    1508838786607309.50000000000000000    768315209126160.00000000000000000    1e-05\n",
            "        23    2945254177582304.50000000000000000    1436415390974995.00000000000000000    1e-05\n",
            "        24    5518831753079170.00000000000000000    2573577575496866.00000000000000000    1e-05\n",
            "        25    9945385182933780.00000000000000000    4426553429854609.00000000000000000    1e-05\n",
            "        26    17266223547693326.00000000000000000    7320838364759546.00000000000000000    1e-05\n",
            "        27    28925336498977048.00000000000000000    11659112951283722.00000000000000000    1e-05\n",
            "        28    46830402817019904.00000000000000000    17905066318042858.00000000000000000    1e-05\n",
            "        29    73379294254117936.00000000000000000    26548891437098032.00000000000000000    1e-05\n",
            "        30    111432705313958448.00000000000000000    38053411059840512.00000000000000000    1e-05\n",
            "        31    164216469042124320.00000000000000000    52783763728165872.00000000000000000    1e-05\n",
            "        32    235144651551847200.00000000000000000    70928182509722888.00000000000000000    1e-05\n",
            "        33    327566222700880064.00000000000000000    92421571149032848.00000000000000000    1e-05\n",
            "        34    444452327389362816.00000000000000000    116886104688482720.00000000000000000    1e-05\n",
            "        35    588055256006641664.00000000000000000    143602928617278784.00000000000000000    1e-05\n",
            "        36    759580976299502464.00000000000000000    171525720292860768.00000000000000000    1e-05\n",
            "        37    958921678261475840.00000000000000000    199340701961973312.00000000000000000    1e-05\n",
            "        38    1184491419955287808.00000000000000000    225569741693811904.00000000000000000    1e-05\n",
            "        39    1433196519771542016.00000000000000000    248705099816254176.00000000000000000    1e-05\n",
            "        40    1700554502074015232.00000000000000000    267357982302473216.00000000000000000    1e-05\n",
            "        41    1980954337171730944.00000000000000000    280399835097715808.00000000000000000    1e-05\n",
            "        42    2268030358819392512.00000000000000000    287076021647661440.00000000000000000    1e-05\n",
            "        43    2555106380467054080.00000000000000000    287076021647661440.00000000000000000    1e-05\n",
            "        44    2835657947077268480.00000000000000000    280551566610214592.00000000000000000    1e-05\n",
            "        45    3103740555171473408.00000000000000000    268082608094205056.00000000000000000    1e-05\n",
            "        46    3354339514911708672.00000000000000000    250598959740235168.00000000000000000    1e-05\n",
            "        47    3583610903610221568.00000000000000000    229271388698513024.00000000000000000    1e-05\n",
            "        48    3788999855985972736.00000000000000000    205388952375751232.00000000000000000    1e-05\n",
            "        49    3969239140723876864.00000000000000000    180239284737904160.00000000000000000    1e-05\n",
            "        50    4124244925598474240.00000000000000000    155005784874597568.00000000000000000    1e-05\n",
            "        51    4254936077551566336.00000000000000000    130691151953092064.00000000000000000    1e-05\n",
            "        52    4363007607051238400.00000000000000000    108071529499672288.00000000000000000    1e-05\n",
            "        53    4450688281928331264.00000000000000000    87680674877092608.00000000000000000    1e-05\n",
            "        54    4520508078589720064.00000000000000000    69819796661388560.00000000000000000    1e-05\n",
            "        55    4575094465070441984.00000000000000000    54586386480721968.00000000000000000    1e-05\n",
            "        56    4617009011832424448.00000000000000000    41914546761982936.00000000000000000    1e-05\n",
            "        57    4648628757635323904.00000000000000000    31619745802899408.00000000000000000    1e-05\n",
            "        58    4672070982971956224.00000000000000000    23442225336632320.00000000000000000    1e-05\n",
            "        59    4689155994657976320.00000000000000000    17085011686020166.00000000000000000    1e-05\n",
            "        60    4701400253032956928.00000000000000000    12244258374981118.00000000000000000    1e-05\n",
            "        61    4710031451559582720.00000000000000000    8631198526626035.00000000000000000    1e-05\n",
            "        62    4716017605376436224.00000000000000000    5986153816853540.00000000000000000    1e-05\n",
            "        63    4720103392902224896.00000000000000000    4085787525788924.00000000000000000    1e-05\n",
            "        64    4722848531396114432.00000000000000000    2745138493889433.50000000000000000    1e-05\n",
            "        65    4724664546092071936.00000000000000000    1816014695957625.25000000000000000    1e-05\n",
            "        66    4725847707181862912.00000000000000000    1183161089790574.00000000000000000    1e-05\n",
            "        67    4726607049373817856.00000000000000000    759342191955144.50000000000000000    1e-05\n",
            "        68    4727087221642260480.00000000000000000    480172268442223.75000000000000000    1e-05\n",
            "        69    4727386459432738816.00000000000000000    299237790478487.25000000000000000    1e-05\n",
            "        70    4727570276932603904.00000000000000000    183817499865356.46875000000000000    1e-05\n",
            "        71    4727681603024071680.00000000000000000    111326091467751.09375000000000000    1e-05\n",
            "        72    4727748089439809536.00000000000000000    66486415737684.67968750000000000    1e-05\n",
            "        73    4727787252670997504.00000000000000000    39163231187951.25000000000000000    1e-05\n",
            "        74    4727810009683715072.00000000000000000    22757012717323.02343750000000000    1e-05\n",
            "        75    4727823057037673472.00000000000000000    13047353957931.86718750000000000    1e-05\n",
            "        76    4727830439093201920.00000000000000000    7382055528829.87207031250000000    1e-05\n",
            "        77    4727834561539795968.00000000000000000    4122446594021.87646484375000000    1e-05\n",
            "        78    4727836834170610688.00000000000000000    2272630814653.08593750000000000    1e-05\n",
            "        79    4727838071172193280.00000000000000000    1237001582659.27465820312500000    1e-05\n",
            "        80    4727838736060544000.00000000000000000    664888350679.36010742187500000    1e-05\n",
            "        81    4727839089025965056.00000000000000000    352965420731.01831054687500000    1e-05\n",
            "        82    4727839274117587968.00000000000000000    185091623066.26568603515625000    1e-05\n",
            "        83    4727839370008428544.00000000000000000    95890840865.65573120117187500    1e-05\n",
            "        84    4727839419095406592.00000000000000000    49086978062.18090820312500000    1e-05\n",
            "        85    4727839443927642112.00000000000000000    24832235960.86798858642578125    1e-05\n",
            "        86    4727839456343759872.00000000000000000    12416117980.43399429321289062    1e-05\n",
            "        87    4727839462480461824.00000000000000000    6136701990.32944488525390625    1e-05\n",
            "        88    4727839465479077888.00000000000000000    2998615745.27461528778076172    1e-05\n",
            "        89    4727839466927847424.00000000000000000    1448769405.02031970024108887    1e-05\n",
            "        90    4727839467620037632.00000000000000000    692189826.84304165840148926    1e-05\n",
            "        91    4727839467947116544.00000000000000000    327078709.38737136125564575    1e-05\n",
            "        92    4727839468099990528.00000000000000000    152873744.60496702790260315    1e-05\n",
            "        93    4727839468170674176.00000000000000000    70683559.33347938954830170    1e-05\n",
            "        94    4727839468203008000.00000000000000000    32333968.63127248361706734    1e-05\n",
            "        95    4727839468217643008.00000000000000000    14635375.27520754560828209    1e-05\n",
            "        96    4727839468224198656.00000000000000000    6555428.50868671294301748    1e-05\n",
            "        97    4727839468227104768.00000000000000000    2906014.69972709938883781    1e-05\n",
            "        98    4727839468228379648.00000000000000000    1275088.08253331924788654    1e-05\n",
            "        99    4727839468228933632.00000000000000000    553826.13685790635645390    1e-05\n",
            "       100    4727839468229172224.00000000000000000    238145.23884889972396195    1e-05\n",
            "       101    4727839468229273600.00000000000000000    101388.56703468007617630    1e-05\n",
            "       102    4727839468229316608.00000000000000000    42742.23904403179767542    1e-05\n",
            "       103    4727839468229334016.00000000000000000    17843.84736789677117486    1e-05\n",
            "       104    4727839468229341184.00000000000000000    7377.74458480347220757    1e-05\n",
            "       105    4727839468229344256.00000000000000000    3021.36206806237441924    1e-05\n",
            "       106    4727839468229345280.00000000000000000    1225.64687666681220435    1e-05\n",
            "       107    4727839468229345280.00000000000000000    492.54967940815816974    1e-05\n",
            "       108    4727839468229345280.00000000000000000    196.10774272732223267    1e-05\n",
            "       109    4727839468229345280.00000000000000000    77.36360492912712061    1e-05\n",
            "       110    4727839468229345280.00000000000000000    30.24213647229514734    1e-05\n",
            "       111    4727839468229345280.00000000000000000    11.71542223701523788    1e-05\n",
            "       112    4727839468229345280.00000000000000000    4.49788532313977818    1e-05\n",
            "       113    4727839468229345280.00000000000000000    1.71158468048681844    1e-05\n",
            "       114    4727839468229345280.00000000000000000    0.64559773035906309    1e-05\n",
            "       115    4727839468229345280.00000000000000000    0.24139741222121489    1e-05\n",
            "       116    4727839468229345280.00000000000000000    0.08948352349579518    1e-05\n",
            "       117    4727839468229345280.00000000000000000    0.03288710692580506    1e-05\n",
            "       118    4727839468229345280.00000000000000000    0.01198428472720015    1e-05\n",
            "       119    4727839468229345280.00000000000000000    0.00433045582579501    1e-05\n",
            "       120    4727839468229345280.00000000000000000    0.00155174667090988    1e-05\n",
            "       121    4727839468229345280.00000000000000000    0.00055144716404235    1e-05\n",
            "       122    4727839468229345280.00000000000000000    0.00019436252503132    1e-05\n",
            "       123    4727839468229345280.00000000000000000    0.00006794787460445    1e-05\n",
            "       124    4727839468229345280.00000000000000000    0.00002356256941928    1e-05\n",
            "       125    4727839468229345280.00000000000000000    0.00000810552388023    1e-05\n",
            "n =  125\n",
            "x =  -43\n",
            "e_to_x ≈ ∑_{i=0}^125 x^i/i! = 2.115131037591081e-19\n",
            "epsilon = 1e-05\n",
            "math.exp(x) =  0.8317747426285983\n"
          ]
        }
      ]
    },
    {
      "cell_type": "markdown",
      "source": [
        "# Efficeincy \n",
        "Efficient \n",
        "\n",
        "https://stackoverflow.com/questions/69978341/error-of-taylor-series-ex-for-negative-x\n",
        "\n",
        "$$ \n",
        "\\begin{array}{lll}\n",
        "e^{ x}  & \\approx   &\\sum_{i=0}^{n} \\frac{x^i}{i!}  \\\\\n",
        "        & = & 1 + x + \\frac{x^2}{2!} + \\frac{x^3}{3!} +\\cdots+ \\frac{x^n}{n!}  \\\\\n",
        "       & = &1 + \\left[ 1  * \\frac{x}{1} \\right]  + \\left[  \\left( 1 *  \\frac{x}{1} \\right)  \\frac{x}{2} \\right]+ \\left[ \\left( 1 *  \\frac{x}{1} \\frac{x}{2} \\right) * \\frac{x}{3} \\right]+ \\left[  \\left(1 *  \\frac{x}{1} \\frac{x}{2}   \\frac{x}{3}\\right) * \\frac{x}{4}\\right]  +\\cdots+ \\left[  \\left(1 *  \\frac{x}{1}  \\frac{x}{2} \\cdots  \\frac{x}{n-1} \\right)* \\frac{x}{n} \\right] \\ \\ \\text{ efficient}\n",
        "\\end{array} \n",
        "$$\n",
        "\n",
        "\n",
        "\n",
        "Additions\n",
        "$$ n \\text{ additions } $$\n",
        "\n",
        "Multiplications\n",
        "$$ n \\text{ multiplications } $$\n",
        "\n",
        "Divisions\n",
        "$$ n \\text{ divsions }$$ \n",
        "\n",
        "TOTAL \n",
        "$$ 3n = \\Theta(n) \\text{ FLOPS }$$ "
      ],
      "metadata": {
        "id": "PBe8gYqRwB-Z"
      }
    },
    {
      "cell_type": "code",
      "source": [
        "\n",
        "import math\n",
        "import time\n",
        "\n",
        "start = time.time()\n",
        "\n",
        "x = 700\n",
        "epsilon = 10**(-20)\n",
        "\n",
        "xo = x\n",
        "\n",
        "if x < 0 :\n",
        "   x = - x\n",
        "\n",
        "\n",
        "delta = 1\n",
        "sin_to_x = 0\n",
        "i = 0\n",
        "\n",
        "while  epsilon <= abs(delta):\n",
        "  delta = ((-1)**i)*((x**(2*i+1)) / math.factorial(2*i+1))\n",
        "  sin_to_x += delta\n",
        "  i = i+1\n",
        "\n",
        "if x != xo: \n",
        "  sin_to_x = 1 / sin_to_x\n",
        "  x = xo\n",
        "\n",
        "end = time.time()\n",
        "\n",
        "print(\"n = \",i-1) \n",
        "print('x = ',x)\n",
        "print('sin_to_x ≈ ∑_{i=0}^'+str(i-1),'((-1)**i)*((x**(2*i+1)) / math.factorial(2*i+1)) =',sin_to_x)\n",
        "print(\"epsilon =\",\"{:.0e}\".format(epsilon))     \n",
        "print('math.sin(x) = ',math.sin(x))\n",
        "print('time = ',end - start)"
      ],
      "metadata": {
        "colab": {
          "base_uri": "https://localhost:8080/"
        },
        "id": "uqmD3vEUQO8S",
        "outputId": "6f87177b-aa3a-41bc-d718-03e55d4c504c"
      },
      "execution_count": 12,
      "outputs": [
        {
          "output_type": "stream",
          "name": "stdout",
          "text": [
            "n =  972\n",
            "x =  700\n",
            "sin_to_x ≈ ∑_{i=0}^972 ((-1)**i)*((x**(2*i+1)) / math.factorial(2*i+1)) = -2.1736710222832293e+286\n",
            "epsilon = 1e-20\n",
            "math.sin(x) =  0.5439705233633756\n",
            "time =  0.20797157287597656\n"
          ]
        }
      ]
    },
    {
      "cell_type": "code",
      "source": [
        "\n",
        "import time\n",
        "\n",
        "start = time.time()\n",
        "\n",
        "x = -700\n",
        "epsilon = 10**(-20)\n",
        "\n",
        "neg = False\n",
        "if x < 0 :\n",
        "  x = abs(x)\n",
        "  neg = True\n",
        "\n",
        "delta = 1\n",
        "e_to_x = 1\n",
        "i = 1\n",
        "\n",
        "while  epsilon <= abs(delta):\n",
        "  delta *= x/i \n",
        "  e_to_x += delta\n",
        "  i = i+1\n",
        "\n",
        "if x != xo: \n",
        "  e_to_x = 1 / e_to_x\n",
        "  x = xo\n",
        "\n",
        "end = time.time()\n",
        "\n",
        "print(\"n = \",i-1) \n",
        "print('x = ',x)\n",
        "print('e_to_x ≈ ∑_{i=0}^'+str(i-1),'x^i/i! =',e_to_x)\n",
        "print(\"epsilon =\",\"{:.0e}\".format(epsilon))     \n",
        "print('math.exp(x) = ',math.exp(x))\n",
        "print('time = ',end - start)"
      ],
      "metadata": {
        "colab": {
          "base_uri": "https://localhost:8080/"
        },
        "id": "4SidsY8ylmM7",
        "outputId": "c2117bca-f54b-49ec-cddf-7a38f28b103a"
      },
      "execution_count": 13,
      "outputs": [
        {
          "output_type": "stream",
          "name": "stdout",
          "text": [
            "n =  1944\n",
            "x =  700\n",
            "e_to_x ≈ ∑_{i=0}^1944 x^i/i! = 1.0142320547350058e+304\n",
            "epsilon = 1e-20\n",
            "math.exp(x) =  1.0142320547350045e+304\n",
            "time =  0.001828908920288086\n"
          ]
        }
      ]
    },
    {
      "cell_type": "markdown",
      "source": [
        "Inefficient\n",
        "\n",
        "$$ e^{ x} \\approx \\sum_{i=0}^{n} \\frac{x^i}{i!} =\\sum_{i=0}^{n} \\frac{x**i}{math.factorial(i)}$$\n",
        "\n",
        "Additions\n",
        "$$ n \\text{ additions } $$\n",
        "\n",
        "Multiplications\n",
        "\n",
        "* Powers - exponentiation by squaring\n",
        "$$ x^i = x**i$$\n",
        "\n",
        "<center>\n",
        "<a href=\"https://en.wikipedia.org/wiki/Exponentiation_by_squaring\">https://en.wikipedia.org/wiki/Exponentiation_by_squaring</a>\n",
        "</center>\n",
        "$$\\lg i \\text{ multiplications }$$\n",
        "<center>\n",
        "<a href=\"https://math.stackexchange.com/questions/228744/value-of-summation-of-logn\">https://math.stackexchange.com/questions/228744/value-of-summation-of-logn</a>\n",
        "</center>\n",
        "$$ \\sum_{i=1}^{n}\\lg i \\approx  n \\lg n$$ \n",
        "\n",
        "\n",
        "* Factorials\n",
        "$$math.factorial(i), $$\n",
        "$$  i-1 \\text{ mutiplications }  $$\n",
        "$$ \\sum_{i=1}^{n} i-1 = \\frac{n(n-1)}{2} =  \\frac{1}{2} n^2 - \\frac{1}{2} n\\text{ mutiplications}$$\n",
        "\n",
        "Divisions\n",
        "$$ n-1 \\text{ divsions }$$ \n",
        "\n",
        "TOTAL \n",
        "$$ \\frac{1}{2} n^2 + n \\lg n + \\frac{3}{2} n -1 = \\Theta(n^2) \\text{ FLOPS }$$ "
      ],
      "metadata": {
        "id": "WBlbS2V9Y-IZ"
      }
    },
    {
      "cell_type": "code",
      "source": [
        "# Returns Min n, |x^{n}/n!| < epsilon and ∑_{i=0}^{n} x^i/i!\n",
        "\n",
        "import math\n",
        "import time\n",
        "\n",
        "start = time.time()\n",
        "\n",
        "x = 700\n",
        "epsilon = 10**(-20)\n",
        "\n",
        "xo = x\n",
        "\n",
        "if x < 0 :\n",
        "   x = - x\n",
        "\n",
        "delta = 1\n",
        "e_to_x = 0\n",
        "i = 0\n",
        "while  epsilon <= abs(delta):\n",
        "  delta = x**i/math.factorial(i) \n",
        "  e_to_x += delta\n",
        "  i = i+1\n",
        "\n",
        "if x != xo: \n",
        "  e_to_x = 1 / e_to_x\n",
        "  x = xo\n",
        "\n",
        "end = time.time()\n",
        "\n",
        "print(\"n = \",i-1) \n",
        "print('x = ',x)\n",
        "print('e_to_x ≈ ∑_{i=0}^'+str(i-1),'x^i/i! =',e_to_x)\n",
        "print(\"epsilon =\",\"{:.0e}\".format(epsilon))     \n",
        "print('math.exp(x) = ',math.exp(x))\n",
        "print('time = ',end - start)"
      ],
      "metadata": {
        "colab": {
          "base_uri": "https://localhost:8080/"
        },
        "id": "_w6F5Vv6P1TA",
        "outputId": "be664961-fb57-4aae-c59d-12c140699174"
      },
      "execution_count": 14,
      "outputs": [
        {
          "output_type": "stream",
          "name": "stdout",
          "text": [
            "n =  1944\n",
            "x =  700\n",
            "e_to_x ≈ ∑_{i=0}^1944 x^i/i! = 1.0142320547350051e+304\n",
            "epsilon = 1e-20\n",
            "math.exp(x) =  1.0142320547350045e+304\n",
            "time =  0.41715216636657715\n"
          ]
        }
      ]
    },
    {
      "cell_type": "markdown",
      "source": [
        "Inefficient\n",
        "\n",
        "$$ e^{ x} \\approx \\sum_{i=0}^{n} \\frac{x^i}{i!} =  \\sum_{i=1}^{n} \\frac{\\overset{i\\ times}{x*x*\\cdots*x}}{1*2*\\cdots*i}$$\n",
        "\n",
        "> Indented block\n",
        "\n",
        "\n",
        "\n",
        "Additions\n",
        "$$ n \\text{ additions } $$\n",
        "\n",
        "Multiplications\n",
        "\n",
        "* Powers\n",
        "$$ \\overset{i\\ times}{x*x*\\cdots*x}$$\n",
        "$$i-1 \\text{ multiplications }$$\n",
        "$$ \\sum_{i=1}^{n}\\ i-1 = \\frac{n(n-1)}{2} = \\frac{1}{2} n^2 - \\frac{1}{2} n\\text{ mutiplications}$$\n",
        "\n",
        "* Factorials\n",
        "$$1*2*\\cdots*i$$\n",
        "$$  i-1 \\text{ mutiplications }  $$\n",
        "$$ \\sum_{i=1}^{n} i-1 = \\frac{n(n-1)}{2} = \\frac{1}{2} n^2 - \\frac{1}{2} n\\text{ mutiplications}$$\n",
        "\n",
        "Divisions\n",
        "$$ n-1 \\text{ divsions }$$ \n",
        "\n",
        "TOTAL \n",
        "$$ n^2  + n -1  = \\Theta(n^2) \\text{ FLOPS }$$ "
      ],
      "metadata": {
        "id": "WIOnwq-sTfVa"
      }
    },
    {
      "cell_type": "code",
      "source": [
        "# Returns Min n, |x^{n}/n!| < epsilon and ∑_{i=0}^{n} x^i/i!\n",
        "\n",
        "import time\n",
        "\n",
        "start = time.time()\n",
        "\n",
        "x = 700\n",
        "epsilon = 10**(-20)\n",
        "\n",
        "xo = x\n",
        "\n",
        "if x < 0 :\n",
        "   x = - x\n",
        "\n",
        "delta = 1\n",
        "e_to_x = 1\n",
        "i = 1\n",
        "while  epsilon <= abs(delta):\n",
        "  \n",
        "  x_to_i = 1\n",
        "  fact_of_i = 1\n",
        "  for k in range(1,i+1):\n",
        "      x_to_i *= x\n",
        "      fact_of_i *= k\n",
        "\n",
        "  delta = x_to_i/fact_of_i \n",
        "  e_to_x += delta\n",
        "  i = i+1\n",
        "\n",
        "if x != xo: \n",
        "  e_to_x = 1 / e_to_x\n",
        "  x = xo\n",
        "\n",
        "end = time.time()\n",
        "\n",
        "print(\"n = \",i-1) \n",
        "print('x = ',x)\n",
        "print('e_to_x ≈ ∑_{i=0}^'+str(i-1),'x^i/i! =',e_to_x)\n",
        "print(\"epsilon =\",\"{:.0e}\".format(epsilon))     \n",
        "print('math.exp(x) = ',math.exp(x))\n",
        "print('time = ',end - start)"
      ],
      "metadata": {
        "colab": {
          "base_uri": "https://localhost:8080/"
        },
        "id": "plhAy584UrUw",
        "outputId": "4f066ddc-f9d1-475b-eeb0-ed7d5f3fec5a"
      },
      "execution_count": 15,
      "outputs": [
        {
          "output_type": "stream",
          "name": "stdout",
          "text": [
            "n =  1944\n",
            "x =  700\n",
            "e_to_x ≈ ∑_{i=0}^1944 x^i/i! = 1.0142320547350051e+304\n",
            "epsilon = 1e-20\n",
            "math.exp(x) =  1.0142320547350045e+304\n",
            "time =  3.04499888420105\n"
          ]
        }
      ]
    },
    {
      "cell_type": "markdown",
      "metadata": {
        "id": "TxhZ8nnZpvbt"
      },
      "source": [
        "# Error using the Lagrange's formula of the Residual $E_n$\n",
        "\n",
        "* Form: Numerical Analysis Mathematics of Scientific Computing David Kincaid and Ward Cheney and Error estimates in Taylor approximations https://math.dartmouth.edu/~m8s17/ErrorEstimates.pdf\n",
        "\n",
        "## Lagrange's formula of the Residual\n",
        "For the Taylor series for $f(x)$\n",
        "\n",
        "$$ E_n = \\frac{f^{(n+1)}(\\xi)}{(n+1)!}(x-c)^{(n+1)} \\text{ for }  \\xi \\text{ between } c \\text{ and } x $$\n",
        "\n",
        "If you can find a positive real number $M$such that \n",
        "$$\\left|f^{(n+1)}(\\xi)\\right|  \\le M \\text{ for }  \\xi \\text{ between } c \\text{ and } x $$ for all\n",
        " then Lagrange’s formula tells you\n",
        "that\n",
        "$$ \\left| E_n \\right| \\le  \\frac{M}{(n+1)!}\n",
        "\\left|x − c\\right|^{(n+1)} $$\n",
        "\n",
        "For the Taylor series for $f(x) = e^x$ about $c=0$ (Maclaurin) \n",
        "\n",
        "* If $x \\ge 0$ then $f(n+1)(ξ)= e^ξ < e^x$ for any $0 \\le \\xi \\le x$ then \n",
        "\n",
        "$$ \\left|E_n \\right| =  \\left|\\frac{f^{(n+1)}(\\xi)}{(n+1)!}(x-c)^{(n+1)} \\right| = \\left|\\frac{e^\\xi}{(n+1)!}x^{(n+1)} \\right| \\le \\left| \\frac{e^x}{(n+1)!}x^{(n+1)} \\right| $$\n",
        "\n",
        "\n",
        "\n"
      ]
    },
    {
      "cell_type": "markdown",
      "source": [
        "<center>\n",
        "<img src = \"https://raw.githubusercontent.com/gjhernandezp/NM/main/Taylor%20Series/e_to_epsilon.png\" alt = \"e_to_minus_epsilon.png]\">  </img>\n",
        "</center>"
      ],
      "metadata": {
        "id": "jH_Sb6MJ-ouX"
      }
    },
    {
      "cell_type": "markdown",
      "source": [
        "* If $x \\le 0$ then $f(n+1)(ξ)= e^ξ < e^0  = 1$ for any $x \\le \\xi < 0$ then \n",
        "\n",
        "$$ \\left|E_n =\\right| = \\left|\\frac{f^{(n+1)}(\\xi)}{(n+1)!}(x-c)^{(n+1)} \\right| = \\left|\\frac{e^\\xi}{(n+1)!}x^{(n+1)} \\right| \\le  \\left|\\frac{1}{(n+1)!}x^{(n+1)}\\right| $$"
      ],
      "metadata": {
        "id": "q5c6Do4u4-PM"
      }
    },
    {
      "cell_type": "markdown",
      "source": [
        "<center>\n",
        "<img src = \"https://raw.githubusercontent.com/gjhernandezp/NM/main/Taylor%20Series/e_to_minus_epsilon.png\" alt = \"e_to_minus_epsilon.png]\">  </img>\n",
        "</center>\n",
        "\n"
      ],
      "metadata": {
        "id": "xREpo166-2I0"
      }
    },
    {
      "cell_type": "markdown",
      "metadata": {
        "id": "y1fLchcRq-mT"
      },
      "source": [
        "# What is the minimun $n$ for which the error using absolute value of the Lagrange's formula of the Residual $|E_n|$, of the Taylor series for $e^x$ about $0$ (Maclaurin  series), is less than  $\\epsilon$.\n",
        "\n",
        "$$ \\min_{n \\in \\mathbb{N}}|E_n|  < \\epsilon $$\n",
        "\n",
        "this is\n",
        "\n",
        "$$\\min_{n \\in \\mathbb{N}}\\left\\{ \\left|\\frac{e^x}{(n+1)!}x^{(n+1)} \\right| \\right\\} < \\epsilon \\text{ if }  x \\ge 0$$\n",
        "\n",
        "and\n",
        "\n",
        "$$\\min_{n \\in \\mathbb{N}}\\left\\{  \\left|\\frac{1}{(n+1)!}x^{(n+1)} \\right| \\right\\} < \\epsilon \\text{ if }  x < 0$$\n",
        " "
      ]
    },
    {
      "cell_type": "code",
      "metadata": {
        "colab": {
          "base_uri": "https://localhost:8080/"
        },
        "id": "hBLCJ5mUqu4T",
        "outputId": "71dbad56-9fe1-4c7c-ea9c-c637c951641c"
      },
      "source": [
        "import math\n",
        "\n",
        "x = 1\n",
        "epsilon = 10**(-12)\n",
        "sin_of_x = 0\n",
        "i = 0\n",
        "error = (math.sin(x+(((i+1)*math.pi)/2))/math.factorial(i+1))*x**(i+1)\n",
        "print(\"n\".rjust(10),\" \",\"∑_{i=1}^n  ((-1)^i) * (x^(2i+1) / (2i+1)!\".center(21),\" \",\"error=((-1)^i) * (x^(2i+1) / (2i+1)!\".center(20),\" \",\"epsilon\".center(20))\n",
        "while  epsilon <= abs(error):\n",
        "  sin_of_x +=  ((-1)**i)*((x**(2*i+1)) / math.factorial(2*i+1)) \n",
        "  error = (math.sin(x+(((i+1)*math.pi)/2))/math.factorial(i+1))*x**(i+1)\n",
        "  \n",
        "  print(format(i, '10'),\"  \", format(sin_of_x, '.17f'),\"                      \",format(error, '.17f'),\"                     \",format(epsilon, '.17f')) \n",
        "  i = i+1\n",
        "print(\"n = \",i-1) \n",
        "print('x = ',x)\n",
        "print('sin_of_x ≈ ∑_{i=1}^'+str(i-1),'((-1)^i) * (x^(2i+1) / (2i+1)! =',sin_of_x)    \n",
        "print('math.sin(x) = ',math.sin(x))"
      ],
      "execution_count": 16,
      "outputs": [
        {
          "output_type": "stream",
          "name": "stdout",
          "text": [
            "         n   ∑_{i=1}^n  ((-1)^i) * (x^(2i+1) / (2i+1)!   error=((-1)^i) * (x^(2i+1) / (2i+1)!         epsilon       \n",
            "         0    1.00000000000000000                        0.54030230586813977                       0.00000000000100000\n",
            "         1    0.83333333333333337                        -0.42073549240394820                       0.00000000000100000\n",
            "         2    0.84166666666666667                        -0.09005038431135665                       0.00000000000100000\n",
            "         3    0.84146825396825398                        0.03506129103366235                       0.00000000000100000\n",
            "         4    0.84147100970017641                        0.00450251921556783                       0.00000000000100000\n",
            "         5    0.84147098464806802                        -0.00116870970112208                       0.00000000000100000\n",
            "         6    0.84147098480865845                        -0.00010720283846590                       0.00000000000100000\n",
            "         7    0.84147098480789373                        0.00002086981609147                       0.00000000000100000\n",
            "         8    0.84147098480789650                        0.00000148892831203                       0.00000000000100000\n",
            "         9    0.84147098480789650                        -0.00000023188684546                       0.00000000000100000\n",
            "        10    0.84147098480789650                        -0.00000001353571193                       0.00000000000100000\n",
            "        11    0.84147098480789650                        0.00000000175671853                       0.00000000000100000\n",
            "        12    0.84147098480789650                        0.00000000008676738                       0.00000000000100000\n",
            "        13    0.84147098480789650                        -0.00000000000965230                       0.00000000000100000\n",
            "        14    0.84147098480789650                        -0.00000000000041318                       0.00000000000100000\n",
            "n =  14\n",
            "x =  1\n",
            "sin_of_x ≈ ∑_{i=1}^14 ((-1)^i) * (x^(2i+1) / (2i+1)! = 0.8414709848078965\n",
            "math.sin(x) =  0.8414709848078965\n"
          ]
        }
      ]
    },
    {
      "cell_type": "code",
      "source": [
        "# Returns Min n, |Lagrange Residual| < epsilon and ∑_{i=0}^{n} x^i/i!\n",
        "\n",
        "import math\n",
        "\n",
        "x = -4\n",
        "epsilon = 10**(-12)\n",
        "sin_of_x = 0\n",
        "i = 0\n",
        "error = (math.sin(x+(((i+1)*math.pi)/2))/math.factorial(i+1))*x**(i+1)\n",
        "print(\"n\".rjust(10),\" \",\"∑_{i=1}^n  ((-1)^i) * (x^(2i+1) / (2i+1)!\".center(21),\" \",\"error=((-1)^i) * (x^(2i+1) / (2i+1)!\".center(20),\" \",\"epsilon\".center(20))\n",
        "while  epsilon <= abs(error):\n",
        "  sin_of_x +=  ((-1)**i)*((x**(2*i+1)) / math.factorial(2*i+1)) \n",
        "  error = (math.sin(x+(((i+1)*math.pi)/2))/math.factorial(i+1))*x**(i+1)\n",
        "  \n",
        "  print(format(i, '10'),\"  \", format(sin_of_x, '.17f'),\"                      \",format(error, '.17f'),\"                     \",format(epsilon, '.17f')) \n",
        "  i = i+1\n",
        "print(\"n = \",i-1) \n",
        "print('x = ',x)\n",
        "print('sin_of_x ≈ ∑_{i=1}^'+str(i-1),'((-1)^i) * (x^(2i+1) / (2i+1)! =',sin_of_x)    \n",
        "print('math.sin(x) = ',math.sin(x))"
      ],
      "metadata": {
        "colab": {
          "base_uri": "https://localhost:8080/"
        },
        "id": "EzCCSnD15R0X",
        "outputId": "c0492837-3c45-4cc4-e66f-db15d9ee22a4"
      },
      "execution_count": 17,
      "outputs": [
        {
          "output_type": "stream",
          "name": "stdout",
          "text": [
            "         n   ∑_{i=1}^n  ((-1)^i) * (x^(2i+1) / (2i+1)!   error=((-1)^i) * (x^(2i+1) / (2i+1)!         epsilon       \n",
            "         0    -4.00000000000000000                        2.61457448345444732                       0.00000000000100000\n",
            "         1    6.66666666666666607                        -6.05441996246342651                       0.00000000000100000\n",
            "         2    -1.86666666666666714                        -6.97219862254519285                       0.00000000000100000\n",
            "         3    1.38412698412698365                        8.07255994995123594                       0.00000000000100000\n",
            "         4    0.66172839506172787                        5.57775889803615321                       0.00000000000100000\n",
            "         5    0.76680455347121956                        -4.30536530664066053                       0.00000000000100000\n",
            "         6    0.75602751158306658                        -2.12486053258520080                       0.00000000000100000\n",
            "         7    0.75684861953644966                        1.23010437332590294                       0.00000000000100000\n",
            "         8    0.75680031906860357                        0.47219122946337788                       0.00000000000100000\n",
            "         9    0.75680257873961387                        -0.21868522192460499                       0.00000000000100000\n",
            "        10    0.75680249265690869                        -0.06868236064921845                       0.00000000000100000\n",
            "        11    0.75680249537889144                        0.02650729962722485                       0.00000000000100000\n",
            "        12    0.75680249530630528                        0.00704434468197115                       0.00000000000100000\n",
            "        13    0.75680249530795962                        -0.00233031205514065                       0.00000000000100000\n",
            "        14    0.75680249530792698                        -0.00053671197576923                       0.00000000000100000\n",
            "        15    0.75680249530792754                        0.00015535413700938                       0.00000000000100000\n",
            "        16    0.75680249530792754                        0.00003157129269231                       0.00000000000100000\n",
            "        17    0.75680249530792754                        -0.00000812309213121                       0.00000000000100000\n",
            "        18    0.75680249530792754                        -0.00000147701954116                       0.00000000000100000\n",
            "        19    0.75680249530792754                        0.00000034202493184                       0.00000000000100000\n",
            "        20    0.75680249530792754                        0.00000005626741109                       0.00000000000100000\n",
            "        21    0.75680249530792754                        -0.00000001184501928                       0.00000000000100000\n",
            "        22    0.75680249530792754                        -0.00000000177920667                       0.00000000000100000\n",
            "        23    0.75680249530792754                        0.00000000034333389                       0.00000000000100000\n",
            "        24    0.75680249530792754                        0.00000000004744551                       0.00000000000100000\n",
            "        25    0.75680249530792754                        -0.00000000000845130                       0.00000000000100000\n",
            "        26    0.75680249530792754                        -0.00000000000108138                       0.00000000000100000\n",
            "        27    0.75680249530792754                        0.00000000000017886                       0.00000000000100000\n",
            "n =  27\n",
            "x =  -4\n",
            "sin_of_x ≈ ∑_{i=1}^27 ((-1)^i) * (x^(2i+1) / (2i+1)! = 0.7568024953079275\n",
            "math.sin(x) =  0.7568024953079282\n"
          ]
        }
      ]
    },
    {
      "cell_type": "markdown",
      "source": [
        "#  Sympy\n",
        "\n",
        "Taylor Series Expansion with Python from Data Science Fabric\n",
        "\n",
        "https://dsfabric.org/taylor-series-expansion-with-python"
      ],
      "metadata": {
        "id": "cx2-LoLzahoa"
      }
    },
    {
      "cell_type": "code",
      "source": [
        "from sympy import series, Symbol, pi, E, N\n",
        "from sympy.functions import sin\n",
        "from sympy.functions import exp\n",
        "from sympy.plotting import plot\n",
        "import matplotlib.pyplot as plt"
      ],
      "metadata": {
        "id": "hGQPpZ8gaVWN"
      },
      "execution_count": 18,
      "outputs": []
    },
    {
      "cell_type": "code",
      "source": [
        "# Define symbol\n",
        "x = Symbol('x')"
      ],
      "metadata": {
        "id": "qiHCCJ3napkY"
      },
      "execution_count": 19,
      "outputs": []
    },
    {
      "cell_type": "code",
      "source": [
        "# Function for Taylor Series Expansion\n",
        "\n",
        "def taylor(function, x0, n):\n",
        "    \"\"\"\n",
        "    Parameter \"function\" is our function which we want to approximate\n",
        "    \"x0\" is the point where to approximate\n",
        "    \"n\" is the order of approximation\n",
        "    \"\"\"\n",
        "    return function.series(x,x0,n)"
      ],
      "metadata": {
        "id": "z9fkRjbJatry"
      },
      "execution_count": 20,
      "outputs": []
    },
    {
      "cell_type": "code",
      "source": [
        "print('sin(x)  ≅')\n",
        "taylor(sin(x), 0, 7)"
      ],
      "metadata": {
        "colab": {
          "base_uri": "https://localhost:8080/",
          "height": 72
        },
        "id": "bEtq3o7Waym6",
        "outputId": "3d3e8f39-9001-4bcb-9878-0ceeaac0ca9a"
      },
      "execution_count": 55,
      "outputs": [
        {
          "output_type": "stream",
          "name": "stdout",
          "text": [
            "sin(x)  ≅\n"
          ]
        },
        {
          "output_type": "execute_result",
          "data": {
            "text/plain": [
              "x**5/120 - x**3/6 + x"
            ],
            "text/latex": "$\\displaystyle \\frac{x^{5}}{120} - \\frac{x^{3}}{6} + x$"
          },
          "metadata": {},
          "execution_count": 55
        }
      ]
    },
    {
      "cell_type": "code",
      "source": [
        "print('sin(x) ≅', taylor(sin(x), 0, 7))"
      ],
      "metadata": {
        "colab": {
          "base_uri": "https://localhost:8080/"
        },
        "id": "VU2Q0vuYa_xQ",
        "outputId": "eca522bf-2cc5-4009-f879-d248918f0089"
      },
      "execution_count": 56,
      "outputs": [
        {
          "output_type": "stream",
          "name": "stdout",
          "text": [
            "sin(x) ≅ x**5/120 - x**3/6 + x\n"
          ]
        }
      ]
    },
    {
      "cell_type": "code",
      "source": [
        "print('sin(x) ≅ at around 1')\n",
        "taylor(sin(x), 1, 7)"
      ],
      "metadata": {
        "colab": {
          "base_uri": "https://localhost:8080/",
          "height": 74
        },
        "id": "iX0DNQdrbtdY",
        "outputId": "4f452a68-cdee-4548-ffae-0f958a38d1e0"
      },
      "execution_count": 58,
      "outputs": [
        {
          "output_type": "stream",
          "name": "stdout",
          "text": [
            "sin(x) ≅ at around 1\n"
          ]
        },
        {
          "output_type": "execute_result",
          "data": {
            "text/plain": [
              "-(x - 1)**6*sin(1)/720 + (x - 1)**5*cos(1)/120 + (x - 1)**4*sin(1)/24 - (x - 1)**3*cos(1)/6 - (x - 1)**2*sin(1)/2 + (x - 1)*cos(1) + sin(1)"
            ],
            "text/latex": "$\\displaystyle - \\frac{\\left(x - 1\\right)^{6} \\sin{\\left(1 \\right)}}{720} + \\frac{\\left(x - 1\\right)^{5} \\cos{\\left(1 \\right)}}{120} + \\frac{\\left(x - 1\\right)^{4} \\sin{\\left(1 \\right)}}{24} - \\frac{\\left(x - 1\\right)^{3} \\cos{\\left(1 \\right)}}{6} - \\frac{\\left(x - 1\\right)^{2} \\sin{\\left(1 \\right)}}{2} + \\left(x - 1\\right) \\cos{\\left(1 \\right)} + \\sin{\\left(1 \\right)}$"
          },
          "metadata": {},
          "execution_count": 58
        }
      ]
    },
    {
      "cell_type": "code",
      "source": [
        "print('sin(1) =', taylor(sin(x), 0, 3).subs(x,1))"
      ],
      "metadata": {
        "colab": {
          "base_uri": "https://localhost:8080/"
        },
        "id": "0sfHK6K4b7KQ",
        "outputId": "53aa3ac0-b424-4968-c324-1a6eb8575eb6"
      },
      "execution_count": 46,
      "outputs": [
        {
          "output_type": "stream",
          "name": "stdout",
          "text": [
            "sin(1) = 1\n"
          ]
        }
      ]
    },
    {
      "cell_type": "code",
      "source": [
        "print('sin(1) =', N(taylor(sin(x), 0, 3).subs(x,1)))"
      ],
      "metadata": {
        "colab": {
          "base_uri": "https://localhost:8080/"
        },
        "id": "t64ikINpcL-v",
        "outputId": "ed7258f9-de63-4d93-dfa8-3330a39b5587"
      },
      "execution_count": 47,
      "outputs": [
        {
          "output_type": "stream",
          "name": "stdout",
          "text": [
            "sin(1) = 1.00000000000000\n"
          ]
        }
      ]
    },
    {
      "cell_type": "code",
      "source": [
        "print('Taylor 0 sin(x) ≅', taylor(sin(x), 0, 0))\n",
        "print('Taylor 1 sin(x) ≅', taylor(sin(x), 0, 1))\n",
        "print('Taylor 2 sin(x) ≅', taylor(sin(x), 0, 2))\n",
        "print('Taylor 3 sin(x) ≅', taylor(sin(x), 0, 3))\n",
        "print('Taylor 4 sin(x) ≅', taylor(sin(x), 0, 4))\n",
        "print('Taylor 5 sin(x) ≅', taylor(sin(x), 0, 5))\n",
        "print('Taylor 6 sin(x) ≅', taylor(sin(x), 0, 6))\n",
        "print('Taylor 7 sin(x) ≅', taylor(sin(x), 0, 7))"
      ],
      "metadata": {
        "colab": {
          "base_uri": "https://localhost:8080/"
        },
        "id": "ytUFqliacVnQ",
        "outputId": "a67a3b90-9fc0-40eb-ca8a-6402147feed0"
      },
      "execution_count": 54,
      "outputs": [
        {
          "output_type": "stream",
          "name": "stdout",
          "text": [
            "Taylor 0 sin(x) ≅ 0\n",
            "Taylor 1 sin(x) ≅ 0\n",
            "Taylor 2 sin(x) ≅ x\n",
            "Taylor 3 sin(x) ≅ x\n",
            "Taylor 4 sin(x) ≅ -x**3/6 + x\n",
            "Taylor 5 sin(x) ≅ -x**3/6 + x\n",
            "Taylor 6 sin(x) ≅ x**5/120 - x**3/6 + x\n",
            "Taylor 7 sin(x) ≅ x**5/120 - x**3/6 + x\n"
          ]
        }
      ]
    },
    {
      "cell_type": "code",
      "source": [
        "print('Taylor 0 sin(x) ≅', taylor(sin(x), 0, 0).subs(x,1))\n",
        "print('Taylor 1 sin(x) ≅', taylor(sin(x), 0, 1).subs(x,1))\n",
        "print('Taylor 2 sin(x) ≅', taylor(sin(x), 0, 2).subs(x,1))\n",
        "print('Taylor 3 sin(x) ≅', taylor(sin(x), 0, 3).subs(x,1))\n",
        "print('Taylor 4 sin(x) ≅', taylor(sin(x), 0, 4).subs(x,1))\n",
        "print('Taylor 5 sin(x) ≅', taylor(sin(x), 0, 5).subs(x,1))\n",
        "print('Taylor 6 sin(x) ≅', taylor(sin(x), 0, 6).subs(x,1))\n",
        "print('Taylor 7 sin(x) ≅', taylor(sin(x), 0, 7).subs(x,1))"
      ],
      "metadata": {
        "colab": {
          "base_uri": "https://localhost:8080/"
        },
        "id": "iGvi9RgacapA",
        "outputId": "f6007a2d-fd05-45f9-c41b-85420f3287e4"
      },
      "execution_count": 53,
      "outputs": [
        {
          "output_type": "stream",
          "name": "stdout",
          "text": [
            "Taylor 0 sin(x) ≅ 0\n",
            "Taylor 1 sin(x) ≅ 0\n",
            "Taylor 2 sin(x) ≅ 1\n",
            "Taylor 3 sin(x) ≅ 1\n",
            "Taylor 4 sin(x) ≅ 5/6\n",
            "Taylor 5 sin(x) ≅ 5/6\n",
            "Taylor 6 sin(x) ≅ 101/120\n",
            "Taylor 7 sin(x) ≅ 101/120\n"
          ]
        }
      ]
    },
    {
      "cell_type": "code",
      "source": [
        "print('Taylor 0 sin(x) ≅', N(taylor(sin(x), 0, 0).subs(x,1)))\n",
        "print('Taylor 1 sin(x) ≅', N(taylor(sin(x), 0, 1).subs(x,1)))\n",
        "print('Taylor 2 sin(x) ≅', N(taylor(sin(x), 0, 2).subs(x,1)))\n",
        "print('Taylor 3 sin(x) ≅', N(taylor(sin(x), 0, 3).subs(x,1)))\n",
        "print('Taylor 4 sin(x) ≅', N(taylor(sin(x), 0, 4).subs(x,1)))\n",
        "print('Taylor 5 sin(x) ≅', N(taylor(sin(x), 0, 5).subs(x,1)))\n",
        "print('Taylor 6 sin(x) ≅', N(taylor(sin(x), 0, 6).subs(x,1)))\n",
        "print('Taylor 7 sin(x) ≅', N(taylor(sin(x), 0, 7).subs(x,1)))"
      ],
      "metadata": {
        "colab": {
          "base_uri": "https://localhost:8080/"
        },
        "id": "N_VVBah_crmQ",
        "outputId": "76cd8098-d564-4825-96ce-01a50b7f4398"
      },
      "execution_count": 50,
      "outputs": [
        {
          "output_type": "stream",
          "name": "stdout",
          "text": [
            "Taylor 0 sin(x) ≅ 0\n",
            "Taylor 1 sin(x) ≅ 0\n",
            "Taylor 2 sin(x) ≅ 1.00000000000000\n",
            "Taylor 3 sin(x) ≅ 1.00000000000000\n",
            "Taylor 4 sin(x) ≅ 0.833333333333333\n",
            "Taylor 5 sin(x) ≅ 0.833333333333333\n",
            "Taylor 6 sin(x) ≅ 0.841666666666667\n",
            "Taylor 7 sin(x) ≅ 0.841666666666667\n"
          ]
        }
      ]
    },
    {
      "cell_type": "code",
      "source": [
        "# Function for Taylor Series Expansion\n",
        "\n",
        "def taylor(function, x0, n):\n",
        "    \"\"\"\n",
        "    Parameter \"function\" is our function which we want to approximate\n",
        "    \"x0\" is the point where to approximate\n",
        "    \"n\" is the order of approximation\n",
        "    \"\"\"\n",
        "    return function.series(x,x0,n).removeO()"
      ],
      "metadata": {
        "id": "Gv65YRzdc3qQ"
      },
      "execution_count": 29,
      "outputs": []
    },
    {
      "cell_type": "code",
      "source": [
        "print('sin(x)  ≅')\n",
        "taylor(sin(x), 0, 7)"
      ],
      "metadata": {
        "colab": {
          "base_uri": "https://localhost:8080/",
          "height": 72
        },
        "id": "EQtZRYJpc5Ro",
        "outputId": "f19ce13d-c98c-4004-c150-1627d5311458"
      },
      "execution_count": 51,
      "outputs": [
        {
          "output_type": "stream",
          "name": "stdout",
          "text": [
            "sin(x)  ≅\n"
          ]
        },
        {
          "output_type": "execute_result",
          "data": {
            "text/plain": [
              "x**5/120 - x**3/6 + x"
            ],
            "text/latex": "$\\displaystyle \\frac{x^{5}}{120} - \\frac{x^{3}}{6} + x$"
          },
          "metadata": {},
          "execution_count": 51
        }
      ]
    },
    {
      "cell_type": "code",
      "source": [
        "print('sin(x) ≅', taylor(sin(x), 0, 7))"
      ],
      "metadata": {
        "colab": {
          "base_uri": "https://localhost:8080/"
        },
        "id": "DcPjj8PWdBap",
        "outputId": "aed46ab1-3046-4a2e-83e0-8e27a2ab0136"
      },
      "execution_count": 52,
      "outputs": [
        {
          "output_type": "stream",
          "name": "stdout",
          "text": [
            "sin(x) ≅ x**5/120 - x**3/6 + x\n"
          ]
        }
      ]
    },
    {
      "cell_type": "code",
      "source": [
        "print('sin(x) ≅ at around 1')\n",
        "taylor(sin(x), 1, 7)"
      ],
      "metadata": {
        "colab": {
          "base_uri": "https://localhost:8080/",
          "height": 74
        },
        "outputId": "d55b1824-700b-4323-8d46-3f883c7bde0a",
        "id": "OXZgOve0dS67"
      },
      "execution_count": 59,
      "outputs": [
        {
          "output_type": "stream",
          "name": "stdout",
          "text": [
            "sin(x) ≅ at around 1\n"
          ]
        },
        {
          "output_type": "execute_result",
          "data": {
            "text/plain": [
              "-(x - 1)**6*sin(1)/720 + (x - 1)**5*cos(1)/120 + (x - 1)**4*sin(1)/24 - (x - 1)**3*cos(1)/6 - (x - 1)**2*sin(1)/2 + (x - 1)*cos(1) + sin(1)"
            ],
            "text/latex": "$\\displaystyle - \\frac{\\left(x - 1\\right)^{6} \\sin{\\left(1 \\right)}}{720} + \\frac{\\left(x - 1\\right)^{5} \\cos{\\left(1 \\right)}}{120} + \\frac{\\left(x - 1\\right)^{4} \\sin{\\left(1 \\right)}}{24} - \\frac{\\left(x - 1\\right)^{3} \\cos{\\left(1 \\right)}}{6} - \\frac{\\left(x - 1\\right)^{2} \\sin{\\left(1 \\right)}}{2} + \\left(x - 1\\right) \\cos{\\left(1 \\right)} + \\sin{\\left(1 \\right)}$"
          },
          "metadata": {},
          "execution_count": 59
        }
      ]
    },
    {
      "cell_type": "code",
      "source": [
        "print('sin(1) =', taylor(sin(x), 0, 7).subs(x,1))"
      ],
      "metadata": {
        "colab": {
          "base_uri": "https://localhost:8080/"
        },
        "outputId": "3b00e763-107e-4353-83f0-366ce347d561",
        "id": "8OvEA2B8dS69"
      },
      "execution_count": 64,
      "outputs": [
        {
          "output_type": "stream",
          "name": "stdout",
          "text": [
            "sin(1) = 101/120\n"
          ]
        }
      ]
    },
    {
      "cell_type": "code",
      "source": [
        "print('sin(1) =', N(taylor(sin(x), 0, 7).subs(x,1)))"
      ],
      "metadata": {
        "colab": {
          "base_uri": "https://localhost:8080/"
        },
        "outputId": "9ddd8396-b423-4e44-a9a5-4c8432fdbc46",
        "id": "HjQaTc7QdS6-"
      },
      "execution_count": 63,
      "outputs": [
        {
          "output_type": "stream",
          "name": "stdout",
          "text": [
            "sin(1) = 0.841666666666667\n"
          ]
        }
      ]
    },
    {
      "cell_type": "code",
      "source": [
        "print('Taylor 0 sin(x) ≅', taylor(sin(x), 0, 0))\n",
        "print('Taylor 1 sin(x) ≅', taylor(sin(x), 0, 1))\n",
        "print('Taylor 2 sin(x) ≅', taylor(sin(x), 0, 2))\n",
        "print('Taylor 3 sin(x) ≅', taylor(sin(x), 0, 3))\n",
        "print('Taylor 4 sin(x) ≅', taylor(sin(x), 0, 4))\n",
        "print('Taylor 5 sin(x) ≅', taylor(sin(x), 0, 5))\n",
        "print('Taylor 6 sin(x) ≅', taylor(sin(x), 0, 6))\n",
        "print('Taylor 7 sin(x) ≅', taylor(sin(x), 0, 7))"
      ],
      "metadata": {
        "colab": {
          "base_uri": "https://localhost:8080/"
        },
        "outputId": "7ed58718-22cd-46bd-cb2a-f0d73e9ba03f",
        "id": "8H_qhh0OdS6-"
      },
      "execution_count": 65,
      "outputs": [
        {
          "output_type": "stream",
          "name": "stdout",
          "text": [
            "Taylor 0 sin(x) ≅ 0\n",
            "Taylor 1 sin(x) ≅ 0\n",
            "Taylor 2 sin(x) ≅ x\n",
            "Taylor 3 sin(x) ≅ x\n",
            "Taylor 4 sin(x) ≅ -x**3/6 + x\n",
            "Taylor 5 sin(x) ≅ -x**3/6 + x\n",
            "Taylor 6 sin(x) ≅ x**5/120 - x**3/6 + x\n",
            "Taylor 7 sin(x) ≅ x**5/120 - x**3/6 + x\n"
          ]
        }
      ]
    },
    {
      "cell_type": "code",
      "source": [
        "print('Taylor 0 sin(x) ≅', taylor(sin(x), 0, 0).subs(x,1))\n",
        "print('Taylor 1 sin(x) ≅', taylor(sin(x), 0, 1).subs(x,1))\n",
        "print('Taylor 2 sin(x) ≅', taylor(sin(x), 0, 2).subs(x,1))\n",
        "print('Taylor 3 sin(x) ≅', taylor(sin(x), 0, 3).subs(x,1))\n",
        "print('Taylor 4 sin(x) ≅', taylor(sin(x), 0, 4).subs(x,1))\n",
        "print('Taylor 5 sin(x) ≅', taylor(sin(x), 0, 5).subs(x,1))\n",
        "print('Taylor 6 sin(x) ≅', taylor(sin(x), 0, 6).subs(x,1))\n",
        "print('Taylor 7 sin(x) ≅', taylor(sin(x), 0, 7).subs(x,1))"
      ],
      "metadata": {
        "colab": {
          "base_uri": "https://localhost:8080/"
        },
        "outputId": "33a30d8f-f57a-490d-a691-a14aa6df697f",
        "id": "Nlwipl8zdS6_"
      },
      "execution_count": 66,
      "outputs": [
        {
          "output_type": "stream",
          "name": "stdout",
          "text": [
            "Taylor 0 sin(x) ≅ 0\n",
            "Taylor 1 sin(x) ≅ 0\n",
            "Taylor 2 sin(x) ≅ 1\n",
            "Taylor 3 sin(x) ≅ 1\n",
            "Taylor 4 sin(x) ≅ 5/6\n",
            "Taylor 5 sin(x) ≅ 5/6\n",
            "Taylor 6 sin(x) ≅ 101/120\n",
            "Taylor 7 sin(x) ≅ 101/120\n"
          ]
        }
      ]
    },
    {
      "cell_type": "code",
      "source": [
        "print('Taylor 0 sin(x) ≅', N(taylor(sin(x), 0, 0).subs(x,1)))\n",
        "print('Taylor 1 sin(x) ≅', N(taylor(sin(x), 0, 1).subs(x,1)))\n",
        "print('Taylor 2 sin(x) ≅', N(taylor(sin(x), 0, 2).subs(x,1)))\n",
        "print('Taylor 3 sin(x) ≅', N(taylor(sin(x), 0, 3).subs(x,1)))\n",
        "print('Taylor 4 sin(x) ≅', N(taylor(sin(x), 0, 4).subs(x,1)))\n",
        "print('Taylor 5 sin(x) ≅', N(taylor(sin(x), 0, 5).subs(x,1)))\n",
        "print('Taylor 6 sin(x) ≅', N(taylor(sin(x), 0, 6).subs(x,1)))\n",
        "print('Taylor 7 sin(x) ≅', N(taylor(sin(x), 0, 7).subs(x,1)))"
      ],
      "metadata": {
        "colab": {
          "base_uri": "https://localhost:8080/"
        },
        "outputId": "5a73ade3-4413-4927-a41b-cb0178526b3d",
        "id": "xAotZ1UMdS7A"
      },
      "execution_count": 67,
      "outputs": [
        {
          "output_type": "stream",
          "name": "stdout",
          "text": [
            "Taylor 0 sin(x) ≅ 0\n",
            "Taylor 1 sin(x) ≅ 0\n",
            "Taylor 2 sin(x) ≅ 1.00000000000000\n",
            "Taylor 3 sin(x) ≅ 1.00000000000000\n",
            "Taylor 4 sin(x) ≅ 0.833333333333333\n",
            "Taylor 5 sin(x) ≅ 0.833333333333333\n",
            "Taylor 6 sin(x) ≅ 0.841666666666667\n",
            "Taylor 7 sin(x) ≅ 0.841666666666667\n"
          ]
        }
      ]
    },
    {
      "cell_type": "code",
      "source": [
        "import math\n",
        "import numpy as np\n",
        "import matplotlib.pyplot as plt\n",
        "# if using a Jupyter notebook, include:\n",
        "%matplotlib inline\n",
        "\n",
        "values = np.arange(-1,2*np.pi,0.1)\n",
        "p_sin = np.sin(values)\n",
        "t_sin1 = [taylor(sin(x), 0, 1).subs(x,v) for v in values]\n",
        "legends = ['sin() ','Taylor 0 (constant)']\n",
        "\n",
        "fig, ax = plt.subplots()\n",
        "ax.plot(values,p_sin, color ='blue')\n",
        "ax.plot(values,t_sin1)\n",
        "\n",
        "ax.set_ylim([-2,2])\n",
        "ax.axhline(y=0.0, xmin=-5.0, xmax=5.0, color='black')\n",
        "ax.axvline(x=0.0, ymin=-10.0, ymax=10.0, color='black')\n",
        "ax.legend(legends);"
      ],
      "metadata": {
        "colab": {
          "base_uri": "https://localhost:8080/",
          "height": 269
        },
        "id": "ckWMJz7_deTZ",
        "outputId": "9870c9dc-fd40-4785-d3fd-32c641a36e2f"
      },
      "execution_count": 38,
      "outputs": [
        {
          "output_type": "display_data",
          "data": {
            "text/plain": [
              "<Figure size 432x288 with 1 Axes>"
            ],
            "image/png": "[encoded data removed]"
          },
          "metadata": {
            "needs_background": "light"
          }
        }
      ]
    },
    {
      "cell_type": "code",
      "metadata": {
        "colab": {
          "base_uri": "https://localhost:8080/",
          "height": 269
        },
        "id": "XvqxBhg8O7Oi",
        "outputId": "6990a4ef-9b17-4f8e-8f16-090d34dcf79e"
      },
      "source": [
        "import math\n",
        "import numpy as np\n",
        "import matplotlib.pyplot as plt\n",
        "# if using a Jupyter notebook, include:\n",
        "%matplotlib inline\n",
        "\n",
        "values = np.arange(-1,2*np.pi,0.1)\n",
        "p_sin = np.sin(values)\n",
        "t_sin2 = [taylor(sin(x), 0, 2).subs(x,v) for v in values]\n",
        "legends = ['sin() ','Taylor 1 (linear)']\n",
        "\n",
        "fig, ax = plt.subplots()\n",
        "ax.plot(values,p_sin, color ='orange')\n",
        "ax.plot(values,t_sin2)\n",
        "\n",
        "ax.set_ylim([-1.5,1.5])\n",
        "ax.axhline(y=0.0, xmin=-10.0, xmax=5.0, color='black')\n",
        "ax.axvline(x=0.0, ymin=-10.0, ymax=10.0, color='black')\n",
        "ax.legend(legends)\n",
        "\n",
        "plt.show()"
      ],
      "execution_count": 69,
      "outputs": [
        {
          "output_type": "display_data",
          "data": {
            "text/plain": [
              "<Figure size 432x288 with 1 Axes>"
            ],
            "image/png": "[encoded data removed]"
          },
          "metadata": {
            "needs_background": "light"
          }
        }
      ]
    },
    {
      "cell_type": "code",
      "metadata": {
        "colab": {
          "base_uri": "https://localhost:8080/",
          "height": 269
        },
        "id": "PLR1O9HUPFwg",
        "outputId": "8aef320b-c7a9-4444-e520-0bfc078e3dee"
      },
      "source": [
        "import math\n",
        "import numpy as np\n",
        "import matplotlib.pyplot as plt\n",
        "# if using a Jupyter notebook, include:\n",
        "%matplotlib inline\n",
        "\n",
        "values = np.arange(-5,2*np.pi,0.1)\n",
        "p_sin = np.sin(values)\n",
        "t_sin3 = [taylor(sin(x), 0, 4).subs(x,v) for v in values]\n",
        "legends = ['sin() ','Taylor 3 (cubic)']\n",
        "\n",
        "fig, ax = plt.subplots()\n",
        "ax.plot(values,p_sin, color ='orange')\n",
        "ax.plot(values,t_sin3)\n",
        "\n",
        "ax.set_ylim([-1.5,1.5])\n",
        "ax.axhline(y=0.0, xmin=-5.0, xmax=10.0, color='black')\n",
        "ax.axvline(x=0.0, ymin=-10.0, ymax=10.0, color='black')\n",
        "ax.legend(legends)\n",
        "\n",
        "plt.show()"
      ],
      "execution_count": 70,
      "outputs": [
        {
          "output_type": "display_data",
          "data": {
            "text/plain": [
              "<Figure size 432x288 with 1 Axes>"
            ],
            "image/png": "[encoded data removed]"
          },
          "metadata": {
            "needs_background": "light"
          }
        }
      ]
    },
    {
      "cell_type": "code",
      "metadata": {
        "colab": {
          "base_uri": "https://localhost:8080/",
          "height": 265
        },
        "id": "Z9AEeR_BPJCA",
        "outputId": "1df141bd-6ec3-48ac-c289-653cb6c03794"
      },
      "source": [
        "import math\n",
        "import numpy as np\n",
        "import matplotlib.pyplot as plt\n",
        "# if using a Jupyter notebook, include:\n",
        "%matplotlib inline\n",
        "\n",
        "values = np.arange(-5,2*np.pi,0.1)\n",
        "p_sin = np.sin(values)\n",
        "t_sin4 = [taylor(sin(x), 0, 6).subs(x,v) for v in values]\n",
        "legends = ['sin() ','Taylor 5 (pol of order 5)']\n",
        "\n",
        "fig, ax = plt.subplots()\n",
        "ax.plot(values,p_sin, color ='orange')\n",
        "ax.plot(values,t_sin4)\n",
        "\n",
        "ax.set_ylim([-5,5])\n",
        "ax.axhline(y=0.0, xmin=-5.0, xmax=5.0, color='black')\n",
        "ax.axvline(x=0.0, ymin=-10.0, ymax=10.0, color='black')\n",
        "ax.legend(legends)\n",
        "\n",
        "plt.show()"
      ],
      "execution_count": 71,
      "outputs": [
        {
          "output_type": "display_data",
          "data": {
            "text/plain": [
              "<Figure size 432x288 with 1 Axes>"
            ],
            "image/png": "[encoded data removed]"
          },
          "metadata": {
            "needs_background": "light"
          }
        }
      ]
    },
    {
      "cell_type": "code",
      "metadata": {
        "id": "vLO9icMdPMmg",
        "colab": {
          "base_uri": "https://localhost:8080/",
          "height": 265
        },
        "outputId": "ed1a437a-eb25-4e5b-efce-0cfbcf166597"
      },
      "source": [
        "import math\n",
        "import numpy as np\n",
        "import matplotlib.pyplot as plt\n",
        "# if using a Jupyter notebook, include:\n",
        "%matplotlib inline\n",
        "\n",
        "values = np.arange(-5,5,0.1)\n",
        "p_sin = np.sin(values)\n",
        "t_sin1 = [taylor(sin(x), 0, 1).subs(x,v) for v in values]\n",
        "t_sin2 = [taylor(sin(x), 0, 2).subs(x,v) for v in values]\n",
        "t_sin3 = [taylor(sin(x), 0, 4).subs(x,v) for v in values]\n",
        "t_sin4 = [taylor(sin(x), 0, 6).subs(x,v) for v in values]\n",
        "legends = ['sin() ','Taylor 0 (constant)','Taylor 1 (linear)','Taylor 3 (cubic)','Taylor 5 (pol of order 5)']\n",
        "\n",
        "fig, ax = plt.subplots()\n",
        "ax.plot(values,p_sin)\n",
        "ax.plot(values,t_sin1)\n",
        "ax.plot(values,t_sin2)\n",
        "ax.plot(values,t_sin3)\n",
        "ax.plot(values,t_sin4)\n",
        "\n",
        "ax.set_ylim([-5,5])\n",
        "ax.axhline(y=0.0, xmin=-5.0, xmax=5.0, color='black')\n",
        "ax.axvline(x=0.0, ymin=-10.0, ymax=10.0, color='black')\n",
        "ax.legend(legends)\n",
        "\n",
        "plt.show()"
      ],
      "execution_count": 42,
      "outputs": [
        {
          "output_type": "display_data",
          "data": {
            "text/plain": [
              "<Figure size 432x288 with 1 Axes>"
            ],
            "image/png": "[encoded data removed]"
          },
          "metadata": {
            "needs_background": "light"
          }
        }
      ]
    }
  ]
}